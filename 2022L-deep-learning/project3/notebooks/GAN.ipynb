{
 "cells": [
  {
   "cell_type": "code",
   "execution_count": 1,
   "id": "7193acd9",
   "metadata": {
    "ExecuteTime": {
     "end_time": "2022-05-22T12:31:05.633280Z",
     "start_time": "2022-05-22T12:31:05.619317Z"
    }
   },
   "outputs": [],
   "source": [
    "# conda create -n fastai python=3.7\n",
    "# conda activate fastai\n",
    "# conda install -c conda-forge jupyterlab\n",
    "# conda install pytorch torchvision torchaudio -c pytorch\n",
    "# pip install fastai\n",
    "# conda install -c anaconda ipykernel\n",
    "# python -m ipykernel install --user --name=fastai"
   ]
  },
  {
   "cell_type": "code",
   "execution_count": 1,
   "id": "063f432d",
   "metadata": {
    "ExecuteTime": {
     "end_time": "2022-05-22T12:31:25.230172Z",
     "start_time": "2022-05-22T12:31:05.635275Z"
    }
   },
   "outputs": [
    {
     "name": "stdout",
     "output_type": "stream",
     "text": [
      "2.6.3\n"
     ]
    }
   ],
   "source": [
    "import fastai\n",
    "print(fastai.__version__)\n",
    "from fastai.vision.gan import *\n",
    "from fastai.vision.all import *\n",
    "from fastai.vision.data import *\n",
    "from tqdm.notebook import tqdm"
   ]
  },
  {
   "cell_type": "code",
   "execution_count": 2,
   "id": "dcb882f4",
   "metadata": {
    "ExecuteTime": {
     "end_time": "2022-05-22T12:31:25.244985Z",
     "start_time": "2022-05-22T12:31:25.233166Z"
    }
   },
   "outputs": [],
   "source": [
    "path =  \"./../data/test/data0/lsun/bedroom\" #\"./../../../../Downloads/archive/data0/lsun/bedroom\"  # TODO: zmiana elementu \"test\" w ścieżce na \"sample\" # Zmienione z .. na . na początku"
   ]
  },
  {
   "cell_type": "code",
   "execution_count": 3,
   "id": "fc4e710c",
   "metadata": {
    "ExecuteTime": {
     "end_time": "2022-05-22T12:31:25.251618Z",
     "start_time": "2022-05-22T12:31:25.245950Z"
    }
   },
   "outputs": [],
   "source": [
    "# bs = 128\n",
    "bs = 12\n",
    "size = 64"
   ]
  },
  {
   "cell_type": "code",
   "execution_count": 4,
   "id": "1e6f6b17",
   "metadata": {
    "ExecuteTime": {
     "end_time": "2022-05-22T13:04:58.695417Z",
     "start_time": "2022-05-22T13:04:58.679785Z"
    }
   },
   "outputs": [],
   "source": [
    "path_lr = './../data/test/data0/lsun/small-96'  # TODO: zmiana elementu \"test\" w ścieżce na \"sample\"\n",
    "path_hr = './../data/test/data0/lsun/bedroom'  # TODO: zmiana elementu \"test\" w ścieżce na \"sample\""
   ]
  },
  {
   "cell_type": "code",
   "execution_count": 5,
   "id": "b9da69a3",
   "metadata": {
    "ExecuteTime": {
     "end_time": "2022-05-22T13:04:58.711050Z",
     "start_time": "2022-05-22T13:04:58.695417Z"
    }
   },
   "outputs": [],
   "source": [
    "from PIL import Image, ImageDraw, ImageFont"
   ]
  },
  {
   "cell_type": "code",
   "execution_count": 6,
   "id": "9e22c656",
   "metadata": {
    "ExecuteTime": {
     "end_time": "2022-05-22T13:04:58.726353Z",
     "start_time": "2022-05-22T13:04:58.713343Z"
    }
   },
   "outputs": [],
   "source": [
    "def resize_to(img, targ_sz, use_min=False):\n",
    "    w,h = img.size\n",
    "    min_sz = (min if use_min else max)(w,h)\n",
    "    ratio = targ_sz/min_sz\n",
    "    return int(w*ratio),int(h*ratio)"
   ]
  },
  {
   "cell_type": "code",
   "execution_count": 7,
   "id": "37473284",
   "metadata": {
    "ExecuteTime": {
     "end_time": "2022-05-22T13:04:58.745048Z",
     "start_time": "2022-05-22T13:04:58.727315Z"
    }
   },
   "outputs": [],
   "source": [
    "class Crappifier():\n",
    "    def __init__(self, path_lr, path_hr):\n",
    "        self.path_lr = path_lr\n",
    "        self.path_hr = path_hr              \n",
    "    def __call__(self, fn):       \n",
    "        dest = self.path_lr/fn.relative_to(self.path_hr)\n",
    "        dest.parent.mkdir(parents=True, exist_ok=True)\n",
    "        img = Image.open(fn)\n",
    "        targ_sz = resize_to(img, 96, use_min=True)\n",
    "        img = img.resize(targ_sz, resample=Image.BILINEAR).convert('RGB')\n",
    "        w,h = img.size\n",
    "        q = random.randint(10,70)\n",
    "        ImageDraw.Draw(img).text((random.randint(0,w//2),random.randint(0,h//2)), str(q), fill=(255,255,255))\n",
    "        img.save(dest, quality=q)"
   ]
  },
  {
   "cell_type": "code",
   "execution_count": 8,
   "id": "a65e9c9b",
   "metadata": {
    "ExecuteTime": {
     "end_time": "2022-05-22T13:04:58.760719Z",
     "start_time": "2022-05-22T13:04:58.745048Z"
    }
   },
   "outputs": [],
   "source": [
    "def get_dls(bs:int, size:int):\n",
    "    dblock = DataBlock(blocks=(ImageBlock, ImageBlock),\n",
    "                   get_items=get_image_files,\n",
    "                   splitter=RandomSplitter(seed=123),\n",
    "                   item_tfms=Resize(size),\n",
    "                   batch_tfms=[*aug_transforms(max_zoom=2.),\n",
    "                               Normalize.from_stats(*imagenet_stats)])\n",
    "    dls = dblock.dataloaders(path_lr, bs=bs, path=path)\n",
    "    dls.c = 3\n",
    "    return dls"
   ]
  },
  {
   "cell_type": "code",
   "execution_count": 9,
   "id": "c09f50af",
   "metadata": {
    "ExecuteTime": {
     "end_time": "2022-05-22T13:04:58.979719Z",
     "start_time": "2022-05-22T13:04:58.760719Z"
    }
   },
   "outputs": [],
   "source": [
    "items = get_image_files(path_hr)"
   ]
  },
  {
   "cell_type": "code",
   "execution_count": 10,
   "id": "8ac9c585",
   "metadata": {
    "ExecuteTime": {
     "end_time": "2022-05-22T13:06:04.404841Z",
     "start_time": "2022-05-22T13:04:58.979719Z"
    }
   },
   "outputs": [
    {
     "data": {
      "application/vnd.jupyter.widget-view+json": {
       "model_id": "c90b3c11ab3249c0b364cb7c3c3d0330",
       "version_major": 2,
       "version_minor": 0
      },
      "text/plain": [
       "  0%|          | 0/30999 [00:00<?, ?it/s]"
      ]
     },
     "metadata": {},
     "output_type": "display_data"
    }
   ],
   "source": [
    "for item in tqdm(items):\n",
    "    Crappifier(path_lr, path_hr).__call__(item) # robi nowe obrazki"
   ]
  },
  {
   "cell_type": "code",
   "execution_count": 11,
   "id": "7023930a",
   "metadata": {},
   "outputs": [
    {
     "data": {
      "text/plain": [
       "True"
      ]
     },
     "execution_count": 11,
     "metadata": {},
     "output_type": "execute_result"
    }
   ],
   "source": [
    "import torch\n",
    "torch.cuda.is_available()"
   ]
  },
  {
   "cell_type": "code",
   "execution_count": 15,
   "id": "d5e608ce",
   "metadata": {
    "ExecuteTime": {
     "end_time": "2022-05-22T13:06:04.907804Z",
     "start_time": "2022-05-22T13:06:04.754019Z"
    }
   },
   "outputs": [],
   "source": [
    "dls_gen = get_dls(bs, 64) #128)"
   ]
  },
  {
   "cell_type": "code",
   "execution_count": 20,
   "id": "a0daf2cc",
   "metadata": {
    "ExecuteTime": {
     "end_time": "2022-05-22T13:06:08.810859Z",
     "start_time": "2022-05-22T13:06:08.797884Z"
    }
   },
   "outputs": [],
   "source": [
    "wd, y_range, loss_gen = 1e-6, (-3., 3.), MSELossFlat()"
   ]
  },
  {
   "cell_type": "code",
   "execution_count": 21,
   "id": "7e561329",
   "metadata": {
    "ExecuteTime": {
     "end_time": "2022-05-22T13:06:08.832748Z",
     "start_time": "2022-05-22T13:06:08.813856Z"
    }
   },
   "outputs": [],
   "source": [
    "bbone = resnet18"
   ]
  },
  {
   "cell_type": "code",
   "execution_count": 22,
   "id": "a0a7148d",
   "metadata": {
    "ExecuteTime": {
     "end_time": "2022-05-22T13:06:08.848382Z",
     "start_time": "2022-05-22T13:06:08.832748Z"
    }
   },
   "outputs": [],
   "source": [
    "def create_gen_learner():\n",
    "    return unet_learner(dls_gen, bbone, loss_func=loss_gen, blur=True, norm_type=NormType.Weight, self_attention=True, y_range=y_range)"
   ]
  },
  {
   "cell_type": "code",
   "execution_count": 16,
   "id": "cd2b73da",
   "metadata": {
    "ExecuteTime": {
     "end_time": "2022-05-22T13:06:11.683163Z",
     "start_time": "2022-05-22T13:06:08.848382Z"
    }
   },
   "outputs": [],
   "source": [
    "learn_gen = create_gen_learner()"
   ]
  },
  {
   "cell_type": "code",
   "execution_count": 17,
   "id": "080b05bd",
   "metadata": {
    "ExecuteTime": {
     "end_time": "2022-05-22T13:43:14.669646Z",
     "start_time": "2022-05-22T13:06:11.683163Z"
    }
   },
   "outputs": [
    {
     "data": {
      "text/html": [
       "\n",
       "<style>\n",
       "    /* Turns off some styling */\n",
       "    progress {\n",
       "        /* gets rid of default border in Firefox and Opera. */\n",
       "        border: none;\n",
       "        /* Needs to be in here for Safari polyfill so background images work as expected. */\n",
       "        background-size: auto;\n",
       "    }\n",
       "    .progress-bar-interrupted, .progress-bar-interrupted::-webkit-progress-bar {\n",
       "        background: #F44336;\n",
       "    }\n",
       "</style>\n"
      ],
      "text/plain": [
       "<IPython.core.display.HTML object>"
      ]
     },
     "metadata": {},
     "output_type": "display_data"
    },
    {
     "data": {
      "text/html": [
       "\n",
       "    <div>\n",
       "      <progress value='0' class='' max='1' style='width:300px; height:20px; vertical-align: middle;'></progress>\n",
       "      0.00% [0/1 00:00<00:00]\n",
       "    </div>\n",
       "    \n",
       "<table border=\"1\" class=\"dataframe\">\n",
       "  <thead>\n",
       "    <tr style=\"text-align: left;\">\n",
       "      <th>epoch</th>\n",
       "      <th>train_loss</th>\n",
       "      <th>valid_loss</th>\n",
       "      <th>time</th>\n",
       "    </tr>\n",
       "  </thead>\n",
       "  <tbody>\n",
       "  </tbody>\n",
       "</table><p>\n",
       "\n",
       "    <div>\n",
       "      <progress value='984' class='' max='2066' style='width:300px; height:20px; vertical-align: middle;'></progress>\n",
       "      47.63% [984/2066 01:19<01:27 0.0027]\n",
       "    </div>\n",
       "    "
      ],
      "text/plain": [
       "<IPython.core.display.HTML object>"
      ]
     },
     "metadata": {},
     "output_type": "display_data"
    }
   ],
   "source": [
    "learn_gen.fit_one_cycle(1, pct_start=0.8, wd=wd) "
   ]
  },
  {
   "cell_type": "code",
   "execution_count": 24,
   "id": "66da2e8e",
   "metadata": {
    "ExecuteTime": {
     "end_time": "2022-05-22T13:43:14.700451Z",
     "start_time": "2022-05-22T13:43:14.672527Z"
    }
   },
   "outputs": [],
   "source": [
    "learn_gen.unfreeze()"
   ]
  },
  {
   "cell_type": "code",
   "execution_count": 25,
   "id": "9adc808d",
   "metadata": {
    "ExecuteTime": {
     "end_time": "2022-05-22T14:19:09.883324Z",
     "start_time": "2022-05-22T13:43:14.702447Z"
    }
   },
   "outputs": [
    {
     "data": {
      "text/html": [
       "\n",
       "<style>\n",
       "    /* Turns off some styling */\n",
       "    progress {\n",
       "        /* gets rid of default border in Firefox and Opera. */\n",
       "        border: none;\n",
       "        /* Needs to be in here for Safari polyfill so background images work as expected. */\n",
       "        background-size: auto;\n",
       "    }\n",
       "    .progress-bar-interrupted, .progress-bar-interrupted::-webkit-progress-bar {\n",
       "        background: #F44336;\n",
       "    }\n",
       "</style>\n"
      ],
      "text/plain": [
       "<IPython.core.display.HTML object>"
      ]
     },
     "metadata": {},
     "output_type": "display_data"
    },
    {
     "data": {
      "text/html": [
       "<table border=\"1\" class=\"dataframe\">\n",
       "  <thead>\n",
       "    <tr style=\"text-align: left;\">\n",
       "      <th>epoch</th>\n",
       "      <th>train_loss</th>\n",
       "      <th>valid_loss</th>\n",
       "      <th>time</th>\n",
       "    </tr>\n",
       "  </thead>\n",
       "  <tbody>\n",
       "    <tr>\n",
       "      <td>0</td>\n",
       "      <td>0.000405</td>\n",
       "      <td>0.000776</td>\n",
       "      <td>02:07</td>\n",
       "    </tr>\n",
       "  </tbody>\n",
       "</table>"
      ],
      "text/plain": [
       "<IPython.core.display.HTML object>"
      ]
     },
     "metadata": {},
     "output_type": "display_data"
    }
   ],
   "source": [
    "learn_gen.fit_one_cycle(1, slice(1e-6,1e-3), wd=wd)"
   ]
  },
  {
   "cell_type": "code",
   "execution_count": 27,
   "id": "2cef72f7",
   "metadata": {
    "ExecuteTime": {
     "end_time": "2022-05-22T14:19:16.985800Z",
     "start_time": "2022-05-22T14:19:16.436398Z"
    }
   },
   "outputs": [
    {
     "data": {
      "text/plain": [
       "Path('../data/test/data0/lsun/bedroom/models/gen-pre3.pth')"
      ]
     },
     "execution_count": 27,
     "metadata": {},
     "output_type": "execute_result"
    }
   ],
   "source": [
    "learn_gen.save('gen-pre3') #2')"
   ]
  },
  {
   "cell_type": "code",
   "execution_count": 23,
   "id": "f615cae1",
   "metadata": {
    "ExecuteTime": {
     "end_time": "2022-05-22T14:19:17.001254Z",
     "start_time": "2022-05-22T14:19:16.986801Z"
    }
   },
   "outputs": [],
   "source": [
    "# Save the generated images so they can be used them for critic model\n",
    "name_gen = 'image_gen'\n",
    "path_gen = Path(f'./../data/test/data0/lsun/{name_gen}')"
   ]
  },
  {
   "cell_type": "code",
   "execution_count": 29,
   "id": "45007d24",
   "metadata": {
    "ExecuteTime": {
     "end_time": "2022-05-22T14:19:17.016092Z",
     "start_time": "2022-05-22T14:19:17.002255Z"
    }
   },
   "outputs": [],
   "source": [
    "path_gen.mkdir(exist_ok=True)"
   ]
  },
  {
   "cell_type": "code",
   "execution_count": 14,
   "id": "e06b4b95",
   "metadata": {
    "ExecuteTime": {
     "end_time": "2022-05-22T14:19:17.032097Z",
     "start_time": "2022-05-22T14:19:17.017092Z"
    }
   },
   "outputs": [],
   "source": [
    "def save_preds(dl, learn):\n",
    "    \"Save away predictions\"\n",
    "    names = dl.dataset.items\n",
    "\n",
    "    preds,_ = learn.get_preds(dl=dl)\n",
    "    for i, pred in enumerate(preds):\n",
    "        dec = dl.after_batch.decode((TensorImage(pred[None]),))[0][0]\n",
    "        arr = dec.numpy().transpose(1,2,0).astype(np.uint8)\n",
    "        Image.fromarray(arr).save(path_gen/names[i].name)"
   ]
  },
  {
   "cell_type": "code",
   "execution_count": 31,
   "id": "5115a05d",
   "metadata": {
    "ExecuteTime": {
     "end_time": "2022-05-22T14:19:17.048058Z",
     "start_time": "2022-05-22T14:19:17.033098Z"
    }
   },
   "outputs": [],
   "source": [
    "dl = dls_gen.train.new(shuffle=False, drop_last=False, \n",
    "                       after_batch=[IntToFloatTensor, Normalize.from_stats(*imagenet_stats)])"
   ]
  },
  {
   "cell_type": "code",
   "execution_count": 38,
   "id": "8b8a2aeb",
   "metadata": {
    "ExecuteTime": {
     "end_time": "2022-05-22T14:42:06.543586Z",
     "start_time": "2022-05-22T14:30:22.223458Z"
    }
   },
   "outputs": [
    {
     "data": {
      "text/html": [
       "\n",
       "<style>\n",
       "    /* Turns off some styling */\n",
       "    progress {\n",
       "        /* gets rid of default border in Firefox and Opera. */\n",
       "        border: none;\n",
       "        /* Needs to be in here for Safari polyfill so background images work as expected. */\n",
       "        background-size: auto;\n",
       "    }\n",
       "    .progress-bar-interrupted, .progress-bar-interrupted::-webkit-progress-bar {\n",
       "        background: #F44336;\n",
       "    }\n",
       "</style>\n"
      ],
      "text/plain": [
       "<IPython.core.display.HTML object>"
      ]
     },
     "metadata": {},
     "output_type": "display_data"
    },
    {
     "data": {
      "text/html": [],
      "text/plain": [
       "<IPython.core.display.HTML object>"
      ]
     },
     "metadata": {},
     "output_type": "display_data"
    }
   ],
   "source": [
    "save_preds(dl, learn_gen)"
   ]
  },
  {
   "cell_type": "code",
   "execution_count": 93,
   "id": "284ba943",
   "metadata": {
    "ExecuteTime": {
     "end_time": "2022-05-22T14:42:06.559081Z",
     "start_time": "2022-05-22T14:42:06.546579Z"
    }
   },
   "outputs": [],
   "source": [
    "# Train the critic"
   ]
  },
  {
   "cell_type": "code",
   "execution_count": 24,
   "id": "e6801c71",
   "metadata": {
    "ExecuteTime": {
     "end_time": "2022-05-22T14:42:06.860392Z",
     "start_time": "2022-05-22T14:42:06.562073Z"
    }
   },
   "outputs": [],
   "source": [
    "path_g = get_image_files( Path(path_gen))\n",
    "path_i = get_image_files(Path(path_hr))\n",
    "fnames = path_g + path_i"
   ]
  },
  {
   "cell_type": "code",
   "execution_count": 25,
   "id": "b657d620",
   "metadata": {
    "ExecuteTime": {
     "end_time": "2022-05-22T14:42:06.876536Z",
     "start_time": "2022-05-22T14:42:06.862232Z"
    }
   },
   "outputs": [
    {
     "data": {
      "text/plain": [
       "Path('../data/test/data0/lsun/image_gen/340c82239b2d25d4d1cf745ff37632f9ae4ef73f.jpg')"
      ]
     },
     "execution_count": 25,
     "metadata": {},
     "output_type": "execute_result"
    }
   ],
   "source": [
    "fnames[0]"
   ]
  },
  {
   "cell_type": "code",
   "execution_count": 26,
   "id": "43b067e2",
   "metadata": {
    "ExecuteTime": {
     "end_time": "2022-05-22T14:42:06.891921Z",
     "start_time": "2022-05-22T14:42:06.878532Z"
    }
   },
   "outputs": [],
   "source": [
    "def get_crit_dls(fnames, bs:int, size:int):\n",
    "    \"Generate two `Critic` DataLoaders\"\n",
    "    splits = RandomSplitter(0.1)(fnames)\n",
    "    dsrc = Datasets(fnames, tfms=[[PILImage.create], [parent_label, Categorize]],\n",
    "                 splits=splits)\n",
    "    tfms = [ToTensor(), Resize(size)]\n",
    "    gpu_tfms = [IntToFloatTensor(), Normalize.from_stats(*imagenet_stats)]\n",
    "    return dsrc.dataloaders(bs=bs, after_item=tfms, after_batch=gpu_tfms)"
   ]
  },
  {
   "cell_type": "code",
   "execution_count": 27,
   "id": "6d2c03a2",
   "metadata": {
    "ExecuteTime": {
     "end_time": "2022-05-22T14:42:07.573048Z",
     "start_time": "2022-05-22T14:42:06.893756Z"
    }
   },
   "outputs": [],
   "source": [
    "dls_crit = get_crit_dls(fnames, bs=bs, size=64) # 128)"
   ]
  },
  {
   "cell_type": "code",
   "execution_count": 29,
   "id": "cbe36abf",
   "metadata": {
    "ExecuteTime": {
     "end_time": "2022-05-22T14:42:08.706569Z",
     "start_time": "2022-05-22T14:42:08.692767Z"
    }
   },
   "outputs": [],
   "source": [
    "loss_crit = AdaptiveLoss(nn.BCEWithLogitsLoss())"
   ]
  },
  {
   "cell_type": "code",
   "execution_count": 30,
   "id": "8a01a6ea",
   "metadata": {
    "ExecuteTime": {
     "end_time": "2022-05-22T14:42:08.722558Z",
     "start_time": "2022-05-22T14:42:08.708564Z"
    }
   },
   "outputs": [],
   "source": [
    "def create_crit_learner(dls, metrics):\n",
    "    return Learner(dls, gan_critic(), metrics=metrics, loss_func=loss_crit)"
   ]
  },
  {
   "cell_type": "code",
   "execution_count": 47,
   "id": "4b60218c",
   "metadata": {
    "ExecuteTime": {
     "end_time": "2022-05-22T14:42:09.229881Z",
     "start_time": "2022-05-22T14:42:08.723522Z"
    }
   },
   "outputs": [],
   "source": [
    "learn_crit = create_crit_learner(dls_crit, accuracy_thresh_expand)"
   ]
  },
  {
   "cell_type": "code",
   "execution_count": 48,
   "id": "41f6f634",
   "metadata": {
    "ExecuteTime": {
     "end_time": "2022-05-22T16:13:58.563109Z",
     "start_time": "2022-05-22T14:42:09.230720Z"
    }
   },
   "outputs": [
    {
     "data": {
      "text/html": [
       "\n",
       "<style>\n",
       "    /* Turns off some styling */\n",
       "    progress {\n",
       "        /* gets rid of default border in Firefox and Opera. */\n",
       "        border: none;\n",
       "        /* Needs to be in here for Safari polyfill so background images work as expected. */\n",
       "        background-size: auto;\n",
       "    }\n",
       "    .progress-bar-interrupted, .progress-bar-interrupted::-webkit-progress-bar {\n",
       "        background: #F44336;\n",
       "    }\n",
       "</style>\n"
      ],
      "text/plain": [
       "<IPython.core.display.HTML object>"
      ]
     },
     "metadata": {},
     "output_type": "display_data"
    },
    {
     "data": {
      "text/html": [
       "<table border=\"1\" class=\"dataframe\">\n",
       "  <thead>\n",
       "    <tr style=\"text-align: left;\">\n",
       "      <th>epoch</th>\n",
       "      <th>train_loss</th>\n",
       "      <th>valid_loss</th>\n",
       "      <th>accuracy_thresh_expand</th>\n",
       "      <th>time</th>\n",
       "    </tr>\n",
       "  </thead>\n",
       "  <tbody>\n",
       "    <tr>\n",
       "      <td>0</td>\n",
       "      <td>-122768.148438</td>\n",
       "      <td>-122870.117188</td>\n",
       "      <td>0.034660</td>\n",
       "      <td>06:00</td>\n",
       "    </tr>\n",
       "  </tbody>\n",
       "</table>"
      ],
      "text/plain": [
       "<IPython.core.display.HTML object>"
      ]
     },
     "metadata": {},
     "output_type": "display_data"
    }
   ],
   "source": [
    "learn_crit.fit_one_cycle(1, 1e-4, wd=wd) # 1e-3"
   ]
  },
  {
   "cell_type": "code",
   "execution_count": 49,
   "id": "4edcb2b7",
   "metadata": {
    "ExecuteTime": {
     "end_time": "2022-05-22T16:13:59.725242Z",
     "start_time": "2022-05-22T16:13:58.565104Z"
    }
   },
   "outputs": [
    {
     "data": {
      "text/plain": [
       "Path('models/critic-pre3.pth')"
      ]
     },
     "execution_count": 49,
     "metadata": {},
     "output_type": "execute_result"
    }
   ],
   "source": [
    "learn_crit.save('critic-pre3') # 2"
   ]
  },
  {
   "cell_type": "code",
   "execution_count": 50,
   "id": "c11a4f0d",
   "metadata": {
    "ExecuteTime": {
     "end_time": "2022-05-22T16:13:59.740710Z",
     "start_time": "2022-05-22T16:13:59.726242Z"
    }
   },
   "outputs": [],
   "source": [
    "# The GAN"
   ]
  },
  {
   "cell_type": "code",
   "execution_count": 31,
   "id": "cc512a27",
   "metadata": {
    "ExecuteTime": {
     "end_time": "2022-05-22T16:14:00.597344Z",
     "start_time": "2022-05-22T16:13:59.742705Z"
    }
   },
   "outputs": [],
   "source": [
    "ls_crit = get_crit_dls(fnames, bs=bs, size=64)#128)"
   ]
  },
  {
   "cell_type": "code",
   "execution_count": 32,
   "id": "a34ca4ba",
   "metadata": {
    "ExecuteTime": {
     "end_time": "2022-05-22T16:14:01.397225Z",
     "start_time": "2022-05-22T16:14:00.598342Z"
    }
   },
   "outputs": [],
   "source": [
    "learn_crit = create_crit_learner(ls_crit, metrics=None).load('critic-pre3') #2"
   ]
  },
  {
   "cell_type": "code",
   "execution_count": 33,
   "id": "7067aa77",
   "metadata": {
    "ExecuteTime": {
     "end_time": "2022-05-22T16:14:04.311814Z",
     "start_time": "2022-05-22T16:14:01.399253Z"
    }
   },
   "outputs": [],
   "source": [
    "learn_gen = create_gen_learner().load('gen-pre3') #2"
   ]
  },
  {
   "cell_type": "code",
   "execution_count": 34,
   "id": "e1368229",
   "metadata": {
    "ExecuteTime": {
     "end_time": "2022-05-22T16:14:04.327739Z",
     "start_time": "2022-05-22T16:14:04.313777Z"
    }
   },
   "outputs": [],
   "source": [
    "class GANDiscriminativeLR(Callback):\n",
    "    \"`Callback` that handles multiplying the learning rate by `mult_lr` for the critic.\"\n",
    "    def __init__(self, mult_lr=5.): self.mult_lr = mult_lr\n",
    "\n",
    "    def begin_batch(self):\n",
    "        \"Multiply the current lr if necessary.\"\n",
    "        if not self.learn.gan_trainer.gen_mode and self.training: \n",
    "            self.learn.opt.set_hyper('lr', learn.opt.hypers[0]['lr']*self.mult_lr)\n",
    "\n",
    "    def after_batch(self):\n",
    "        \"Put the LR back to its value if necessary.\"\n",
    "        if not self.learn.gan_trainer.gen_mode: self.learn.opt.set_hyper('lr', learn.opt.hypers[0]['lr']/self.mult_lr)"
   ]
  },
  {
   "cell_type": "code",
   "execution_count": 35,
   "id": "d9319d6e",
   "metadata": {
    "ExecuteTime": {
     "end_time": "2022-05-22T16:14:04.343728Z",
     "start_time": "2022-05-22T16:14:04.330730Z"
    }
   },
   "outputs": [],
   "source": [
    "switcher = AdaptiveGANSwitcher(critic_thresh=.65)"
   ]
  },
  {
   "cell_type": "code",
   "execution_count": 36,
   "id": "11106b15",
   "metadata": {
    "ExecuteTime": {
     "end_time": "2022-05-22T16:14:04.359654Z",
     "start_time": "2022-05-22T16:14:04.345689Z"
    }
   },
   "outputs": [],
   "source": [
    "learn = GANLearner.from_learners(learn_gen, learn_crit, weights_gen=(1.,50.), show_img=False, switcher=switcher,\n",
    "                                 opt_func=partial(Adam, mom=0.), cbs=GANDiscriminativeLR(mult_lr=5.))"
   ]
  },
  {
   "cell_type": "code",
   "execution_count": 37,
   "id": "f0b2e5cd",
   "metadata": {
    "ExecuteTime": {
     "end_time": "2022-05-22T16:14:04.374610Z",
     "start_time": "2022-05-22T16:14:04.361647Z"
    }
   },
   "outputs": [],
   "source": [
    "lr = 1e-4"
   ]
  },
  {
   "cell_type": "code",
   "execution_count": 38,
   "id": "e4ab0f94",
   "metadata": {
    "ExecuteTime": {
     "end_time": "2022-05-22T18:55:35.286356Z",
     "start_time": "2022-05-22T16:14:04.376608Z"
    }
   },
   "outputs": [
    {
     "name": "stderr",
     "output_type": "stream",
     "text": [
      "/home/agatamakarewicz/anaconda3/lib/python3.9/site-packages/fastai/callback/core.py:67: UserWarning: You are shadowing an attribute (generator) that exists in the learner. Use `self.learn.generator` to avoid this\n",
      "  warn(f\"You are shadowing an attribute ({name}) that exists in the learner. Use `self.learn.{name}` to avoid this\")\n",
      "/home/agatamakarewicz/anaconda3/lib/python3.9/site-packages/fastai/callback/core.py:67: UserWarning: You are shadowing an attribute (critic) that exists in the learner. Use `self.learn.critic` to avoid this\n",
      "  warn(f\"You are shadowing an attribute ({name}) that exists in the learner. Use `self.learn.{name}` to avoid this\")\n",
      "/home/agatamakarewicz/anaconda3/lib/python3.9/site-packages/fastai/callback/core.py:67: UserWarning: You are shadowing an attribute (gen_mode) that exists in the learner. Use `self.learn.gen_mode` to avoid this\n",
      "  warn(f\"You are shadowing an attribute ({name}) that exists in the learner. Use `self.learn.{name}` to avoid this\")\n"
     ]
    },
    {
     "data": {
      "text/html": [
       "\n",
       "<style>\n",
       "    /* Turns off some styling */\n",
       "    progress {\n",
       "        /* gets rid of default border in Firefox and Opera. */\n",
       "        border: none;\n",
       "        /* Needs to be in here for Safari polyfill so background images work as expected. */\n",
       "        background-size: auto;\n",
       "    }\n",
       "    .progress-bar-interrupted, .progress-bar-interrupted::-webkit-progress-bar {\n",
       "        background: #F44336;\n",
       "    }\n",
       "</style>\n"
      ],
      "text/plain": [
       "<IPython.core.display.HTML object>"
      ]
     },
     "metadata": {},
     "output_type": "display_data"
    },
    {
     "data": {
      "text/html": [
       "<table border=\"1\" class=\"dataframe\">\n",
       "  <thead>\n",
       "    <tr style=\"text-align: left;\">\n",
       "      <th>epoch</th>\n",
       "      <th>train_loss</th>\n",
       "      <th>valid_loss</th>\n",
       "      <th>gen_loss</th>\n",
       "      <th>crit_loss</th>\n",
       "      <th>time</th>\n",
       "    </tr>\n",
       "  </thead>\n",
       "  <tbody>\n",
       "    <tr>\n",
       "      <td>0</td>\n",
       "      <td>5996.464355</td>\n",
       "      <td>0.044996</td>\n",
       "      <td>0.044996</td>\n",
       "      <td>5952.878906</td>\n",
       "      <td>07:18</td>\n",
       "    </tr>\n",
       "    <tr>\n",
       "      <td>1</td>\n",
       "      <td>6074.047852</td>\n",
       "      <td>0.044996</td>\n",
       "      <td>0.044996</td>\n",
       "      <td>5440.343750</td>\n",
       "      <td>07:44</td>\n",
       "    </tr>\n",
       "    <tr>\n",
       "      <td>2</td>\n",
       "      <td>6042.964844</td>\n",
       "      <td>0.044996</td>\n",
       "      <td>0.044996</td>\n",
       "      <td>6571.562988</td>\n",
       "      <td>07:44</td>\n",
       "    </tr>\n",
       "    <tr>\n",
       "      <td>3</td>\n",
       "      <td>5914.358887</td>\n",
       "      <td>0.044996</td>\n",
       "      <td>0.044996</td>\n",
       "      <td>6959.235840</td>\n",
       "      <td>07:41</td>\n",
       "    </tr>\n",
       "    <tr>\n",
       "      <td>4</td>\n",
       "      <td>6021.091309</td>\n",
       "      <td>0.044996</td>\n",
       "      <td>0.044996</td>\n",
       "      <td>6034.638672</td>\n",
       "      <td>07:41</td>\n",
       "    </tr>\n",
       "    <tr>\n",
       "      <td>5</td>\n",
       "      <td>5831.079102</td>\n",
       "      <td>0.044996</td>\n",
       "      <td>0.044996</td>\n",
       "      <td>6816.565430</td>\n",
       "      <td>07:42</td>\n",
       "    </tr>\n",
       "    <tr>\n",
       "      <td>6</td>\n",
       "      <td>5815.948242</td>\n",
       "      <td>0.044996</td>\n",
       "      <td>0.044996</td>\n",
       "      <td>4874.709961</td>\n",
       "      <td>07:44</td>\n",
       "    </tr>\n",
       "    <tr>\n",
       "      <td>7</td>\n",
       "      <td>5871.582520</td>\n",
       "      <td>0.044996</td>\n",
       "      <td>0.044996</td>\n",
       "      <td>5601.537598</td>\n",
       "      <td>07:45</td>\n",
       "    </tr>\n",
       "    <tr>\n",
       "      <td>8</td>\n",
       "      <td>6134.320801</td>\n",
       "      <td>0.044996</td>\n",
       "      <td>0.044996</td>\n",
       "      <td>4892.370117</td>\n",
       "      <td>07:38</td>\n",
       "    </tr>\n",
       "    <tr>\n",
       "      <td>9</td>\n",
       "      <td>5852.951660</td>\n",
       "      <td>0.044996</td>\n",
       "      <td>0.044996</td>\n",
       "      <td>5848.696289</td>\n",
       "      <td>07:31</td>\n",
       "    </tr>\n",
       "  </tbody>\n",
       "</table>"
      ],
      "text/plain": [
       "<IPython.core.display.HTML object>"
      ]
     },
     "metadata": {},
     "output_type": "display_data"
    }
   ],
   "source": [
    "learn.fit(10, lr, wd=wd)"
   ]
  },
  {
   "cell_type": "code",
   "execution_count": 39,
   "id": "33cd7aaa",
   "metadata": {
    "ExecuteTime": {
     "end_time": "2022-05-22T18:55:45.966648Z",
     "start_time": "2022-05-22T18:55:35.329241Z"
    }
   },
   "outputs": [
    {
     "data": {
      "text/html": [
       "\n",
       "<style>\n",
       "    /* Turns off some styling */\n",
       "    progress {\n",
       "        /* gets rid of default border in Firefox and Opera. */\n",
       "        border: none;\n",
       "        /* Needs to be in here for Safari polyfill so background images work as expected. */\n",
       "        background-size: auto;\n",
       "    }\n",
       "    .progress-bar-interrupted, .progress-bar-interrupted::-webkit-progress-bar {\n",
       "        background: #F44336;\n",
       "    }\n",
       "</style>\n"
      ],
      "text/plain": [
       "<IPython.core.display.HTML object>"
      ]
     },
     "metadata": {},
     "output_type": "display_data"
    },
    {
     "data": {
      "text/html": [],
      "text/plain": [
       "<IPython.core.display.HTML object>"
      ]
     },
     "metadata": {},
     "output_type": "display_data"
    },
    {
     "data": {
      "image/png": "[encoded data removed]",
      "text/plain": [
       "<Figure size 648x864 with 12 Axes>"
      ]
     },
     "metadata": {
      "needs_background": "light"
     },
     "output_type": "display_data"
    }
   ],
   "source": [
    "learn.show_results(max_n=4)"
   ]
  },
  {
   "cell_type": "code",
   "execution_count": 49,
   "id": "aa617514",
   "metadata": {},
   "outputs": [
    {
     "name": "stderr",
     "output_type": "stream",
     "text": [
      "/home/agatamakarewicz/anaconda3/lib/python3.9/site-packages/fastai/callback/core.py:67: UserWarning: You are shadowing an attribute (generator) that exists in the learner. Use `self.learn.generator` to avoid this\n",
      "  warn(f\"You are shadowing an attribute ({name}) that exists in the learner. Use `self.learn.{name}` to avoid this\")\n",
      "/home/agatamakarewicz/anaconda3/lib/python3.9/site-packages/fastai/callback/core.py:67: UserWarning: You are shadowing an attribute (critic) that exists in the learner. Use `self.learn.critic` to avoid this\n",
      "  warn(f\"You are shadowing an attribute ({name}) that exists in the learner. Use `self.learn.{name}` to avoid this\")\n",
      "/home/agatamakarewicz/anaconda3/lib/python3.9/site-packages/fastai/callback/core.py:67: UserWarning: You are shadowing an attribute (gen_mode) that exists in the learner. Use `self.learn.gen_mode` to avoid this\n",
      "  warn(f\"You are shadowing an attribute ({name}) that exists in the learner. Use `self.learn.{name}` to avoid this\")\n"
     ]
    },
    {
     "data": {
      "text/html": [
       "\n",
       "<style>\n",
       "    /* Turns off some styling */\n",
       "    progress {\n",
       "        /* gets rid of default border in Firefox and Opera. */\n",
       "        border: none;\n",
       "        /* Needs to be in here for Safari polyfill so background images work as expected. */\n",
       "        background-size: auto;\n",
       "    }\n",
       "    .progress-bar-interrupted, .progress-bar-interrupted::-webkit-progress-bar {\n",
       "        background: #F44336;\n",
       "    }\n",
       "</style>\n"
      ],
      "text/plain": [
       "<IPython.core.display.HTML object>"
      ]
     },
     "metadata": {},
     "output_type": "display_data"
    },
    {
     "data": {
      "text/html": [],
      "text/plain": [
       "<IPython.core.display.HTML object>"
      ]
     },
     "metadata": {},
     "output_type": "display_data"
    }
   ],
   "source": [
    "preds = learn.get_preds()"
   ]
  },
  {
   "cell_type": "code",
   "execution_count": 55,
   "id": "4ae4b83b",
   "metadata": {},
   "outputs": [
    {
     "data": {
      "text/plain": [
       "(TensorBase([[[[-1.4220e-01, -1.1018e-01, -2.4927e-02,  ...,  6.9141e-01,\n",
       "             7.0366e-01,  6.2999e-01],\n",
       "           [-2.4033e-01, -1.7775e-01, -9.1373e-02,  ...,  7.1790e-01,\n",
       "             7.3384e-01,  6.8642e-01],\n",
       "           [-3.0777e-01, -2.5077e-01, -1.7345e-01,  ...,  7.2826e-01,\n",
       "             7.0399e-01,  7.0466e-01],\n",
       "           ...,\n",
       "           [ 4.6409e-01,  4.7914e-01,  4.6523e-01,  ...,  7.1630e-01,\n",
       "             6.8852e-01,  7.1393e-01],\n",
       "           [ 5.6396e-01,  5.5529e-01,  4.7581e-01,  ...,  7.1368e-01,\n",
       "             8.1376e-01,  8.5491e-01],\n",
       "           [ 5.8438e-01,  5.6273e-01,  4.7105e-01,  ...,  7.3351e-01,\n",
       "             8.3335e-01,  8.5262e-01]],\n",
       " \n",
       "          [[-2.8656e-01, -2.4486e-01, -1.6572e-01,  ...,  8.2123e-01,\n",
       "             8.0951e-01,  7.4839e-01],\n",
       "           [-3.7533e-01, -3.1468e-01, -2.3696e-01,  ...,  8.5667e-01,\n",
       "             8.6123e-01,  8.4841e-01],\n",
       "           [-4.5645e-01, -4.1543e-01, -3.1977e-01,  ...,  8.6678e-01,\n",
       "             8.5353e-01,  8.4314e-01],\n",
       "           ...,\n",
       "           [ 3.0077e-01,  3.1631e-01,  3.2348e-01,  ...,  8.0857e-01,\n",
       "             8.0088e-01,  8.2573e-01],\n",
       "           [ 3.9813e-01,  3.9743e-01,  3.3835e-01,  ...,  8.1484e-01,\n",
       "             9.2698e-01,  9.7602e-01],\n",
       "           [ 4.3945e-01,  4.2005e-01,  3.3522e-01,  ...,  7.9810e-01,\n",
       "             9.4357e-01,  9.6606e-01]],\n",
       " \n",
       "          [[-2.7945e-01, -2.4577e-01, -1.9169e-01,  ...,  1.0658e+00,\n",
       "             1.0634e+00,  9.3675e-01],\n",
       "           [-3.7591e-01, -3.0906e-01, -2.2262e-01,  ...,  1.0985e+00,\n",
       "             1.1258e+00,  1.0818e+00],\n",
       "           [-4.6993e-01, -3.9874e-01, -3.1198e-01,  ...,  1.0939e+00,\n",
       "             1.0937e+00,  1.1073e+00],\n",
       "           ...,\n",
       "           [ 3.0677e-01,  3.2546e-01,  3.0495e-01,  ...,  1.3768e+00,\n",
       "             1.3744e+00,  1.3728e+00],\n",
       "           [ 4.1919e-01,  4.1982e-01,  3.2316e-01,  ...,  1.3826e+00,\n",
       "             1.5435e+00,  1.5358e+00],\n",
       "           [ 4.4434e-01,  4.0871e-01,  3.0251e-01,  ...,  1.3715e+00,\n",
       "             1.5320e+00,  1.4205e+00]]],\n",
       " \n",
       " \n",
       "         [[[ 7.1178e-01,  3.9043e-01,  3.8502e-01,  ...,  2.6311e-01,\n",
       "             2.7009e-01,  2.2702e-01],\n",
       "           [ 7.2664e-01,  3.8928e-01,  4.2065e-01,  ...,  2.8970e-01,\n",
       "             2.7145e-01,  2.1561e-01],\n",
       "           [ 6.5340e-01,  4.0543e-01,  4.5322e-01,  ...,  2.7640e-01,\n",
       "             2.2801e-01,  2.1488e-01],\n",
       "           ...,\n",
       "           [-8.1238e-01, -8.1921e-01, -8.4888e-01,  ...,  1.5154e+00,\n",
       "             1.5659e+00,  1.6019e+00],\n",
       "           [-8.2032e-01, -8.5528e-01, -8.2288e-01,  ...,  1.4929e+00,\n",
       "             1.5353e+00,  1.5695e+00],\n",
       "           [-7.8809e-01, -8.3890e-01, -8.1904e-01,  ...,  1.4553e+00,\n",
       "             1.4597e+00,  1.4472e+00]],\n",
       " \n",
       "          [[ 7.6593e-01,  5.1366e-01,  4.8932e-01,  ...,  3.7702e-01,\n",
       "             3.7422e-01,  3.2587e-01],\n",
       "           [ 8.2258e-01,  5.1762e-01,  5.2655e-01,  ...,  3.9170e-01,\n",
       "             3.8867e-01,  3.3397e-01],\n",
       "           [ 7.3128e-01,  5.0807e-01,  5.5928e-01,  ...,  3.8131e-01,\n",
       "             3.5503e-01,  3.3049e-01],\n",
       "           ...,\n",
       "           [-7.2022e-01, -7.3519e-01, -7.2556e-01,  ...,  1.4912e+00,\n",
       "             1.5254e+00,  1.5584e+00],\n",
       "           [-6.9382e-01, -6.9218e-01, -6.9677e-01,  ...,  1.4313e+00,\n",
       "             1.4802e+00,  1.5230e+00],\n",
       "           [-6.8981e-01, -6.9653e-01, -7.0147e-01,  ...,  1.4039e+00,\n",
       "             1.3788e+00,  1.3973e+00]],\n",
       " \n",
       "          [[ 8.8495e-01,  6.2748e-01,  6.8306e-01,  ...,  5.4189e-01,\n",
       "             5.4749e-01,  4.5987e-01],\n",
       "           [ 9.9084e-01,  6.9028e-01,  7.3275e-01,  ...,  5.8411e-01,\n",
       "             5.8889e-01,  5.2239e-01],\n",
       "           [ 9.5440e-01,  7.2249e-01,  7.5315e-01,  ...,  5.6308e-01,\n",
       "             5.5049e-01,  5.2721e-01],\n",
       "           ...,\n",
       "           [-4.9196e-01, -4.8291e-01, -5.0633e-01,  ...,  1.4308e+00,\n",
       "             1.5465e+00,  1.6430e+00],\n",
       "           [-4.8493e-01, -4.9509e-01, -4.8298e-01,  ...,  1.3608e+00,\n",
       "             1.4981e+00,  1.5749e+00],\n",
       "           [-5.0480e-01, -5.0201e-01, -4.7492e-01,  ...,  1.3649e+00,\n",
       "             1.4648e+00,  1.4567e+00]]],\n",
       " \n",
       " \n",
       "         [[[ 6.8098e-01,  8.2169e-01,  8.3191e-01,  ...,  8.7978e-01,\n",
       "             8.5852e-01,  7.7064e-01],\n",
       "           [ 7.5336e-01,  7.8845e-01,  8.1914e-01,  ...,  9.2416e-01,\n",
       "             8.7698e-01,  8.0794e-01],\n",
       "           [ 7.7812e-01,  7.9503e-01,  8.3761e-01,  ...,  9.1448e-01,\n",
       "             8.6241e-01,  7.9874e-01],\n",
       "           ...,\n",
       "           [ 1.3939e+00,  1.4324e+00,  1.4366e+00,  ...,  6.0490e-01,\n",
       "             5.8748e-01,  5.8726e-01],\n",
       "           [ 1.5051e+00,  1.5074e+00,  1.4879e+00,  ...,  8.3409e-01,\n",
       "             5.9064e-01,  5.5042e-01],\n",
       "           [ 1.3910e+00,  1.4353e+00,  1.4691e+00,  ...,  7.6356e-01,\n",
       "             4.2949e-01,  5.5594e-01]],\n",
       " \n",
       "          [[ 2.0068e-01,  2.5008e-01,  2.7120e-01,  ...,  4.4842e-01,\n",
       "             4.1195e-01,  3.7710e-01],\n",
       "           [ 2.0471e-01,  2.7377e-01,  3.0507e-01,  ...,  4.7628e-01,\n",
       "             4.2647e-01,  3.7539e-01],\n",
       "           [ 2.4214e-01,  2.7362e-01,  3.1046e-01,  ...,  5.2012e-01,\n",
       "             4.5811e-01,  3.8859e-01],\n",
       "           ...,\n",
       "           [ 1.5249e+00,  1.5483e+00,  1.5482e+00,  ...,  1.3715e-01,\n",
       "             1.6035e-01,  1.9410e-01],\n",
       "           [ 1.6204e+00,  1.5847e+00,  1.5390e+00,  ...,  2.5597e-01,\n",
       "             3.4432e-02,  4.3699e-02],\n",
       "           [ 1.5212e+00,  1.5953e+00,  1.5463e+00,  ...,  8.4403e-02,\n",
       "            -2.1918e-01,  2.2128e-02]],\n",
       " \n",
       "          [[-1.9352e-01, -1.0654e-01, -9.5288e-02,  ...,  2.1903e-01,\n",
       "             2.0778e-01,  1.1208e-01],\n",
       "           [-1.9928e-01, -1.0889e-01, -7.1885e-02,  ...,  2.4280e-01,\n",
       "             2.4393e-01,  1.5613e-01],\n",
       "           [-1.5195e-01, -1.1508e-01, -7.2384e-02,  ...,  3.1194e-01,\n",
       "             2.7140e-01,  2.0874e-01],\n",
       "           ...,\n",
       "           [ 1.9004e+00,  1.9371e+00,  1.9680e+00,  ...,  4.3364e-01,\n",
       "             4.4761e-01,  4.8667e-01],\n",
       "           [ 2.0244e+00,  2.0312e+00,  1.9969e+00,  ...,  5.4459e-01,\n",
       "             3.7251e-01,  3.7988e-01],\n",
       "           [ 1.8422e+00,  1.9927e+00,  1.9653e+00,  ...,  3.2350e-01,\n",
       "             9.8824e-02,  2.0544e-01]]],\n",
       " \n",
       " \n",
       "         ...,\n",
       " \n",
       " \n",
       "         [[[ 1.6961e-01,  2.1701e-01,  2.9759e-01,  ...,  1.9433e-01,\n",
       "             8.3354e-02,  2.8087e-02],\n",
       "           [ 7.6517e-02,  1.4283e-01,  2.6010e-01,  ...,  2.0135e-01,\n",
       "             1.3620e-01,  1.0856e-01],\n",
       "           [ 8.8998e-02,  1.5907e-01,  2.4719e-01,  ...,  2.6412e-01,\n",
       "             2.5375e-01,  1.5598e-01],\n",
       "           ...,\n",
       "           [-1.0183e+00, -8.7976e-01, -8.9649e-01,  ...,  4.6879e-01,\n",
       "             5.3478e-01,  4.7065e-01],\n",
       "           [-1.0751e+00, -1.0188e+00, -9.7736e-01,  ...,  6.9632e-01,\n",
       "             7.7282e-01,  6.3708e-01],\n",
       "           [-1.0945e+00, -1.0667e+00, -1.0584e+00,  ...,  8.7994e-01,\n",
       "             9.4307e-01,  7.3241e-01]],\n",
       " \n",
       "          [[-4.3196e-02,  2.2161e-02,  1.3837e-01,  ..., -3.5983e-02,\n",
       "            -1.1632e-01, -1.5131e-01],\n",
       "           [-1.4310e-01, -3.8430e-02,  9.9422e-02,  ..., -2.7854e-02,\n",
       "            -7.4021e-02, -1.0781e-01],\n",
       "           [-1.5803e-01, -5.7163e-02,  6.6679e-02,  ...,  2.9116e-02,\n",
       "             2.8625e-02, -5.1982e-02],\n",
       "           ...,\n",
       "           [-1.6894e+00, -1.6172e+00, -1.6376e+00,  ..., -2.6050e-01,\n",
       "            -3.1891e-01, -3.5033e-01],\n",
       "           [-1.8102e+00, -1.7847e+00, -1.7858e+00,  ..., -4.9965e-02,\n",
       "            -3.6729e-02, -1.4338e-01],\n",
       "           [-1.6889e+00, -1.8267e+00, -1.8317e+00,  ...,  1.7281e-02,\n",
       "             1.2008e-01,  6.0150e-02]],\n",
       " \n",
       "          [[-1.2477e-01, -1.1913e-01, -6.1359e-02,  ..., -3.4221e-01,\n",
       "            -4.4098e-01, -4.1890e-01],\n",
       "           [-2.4365e-01, -1.9408e-01, -1.1267e-01,  ..., -3.5325e-01,\n",
       "            -4.1249e-01, -4.4967e-01],\n",
       "           [-2.9002e-01, -2.2882e-01, -1.5645e-01,  ..., -3.4075e-01,\n",
       "            -3.4488e-01, -4.0921e-01],\n",
       "           ...,\n",
       "           [-1.6291e+00, -1.6115e+00, -1.6957e+00,  ..., -1.4899e+00,\n",
       "            -1.5778e+00, -1.5055e+00],\n",
       "           [-1.7504e+00, -1.7605e+00, -1.7747e+00,  ..., -1.4251e+00,\n",
       "            -1.5131e+00, -1.3818e+00],\n",
       "           [-1.6525e+00, -1.7679e+00, -1.7781e+00,  ..., -1.2429e+00,\n",
       "            -1.2824e+00, -1.0826e+00]]],\n",
       " \n",
       " \n",
       "         [[[ 5.8364e-01,  6.5463e-01,  6.4761e-01,  ..., -4.3948e-01,\n",
       "            -2.0570e-01, -1.1187e-01],\n",
       "           [ 6.4485e-01,  6.3474e-01,  6.4631e-01,  ..., -5.2190e-01,\n",
       "            -2.3304e-01, -9.8417e-02],\n",
       "           [ 6.6105e-01,  6.4429e-01,  6.4811e-01,  ..., -4.1398e-01,\n",
       "            -1.9093e-01, -1.3762e-01],\n",
       "           ...,\n",
       "           [-5.6347e-01, -5.3312e-01, -5.2391e-01,  ..., -9.0550e-01,\n",
       "            -9.6937e-01, -1.0656e+00],\n",
       "           [-4.9968e-01, -5.4432e-01, -5.2120e-01,  ..., -8.4689e-01,\n",
       "            -8.6920e-01, -9.7814e-01],\n",
       "           [-5.3771e-01, -5.2591e-01, -5.1357e-01,  ..., -7.0884e-01,\n",
       "            -7.4428e-01, -8.4494e-01]],\n",
       " \n",
       "          [[ 4.1948e-01,  4.5498e-01,  4.5122e-01,  ..., -8.0536e-01,\n",
       "            -6.9808e-01, -5.5755e-01],\n",
       "           [ 4.6854e-01,  4.6154e-01,  4.7554e-01,  ..., -8.8314e-01,\n",
       "            -7.5480e-01, -6.3819e-01],\n",
       "           [ 4.7790e-01,  4.5495e-01,  4.8131e-01,  ..., -8.2284e-01,\n",
       "            -7.3235e-01, -6.4093e-01],\n",
       "           ...,\n",
       "           [-1.4773e+00, -1.4610e+00, -1.4419e+00,  ..., -1.4196e+00,\n",
       "            -1.4201e+00, -1.4665e+00],\n",
       "           [-1.4748e+00, -1.4789e+00, -1.4493e+00,  ..., -1.3830e+00,\n",
       "            -1.3218e+00, -1.3695e+00],\n",
       "           [-1.3249e+00, -1.4303e+00, -1.4221e+00,  ..., -1.2654e+00,\n",
       "            -1.2268e+00, -1.1969e+00]],\n",
       " \n",
       "          [[ 5.4163e-02,  5.0685e-02,  6.7178e-02,  ..., -1.1317e+00,\n",
       "            -9.8360e-01, -7.9196e-01],\n",
       "           [ 6.3863e-02,  5.2226e-02,  6.9529e-02,  ..., -1.1840e+00,\n",
       "            -9.9824e-01, -8.8166e-01],\n",
       "           [ 9.4998e-02,  5.5858e-02,  7.7014e-02,  ..., -1.0504e+00,\n",
       "            -8.9953e-01, -8.1198e-01],\n",
       "           ...,\n",
       "           [-1.3596e+00, -1.3732e+00, -1.3717e+00,  ..., -1.2847e+00,\n",
       "            -1.3884e+00, -1.4736e+00],\n",
       "           [-1.3637e+00, -1.3948e+00, -1.3744e+00,  ..., -1.2927e+00,\n",
       "            -1.3015e+00, -1.3503e+00],\n",
       "           [-1.2766e+00, -1.3406e+00, -1.3090e+00,  ..., -1.1657e+00,\n",
       "            -1.1671e+00, -1.1561e+00]]],\n",
       " \n",
       " \n",
       "         [[[ 9.4698e-01,  1.1326e+00,  1.0878e+00,  ..., -8.1816e-02,\n",
       "            -5.6295e-02, -8.1905e-02],\n",
       "           [ 1.0757e+00,  1.1413e+00,  1.1095e+00,  ...,  9.5349e-02,\n",
       "             5.0888e-02, -6.0160e-03],\n",
       "           [ 1.0885e+00,  1.1364e+00,  1.0867e+00,  ...,  1.1865e-01,\n",
       "             7.9625e-02,  2.7943e-02],\n",
       "           ...,\n",
       "           [-1.0410e-01, -7.4745e-02,  3.5013e-02,  ..., -6.4105e-02,\n",
       "             2.3247e-02, -5.0468e-03],\n",
       "           [ 2.9945e-04,  8.2241e-02,  1.1347e-01,  ..., -2.0480e-01,\n",
       "            -1.5369e-01, -1.4199e-01],\n",
       "           [-1.6445e-01, -3.1583e-01, -3.2123e-01,  ..., -1.5880e-01,\n",
       "            -1.5706e-01, -1.7489e-01]],\n",
       " \n",
       "          [[ 2.9258e-01,  3.3737e-01,  3.3598e-01,  ..., -4.1134e-01,\n",
       "            -3.8956e-01, -3.4509e-01],\n",
       "           [ 2.8063e-01,  3.2791e-01,  3.3633e-01,  ..., -2.4994e-01,\n",
       "            -2.8914e-01, -3.3769e-01],\n",
       "           [ 2.8738e-01,  3.3452e-01,  3.3646e-01,  ..., -2.1432e-01,\n",
       "            -2.4684e-01, -2.8756e-01],\n",
       "           ...,\n",
       "           [-2.9781e-01, -2.4881e-01, -1.5807e-01,  ...,  1.6127e-01,\n",
       "             2.7076e-01,  2.2522e-01],\n",
       "           [-1.2908e-01, -6.1592e-02, -8.7373e-02,  ...,  8.7052e-02,\n",
       "             1.5399e-01,  1.1373e-01],\n",
       "           [-2.8397e-01, -4.5134e-01, -5.2603e-01,  ...,  1.0576e-01,\n",
       "             1.0334e-01,  6.6339e-02]],\n",
       " \n",
       "          [[-1.2254e-01, -9.8583e-02, -9.4713e-02,  ..., -4.4119e-01,\n",
       "            -4.1943e-01, -3.7748e-01],\n",
       "           [-1.0601e-01, -1.0862e-01, -9.3025e-02,  ..., -2.7128e-01,\n",
       "            -2.6814e-01, -3.1554e-01],\n",
       "           [-9.2606e-02, -1.2554e-01, -9.8923e-02,  ..., -2.0726e-01,\n",
       "            -1.9451e-01, -2.4109e-01],\n",
       "           ...,\n",
       "           [-8.5669e-02, -9.3179e-03,  7.7957e-02,  ...,  5.9485e-01,\n",
       "             7.0703e-01,  6.5903e-01],\n",
       "           [ 1.0520e-01,  1.9287e-01,  1.3218e-01,  ...,  5.3316e-01,\n",
       "             6.2414e-01,  5.7228e-01],\n",
       "           [-1.2169e-01, -2.2669e-01, -2.5711e-01,  ...,  5.5501e-01,\n",
       "             5.3946e-01,  4.4048e-01]]]]),\n",
       " TensorImage([[[[-0.1657, -0.1143, -0.0287,  ...,  0.7077,  0.7077,  0.7077],\n",
       "           [-0.2171, -0.1657, -0.0801,  ...,  0.7077,  0.7077,  0.7077],\n",
       "           [-0.3027, -0.2513, -0.1657,  ...,  0.7077,  0.7077,  0.7077],\n",
       "           ...,\n",
       "           [ 0.4851,  0.4679,  0.4679,  ...,  0.7077,  0.7077,  0.7248],\n",
       "           [ 0.5878,  0.5364,  0.4679,  ...,  0.7077,  0.7933,  0.8276],\n",
       "           [ 0.6392,  0.5878,  0.4851,  ...,  0.7248,  0.8447,  0.8961]],\n",
       " \n",
       "          [[-0.3200, -0.2675, -0.1800,  ...,  0.8529,  0.8529,  0.8529],\n",
       "           [-0.3725, -0.3200, -0.2325,  ...,  0.8529,  0.8529,  0.8529],\n",
       "           [-0.4601, -0.4076, -0.3200,  ...,  0.8529,  0.8529,  0.8529],\n",
       "           ...,\n",
       "           [ 0.3452,  0.3277,  0.3277,  ...,  0.8004,  0.8004,  0.8179],\n",
       "           [ 0.4503,  0.3978,  0.3277,  ...,  0.8004,  0.8880,  0.9230],\n",
       "           [ 0.5028,  0.4503,  0.3452,  ...,  0.8179,  0.9405,  0.9930]],\n",
       " \n",
       "          [[-0.3230, -0.2707, -0.1835,  ...,  1.0714,  1.0714,  1.0714],\n",
       "           [-0.3753, -0.3230, -0.2358,  ...,  1.0714,  1.0714,  1.0714],\n",
       "           [-0.4624, -0.4101, -0.3230,  ...,  1.0714,  1.0714,  1.0714],\n",
       "           ...,\n",
       "           [ 0.3393,  0.3219,  0.3219,  ...,  1.3502,  1.3502,  1.3677],\n",
       "           [ 0.4439,  0.3916,  0.3219,  ...,  1.3502,  1.4374,  1.4722],\n",
       "           [ 0.4962,  0.4439,  0.3393,  ...,  1.3677,  1.4897,  1.5420]]],\n",
       " \n",
       " \n",
       "         [[[ 0.6906,  0.3652,  0.3823,  ...,  0.2796,  0.2796,  0.2453],\n",
       "           [ 0.6734,  0.3994,  0.4166,  ...,  0.2796,  0.2624,  0.2282],\n",
       "           [ 0.6392,  0.4166,  0.4508,  ...,  0.2624,  0.2453,  0.2282],\n",
       "           ...,\n",
       "           [-0.8164, -0.8335, -0.8335,  ...,  1.5125,  1.5810,  1.5810],\n",
       "           [-0.8164, -0.8335, -0.8164,  ...,  1.4783,  1.5125,  1.5468],\n",
       "           [-0.8507, -0.7993, -0.7993,  ...,  1.4440,  1.4612,  1.4954]],\n",
       " \n",
       "          [[ 0.8179,  0.4853,  0.5028,  ...,  0.3978,  0.3978,  0.3627],\n",
       "           [ 0.8004,  0.5203,  0.5378,  ...,  0.3978,  0.3803,  0.3452],\n",
       "           [ 0.7654,  0.5378,  0.5728,  ...,  0.3803,  0.3627,  0.3452],\n",
       "           ...,\n",
       "           [-0.7052, -0.7227, -0.7227,  ...,  1.4832,  1.5182,  1.5182],\n",
       "           [-0.7052, -0.7227, -0.7052,  ...,  1.4307,  1.4657,  1.4832],\n",
       "           [-0.7402, -0.6877, -0.6877,  ...,  1.3957,  1.4132,  1.4307]],\n",
       " \n",
       "          [[ 0.9668,  0.6705,  0.6879,  ...,  0.5834,  0.5834,  0.5485],\n",
       "           [ 0.9494,  0.7054,  0.7228,  ...,  0.5834,  0.5659,  0.5311],\n",
       "           [ 0.9145,  0.7228,  0.7576,  ...,  0.5659,  0.5485,  0.5311],\n",
       "           ...,\n",
       "           [-0.4798, -0.4973, -0.4973,  ...,  1.4548,  1.5420,  1.5942],\n",
       "           [-0.4798, -0.4973, -0.4798,  ...,  1.4025,  1.4897,  1.5594],\n",
       "           [-0.5147, -0.4624, -0.4624,  ...,  1.3502,  1.4374,  1.5071]]],\n",
       " \n",
       " \n",
       "         [[[ 0.7248,  0.7419,  0.7933,  ...,  0.8961,  0.8618,  0.8104],\n",
       "           [ 0.7591,  0.7933,  0.8276,  ...,  0.9132,  0.8618,  0.8104],\n",
       "           [ 0.7762,  0.8104,  0.8447,  ...,  0.9132,  0.8789,  0.8276],\n",
       "           ...,\n",
       "           [ 1.4269,  1.4269,  1.4440,  ...,  0.6049,  0.6049,  0.5878],\n",
       "           [ 1.5810,  1.5297,  1.4954,  ...,  0.8447,  0.5878,  0.5193],\n",
       "           [ 1.4269,  1.4440,  1.4612,  ...,  0.7762,  0.3652,  0.6906]],\n",
       " \n",
       "          [[ 0.2227,  0.2577,  0.2927,  ...,  0.4678,  0.4328,  0.3803],\n",
       "           [ 0.2402,  0.2752,  0.3102,  ...,  0.4853,  0.4503,  0.3978],\n",
       "           [ 0.2577,  0.2927,  0.3277,  ...,  0.5203,  0.4678,  0.4328],\n",
       "           ...,\n",
       "           [ 1.4832,  1.4832,  1.5007,  ...,  0.1176,  0.2052,  0.2227],\n",
       "           [ 1.5882,  1.5357,  1.5007,  ...,  0.2752,  0.0826,  0.0476],\n",
       "           [ 1.5532,  1.5707,  1.5882,  ...,  0.1176, -0.2500,  0.1176]],\n",
       " \n",
       "          [[-0.1312, -0.0964, -0.0615,  ...,  0.2522,  0.1999,  0.1476],\n",
       "           [-0.1661, -0.1312, -0.0964,  ...,  0.2522,  0.2173,  0.1651],\n",
       "           [-0.1487, -0.1138, -0.0790,  ...,  0.3045,  0.2696,  0.2173],\n",
       "           ...,\n",
       "           [ 1.9603,  1.9603,  1.9777,  ...,  0.4091,  0.4439,  0.4614],\n",
       "           [ 2.0648,  1.9951,  1.9777,  ...,  0.5659,  0.3568,  0.2871],\n",
       "           [ 1.9603,  1.9777,  1.9951,  ...,  0.4091,  0.0431,  0.4091]]],\n",
       " \n",
       " \n",
       "         ...,\n",
       " \n",
       " \n",
       "         [[[ 0.1939,  0.2111,  0.3138,  ...,  0.2111,  0.1083,  0.0227],\n",
       "           [ 0.0912,  0.1768,  0.2796,  ...,  0.1939,  0.1426,  0.1254],\n",
       "           [ 0.0912,  0.1597,  0.2453,  ...,  0.2453,  0.2624,  0.1768],\n",
       "           ...,\n",
       "           [-0.9877, -0.8849, -0.8678,  ...,  0.4508,  0.4679,  0.4166],\n",
       "           [-1.0904, -0.9877, -0.9705,  ...,  0.6734,  0.7248,  0.6734],\n",
       "           [-1.1075, -1.1075, -1.0904,  ...,  0.8447,  0.9303,  0.8789]],\n",
       " \n",
       "          [[-0.0924,  0.0301,  0.1702,  ..., -0.0224, -0.1275, -0.2150],\n",
       "           [-0.1800, -0.0224,  0.1176,  ..., -0.0399, -0.0924, -0.1099],\n",
       "           [-0.1800, -0.0399,  0.0651,  ...,  0.0126,  0.0301, -0.0574],\n",
       "           ...,\n",
       "           [-1.7206, -1.6506, -1.6506,  ..., -0.2675, -0.3200, -0.4426],\n",
       "           [-1.8431, -1.8431, -1.8606,  ..., -0.0574, -0.0574, -0.1625],\n",
       "           [-1.8782, -1.9657, -2.0007,  ...,  0.1176,  0.1527,  0.0476]],\n",
       " \n",
       "          [[-0.0790, -0.1487, -0.0790,  ..., -0.3404, -0.4450, -0.5321],\n",
       "           [-0.2010, -0.2010, -0.1138,  ..., -0.3578, -0.4101, -0.4275],\n",
       "           [-0.2532, -0.2358, -0.1487,  ..., -0.3404, -0.3230, -0.4275],\n",
       "           ...,\n",
       "           [-1.6824, -1.6999, -1.7347,  ..., -1.5256, -1.5779, -1.5604],\n",
       "           [-1.7870, -1.7870, -1.8044,  ..., -1.4384, -1.4384, -1.4036],\n",
       "           [-1.8044, -1.8044, -1.8044,  ..., -1.3339, -1.2990, -1.2467]]],\n",
       " \n",
       " \n",
       "         [[[ 0.6392,  0.6563,  0.6563,  ..., -0.4397, -0.2171, -0.1143],\n",
       "           [ 0.6734,  0.6563,  0.6563,  ..., -0.5082, -0.2171, -0.0801],\n",
       "           [ 0.6734,  0.6563,  0.6563,  ..., -0.4226, -0.1828, -0.0972],\n",
       "           ...,\n",
       "           [-0.5253, -0.5253, -0.5082,  ..., -0.8849, -0.9705, -1.1247],\n",
       "           [-0.5082, -0.5253, -0.5082,  ..., -0.8335, -0.8507, -1.0048],\n",
       "           [-0.5082, -0.5253, -0.5082,  ..., -0.7308, -0.7479, -0.9020]],\n",
       " \n",
       "          [[ 0.4678,  0.4853,  0.4853,  ..., -0.8452, -0.7227, -0.7052],\n",
       "           [ 0.5028,  0.4853,  0.4853,  ..., -0.9153, -0.7402, -0.6877],\n",
       "           [ 0.5028,  0.4853,  0.4853,  ..., -0.8277, -0.7052, -0.7052],\n",
       "           ...,\n",
       "           [-1.4580, -1.4580, -1.4405,  ..., -1.4230, -1.4055, -1.4930],\n",
       "           [-1.4405, -1.4580, -1.4405,  ..., -1.4055, -1.3004, -1.3179],\n",
       "           [-1.4405, -1.4580, -1.4405,  ..., -1.3179, -1.2129, -1.2129]],\n",
       " \n",
       "          [[ 0.0605,  0.0779,  0.0779,  ..., -1.1421, -0.9678, -0.9156],\n",
       "           [ 0.0953,  0.0779,  0.0779,  ..., -1.1944, -0.9504, -0.8633],\n",
       "           [ 0.0953,  0.0779,  0.0779,  ..., -1.0376, -0.8633, -0.8458],\n",
       "           ...,\n",
       "           [-1.3687, -1.3687, -1.3513,  ..., -1.2816, -1.3861, -1.5430],\n",
       "           [-1.3513, -1.3687, -1.3513,  ..., -1.2467, -1.2641, -1.3861],\n",
       "           [-1.3513, -1.3687, -1.3513,  ..., -1.1596, -1.1770, -1.2816]]],\n",
       " \n",
       " \n",
       "         [[[ 1.1015,  1.1187,  1.0844,  ..., -0.0801, -0.0287, -0.0801],\n",
       "           [ 1.1015,  1.1187,  1.0844,  ...,  0.0912,  0.0569, -0.0116],\n",
       "           [ 1.1015,  1.1187,  1.0844,  ...,  0.1083,  0.0912,  0.0741],\n",
       "           ...,\n",
       "           [-0.1143, -0.0972,  0.0569,  ..., -0.0629,  0.0569,  0.0227],\n",
       "           [-0.0116,  0.0741,  0.1083,  ..., -0.1657, -0.1143, -0.1143],\n",
       "           [-0.1486, -0.3198, -0.3883,  ..., -0.1657, -0.1314, -0.1657]],\n",
       " \n",
       "          [[ 0.3102,  0.3627,  0.3803,  ..., -0.4251, -0.3901, -0.4426],\n",
       "           [ 0.3102,  0.3627,  0.3803,  ..., -0.2675, -0.3025, -0.3550],\n",
       "           [ 0.3102,  0.3627,  0.3803,  ..., -0.2325, -0.2500, -0.2675],\n",
       "           ...,\n",
       "           [-0.3025, -0.2500, -0.1275,  ...,  0.1702,  0.2752,  0.2577],\n",
       "           [-0.1975, -0.0924, -0.0924,  ...,  0.0826,  0.1527,  0.1527],\n",
       "           [-0.3375, -0.4776, -0.6001,  ...,  0.1001,  0.1176,  0.0826]],\n",
       " \n",
       "          [[-0.0790, -0.1138, -0.0964,  ..., -0.4624, -0.3927, -0.4101],\n",
       "           [-0.0615, -0.1138, -0.0964,  ..., -0.2881, -0.2707, -0.3230],\n",
       "           [-0.0615, -0.1138, -0.0964,  ..., -0.2184, -0.2184, -0.2010],\n",
       "           ...,\n",
       "           [-0.0615, -0.0092,  0.1128,  ...,  0.6008,  0.7054,  0.6879],\n",
       "           [ 0.0431,  0.1651,  0.1476,  ...,  0.5311,  0.6008,  0.5834],\n",
       "           [-0.0790, -0.2358, -0.3404,  ...,  0.5834,  0.6008,  0.5659]]]]))"
      ]
     },
     "execution_count": 55,
     "metadata": {},
     "output_type": "execute_result"
    }
   ],
   "source": [
    "preds"
   ]
  },
  {
   "cell_type": "code",
   "execution_count": 41,
   "id": "0ce77baf",
   "metadata": {},
   "outputs": [
    {
     "name": "stderr",
     "output_type": "stream",
     "text": [
      "100%|██████████| 6199/6199 [00:03<00:00, 1981.51it/s]\n"
     ]
    }
   ],
   "source": [
    "from tqdm import tqdm\n",
    "img = []\n",
    "for item in tqdm(dls_gen.valid_ds.items):\n",
    "    im = PILImage.create(item)\n",
    "    im = im.resize((64,64))\n",
    "    im_tensor = image2tensor(im)\n",
    "    img.append(im_tensor)"
   ]
  },
  {
   "cell_type": "code",
   "execution_count": 42,
   "id": "9877532d",
   "metadata": {},
   "outputs": [],
   "source": [
    "import pytorch_fid_wrapper as pfw\n",
    "real_m, real_s = pfw.get_stats(torch.stack(img).type(torch.FloatTensor))"
   ]
  },
  {
   "cell_type": "code",
   "execution_count": 56,
   "id": "eb9c1f82",
   "metadata": {},
   "outputs": [
    {
     "name": "stderr",
     "output_type": "stream",
     "text": [
      "/tmp/ipykernel_26120/1453472562.py:1: UserWarning: To copy construct from a tensor, it is recommended to use sourceTensor.clone().detach() or sourceTensor.clone().detach().requires_grad_(True), rather than torch.tensor(sourceTensor).\n",
      "  pfw.fid(torch.tensor(preds[1]).type(torch.FloatTensor), real_m=real_m, real_s=real_s) # (1)\n"
     ]
    },
    {
     "data": {
      "text/plain": [
       "8717.051500433321"
      ]
     },
     "execution_count": 56,
     "metadata": {},
     "output_type": "execute_result"
    }
   ],
   "source": [
    "pfw.fid(torch.tensor(preds[1]).type(torch.FloatTensor), real_m=real_m, real_s=real_s) # (1)"
   ]
  }
 ],
 "metadata": {
  "interpreter": {
   "hash": "b5d992f453105d4aa49a95b3092ddf61616f4d032e8215f3adc51b71e0e73e58"
  },
  "kernelspec": {
   "display_name": "Python 3 (ipykernel)",
   "language": "python",
   "name": "python3"
  },
  "language_info": {
   "codemirror_mode": {
    "name": "ipython",
    "version": 3
   },
   "file_extension": ".py",
   "mimetype": "text/x-python",
   "name": "python",
   "nbconvert_exporter": "python",
   "pygments_lexer": "ipython3",
   "version": "3.9.7"
  }
 },
 "nbformat": 4,
 "nbformat_minor": 5
}
