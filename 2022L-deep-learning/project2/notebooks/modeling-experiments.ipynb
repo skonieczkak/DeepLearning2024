{
 "cells": [
  {
   "cell_type": "markdown",
   "id": "907d640f",
   "metadata": {},
   "source": [
    "## Modeling - experiments"
   ]
  },
  {
   "cell_type": "code",
   "execution_count": 2,
   "id": "13acbcbc",
   "metadata": {
    "ExecuteTime": {
     "end_time": "2022-05-07T12:20:28.318865Z",
     "start_time": "2022-05-07T12:20:28.290833Z"
    }
   },
   "outputs": [],
   "source": [
    "import gc\n",
    "import os\n",
    "import re\n",
    "import math\n",
    "import random\n",
    "import numpy as np\n",
    "import pandas as pd\n",
    "from glob import glob\n",
    "from tqdm.notebook import tqdm as tqdm\n",
    "from itertools import compress\n",
    "\n",
    "from scipy.fftpack import fft\n",
    "from scipy.io import wavfile\n",
    "from scipy import signal\n",
    "from scipy.io import wavfile\n",
    "\n",
    "import keras\n",
    "from keras import optimizers, losses, activations, models\n",
    "from keras.layers import Dense, Input, Flatten, Dropout, BatchNormalization\n",
    "from tensorflow.keras import backend as K\n",
    "from tensorflow.keras.layers import Dense, SimpleRNN, LSTM, Bidirectional, Conv1D, GRU\n",
    "from tensorflow.keras.layers import Input, Dropout, BatchNormalization, Activation\n",
    "from tensorflow.keras.models import Model\n",
    "from tensorflow.keras.optimizers import Adam, SGD\n",
    "from tensorflow.keras.callbacks import EarlyStopping\n",
    "\n",
    "from sklearn.metrics import confusion_matrix\n",
    "from sklearn.metrics import accuracy_score\n",
    "\n",
    "import seaborn as sns\n",
    "import matplotlib.pyplot as plt\n",
    "from IPython.display import display, Markdown\n",
    "\n",
    "import warnings\n",
    "\n",
    "random.seed(0)\n",
    "sns.set_style('whitegrid')\n",
    "plt.rcParams[\"figure.figsize\"] = 9,6\n",
    "warnings.filterwarnings('ignore')"
   ]
  },
  {
   "cell_type": "code",
   "execution_count": 3,
   "id": "d8c98eb1",
   "metadata": {
    "ExecuteTime": {
     "end_time": "2022-05-07T12:20:31.451233Z",
     "start_time": "2022-05-07T12:20:31.431287Z"
    }
   },
   "outputs": [],
   "source": [
    "# parameters settings\n",
    "data_path = '../../../data/train/audio'\n",
    "labels = os.listdir(data_path)\n",
    "CLASSES = ['yes', 'no', 'up', 'down', 'left', 'right', 'on', 'off', 'stop', 'go'] \n",
    "SAMPLING_RATE = 16000\n",
    "NOISE_RATIO = 0.1"
   ]
  },
  {
   "cell_type": "code",
   "execution_count": 4,
   "id": "6f1846a6",
   "metadata": {
    "ExecuteTime": {
     "end_time": "2022-05-07T12:20:31.665063Z",
     "start_time": "2022-05-07T12:20:31.652635Z"
    }
   },
   "outputs": [],
   "source": [
    "# audio preprocessing functions\n",
    "def pad_audio(samples):\n",
    "    return np.pad(samples, pad_width=(SAMPLING_RATE - len(samples), 0), mode='constant', constant_values=(0, 0))\n",
    "\n",
    "\n",
    "def chop_audio(samples):\n",
    "    return samples[:SAMPLING_RATE]\n",
    "\n",
    "\n",
    "def split_audio(sample_rate, samples):\n",
    "    \"\"\" Splits audio file to multiple with (up to) fixed 1s length \"\"\"\n",
    "    duration = float(len(samples)/sample_rate)\n",
    "    n_samples = math.ceil(duration)\n",
    "    return np.array_split(samples, n_samples)"
   ]
  },
  {
   "cell_type": "code",
   "execution_count": 5,
   "id": "f417dec7",
   "metadata": {
    "ExecuteTime": {
     "end_time": "2022-05-07T12:20:31.864996Z",
     "start_time": "2022-05-07T12:20:31.848316Z"
    }
   },
   "outputs": [],
   "source": [
    "# label encoding\n",
    "def assign_unknown_label(labels, classes=CLASSES):\n",
    "    new_labels = []\n",
    "    for label in labels:\n",
    "        if label not in classes:\n",
    "            new_labels.append('unknown')\n",
    "        else:\n",
    "            new_labels.append(label)\n",
    "    return new_labels\n",
    "\n",
    "def encode_labels(labels):\n",
    "    return pd.get_dummies(pd.Series(labels))"
   ]
  },
  {
   "cell_type": "code",
   "execution_count": 6,
   "id": "5733564b",
   "metadata": {
    "ExecuteTime": {
     "end_time": "2022-05-07T12:20:32.037201Z",
     "start_time": "2022-05-07T12:20:32.015259Z"
    }
   },
   "outputs": [],
   "source": [
    "# data preprocessing and plots\n",
    "def specgram(audio, sample_rate, window_size=20, step_size=10, eps=1e-10):\n",
    "    nperseg = int(round(window_size * sample_rate / 1e3))\n",
    "    noverlap = int(round(step_size * sample_rate / 1e3))\n",
    "    _, _, spec = signal.spectrogram(audio,\n",
    "                                    fs=sample_rate,\n",
    "                                    window='hann',\n",
    "                                    nperseg=nperseg,\n",
    "                                    noverlap=noverlap,\n",
    "                                    detrend=False)\n",
    "    return np.log(spec.T.astype(np.float32) + eps)\n",
    "\n",
    "\n",
    "def plot_model_history(history, title: str) -> None:\n",
    "    \"\"\"\n",
    "    Plotting the learning curve of Keras model, broken down into loss curve and accuracy curve, \n",
    "    for both training and validation data.\n",
    "\n",
    "    Args:\n",
    "        history : Object returned by the .fit method of Keras model.\n",
    "        title (str): Title of the plots.\n",
    "    \"\"\"\n",
    "    fig, axs = plt.subplots(1,2,figsize=(15,5)) \n",
    "\n",
    "    axs[0].plot(history.history['accuracy']) \n",
    "    axs[0].plot(history.history['val_accuracy']) \n",
    "    axs[0].set_title('Model Accuracy')\n",
    "    axs[0].set_ylabel('Accuracy') \n",
    "    axs[0].set_xlabel('Epoch')\n",
    "    axs[0].legend(['train', 'validate'], loc='upper left')\n",
    "\n",
    "    axs[1].plot(history.history['loss']) \n",
    "    axs[1].plot(history.history['val_loss']) \n",
    "    axs[1].set_title('Model Loss')\n",
    "    axs[1].set_ylabel('Loss') \n",
    "    axs[1].set_xlabel('Epoch')\n",
    "    axs[1].legend(['train', 'validate'], loc='upper left')\n",
    "    fig.suptitle(title, size=15)\n",
    "    plt.show()"
   ]
  },
  {
   "cell_type": "code",
   "execution_count": 7,
   "id": "b46539ed",
   "metadata": {
    "ExecuteTime": {
     "end_time": "2022-05-07T12:20:32.131949Z",
     "start_time": "2022-05-07T12:20:32.107014Z"
    }
   },
   "outputs": [],
   "source": [
    "# model framework\n",
    "def rnn_network(input_dim, output_dim, rnn_layer, optimizer):\n",
    "\n",
    "    input_data = Input(name='input', shape=input_dim, dtype='float32')\n",
    "\n",
    "    x = Conv1D(filters=256, kernel_size=10, strides=4, name='conv1d')(input_data)\n",
    "    x = BatchNormalization(name='b_norm')(x)\n",
    "    x = Activation('relu', name='activation')(x)\n",
    "    x = Dropout(DROPOUT, name='dropout_1')(x)\n",
    "    x = rnn_layer(128, activation='relu', return_sequences=False, dropout=DROPOUT, name='rnn_1')(x)\n",
    "    x = Dense(units=64, activation='relu', name='dense')(x)\n",
    "    x = Dropout(DROPOUT, name='dropout_2')(x)\n",
    "\n",
    "    output_data = Dense(units=output_dim, activation='softmax', name='softmax')(x)\n",
    "\n",
    "    model = Model(inputs=input_data, outputs=output_data, name=str(rnn_layer).split(\".\")[-1].split(\"'\")[0])\n",
    "    model.compile(loss='categorical_crossentropy', optimizer=optimizer, metrics=['accuracy'])\n",
    "\n",
    "    return model"
   ]
  },
  {
   "cell_type": "code",
   "execution_count": 8,
   "id": "a196fc1d",
   "metadata": {
    "ExecuteTime": {
     "end_time": "2022-05-07T12:20:32.318751Z",
     "start_time": "2022-05-07T12:20:32.297809Z"
    }
   },
   "outputs": [],
   "source": [
    "def plot_heatmaps(models_results: list, title: str) -> None:\n",
    "    \"\"\"\n",
    "    Plot heatmaps based on the confusion matrices of given models.\n",
    "\n",
    "    Args:\n",
    "        models_results (list): List of confusion matrices of the evaluated models.\n",
    "        title (str): Title of the plots.\n",
    "    \"\"\"\n",
    "    fig, axes = plt.subplots(1,3,figsize=(18,6))\n",
    "    models = ['SimpleRNN', 'LSTM', 'GRU']\n",
    "    for i in range(3):\n",
    "        sns.heatmap(models_results[i], center=0.9, annot=True, cmap=\"cividis\", linewidths=1, linecolor='black', ax=axes[i], annot_kws={\"size\": 12})\n",
    "        axes[i].set_title(models[i], size=15)\n",
    "        cax = plt.gcf().axes[-1]\n",
    "        cax.tick_params(labelsize=12)\n",
    "\n",
    "    fig.suptitle(title, size=18)\n",
    "    plt.tight_layout()\n",
    "    plt.show()\n",
    "    \n",
    "def plot_confusion_matr(models_results: list, title: str) -> None:\n",
    "    \"\"\"\n",
    "    Plot heatmaps based on the confusion matrices of given models.\n",
    "\n",
    "    Args:\n",
    "        models_results (list): List of confusion matrices of the evaluated models.\n",
    "        title (str): Title of the plots.\n",
    "    \"\"\"\n",
    "    fig, axes = plt.subplots(1,3,figsize=(18,6))\n",
    "    models = ['SimpleRNN', 'LSTM', 'GRU']\n",
    "    for i in range(3):\n",
    "        sns.heatmap(models_results[i], annot=True, cmap=\"Blues\", linewidths=1, linecolor='black', ax=axes[i], fmt='d', annot_kws={\"size\": 12})\n",
    "        axes[i].set_title(models[i], size=15)\n",
    "        axes[i].set_xticklabels(axes[i].get_xmajorticklabels(), fontsize = 12)\n",
    "        axes[i].set_yticklabels(axes[i].get_xmajorticklabels(), fontsize = 12)\n",
    "        cax = plt.gcf().axes[-1]\n",
    "        cax.tick_params(labelsize=12)\n",
    "\n",
    "    fig.suptitle(title, size=18)\n",
    "    plt.tight_layout()\n",
    "    plt.show()"
   ]
  },
  {
   "cell_type": "markdown",
   "id": "ed72d5e9",
   "metadata": {},
   "source": [
    "# <span style='font-family:Georgia'> 1. Data loading & preparation"
   ]
  },
  {
   "cell_type": "markdown",
   "id": "6eb3636c",
   "metadata": {},
   "source": [
    "## <span style='font-family:Georgia'> 1.1. Noisy data loading"
   ]
  },
  {
   "cell_type": "code",
   "execution_count": 9,
   "id": "9eb8c4e4",
   "metadata": {
    "ExecuteTime": {
     "end_time": "2022-05-07T12:20:33.703841Z",
     "start_time": "2022-05-07T12:20:32.929156Z"
    }
   },
   "outputs": [
    {
     "data": {
      "application/vnd.jupyter.widget-view+json": {
       "model_id": "a2eaeaa89c8d4401ad316315b0049045",
       "version_major": 2,
       "version_minor": 0
      },
      "text/plain": [
       "  0%|          | 0/6 [00:00<?, ?it/s]"
      ]
     },
     "metadata": {},
     "output_type": "display_data"
    }
   ],
   "source": [
    "label = '_background_noise_'\n",
    "files = [f for f in os.listdir(data_path + '/'+ label) if f.endswith('.wav')]\n",
    "one_sec_background_noise_specgrams = []\n",
    "\n",
    "for file in tqdm(files):\n",
    "    _, samples = wavfile.read(data_path + \"/\" + label + \"/\" + file)\n",
    "    duration = float(len(samples)/SAMPLING_RATE)\n",
    "\n",
    "    # Do not distinguish between noise classes\n",
    "    one_sec_background_noise = split_audio(\n",
    "            sample_rate=SAMPLING_RATE, samples=samples\n",
    "        )\n",
    "    \n",
    "    for item in one_sec_background_noise:\n",
    "        duration = float(len(item)/SAMPLING_RATE)\n",
    "        if duration < 1: item = pad_audio(item)        \n",
    "        \n",
    "        one_sec_background_noise_specgrams.append(\n",
    "            specgram(item, SAMPLING_RATE)\n",
    "        )"
   ]
  },
  {
   "cell_type": "markdown",
   "id": "7b6aec04",
   "metadata": {},
   "source": [
    "## <span style='font-family:Georgia'> 1.2. Noise-free data loading"
   ]
  },
  {
   "cell_type": "code",
   "execution_count": 10,
   "id": "6ec2f8a3",
   "metadata": {
    "ExecuteTime": {
     "end_time": "2022-05-07T12:20:35.482374Z",
     "start_time": "2022-05-07T12:20:35.423530Z"
    }
   },
   "outputs": [],
   "source": [
    "validation_list = pd.read_csv('../../../data/train/validation_list.txt', sep=\"\\t\", header=None)[0].tolist()\n",
    "testing_list = pd.read_csv('../../../data/train/testing_list.txt', sep=\"\\t\", header=None)[0].tolist()"
   ]
  },
  {
   "cell_type": "code",
   "execution_count": 11,
   "id": "9c70ae40",
   "metadata": {
    "ExecuteTime": {
     "end_time": "2022-05-07T12:20:35.614726Z",
     "start_time": "2022-05-07T12:20:35.594291Z"
    }
   },
   "outputs": [
    {
     "name": "stdout",
     "output_type": "stream",
     "text": [
      "Training:  51088\n",
      "Validation:  6798\n",
      "Testing:  6835\n"
     ]
    }
   ],
   "source": [
    "print('Training: ', 64721 - len(validation_list) - len(testing_list))\n",
    "print('Validation: ', len(validation_list))\n",
    "print('Testing: ', len(testing_list))"
   ]
  },
  {
   "cell_type": "code",
   "execution_count": 12,
   "id": "006bce66",
   "metadata": {
    "ExecuteTime": {
     "end_time": "2022-05-07T12:56:50.797432Z",
     "start_time": "2022-05-07T12:20:35.750142Z"
    }
   },
   "outputs": [
    {
     "data": {
      "application/vnd.jupyter.widget-view+json": {
       "model_id": "0d284534315c4961af5c161b33331a4c",
       "version_major": 2,
       "version_minor": 0
      },
      "text/plain": [
       "  0%|          | 0/30 [00:00<?, ?it/s]"
      ]
     },
     "metadata": {},
     "output_type": "display_data"
    },
    {
     "data": {
      "application/vnd.jupyter.widget-view+json": {
       "model_id": "8c37daeb96114ddb9fd807685cacc496",
       "version_major": 2,
       "version_minor": 0
      },
      "text/plain": [
       "  0%|          | 0/1713 [00:00<?, ?it/s]"
      ]
     },
     "metadata": {},
     "output_type": "display_data"
    },
    {
     "data": {
      "application/vnd.jupyter.widget-view+json": {
       "model_id": "c4455af49f7646d2bf2c0c0878a83639",
       "version_major": 2,
       "version_minor": 0
      },
      "text/plain": [
       "  0%|          | 0/1731 [00:00<?, ?it/s]"
      ]
     },
     "metadata": {},
     "output_type": "display_data"
    },
    {
     "data": {
      "application/vnd.jupyter.widget-view+json": {
       "model_id": "900dc5bb07bc474b934281d1f95f3828",
       "version_major": 2,
       "version_minor": 0
      },
      "text/plain": [
       "  0%|          | 0/1733 [00:00<?, ?it/s]"
      ]
     },
     "metadata": {},
     "output_type": "display_data"
    },
    {
     "data": {
      "application/vnd.jupyter.widget-view+json": {
       "model_id": "7e94c2febbaf4c74802997be0f83083f",
       "version_major": 2,
       "version_minor": 0
      },
      "text/plain": [
       "  0%|          | 0/1746 [00:00<?, ?it/s]"
      ]
     },
     "metadata": {},
     "output_type": "display_data"
    },
    {
     "data": {
      "application/vnd.jupyter.widget-view+json": {
       "model_id": "968a93977d2d4d0da9489a1f53e21a00",
       "version_major": 2,
       "version_minor": 0
      },
      "text/plain": [
       "  0%|          | 0/2359 [00:00<?, ?it/s]"
      ]
     },
     "metadata": {},
     "output_type": "display_data"
    },
    {
     "data": {
      "application/vnd.jupyter.widget-view+json": {
       "model_id": "e72e139ce4d742bdb08f06bdd583ee4d",
       "version_major": 2,
       "version_minor": 0
      },
      "text/plain": [
       "  0%|          | 0/2352 [00:00<?, ?it/s]"
      ]
     },
     "metadata": {},
     "output_type": "display_data"
    },
    {
     "data": {
      "application/vnd.jupyter.widget-view+json": {
       "model_id": "a7ecfc89096044159233927092d8f8a2",
       "version_major": 2,
       "version_minor": 0
      },
      "text/plain": [
       "  0%|          | 0/2357 [00:00<?, ?it/s]"
      ]
     },
     "metadata": {},
     "output_type": "display_data"
    },
    {
     "data": {
      "application/vnd.jupyter.widget-view+json": {
       "model_id": "e75c640a4c894516aee30dc43c030adf",
       "version_major": 2,
       "version_minor": 0
      },
      "text/plain": [
       "  0%|          | 0/2372 [00:00<?, ?it/s]"
      ]
     },
     "metadata": {},
     "output_type": "display_data"
    },
    {
     "data": {
      "application/vnd.jupyter.widget-view+json": {
       "model_id": "996d22c5ac5e48d2994d242e06abd3b1",
       "version_major": 2,
       "version_minor": 0
      },
      "text/plain": [
       "  0%|          | 0/2372 [00:00<?, ?it/s]"
      ]
     },
     "metadata": {},
     "output_type": "display_data"
    },
    {
     "data": {
      "application/vnd.jupyter.widget-view+json": {
       "model_id": "01e299c2b8254539bc31d26733825c8b",
       "version_major": 2,
       "version_minor": 0
      },
      "text/plain": [
       "  0%|          | 0/1742 [00:00<?, ?it/s]"
      ]
     },
     "metadata": {},
     "output_type": "display_data"
    },
    {
     "data": {
      "application/vnd.jupyter.widget-view+json": {
       "model_id": "b12e44c606564241a433775633050220",
       "version_major": 2,
       "version_minor": 0
      },
      "text/plain": [
       "  0%|          | 0/1750 [00:00<?, ?it/s]"
      ]
     },
     "metadata": {},
     "output_type": "display_data"
    },
    {
     "data": {
      "application/vnd.jupyter.widget-view+json": {
       "model_id": "110c425853b14eaf9afb8900fe3287dd",
       "version_major": 2,
       "version_minor": 0
      },
      "text/plain": [
       "  0%|          | 0/2353 [00:00<?, ?it/s]"
      ]
     },
     "metadata": {},
     "output_type": "display_data"
    },
    {
     "data": {
      "application/vnd.jupyter.widget-view+json": {
       "model_id": "dedc55a0c202437b82bede45dd3c27d5",
       "version_major": 2,
       "version_minor": 0
      },
      "text/plain": [
       "  0%|          | 0/1746 [00:00<?, ?it/s]"
      ]
     },
     "metadata": {},
     "output_type": "display_data"
    },
    {
     "data": {
      "application/vnd.jupyter.widget-view+json": {
       "model_id": "296cbd7b8afb40f6a2c21eed2cb228ae",
       "version_major": 2,
       "version_minor": 0
      },
      "text/plain": [
       "  0%|          | 0/2364 [00:00<?, ?it/s]"
      ]
     },
     "metadata": {},
     "output_type": "display_data"
    },
    {
     "data": {
      "application/vnd.jupyter.widget-view+json": {
       "model_id": "c50f23ef67274d3192feb63d3bcc1e88",
       "version_major": 2,
       "version_minor": 0
      },
      "text/plain": [
       "  0%|          | 0/2375 [00:00<?, ?it/s]"
      ]
     },
     "metadata": {},
     "output_type": "display_data"
    },
    {
     "data": {
      "application/vnd.jupyter.widget-view+json": {
       "model_id": "ed16861918d9453b8dfa2db5a3e6d87b",
       "version_major": 2,
       "version_minor": 0
      },
      "text/plain": [
       "  0%|          | 0/2357 [00:00<?, ?it/s]"
      ]
     },
     "metadata": {},
     "output_type": "display_data"
    },
    {
     "data": {
      "application/vnd.jupyter.widget-view+json": {
       "model_id": "c5af9bb4dc9442f687df84df8c3dc9ab",
       "version_major": 2,
       "version_minor": 0
      },
      "text/plain": [
       "  0%|          | 0/2367 [00:00<?, ?it/s]"
      ]
     },
     "metadata": {},
     "output_type": "display_data"
    },
    {
     "data": {
      "application/vnd.jupyter.widget-view+json": {
       "model_id": "72bba596369a4e31bb697868a939c1df",
       "version_major": 2,
       "version_minor": 0
      },
      "text/plain": [
       "  0%|          | 0/2370 [00:00<?, ?it/s]"
      ]
     },
     "metadata": {},
     "output_type": "display_data"
    },
    {
     "data": {
      "application/vnd.jupyter.widget-view+json": {
       "model_id": "6d45543356264f3da55ddae2bef3ae89",
       "version_major": 2,
       "version_minor": 0
      },
      "text/plain": [
       "  0%|          | 0/2367 [00:00<?, ?it/s]"
      ]
     },
     "metadata": {},
     "output_type": "display_data"
    },
    {
     "data": {
      "application/vnd.jupyter.widget-view+json": {
       "model_id": "2e8edec9f96a41d7aef1867ce8ec9036",
       "version_major": 2,
       "version_minor": 0
      },
      "text/plain": [
       "  0%|          | 0/2377 [00:00<?, ?it/s]"
      ]
     },
     "metadata": {},
     "output_type": "display_data"
    },
    {
     "data": {
      "application/vnd.jupyter.widget-view+json": {
       "model_id": "0ba9233725534f4ea01b12cdba98fdb1",
       "version_major": 2,
       "version_minor": 0
      },
      "text/plain": [
       "  0%|          | 0/1734 [00:00<?, ?it/s]"
      ]
     },
     "metadata": {},
     "output_type": "display_data"
    },
    {
     "data": {
      "application/vnd.jupyter.widget-view+json": {
       "model_id": "f97f3a6fc00c426587a6decc99cc1dd6",
       "version_major": 2,
       "version_minor": 0
      },
      "text/plain": [
       "  0%|          | 0/2369 [00:00<?, ?it/s]"
      ]
     },
     "metadata": {},
     "output_type": "display_data"
    },
    {
     "data": {
      "application/vnd.jupyter.widget-view+json": {
       "model_id": "9862174ea3314b91bf82c30b99ae3247",
       "version_major": 2,
       "version_minor": 0
      },
      "text/plain": [
       "  0%|          | 0/2380 [00:00<?, ?it/s]"
      ]
     },
     "metadata": {},
     "output_type": "display_data"
    },
    {
     "data": {
      "application/vnd.jupyter.widget-view+json": {
       "model_id": "ca021605a4b849fcb98f06aca8df1bfa",
       "version_major": 2,
       "version_minor": 0
      },
      "text/plain": [
       "  0%|          | 0/2356 [00:00<?, ?it/s]"
      ]
     },
     "metadata": {},
     "output_type": "display_data"
    },
    {
     "data": {
      "application/vnd.jupyter.widget-view+json": {
       "model_id": "838ee5815d23495fa74441c7c4f6484e",
       "version_major": 2,
       "version_minor": 0
      },
      "text/plain": [
       "  0%|          | 0/1733 [00:00<?, ?it/s]"
      ]
     },
     "metadata": {},
     "output_type": "display_data"
    },
    {
     "data": {
      "application/vnd.jupyter.widget-view+json": {
       "model_id": "730a83c196404c95bdfb79e6e9ce7e81",
       "version_major": 2,
       "version_minor": 0
      },
      "text/plain": [
       "  0%|          | 0/2373 [00:00<?, ?it/s]"
      ]
     },
     "metadata": {},
     "output_type": "display_data"
    },
    {
     "data": {
      "application/vnd.jupyter.widget-view+json": {
       "model_id": "b2f382d33e4347108b449fa5f8638c4b",
       "version_major": 2,
       "version_minor": 0
      },
      "text/plain": [
       "  0%|          | 0/2375 [00:00<?, ?it/s]"
      ]
     },
     "metadata": {},
     "output_type": "display_data"
    },
    {
     "data": {
      "application/vnd.jupyter.widget-view+json": {
       "model_id": "1367679370d74a0aaef70628baf4c4b6",
       "version_major": 2,
       "version_minor": 0
      },
      "text/plain": [
       "  0%|          | 0/1745 [00:00<?, ?it/s]"
      ]
     },
     "metadata": {},
     "output_type": "display_data"
    },
    {
     "data": {
      "application/vnd.jupyter.widget-view+json": {
       "model_id": "3abd878807764ce8816f6c237d18f4db",
       "version_major": 2,
       "version_minor": 0
      },
      "text/plain": [
       "  0%|          | 0/2377 [00:00<?, ?it/s]"
      ]
     },
     "metadata": {},
     "output_type": "display_data"
    },
    {
     "data": {
      "application/vnd.jupyter.widget-view+json": {
       "model_id": "303a942cddf2473c8cb3b5270b249ea7",
       "version_major": 2,
       "version_minor": 0
      },
      "text/plain": [
       "  0%|          | 0/2376 [00:00<?, ?it/s]"
      ]
     },
     "metadata": {},
     "output_type": "display_data"
    }
   ],
   "source": [
    "train_labels = []\n",
    "train_specgrams = []\n",
    "val_labels = []\n",
    "val_specgrams = []\n",
    "test_labels = []\n",
    "test_specgrams = []\n",
    "\n",
    "for label in tqdm([l for l in labels if l != '_background_noise_']):\n",
    "\n",
    "    files = [f for f in os.listdir(data_path + '/'+ label) if f.endswith('.wav')]\n",
    "    \n",
    "    for file in tqdm(files):\n",
    "        _, samples = wavfile.read(data_path + \"/\" + label + \"/\" + file)\n",
    "        duration = float(len(samples)/SAMPLING_RATE)\n",
    "                \n",
    "        if duration < 1: samples = pad_audio(samples)\n",
    "            \n",
    "        if (label + \"/\" + file) in validation_list: \n",
    "            val_labels.append(label)\n",
    "            val_specgrams.append(specgram(samples, SAMPLING_RATE))\n",
    "        elif (label + \"/\" + file) in testing_list: \n",
    "            test_labels.append(label)\n",
    "            test_specgrams.append(specgram(samples, SAMPLING_RATE))\n",
    "        else:\n",
    "            train_labels.append(label)\n",
    "            train_specgrams.append(specgram(samples, SAMPLING_RATE))"
   ]
  },
  {
   "cell_type": "markdown",
   "id": "f7aff870",
   "metadata": {},
   "source": [
    "## <span style='font-family:Georgia'> 1.3. Data labeling"
   ]
  },
  {
   "cell_type": "markdown",
   "id": "8a960c2e",
   "metadata": {},
   "source": [
    "### <span style='font-family:Georgia'> 1.3.1. Noise-free data split (for hyperparameters tuning)"
   ]
  },
  {
   "cell_type": "code",
   "execution_count": 13,
   "id": "8a049be4",
   "metadata": {
    "ExecuteTime": {
     "end_time": "2022-05-07T12:57:30.707706Z",
     "start_time": "2022-05-07T12:56:50.800427Z"
    }
   },
   "outputs": [],
   "source": [
    "X_train = np.array(train_specgrams)\n",
    "X_val = np.array(val_specgrams)\n",
    "X_test = np.array(test_specgrams)\n",
    "\n",
    "Y_train = assign_unknown_label(train_labels)\n",
    "Y_val = assign_unknown_label(val_labels)\n",
    "Y_test = assign_unknown_label(test_labels)\n",
    "\n",
    "Y_train = np.array(encode_labels(Y_train).values)\n",
    "Y_val = np.array(encode_labels(Y_val).values)\n",
    "Y_test = np.array(encode_labels(Y_test).values)"
   ]
  },
  {
   "cell_type": "markdown",
   "id": "5f68893e",
   "metadata": {},
   "source": [
    "### <span style='font-family:Georgia'> 1.3.2. Approach 1 - taking `background_noise` observations as separate `silence` class"
   ]
  },
  {
   "cell_type": "code",
   "execution_count": 14,
   "id": "e0360d3b",
   "metadata": {
    "ExecuteTime": {
     "end_time": "2022-05-07T12:57:31.036172Z",
     "start_time": "2022-05-07T12:57:30.715685Z"
    }
   },
   "outputs": [],
   "source": [
    "# Split noise into 3 disjoint subsets (train, valid & test sets)\n",
    "N = 64721\n",
    "valid_ratio = np.round(len(validation_list)/N, 2)\n",
    "test_ratio = np.round(len(testing_list)/N, 2)\n",
    "train_ratio = 1 - (valid_ratio+test_ratio)\n",
    "\n",
    "sets_list = [\"train\", \"val\", \"test\"]\n",
    "obs_split = np.array(random.choices(sets_list, weights=(train_ratio, valid_ratio, test_ratio), k=N))\n",
    "train_mask, val_mask, test_mask = obs_split == \"train\", obs_split == \"val\", obs_split == \"test\""
   ]
  },
  {
   "cell_type": "code",
   "execution_count": 15,
   "id": "b3001513",
   "metadata": {
    "ExecuteTime": {
     "end_time": "2022-05-07T12:57:31.083663Z",
     "start_time": "2022-05-07T12:57:31.039673Z"
    }
   },
   "outputs": [
    {
     "name": "stdout",
     "output_type": "stream",
     "text": [
      "Number of observations assigned to train set: 303\n",
      "Number of observations assigned to validation set: 48\n",
      "Number of observations assigned to test set: 51\n"
     ]
    }
   ],
   "source": [
    "train_noise = list(compress(one_sec_background_noise_specgrams, train_mask))\n",
    "print(f'Number of observations assigned to train set: {len(train_noise)}')\n",
    "\n",
    "val_noise = list(compress(one_sec_background_noise_specgrams, val_mask))\n",
    "print(f'Number of observations assigned to validation set: {len(val_noise)}')\n",
    "\n",
    "test_noise = list(compress(one_sec_background_noise_specgrams, test_mask))\n",
    "print(f'Number of observations assigned to test set: {len(test_noise)}')"
   ]
  },
  {
   "cell_type": "code",
   "execution_count": 16,
   "id": "cc35b15d",
   "metadata": {
    "ExecuteTime": {
     "end_time": "2022-05-07T12:57:31.114746Z",
     "start_time": "2022-05-07T12:57:31.086178Z"
    }
   },
   "outputs": [],
   "source": [
    "train_specgrams_1 = train_specgrams + train_noise\n",
    "train_labels_1 = train_labels + ['silence' for i in range(len(train_noise))]\n",
    "\n",
    "val_specgrams_1 = val_specgrams + val_noise\n",
    "val_labels_1 = val_labels + ['silence' for i in range(len(val_noise))]\n",
    "\n",
    "test_specgrams_1 = test_specgrams + test_noise\n",
    "test_labels_1 = test_labels + ['silence' for i in range(len(test_noise))]"
   ]
  },
  {
   "cell_type": "code",
   "execution_count": 17,
   "id": "74b75257",
   "metadata": {
    "ExecuteTime": {
     "end_time": "2022-05-07T12:58:00.240024Z",
     "start_time": "2022-05-07T12:57:31.117738Z"
    }
   },
   "outputs": [
    {
     "name": "stdout",
     "output_type": "stream",
     "text": [
      "(51391, 99, 161)\n",
      "(6846, 99, 161)\n",
      "(6886, 99, 161)\n"
     ]
    }
   ],
   "source": [
    "x_train_1 = np.array(train_specgrams_1)\n",
    "print(x_train_1.shape)\n",
    "\n",
    "x_val_1 = np.array(val_specgrams_1)\n",
    "print(x_val_1.shape)\n",
    "\n",
    "x_test_1 = np.array(test_specgrams_1)\n",
    "print(x_test_1.shape)"
   ]
  },
  {
   "cell_type": "code",
   "execution_count": 18,
   "id": "86b225be",
   "metadata": {
    "ExecuteTime": {
     "end_time": "2022-05-07T12:58:03.580484Z",
     "start_time": "2022-05-07T12:58:00.342355Z"
    }
   },
   "outputs": [
    {
     "name": "stdout",
     "output_type": "stream",
     "text": [
      "['down' 'go' 'left' 'no' 'off' 'on' 'right' 'silence' 'stop' 'unknown'\n",
      " 'up' 'yes']\n",
      "['down' 'go' 'left' 'no' 'off' 'on' 'right' 'silence' 'stop' 'unknown'\n",
      " 'up' 'yes']\n",
      "['down' 'go' 'left' 'no' 'off' 'on' 'right' 'silence' 'stop' 'unknown'\n",
      " 'up' 'yes']\n"
     ]
    }
   ],
   "source": [
    "classes=CLASSES+['silence']\n",
    "\n",
    "y_train_1 = assign_unknown_label(train_labels_1, classes=classes)\n",
    "print(np.unique(y_train_1))\n",
    "\n",
    "y_val_1 = assign_unknown_label(val_labels_1, classes=classes)\n",
    "print(np.unique(y_val_1))\n",
    "\n",
    "y_test_1 = assign_unknown_label(test_labels_1, classes=classes)\n",
    "print(np.unique(y_test_1))"
   ]
  },
  {
   "cell_type": "code",
   "execution_count": 19,
   "id": "fe4f9ab0",
   "metadata": {
    "ExecuteTime": {
     "end_time": "2022-05-07T12:58:06.160458Z",
     "start_time": "2022-05-07T12:58:03.589460Z"
    }
   },
   "outputs": [
    {
     "data": {
      "text/plain": [
       "246"
      ]
     },
     "execution_count": 19,
     "metadata": {},
     "output_type": "execute_result"
    }
   ],
   "source": [
    "del train_specgrams_1, val_specgrams_1, test_specgrams_1\n",
    "del train_labels_1, val_labels_1, test_labels_1\n",
    "gc.collect()"
   ]
  },
  {
   "cell_type": "code",
   "execution_count": 20,
   "id": "049945e8",
   "metadata": {
    "ExecuteTime": {
     "end_time": "2022-05-07T12:58:06.359435Z",
     "start_time": "2022-05-07T12:58:06.165446Z"
    }
   },
   "outputs": [],
   "source": [
    "# Labels encoding\n",
    "y_train_1 = np.array(encode_labels(y_train_1).values)\n",
    "y_val_1 = np.array(encode_labels(y_val_1).values)\n",
    "y_test_1 = np.array(encode_labels(y_test_1).values)"
   ]
  },
  {
   "cell_type": "markdown",
   "id": "0703d383",
   "metadata": {},
   "source": [
    "### <span style='font-family:Georgia'> 1.3.2. Approach 2 - noising the training subset(s) with the 'background_noise' class observations"
   ]
  },
  {
   "cell_type": "code",
   "execution_count": 21,
   "id": "2edab460",
   "metadata": {
    "ExecuteTime": {
     "end_time": "2022-05-07T12:58:06.697550Z",
     "start_time": "2022-05-07T12:58:06.362428Z"
    }
   },
   "outputs": [
    {
     "data": {
      "text/html": [
       "<div>\n",
       "<style scoped>\n",
       "    .dataframe tbody tr th:only-of-type {\n",
       "        vertical-align: middle;\n",
       "    }\n",
       "\n",
       "    .dataframe tbody tr th {\n",
       "        vertical-align: top;\n",
       "    }\n",
       "\n",
       "    .dataframe thead th {\n",
       "        text-align: right;\n",
       "    }\n",
       "</style>\n",
       "<table border=\"1\" class=\"dataframe\">\n",
       "  <thead>\n",
       "    <tr style=\"text-align: right;\">\n",
       "      <th></th>\n",
       "      <th>obs_cnt</th>\n",
       "      <th>noise_cnt</th>\n",
       "      <th>noise_ratio</th>\n",
       "    </tr>\n",
       "  </thead>\n",
       "  <tbody>\n",
       "    <tr>\n",
       "      <th>one</th>\n",
       "      <td>1892</td>\n",
       "      <td>204</td>\n",
       "      <td>0.107822</td>\n",
       "    </tr>\n",
       "    <tr>\n",
       "      <th>stop</th>\n",
       "      <td>1885</td>\n",
       "      <td>185</td>\n",
       "      <td>0.098143</td>\n",
       "    </tr>\n",
       "    <tr>\n",
       "      <th>seven</th>\n",
       "      <td>1875</td>\n",
       "      <td>173</td>\n",
       "      <td>0.092267</td>\n",
       "    </tr>\n",
       "    <tr>\n",
       "      <th>nine</th>\n",
       "      <td>1875</td>\n",
       "      <td>170</td>\n",
       "      <td>0.090667</td>\n",
       "    </tr>\n",
       "    <tr>\n",
       "      <th>two</th>\n",
       "      <td>1873</td>\n",
       "      <td>167</td>\n",
       "      <td>0.089162</td>\n",
       "    </tr>\n",
       "    <tr>\n",
       "      <th>zero</th>\n",
       "      <td>1866</td>\n",
       "      <td>166</td>\n",
       "      <td>0.088960</td>\n",
       "    </tr>\n",
       "    <tr>\n",
       "      <th>on</th>\n",
       "      <td>1864</td>\n",
       "      <td>183</td>\n",
       "      <td>0.098176</td>\n",
       "    </tr>\n",
       "    <tr>\n",
       "      <th>six</th>\n",
       "      <td>1863</td>\n",
       "      <td>181</td>\n",
       "      <td>0.097155</td>\n",
       "    </tr>\n",
       "    <tr>\n",
       "      <th>go</th>\n",
       "      <td>1861</td>\n",
       "      <td>163</td>\n",
       "      <td>0.087587</td>\n",
       "    </tr>\n",
       "    <tr>\n",
       "      <th>yes</th>\n",
       "      <td>1860</td>\n",
       "      <td>191</td>\n",
       "      <td>0.102688</td>\n",
       "    </tr>\n",
       "    <tr>\n",
       "      <th>no</th>\n",
       "      <td>1853</td>\n",
       "      <td>177</td>\n",
       "      <td>0.095521</td>\n",
       "    </tr>\n",
       "    <tr>\n",
       "      <th>eight</th>\n",
       "      <td>1852</td>\n",
       "      <td>180</td>\n",
       "      <td>0.097192</td>\n",
       "    </tr>\n",
       "    <tr>\n",
       "      <th>right</th>\n",
       "      <td>1852</td>\n",
       "      <td>201</td>\n",
       "      <td>0.108531</td>\n",
       "    </tr>\n",
       "    <tr>\n",
       "      <th>five</th>\n",
       "      <td>1844</td>\n",
       "      <td>183</td>\n",
       "      <td>0.099241</td>\n",
       "    </tr>\n",
       "    <tr>\n",
       "      <th>up</th>\n",
       "      <td>1843</td>\n",
       "      <td>175</td>\n",
       "      <td>0.094954</td>\n",
       "    </tr>\n",
       "    <tr>\n",
       "      <th>down</th>\n",
       "      <td>1842</td>\n",
       "      <td>189</td>\n",
       "      <td>0.102606</td>\n",
       "    </tr>\n",
       "    <tr>\n",
       "      <th>three</th>\n",
       "      <td>1841</td>\n",
       "      <td>173</td>\n",
       "      <td>0.093971</td>\n",
       "    </tr>\n",
       "    <tr>\n",
       "      <th>left</th>\n",
       "      <td>1839</td>\n",
       "      <td>174</td>\n",
       "      <td>0.094617</td>\n",
       "    </tr>\n",
       "    <tr>\n",
       "      <th>four</th>\n",
       "      <td>1839</td>\n",
       "      <td>213</td>\n",
       "      <td>0.115824</td>\n",
       "    </tr>\n",
       "    <tr>\n",
       "      <th>off</th>\n",
       "      <td>1839</td>\n",
       "      <td>207</td>\n",
       "      <td>0.112561</td>\n",
       "    </tr>\n",
       "    <tr>\n",
       "      <th>house</th>\n",
       "      <td>1427</td>\n",
       "      <td>127</td>\n",
       "      <td>0.088998</td>\n",
       "    </tr>\n",
       "    <tr>\n",
       "      <th>marvin</th>\n",
       "      <td>1424</td>\n",
       "      <td>149</td>\n",
       "      <td>0.104635</td>\n",
       "    </tr>\n",
       "    <tr>\n",
       "      <th>wow</th>\n",
       "      <td>1414</td>\n",
       "      <td>138</td>\n",
       "      <td>0.097595</td>\n",
       "    </tr>\n",
       "    <tr>\n",
       "      <th>bird</th>\n",
       "      <td>1411</td>\n",
       "      <td>154</td>\n",
       "      <td>0.109142</td>\n",
       "    </tr>\n",
       "    <tr>\n",
       "      <th>cat</th>\n",
       "      <td>1399</td>\n",
       "      <td>150</td>\n",
       "      <td>0.107219</td>\n",
       "    </tr>\n",
       "    <tr>\n",
       "      <th>dog</th>\n",
       "      <td>1396</td>\n",
       "      <td>140</td>\n",
       "      <td>0.100287</td>\n",
       "    </tr>\n",
       "    <tr>\n",
       "      <th>tree</th>\n",
       "      <td>1374</td>\n",
       "      <td>158</td>\n",
       "      <td>0.114993</td>\n",
       "    </tr>\n",
       "    <tr>\n",
       "      <th>happy</th>\n",
       "      <td>1373</td>\n",
       "      <td>133</td>\n",
       "      <td>0.096868</td>\n",
       "    </tr>\n",
       "    <tr>\n",
       "      <th>sheila</th>\n",
       "      <td>1372</td>\n",
       "      <td>153</td>\n",
       "      <td>0.111516</td>\n",
       "    </tr>\n",
       "    <tr>\n",
       "      <th>bed</th>\n",
       "      <td>1340</td>\n",
       "      <td>151</td>\n",
       "      <td>0.112687</td>\n",
       "    </tr>\n",
       "  </tbody>\n",
       "</table>\n",
       "</div>"
      ],
      "text/plain": [
       "        obs_cnt  noise_cnt  noise_ratio\n",
       "one        1892        204     0.107822\n",
       "stop       1885        185     0.098143\n",
       "seven      1875        173     0.092267\n",
       "nine       1875        170     0.090667\n",
       "two        1873        167     0.089162\n",
       "zero       1866        166     0.088960\n",
       "on         1864        183     0.098176\n",
       "six        1863        181     0.097155\n",
       "go         1861        163     0.087587\n",
       "yes        1860        191     0.102688\n",
       "no         1853        177     0.095521\n",
       "eight      1852        180     0.097192\n",
       "right      1852        201     0.108531\n",
       "five       1844        183     0.099241\n",
       "up         1843        175     0.094954\n",
       "down       1842        189     0.102606\n",
       "three      1841        173     0.093971\n",
       "left       1839        174     0.094617\n",
       "four       1839        213     0.115824\n",
       "off        1839        207     0.112561\n",
       "house      1427        127     0.088998\n",
       "marvin     1424        149     0.104635\n",
       "wow        1414        138     0.097595\n",
       "bird       1411        154     0.109142\n",
       "cat        1399        150     0.107219\n",
       "dog        1396        140     0.100287\n",
       "tree       1374        158     0.114993\n",
       "happy      1373        133     0.096868\n",
       "sheila     1372        153     0.111516\n",
       "bed        1340        151     0.112687"
      ]
     },
     "execution_count": 21,
     "metadata": {},
     "output_type": "execute_result"
    }
   ],
   "source": [
    "train_labels_summary = pd.Series(train_labels).value_counts()\n",
    "n = math.floor(NOISE_RATIO*train_labels_summary.sum())\n",
    "noised_labels = random.choices(train_labels, k=n)\n",
    "\n",
    "summary = pd.DataFrame(train_labels_summary, columns=[\"obs_cnt\"])\n",
    "summary[\"noise_cnt\"] = pd.Series(noised_labels).value_counts()\n",
    "summary[\"noise_ratio\"] = summary[\"noise_cnt\"] / summary[\"obs_cnt\"]\n",
    "summary"
   ]
  },
  {
   "cell_type": "code",
   "execution_count": 22,
   "id": "5527ab01",
   "metadata": {
    "ExecuteTime": {
     "end_time": "2022-05-07T12:58:06.713508Z",
     "start_time": "2022-05-07T12:58:06.700542Z"
    }
   },
   "outputs": [],
   "source": [
    "train_specgrams_2 = train_specgrams + random.choices(one_sec_background_noise_specgrams, k=n)\n",
    "train_labels_2 = train_labels + noised_labels"
   ]
  },
  {
   "cell_type": "code",
   "execution_count": 23,
   "id": "cb0baf74",
   "metadata": {
    "ExecuteTime": {
     "end_time": "2022-05-07T12:58:27.479988Z",
     "start_time": "2022-05-07T12:58:06.716500Z"
    }
   },
   "outputs": [
    {
     "name": "stdout",
     "output_type": "stream",
     "text": [
      "(56196, 99, 161)\n"
     ]
    }
   ],
   "source": [
    "x_train_2 = np.array(train_specgrams_2)\n",
    "print(x_train_2.shape)"
   ]
  },
  {
   "cell_type": "code",
   "execution_count": 24,
   "id": "a2075ba6",
   "metadata": {
    "ExecuteTime": {
     "end_time": "2022-05-07T12:58:27.638056Z",
     "start_time": "2022-05-07T12:58:27.481982Z"
    }
   },
   "outputs": [
    {
     "name": "stdout",
     "output_type": "stream",
     "text": [
      "['down' 'go' 'left' 'no' 'off' 'on' 'right' 'stop' 'unknown' 'up' 'yes']\n"
     ]
    }
   ],
   "source": [
    "y_train_2 = assign_unknown_label(train_labels_2)\n",
    "print(np.unique(y_train_2))"
   ]
  },
  {
   "cell_type": "code",
   "execution_count": 25,
   "id": "ff4eb1e3",
   "metadata": {
    "ExecuteTime": {
     "end_time": "2022-05-07T12:58:27.845383Z",
     "start_time": "2022-05-07T12:58:27.642046Z"
    }
   },
   "outputs": [],
   "source": [
    "# Labels encoding\n",
    "y_train_2 = np.array(encode_labels(y_train_2).values)"
   ]
  },
  {
   "cell_type": "code",
   "execution_count": 26,
   "id": "36a2eb99",
   "metadata": {
    "ExecuteTime": {
     "end_time": "2022-05-07T12:59:05.923359Z",
     "start_time": "2022-05-07T12:58:27.848376Z"
    }
   },
   "outputs": [
    {
     "data": {
      "text/plain": [
       "75"
      ]
     },
     "execution_count": 26,
     "metadata": {},
     "output_type": "execute_result"
    }
   ],
   "source": [
    "del train_specgrams_2, train_labels_2\n",
    "del train_specgrams, val_specgrams, test_specgrams\n",
    "del train_labels, val_labels, test_labels\n",
    "\n",
    "gc.collect()"
   ]
  },
  {
   "cell_type": "markdown",
   "id": "1305a760",
   "metadata": {},
   "source": [
    "# <span style='font-family:Georgia'> 2. Modeling"
   ]
  },
  {
   "cell_type": "code",
   "execution_count": 27,
   "id": "03900c85",
   "metadata": {
    "ExecuteTime": {
     "end_time": "2022-05-07T12:59:05.938828Z",
     "start_time": "2022-05-07T12:59:05.925869Z"
    }
   },
   "outputs": [],
   "source": [
    "MIN_DELTA=1e-3\n",
    "DROPOUT = 0.2"
   ]
  },
  {
   "cell_type": "markdown",
   "id": "93c0f192",
   "metadata": {},
   "source": [
    "## <span style='font-family:Georgia'> 2.1. Tuning hyperparameters"
   ]
  },
  {
   "cell_type": "markdown",
   "id": "5875e17b",
   "metadata": {},
   "source": [
    "### <span style='font-family:Georgia'> 2.1.1. Learning rate & batch size tuning"
   ]
  },
  {
   "cell_type": "code",
   "execution_count": 28,
   "id": "17f534ef",
   "metadata": {
    "ExecuteTime": {
     "end_time": "2022-05-07T12:59:05.954785Z",
     "start_time": "2022-05-07T12:59:05.940824Z"
    }
   },
   "outputs": [],
   "source": [
    "# hyperparameters set-up\n",
    "INPUT_DIM = (X_train.shape[1], X_train.shape[2])\n",
    "OUTPUT_DIM = Y_train.shape[1]\n",
    "\n",
    "Y_test_classes = np.argmax(Y_test, axis=1)\n",
    "\n",
    "ITER = 10\n",
    "EPOCHS = 50\n",
    "PATIENCE=int(EPOCHS/10)"
   ]
  },
  {
   "cell_type": "code",
   "execution_count": 29,
   "id": "b4fc8da4",
   "metadata": {
    "ExecuteTime": {
     "end_time": "2022-05-07T12:59:05.970743Z",
     "start_time": "2022-05-07T12:59:05.957778Z"
    }
   },
   "outputs": [],
   "source": [
    "learning_rate = [1e-5, 1e-4, 1e-3]\n",
    "batch_size = [128, 256]"
   ]
  },
  {
   "cell_type": "code",
   "execution_count": 30,
   "id": "b0d0cbf5",
   "metadata": {
    "ExecuteTime": {
     "end_time": "2022-05-07T12:59:05.986700Z",
     "start_time": "2022-05-07T12:59:05.972739Z"
    }
   },
   "outputs": [],
   "source": [
    "early_stop = EarlyStopping(monitor='val_accuracy', patience=PATIENCE, min_delta=MIN_DELTA)"
   ]
  },
  {
   "cell_type": "code",
   "execution_count": 31,
   "id": "bcfde49c",
   "metadata": {
    "ExecuteTime": {
     "end_time": "2022-05-08T02:08:49.312276Z",
     "start_time": "2022-05-07T12:59:05.989693Z"
    },
    "scrolled": false
   },
   "outputs": [
    {
     "data": {
      "application/vnd.jupyter.widget-view+json": {
       "model_id": "b2d536c779e84a81b51a9cae516d8d86",
       "version_major": 2,
       "version_minor": 0
      },
      "text/plain": [
       "  0%|          | 0/3 [00:00<?, ?it/s]"
      ]
     },
     "metadata": {},
     "output_type": "display_data"
    },
    {
     "data": {
      "application/vnd.jupyter.widget-view+json": {
       "model_id": "4248448e66254b1a8be3ed0d40af29d5",
       "version_major": 2,
       "version_minor": 0
      },
      "text/plain": [
       "  0%|          | 0/2 [00:00<?, ?it/s]"
      ]
     },
     "metadata": {},
     "output_type": "display_data"
    },
    {
     "name": "stdout",
     "output_type": "stream",
     "text": [
      "Epoch 1/50\n",
      "400/400 [==============================] - 74s 176ms/step - loss: 1.8040 - accuracy: 0.5461 - val_loss: 1.5524 - val_accuracy: 0.6209\n",
      "Epoch 2/50\n",
      "400/400 [==============================] - 68s 169ms/step - loss: 1.5823 - accuracy: 0.6314 - val_loss: 1.5022 - val_accuracy: 0.6208\n",
      "Epoch 3/50\n",
      "400/400 [==============================] - 67s 168ms/step - loss: 1.5255 - accuracy: 0.6335 - val_loss: 1.4638 - val_accuracy: 0.6208\n",
      "Epoch 4/50\n",
      "400/400 [==============================] - 59s 147ms/step - loss: 1.4684 - accuracy: 0.6321 - val_loss: 1.4262 - val_accuracy: 0.6208\n",
      "Epoch 5/50\n",
      "400/400 [==============================] - 69s 173ms/step - loss: 1.4291 - accuracy: 0.6322 - val_loss: 1.4023 - val_accuracy: 0.6208\n",
      "Epoch 6/50\n",
      "400/400 [==============================] - 71s 178ms/step - loss: 1.3957 - accuracy: 0.6322 - val_loss: 1.3638 - val_accuracy: 0.6214\n",
      "Epoch 1/50\n",
      "400/400 [==============================] - 102s 238ms/step - loss: 1.4917 - accuracy: 0.6168 - val_loss: 1.3801 - val_accuracy: 0.6221\n",
      "Epoch 2/50\n",
      "400/400 [==============================] - 97s 243ms/step - loss: 1.3214 - accuracy: 0.6346 - val_loss: 1.2497 - val_accuracy: 0.6243\n",
      "Epoch 3/50\n",
      "400/400 [==============================] - 94s 236ms/step - loss: 1.2424 - accuracy: 0.6381 - val_loss: 1.1465 - val_accuracy: 0.6411\n",
      "Epoch 4/50\n",
      "400/400 [==============================] - 97s 242ms/step - loss: 1.1648 - accuracy: 0.6497 - val_loss: 1.0568 - val_accuracy: 0.6595\n",
      "Epoch 5/50\n",
      "400/400 [==============================] - 93s 232ms/step - loss: 1.1001 - accuracy: 0.6609 - val_loss: 0.9768 - val_accuracy: 0.6756\n",
      "Epoch 6/50\n",
      "400/400 [==============================] - 98s 245ms/step - loss: 1.0297 - accuracy: 0.6744 - val_loss: 0.9043 - val_accuracy: 0.7074\n",
      "Epoch 7/50\n",
      "400/400 [==============================] - 102s 255ms/step - loss: 0.9731 - accuracy: 0.6923 - val_loss: 0.8363 - val_accuracy: 0.7280\n",
      "Epoch 8/50\n",
      "400/400 [==============================] - 99s 248ms/step - loss: 0.9288 - accuracy: 0.7045 - val_loss: 0.8023 - val_accuracy: 0.7380\n",
      "Epoch 9/50\n",
      "400/400 [==============================] - 97s 242ms/step - loss: 0.8840 - accuracy: 0.7196 - val_loss: 0.7518 - val_accuracy: 0.7593\n",
      "Epoch 10/50\n",
      "400/400 [==============================] - 98s 245ms/step - loss: 0.8420 - accuracy: 0.7295 - val_loss: 0.7067 - val_accuracy: 0.7780\n",
      "Epoch 11/50\n",
      "400/400 [==============================] - 97s 242ms/step - loss: 0.8117 - accuracy: 0.7407 - val_loss: 0.6833 - val_accuracy: 0.7883\n",
      "Epoch 12/50\n",
      "400/400 [==============================] - 97s 243ms/step - loss: 0.7764 - accuracy: 0.7513 - val_loss: 0.6671 - val_accuracy: 0.7929\n",
      "Epoch 13/50\n",
      "400/400 [==============================] - 98s 245ms/step - loss: 0.7458 - accuracy: 0.7601 - val_loss: 0.6287 - val_accuracy: 0.8098\n",
      "Epoch 14/50\n",
      "400/400 [==============================] - 96s 241ms/step - loss: 0.7180 - accuracy: 0.7699 - val_loss: 0.6029 - val_accuracy: 0.8148\n",
      "Epoch 15/50\n",
      "400/400 [==============================] - 97s 243ms/step - loss: 0.6937 - accuracy: 0.7774 - val_loss: 0.5781 - val_accuracy: 0.8241\n",
      "Epoch 16/50\n",
      "400/400 [==============================] - 97s 244ms/step - loss: 0.6724 - accuracy: 0.7845 - val_loss: 0.5608 - val_accuracy: 0.8298\n",
      "Epoch 17/50\n",
      "400/400 [==============================] - 102s 256ms/step - loss: 0.6525 - accuracy: 0.7933 - val_loss: 0.5483 - val_accuracy: 0.8327\n",
      "Epoch 18/50\n",
      "400/400 [==============================] - 110s 276ms/step - loss: 0.6321 - accuracy: 0.7976 - val_loss: 0.5290 - val_accuracy: 0.8411\n",
      "Epoch 19/50\n",
      "400/400 [==============================] - 109s 274ms/step - loss: 0.6107 - accuracy: 0.8049 - val_loss: 0.5212 - val_accuracy: 0.8458\n",
      "Epoch 20/50\n",
      "400/400 [==============================] - 111s 277ms/step - loss: 0.5920 - accuracy: 0.8110 - val_loss: 0.5096 - val_accuracy: 0.8455\n",
      "Epoch 21/50\n",
      "400/400 [==============================] - 111s 276ms/step - loss: 0.5746 - accuracy: 0.8167 - val_loss: 0.4856 - val_accuracy: 0.8547\n",
      "Epoch 22/50\n",
      "400/400 [==============================] - 103s 257ms/step - loss: 0.5597 - accuracy: 0.8221 - val_loss: 0.4769 - val_accuracy: 0.8542\n",
      "Epoch 23/50\n",
      "400/400 [==============================] - 111s 277ms/step - loss: 0.5436 - accuracy: 0.8276 - val_loss: 0.4674 - val_accuracy: 0.8580\n",
      "Epoch 24/50\n",
      "400/400 [==============================] - 111s 277ms/step - loss: 0.5311 - accuracy: 0.8303 - val_loss: 0.4651 - val_accuracy: 0.8601\n",
      "Epoch 25/50\n",
      "400/400 [==============================] - 109s 272ms/step - loss: 0.5133 - accuracy: 0.8360 - val_loss: 0.4557 - val_accuracy: 0.8603\n",
      "Epoch 26/50\n",
      "400/400 [==============================] - 115s 288ms/step - loss: 0.4990 - accuracy: 0.8430 - val_loss: 0.4475 - val_accuracy: 0.8655\n",
      "Epoch 27/50\n",
      "400/400 [==============================] - 117s 292ms/step - loss: 0.4919 - accuracy: 0.8448 - val_loss: 0.4315 - val_accuracy: 0.8703\n",
      "Epoch 28/50\n",
      "400/400 [==============================] - 115s 287ms/step - loss: 0.4792 - accuracy: 0.8483 - val_loss: 0.4245 - val_accuracy: 0.8717\n",
      "Epoch 29/50\n",
      "400/400 [==============================] - 119s 297ms/step - loss: 0.4652 - accuracy: 0.8533 - val_loss: 0.4176 - val_accuracy: 0.8742\n",
      "Epoch 30/50\n",
      "400/400 [==============================] - 117s 292ms/step - loss: 0.4615 - accuracy: 0.8556 - val_loss: 0.4413 - val_accuracy: 0.8694\n",
      "Epoch 31/50\n",
      "400/400 [==============================] - 112s 281ms/step - loss: 0.4432 - accuracy: 0.8599 - val_loss: 0.4071 - val_accuracy: 0.8763\n",
      "Epoch 32/50\n",
      "400/400 [==============================] - 112s 281ms/step - loss: 0.4371 - accuracy: 0.8612 - val_loss: 0.3985 - val_accuracy: 0.8792\n",
      "Epoch 33/50\n",
      "400/400 [==============================] - 107s 268ms/step - loss: 0.4258 - accuracy: 0.8652 - val_loss: 0.3967 - val_accuracy: 0.8772\n",
      "Epoch 34/50\n",
      "400/400 [==============================] - 99s 248ms/step - loss: 0.4186 - accuracy: 0.8699 - val_loss: 0.3880 - val_accuracy: 0.8845\n",
      "Epoch 35/50\n",
      "400/400 [==============================] - 98s 245ms/step - loss: 0.4139 - accuracy: 0.8700 - val_loss: 0.3746 - val_accuracy: 0.8844\n",
      "Epoch 36/50\n",
      "400/400 [==============================] - 101s 252ms/step - loss: 0.4066 - accuracy: 0.8720 - val_loss: 0.3798 - val_accuracy: 0.8820\n",
      "Epoch 37/50\n",
      "400/400 [==============================] - 99s 248ms/step - loss: 0.3953 - accuracy: 0.8736 - val_loss: 0.3712 - val_accuracy: 0.8847\n",
      "Epoch 38/50\n",
      "400/400 [==============================] - 100s 250ms/step - loss: 0.3921 - accuracy: 0.8776 - val_loss: 0.3764 - val_accuracy: 0.8844\n",
      "Epoch 39/50\n",
      "400/400 [==============================] - 106s 264ms/step - loss: 0.3881 - accuracy: 0.8773 - val_loss: 0.3729 - val_accuracy: 0.8857\n",
      "Epoch 40/50\n",
      "400/400 [==============================] - 104s 261ms/step - loss: 0.3757 - accuracy: 0.8814 - val_loss: 0.3560 - val_accuracy: 0.8920\n",
      "Epoch 41/50\n",
      "400/400 [==============================] - 106s 266ms/step - loss: 0.3697 - accuracy: 0.8841 - val_loss: 0.3544 - val_accuracy: 0.8913\n",
      "Epoch 42/50\n",
      "400/400 [==============================] - 108s 270ms/step - loss: 0.3688 - accuracy: 0.8854 - val_loss: 0.3538 - val_accuracy: 0.8911\n",
      "Epoch 43/50\n",
      "400/400 [==============================] - 99s 248ms/step - loss: 0.3611 - accuracy: 0.8862 - val_loss: 0.3450 - val_accuracy: 0.8960\n",
      "Epoch 44/50\n",
      "400/400 [==============================] - 101s 251ms/step - loss: 0.3530 - accuracy: 0.8899 - val_loss: 0.3522 - val_accuracy: 0.8926\n",
      "Epoch 45/50\n",
      "400/400 [==============================] - 102s 254ms/step - loss: 0.3460 - accuracy: 0.8921 - val_loss: 0.3494 - val_accuracy: 0.8954\n",
      "Epoch 46/50\n",
      "400/400 [==============================] - 101s 252ms/step - loss: 0.3433 - accuracy: 0.8939 - val_loss: 0.3427 - val_accuracy: 0.8956\n",
      "Epoch 47/50\n",
      "400/400 [==============================] - 102s 254ms/step - loss: 0.3343 - accuracy: 0.8941 - val_loss: 0.3495 - val_accuracy: 0.8936\n",
      "Epoch 48/50\n",
      "400/400 [==============================] - 99s 246ms/step - loss: 0.3334 - accuracy: 0.8957 - val_loss: 0.3408 - val_accuracy: 0.8970\n",
      "Epoch 49/50\n",
      "400/400 [==============================] - 107s 266ms/step - loss: 0.3259 - accuracy: 0.8954 - val_loss: 0.3481 - val_accuracy: 0.8907\n",
      "Epoch 50/50\n",
      "400/400 [==============================] - 108s 271ms/step - loss: 0.3199 - accuracy: 0.8994 - val_loss: 0.3313 - val_accuracy: 0.8994\n",
      "Epoch 1/50\n"
     ]
    },
    {
     "name": "stdout",
     "output_type": "stream",
     "text": [
      "400/400 [==============================] - 107s 251ms/step - loss: 1.6300 - accuracy: 0.5990 - val_loss: 1.4573 - val_accuracy: 0.6209\n",
      "Epoch 2/50\n",
      "400/400 [==============================] - 101s 251ms/step - loss: 1.4157 - accuracy: 0.6362 - val_loss: 1.3633 - val_accuracy: 0.6212\n",
      "Epoch 3/50\n",
      "400/400 [==============================] - 95s 237ms/step - loss: 1.3312 - accuracy: 0.6357 - val_loss: 1.2784 - val_accuracy: 0.6228\n",
      "Epoch 4/50\n",
      "400/400 [==============================] - 93s 231ms/step - loss: 1.2596 - accuracy: 0.6397 - val_loss: 1.2028 - val_accuracy: 0.6358\n",
      "Epoch 5/50\n",
      "400/400 [==============================] - 92s 229ms/step - loss: 1.1939 - accuracy: 0.6499 - val_loss: 1.1156 - val_accuracy: 0.6542\n",
      "Epoch 6/50\n",
      "400/400 [==============================] - 95s 238ms/step - loss: 1.1283 - accuracy: 0.6635 - val_loss: 1.0350 - val_accuracy: 0.6756\n",
      "Epoch 7/50\n",
      "400/400 [==============================] - 95s 237ms/step - loss: 1.0667 - accuracy: 0.6782 - val_loss: 0.9707 - val_accuracy: 0.6958\n",
      "Epoch 8/50\n",
      "400/400 [==============================] - 95s 237ms/step - loss: 1.0108 - accuracy: 0.6926 - val_loss: 0.9158 - val_accuracy: 0.7083\n",
      "Epoch 9/50\n",
      "400/400 [==============================] - 96s 239ms/step - loss: 0.9582 - accuracy: 0.7056 - val_loss: 0.8659 - val_accuracy: 0.7227\n",
      "Epoch 10/50\n",
      "400/400 [==============================] - 93s 233ms/step - loss: 0.9107 - accuracy: 0.7179 - val_loss: 0.8049 - val_accuracy: 0.7398\n",
      "Epoch 11/50\n",
      "400/400 [==============================] - 98s 244ms/step - loss: 0.8618 - accuracy: 0.7286 - val_loss: 0.7535 - val_accuracy: 0.7596\n",
      "Epoch 12/50\n",
      "400/400 [==============================] - 98s 245ms/step - loss: 0.8126 - accuracy: 0.7426 - val_loss: 0.7081 - val_accuracy: 0.7746\n",
      "Epoch 13/50\n",
      "400/400 [==============================] - 102s 254ms/step - loss: 0.7672 - accuracy: 0.7553 - val_loss: 0.6581 - val_accuracy: 0.7851\n",
      "Epoch 14/50\n",
      "400/400 [==============================] - 99s 247ms/step - loss: 0.7226 - accuracy: 0.7652 - val_loss: 0.6198 - val_accuracy: 0.8044\n",
      "Epoch 15/50\n",
      "400/400 [==============================] - 98s 246ms/step - loss: 0.6875 - accuracy: 0.7775 - val_loss: 0.5863 - val_accuracy: 0.8161\n",
      "Epoch 16/50\n",
      "400/400 [==============================] - 96s 240ms/step - loss: 0.6535 - accuracy: 0.7875 - val_loss: 0.5574 - val_accuracy: 0.8261\n",
      "Epoch 17/50\n",
      "400/400 [==============================] - 93s 233ms/step - loss: 0.6234 - accuracy: 0.7979 - val_loss: 0.5239 - val_accuracy: 0.8405\n",
      "Epoch 18/50\n",
      "400/400 [==============================] - 97s 243ms/step - loss: 0.5952 - accuracy: 0.8102 - val_loss: 0.5007 - val_accuracy: 0.8510\n",
      "Epoch 19/50\n",
      "400/400 [==============================] - 106s 266ms/step - loss: 0.5738 - accuracy: 0.8170 - val_loss: 0.4780 - val_accuracy: 0.8566\n",
      "Epoch 20/50\n",
      "400/400 [==============================] - 97s 243ms/step - loss: 0.5501 - accuracy: 0.8250 - val_loss: 0.4582 - val_accuracy: 0.8629\n",
      "Epoch 21/50\n",
      "400/400 [==============================] - 91s 228ms/step - loss: 0.5273 - accuracy: 0.8329 - val_loss: 0.4427 - val_accuracy: 0.8653\n",
      "Epoch 22/50\n",
      "400/400 [==============================] - 92s 230ms/step - loss: 0.5088 - accuracy: 0.8383 - val_loss: 0.4258 - val_accuracy: 0.8695\n",
      "Epoch 23/50\n",
      "400/400 [==============================] - 96s 239ms/step - loss: 0.4984 - accuracy: 0.8423 - val_loss: 0.4163 - val_accuracy: 0.8739\n",
      "Epoch 24/50\n",
      "400/400 [==============================] - 93s 233ms/step - loss: 0.4747 - accuracy: 0.8500 - val_loss: 0.4037 - val_accuracy: 0.8758\n",
      "Epoch 25/50\n",
      "400/400 [==============================] - 92s 230ms/step - loss: 0.4629 - accuracy: 0.8544 - val_loss: 0.3917 - val_accuracy: 0.8778\n",
      "Epoch 26/50\n",
      "400/400 [==============================] - 92s 231ms/step - loss: 0.4527 - accuracy: 0.8581 - val_loss: 0.3830 - val_accuracy: 0.8826\n",
      "Epoch 27/50\n",
      "400/400 [==============================] - 91s 227ms/step - loss: 0.4315 - accuracy: 0.8641 - val_loss: 0.3728 - val_accuracy: 0.8860\n",
      "Epoch 28/50\n",
      "400/400 [==============================] - 91s 228ms/step - loss: 0.4266 - accuracy: 0.8665 - val_loss: 0.3702 - val_accuracy: 0.8861\n",
      "Epoch 29/50\n",
      "400/400 [==============================] - 90s 225ms/step - loss: 0.4081 - accuracy: 0.8720 - val_loss: 0.3520 - val_accuracy: 0.8898\n",
      "Epoch 30/50\n",
      "400/400 [==============================] - 91s 228ms/step - loss: 0.4071 - accuracy: 0.8724 - val_loss: 0.3488 - val_accuracy: 0.8914\n",
      "Epoch 31/50\n",
      "400/400 [==============================] - 90s 224ms/step - loss: 0.3941 - accuracy: 0.8757 - val_loss: 0.3422 - val_accuracy: 0.8932\n",
      "Epoch 32/50\n",
      "400/400 [==============================] - 89s 224ms/step - loss: 0.3870 - accuracy: 0.8797 - val_loss: 0.3341 - val_accuracy: 0.8957\n",
      "Epoch 33/50\n",
      "400/400 [==============================] - 90s 225ms/step - loss: 0.3798 - accuracy: 0.8810 - val_loss: 0.3298 - val_accuracy: 0.8976\n",
      "Epoch 34/50\n",
      "400/400 [==============================] - 90s 225ms/step - loss: 0.3692 - accuracy: 0.8843 - val_loss: 0.3255 - val_accuracy: 0.8982\n",
      "Epoch 35/50\n",
      "400/400 [==============================] - 89s 222ms/step - loss: 0.3652 - accuracy: 0.8862 - val_loss: 0.3219 - val_accuracy: 0.9011\n",
      "Epoch 36/50\n",
      "400/400 [==============================] - 89s 223ms/step - loss: 0.3555 - accuracy: 0.8893 - val_loss: 0.3173 - val_accuracy: 0.9019\n",
      "Epoch 37/50\n",
      "400/400 [==============================] - 91s 227ms/step - loss: 0.3483 - accuracy: 0.8911 - val_loss: 0.3126 - val_accuracy: 0.9039\n",
      "Epoch 38/50\n",
      "400/400 [==============================] - 87s 218ms/step - loss: 0.3414 - accuracy: 0.8951 - val_loss: 0.3052 - val_accuracy: 0.9056\n",
      "Epoch 39/50\n",
      "400/400 [==============================] - 89s 222ms/step - loss: 0.3346 - accuracy: 0.8953 - val_loss: 0.3043 - val_accuracy: 0.9082\n",
      "Epoch 40/50\n",
      "400/400 [==============================] - 90s 224ms/step - loss: 0.3320 - accuracy: 0.8979 - val_loss: 0.2992 - val_accuracy: 0.9069\n",
      "Epoch 41/50\n",
      "400/400 [==============================] - 88s 220ms/step - loss: 0.3230 - accuracy: 0.8985 - val_loss: 0.2984 - val_accuracy: 0.9088\n",
      "Epoch 42/50\n",
      "400/400 [==============================] - 90s 225ms/step - loss: 0.3191 - accuracy: 0.9000 - val_loss: 0.2926 - val_accuracy: 0.9095\n",
      "Epoch 43/50\n",
      "400/400 [==============================] - 89s 222ms/step - loss: 0.3164 - accuracy: 0.9018 - val_loss: 0.2936 - val_accuracy: 0.9098\n",
      "Epoch 44/50\n",
      "400/400 [==============================] - 116s 290ms/step - loss: 0.3111 - accuracy: 0.9027 - val_loss: 0.2879 - val_accuracy: 0.9114\n",
      "Epoch 45/50\n",
      "400/400 [==============================] - 99s 247ms/step - loss: 0.3041 - accuracy: 0.9049 - val_loss: 0.2821 - val_accuracy: 0.9122\n",
      "Epoch 46/50\n",
      "400/400 [==============================] - 97s 243ms/step - loss: 0.2988 - accuracy: 0.9069 - val_loss: 0.2816 - val_accuracy: 0.9141\n",
      "Epoch 47/50\n",
      "400/400 [==============================] - 95s 237ms/step - loss: 0.2962 - accuracy: 0.9067 - val_loss: 0.2771 - val_accuracy: 0.9150\n",
      "Epoch 48/50\n",
      "400/400 [==============================] - 92s 230ms/step - loss: 0.2909 - accuracy: 0.9110 - val_loss: 0.2759 - val_accuracy: 0.9148\n",
      "Epoch 49/50\n",
      "400/400 [==============================] - 94s 234ms/step - loss: 0.2870 - accuracy: 0.9107 - val_loss: 0.2804 - val_accuracy: 0.9134\n",
      "Epoch 50/50\n",
      "400/400 [==============================] - 93s 234ms/step - loss: 0.2840 - accuracy: 0.9116 - val_loss: 0.2727 - val_accuracy: 0.9175\n",
      "Epoch 1/50\n",
      "200/200 [==============================] - 60s 281ms/step - loss: 2.0072 - accuracy: 0.4107 - val_loss: 1.6358 - val_accuracy: 0.6183\n",
      "Epoch 2/50\n",
      "200/200 [==============================] - 56s 278ms/step - loss: 1.6603 - accuracy: 0.6187 - val_loss: 1.5465 - val_accuracy: 0.6209\n",
      "Epoch 3/50\n",
      "200/200 [==============================] - 58s 289ms/step - loss: 1.5889 - accuracy: 0.6295 - val_loss: 1.5071 - val_accuracy: 0.6209\n",
      "Epoch 4/50\n",
      "200/200 [==============================] - 58s 290ms/step - loss: 1.5457 - accuracy: 0.6312 - val_loss: 1.4741 - val_accuracy: 0.6209\n",
      "Epoch 5/50\n",
      "200/200 [==============================] - 62s 309ms/step - loss: 1.5101 - accuracy: 0.6330 - val_loss: 1.4480 - val_accuracy: 0.6209\n",
      "Epoch 6/50\n",
      "200/200 [==============================] - 63s 317ms/step - loss: 1.4748 - accuracy: 0.6322 - val_loss: 1.4194 - val_accuracy: 0.6208\n",
      "Epoch 7/50\n",
      "200/200 [==============================] - 62s 311ms/step - loss: 1.4367 - accuracy: 0.6332 - val_loss: 1.3863 - val_accuracy: 0.6205\n",
      "Epoch 1/50\n",
      "200/200 [==============================] - 86s 404ms/step - loss: 1.5716 - accuracy: 0.6046 - val_loss: 1.3781 - val_accuracy: 0.6215\n",
      "Epoch 2/50\n",
      "200/200 [==============================] - 87s 436ms/step - loss: 1.3436 - accuracy: 0.6324 - val_loss: 1.2612 - val_accuracy: 0.6256\n",
      "Epoch 3/50\n",
      "200/200 [==============================] - 88s 438ms/step - loss: 1.2576 - accuracy: 0.6383 - val_loss: 1.1658 - val_accuracy: 0.6386\n",
      "Epoch 4/50\n",
      "200/200 [==============================] - 84s 420ms/step - loss: 1.1862 - accuracy: 0.6490 - val_loss: 1.0744 - val_accuracy: 0.6562\n",
      "Epoch 5/50\n",
      "200/200 [==============================] - 81s 407ms/step - loss: 1.1279 - accuracy: 0.6564 - val_loss: 1.0237 - val_accuracy: 0.6668\n",
      "Epoch 6/50\n",
      "200/200 [==============================] - 84s 422ms/step - loss: 1.0805 - accuracy: 0.6655 - val_loss: 0.9630 - val_accuracy: 0.6821\n",
      "Epoch 7/50\n",
      "200/200 [==============================] - 81s 407ms/step - loss: 1.0248 - accuracy: 0.6768 - val_loss: 0.9071 - val_accuracy: 0.6993\n",
      "Epoch 8/50\n",
      "200/200 [==============================] - 83s 417ms/step - loss: 0.9811 - accuracy: 0.6852 - val_loss: 0.8624 - val_accuracy: 0.7115\n",
      "Epoch 9/50\n",
      "200/200 [==============================] - 81s 403ms/step - loss: 0.9401 - accuracy: 0.6947 - val_loss: 0.8202 - val_accuracy: 0.7233\n",
      "Epoch 10/50\n",
      "200/200 [==============================] - 81s 407ms/step - loss: 0.9113 - accuracy: 0.7052 - val_loss: 0.7862 - val_accuracy: 0.7390\n",
      "Epoch 11/50\n",
      "200/200 [==============================] - 80s 400ms/step - loss: 0.8790 - accuracy: 0.7122 - val_loss: 0.7663 - val_accuracy: 0.7468\n",
      "Epoch 12/50\n",
      "200/200 [==============================] - 79s 397ms/step - loss: 0.8424 - accuracy: 0.7236 - val_loss: 0.7390 - val_accuracy: 0.7614\n",
      "Epoch 13/50\n",
      "200/200 [==============================] - 80s 399ms/step - loss: 0.8208 - accuracy: 0.7293 - val_loss: 0.7034 - val_accuracy: 0.7718\n",
      "Epoch 14/50\n",
      "200/200 [==============================] - 79s 396ms/step - loss: 0.8007 - accuracy: 0.7387 - val_loss: 0.6869 - val_accuracy: 0.7760\n",
      "Epoch 15/50\n",
      "200/200 [==============================] - 80s 402ms/step - loss: 0.7763 - accuracy: 0.7424 - val_loss: 0.6628 - val_accuracy: 0.7858\n",
      "Epoch 16/50\n",
      "200/200 [==============================] - 79s 395ms/step - loss: 0.7609 - accuracy: 0.7495 - val_loss: 0.6514 - val_accuracy: 0.7898\n",
      "Epoch 17/50\n",
      "200/200 [==============================] - 79s 393ms/step - loss: 0.7373 - accuracy: 0.7556 - val_loss: 0.6474 - val_accuracy: 0.8029\n",
      "Epoch 18/50\n",
      "200/200 [==============================] - 78s 393ms/step - loss: 0.7177 - accuracy: 0.7650 - val_loss: 0.6144 - val_accuracy: 0.8098\n",
      "Epoch 19/50\n",
      "200/200 [==============================] - 80s 401ms/step - loss: 0.6986 - accuracy: 0.7709 - val_loss: 0.6092 - val_accuracy: 0.8111\n",
      "Epoch 20/50\n",
      "200/200 [==============================] - 80s 399ms/step - loss: 0.6853 - accuracy: 0.7746 - val_loss: 0.5912 - val_accuracy: 0.8183\n",
      "Epoch 21/50\n",
      "200/200 [==============================] - 79s 392ms/step - loss: 0.6669 - accuracy: 0.7832 - val_loss: 0.5730 - val_accuracy: 0.8247\n",
      "Epoch 22/50\n",
      "200/200 [==============================] - 79s 394ms/step - loss: 0.6508 - accuracy: 0.7882 - val_loss: 0.5608 - val_accuracy: 0.8249\n",
      "Epoch 23/50\n",
      "200/200 [==============================] - 80s 400ms/step - loss: 0.6318 - accuracy: 0.7938 - val_loss: 0.5511 - val_accuracy: 0.8279\n",
      "Epoch 24/50\n",
      "200/200 [==============================] - 83s 413ms/step - loss: 0.6257 - accuracy: 0.7957 - val_loss: 0.5455 - val_accuracy: 0.8352\n",
      "Epoch 25/50\n",
      "200/200 [==============================] - 79s 395ms/step - loss: 0.6089 - accuracy: 0.8003 - val_loss: 0.5255 - val_accuracy: 0.8405\n",
      "Epoch 26/50\n",
      "200/200 [==============================] - 79s 395ms/step - loss: 0.5892 - accuracy: 0.8072 - val_loss: 0.5225 - val_accuracy: 0.8430\n",
      "Epoch 27/50\n",
      "200/200 [==============================] - 80s 400ms/step - loss: 0.5813 - accuracy: 0.8112 - val_loss: 0.5156 - val_accuracy: 0.8457\n",
      "Epoch 28/50\n",
      "200/200 [==============================] - 79s 397ms/step - loss: 0.5687 - accuracy: 0.8147 - val_loss: 0.4995 - val_accuracy: 0.8461\n",
      "Epoch 29/50\n",
      "200/200 [==============================] - 79s 393ms/step - loss: 0.5568 - accuracy: 0.8197 - val_loss: 0.4951 - val_accuracy: 0.8510\n",
      "Epoch 30/50\n",
      "200/200 [==============================] - 78s 390ms/step - loss: 0.5518 - accuracy: 0.8221 - val_loss: 0.4866 - val_accuracy: 0.8497\n",
      "Epoch 31/50\n",
      "200/200 [==============================] - 79s 393ms/step - loss: 0.5366 - accuracy: 0.8267 - val_loss: 0.4763 - val_accuracy: 0.8554\n",
      "Epoch 32/50\n",
      "200/200 [==============================] - 80s 399ms/step - loss: 0.5286 - accuracy: 0.8312 - val_loss: 0.4712 - val_accuracy: 0.8578\n",
      "Epoch 33/50\n",
      "200/200 [==============================] - 75s 375ms/step - loss: 0.5159 - accuracy: 0.8349 - val_loss: 0.4657 - val_accuracy: 0.8573\n",
      "Epoch 34/50\n",
      "200/200 [==============================] - 80s 402ms/step - loss: 0.5088 - accuracy: 0.8361 - val_loss: 0.4576 - val_accuracy: 0.8607\n",
      "Epoch 35/50\n",
      "200/200 [==============================] - 80s 400ms/step - loss: 0.4967 - accuracy: 0.8396 - val_loss: 0.4537 - val_accuracy: 0.8617\n",
      "Epoch 36/50\n",
      "200/200 [==============================] - 81s 403ms/step - loss: 0.4884 - accuracy: 0.8434 - val_loss: 0.4448 - val_accuracy: 0.8655\n",
      "Epoch 37/50\n",
      "200/200 [==============================] - 80s 402ms/step - loss: 0.4811 - accuracy: 0.8452 - val_loss: 0.4374 - val_accuracy: 0.8686\n",
      "Epoch 38/50\n",
      "200/200 [==============================] - 80s 398ms/step - loss: 0.4689 - accuracy: 0.8485 - val_loss: 0.4398 - val_accuracy: 0.8676\n",
      "Epoch 39/50\n",
      "200/200 [==============================] - 79s 396ms/step - loss: 0.4634 - accuracy: 0.8530 - val_loss: 0.4253 - val_accuracy: 0.8714\n",
      "Epoch 40/50\n",
      "200/200 [==============================] - 79s 395ms/step - loss: 0.4522 - accuracy: 0.8557 - val_loss: 0.4149 - val_accuracy: 0.8733\n",
      "Epoch 41/50\n",
      "200/200 [==============================] - 79s 397ms/step - loss: 0.4448 - accuracy: 0.8579 - val_loss: 0.4181 - val_accuracy: 0.8769\n",
      "Epoch 42/50\n",
      "200/200 [==============================] - 81s 407ms/step - loss: 0.4431 - accuracy: 0.8575 - val_loss: 0.4072 - val_accuracy: 0.8770\n",
      "Epoch 43/50\n",
      "200/200 [==============================] - 79s 393ms/step - loss: 0.4306 - accuracy: 0.8630 - val_loss: 0.4094 - val_accuracy: 0.8733\n",
      "Epoch 44/50\n",
      "200/200 [==============================] - 79s 395ms/step - loss: 0.4255 - accuracy: 0.8647 - val_loss: 0.4014 - val_accuracy: 0.8788\n",
      "Epoch 45/50\n",
      "200/200 [==============================] - 84s 418ms/step - loss: 0.4219 - accuracy: 0.8672 - val_loss: 0.4026 - val_accuracy: 0.8791\n",
      "Epoch 46/50\n",
      "200/200 [==============================] - 80s 398ms/step - loss: 0.4154 - accuracy: 0.8701 - val_loss: 0.4010 - val_accuracy: 0.8791\n",
      "Epoch 47/50\n",
      "200/200 [==============================] - 76s 379ms/step - loss: 0.4060 - accuracy: 0.8716 - val_loss: 0.3862 - val_accuracy: 0.8841\n",
      "Epoch 48/50\n",
      "200/200 [==============================] - 79s 395ms/step - loss: 0.4030 - accuracy: 0.8707 - val_loss: 0.3934 - val_accuracy: 0.8822\n",
      "Epoch 49/50\n",
      "200/200 [==============================] - 79s 396ms/step - loss: 0.3944 - accuracy: 0.8749 - val_loss: 0.3890 - val_accuracy: 0.8847\n",
      "Epoch 50/50\n",
      "200/200 [==============================] - 82s 412ms/step - loss: 0.3903 - accuracy: 0.8762 - val_loss: 0.3806 - val_accuracy: 0.8841\n",
      "Epoch 1/50\n",
      "200/200 [==============================] - 86s 396ms/step - loss: 1.6275 - accuracy: 0.6080 - val_loss: 1.4768 - val_accuracy: 0.6209\n",
      "Epoch 2/50\n",
      "200/200 [==============================] - 76s 378ms/step - loss: 1.4482 - accuracy: 0.6361 - val_loss: 1.3965 - val_accuracy: 0.6209\n",
      "Epoch 3/50\n",
      "200/200 [==============================] - 78s 390ms/step - loss: 1.3821 - accuracy: 0.6360 - val_loss: 1.3326 - val_accuracy: 0.6208\n",
      "Epoch 4/50\n",
      "200/200 [==============================] - 77s 384ms/step - loss: 1.3181 - accuracy: 0.6347 - val_loss: 1.2671 - val_accuracy: 0.6215\n",
      "Epoch 5/50\n",
      "200/200 [==============================] - 77s 386ms/step - loss: 1.2700 - accuracy: 0.6349 - val_loss: 1.2161 - val_accuracy: 0.6239\n",
      "Epoch 6/50\n"
     ]
    },
    {
     "name": "stdout",
     "output_type": "stream",
     "text": [
      "200/200 [==============================] - 76s 381ms/step - loss: 1.2254 - accuracy: 0.6367 - val_loss: 1.1654 - val_accuracy: 0.6289\n",
      "Epoch 7/50\n",
      "200/200 [==============================] - 78s 389ms/step - loss: 1.1765 - accuracy: 0.6400 - val_loss: 1.1094 - val_accuracy: 0.6321\n",
      "Epoch 8/50\n",
      "200/200 [==============================] - 75s 377ms/step - loss: 1.1327 - accuracy: 0.6453 - val_loss: 1.0495 - val_accuracy: 0.6433\n",
      "Epoch 9/50\n",
      "200/200 [==============================] - 77s 384ms/step - loss: 1.0786 - accuracy: 0.6560 - val_loss: 0.9809 - val_accuracy: 0.6740\n",
      "Epoch 10/50\n",
      "200/200 [==============================] - 78s 388ms/step - loss: 1.0205 - accuracy: 0.6718 - val_loss: 0.9163 - val_accuracy: 0.6984\n",
      "Epoch 11/50\n",
      "200/200 [==============================] - 76s 381ms/step - loss: 0.9674 - accuracy: 0.6884 - val_loss: 0.8598 - val_accuracy: 0.7221\n",
      "Epoch 12/50\n",
      "200/200 [==============================] - 78s 391ms/step - loss: 0.9098 - accuracy: 0.7058 - val_loss: 0.7999 - val_accuracy: 0.7451\n",
      "Epoch 13/50\n",
      "200/200 [==============================] - 77s 387ms/step - loss: 0.8586 - accuracy: 0.7222 - val_loss: 0.7429 - val_accuracy: 0.7633\n",
      "Epoch 14/50\n",
      "200/200 [==============================] - 76s 379ms/step - loss: 0.8124 - accuracy: 0.7388 - val_loss: 0.6922 - val_accuracy: 0.7788\n",
      "Epoch 15/50\n",
      "200/200 [==============================] - 76s 381ms/step - loss: 0.7662 - accuracy: 0.7546 - val_loss: 0.6529 - val_accuracy: 0.7960\n",
      "Epoch 16/50\n",
      "200/200 [==============================] - 77s 387ms/step - loss: 0.7257 - accuracy: 0.7642 - val_loss: 0.6170 - val_accuracy: 0.8117\n",
      "Epoch 17/50\n",
      "200/200 [==============================] - 77s 387ms/step - loss: 0.6995 - accuracy: 0.7749 - val_loss: 0.5900 - val_accuracy: 0.8302\n",
      "Epoch 18/50\n",
      "200/200 [==============================] - 77s 387ms/step - loss: 0.6707 - accuracy: 0.7835 - val_loss: 0.5619 - val_accuracy: 0.8285\n",
      "Epoch 19/50\n",
      "200/200 [==============================] - 76s 381ms/step - loss: 0.6434 - accuracy: 0.7917 - val_loss: 0.5394 - val_accuracy: 0.8358\n",
      "Epoch 20/50\n",
      "200/200 [==============================] - 80s 400ms/step - loss: 0.6198 - accuracy: 0.8019 - val_loss: 0.5178 - val_accuracy: 0.8470\n",
      "Epoch 21/50\n",
      "200/200 [==============================] - 78s 390ms/step - loss: 0.6014 - accuracy: 0.8070 - val_loss: 0.5019 - val_accuracy: 0.8526\n",
      "Epoch 22/50\n",
      "200/200 [==============================] - 76s 382ms/step - loss: 0.5852 - accuracy: 0.8134 - val_loss: 0.4869 - val_accuracy: 0.8548\n",
      "Epoch 23/50\n",
      "200/200 [==============================] - 77s 386ms/step - loss: 0.5688 - accuracy: 0.8181 - val_loss: 0.4760 - val_accuracy: 0.8586\n",
      "Epoch 24/50\n",
      "200/200 [==============================] - 71s 356ms/step - loss: 0.5538 - accuracy: 0.8231 - val_loss: 0.4638 - val_accuracy: 0.8620\n",
      "Epoch 25/50\n",
      "200/200 [==============================] - 77s 386ms/step - loss: 0.5410 - accuracy: 0.8275 - val_loss: 0.4491 - val_accuracy: 0.8675\n",
      "Epoch 26/50\n",
      "200/200 [==============================] - 78s 388ms/step - loss: 0.5202 - accuracy: 0.8329 - val_loss: 0.4374 - val_accuracy: 0.8698\n",
      "Epoch 27/50\n",
      "200/200 [==============================] - 77s 386ms/step - loss: 0.5113 - accuracy: 0.8383 - val_loss: 0.4299 - val_accuracy: 0.8719\n",
      "Epoch 28/50\n",
      "200/200 [==============================] - 77s 387ms/step - loss: 0.5017 - accuracy: 0.8394 - val_loss: 0.4249 - val_accuracy: 0.8719\n",
      "Epoch 29/50\n",
      "200/200 [==============================] - 77s 386ms/step - loss: 0.4900 - accuracy: 0.8430 - val_loss: 0.4107 - val_accuracy: 0.8753\n",
      "Epoch 30/50\n",
      "200/200 [==============================] - 78s 391ms/step - loss: 0.4772 - accuracy: 0.8472 - val_loss: 0.3999 - val_accuracy: 0.8763\n",
      "Epoch 31/50\n",
      "200/200 [==============================] - 77s 386ms/step - loss: 0.4723 - accuracy: 0.8484 - val_loss: 0.3946 - val_accuracy: 0.8808\n",
      "Epoch 32/50\n",
      "200/200 [==============================] - 78s 388ms/step - loss: 0.4595 - accuracy: 0.8527 - val_loss: 0.3884 - val_accuracy: 0.8831\n",
      "Epoch 33/50\n",
      "200/200 [==============================] - 77s 387ms/step - loss: 0.4521 - accuracy: 0.8566 - val_loss: 0.3839 - val_accuracy: 0.8826\n",
      "Epoch 34/50\n",
      "200/200 [==============================] - 80s 399ms/step - loss: 0.4411 - accuracy: 0.8583 - val_loss: 0.3789 - val_accuracy: 0.8845\n",
      "Epoch 35/50\n",
      "200/200 [==============================] - 77s 385ms/step - loss: 0.4325 - accuracy: 0.8625 - val_loss: 0.3674 - val_accuracy: 0.8882\n",
      "Epoch 36/50\n",
      "200/200 [==============================] - 77s 384ms/step - loss: 0.4297 - accuracy: 0.8634 - val_loss: 0.3697 - val_accuracy: 0.8873\n",
      "Epoch 37/50\n",
      "200/200 [==============================] - 78s 391ms/step - loss: 0.4206 - accuracy: 0.8659 - val_loss: 0.3607 - val_accuracy: 0.8910\n",
      "Epoch 38/50\n",
      "200/200 [==============================] - 78s 388ms/step - loss: 0.4185 - accuracy: 0.8665 - val_loss: 0.3557 - val_accuracy: 0.8910\n",
      "Epoch 39/50\n",
      "200/200 [==============================] - 79s 397ms/step - loss: 0.4073 - accuracy: 0.8713 - val_loss: 0.3506 - val_accuracy: 0.8954\n",
      "Epoch 40/50\n",
      "200/200 [==============================] - 78s 390ms/step - loss: 0.4024 - accuracy: 0.8732 - val_loss: 0.3464 - val_accuracy: 0.8934\n",
      "Epoch 41/50\n",
      "200/200 [==============================] - 77s 384ms/step - loss: 0.3938 - accuracy: 0.8742 - val_loss: 0.3436 - val_accuracy: 0.8954\n",
      "Epoch 42/50\n",
      "200/200 [==============================] - 77s 385ms/step - loss: 0.3897 - accuracy: 0.8771 - val_loss: 0.3341 - val_accuracy: 0.8975\n",
      "Epoch 43/50\n",
      "200/200 [==============================] - 83s 413ms/step - loss: 0.3823 - accuracy: 0.8789 - val_loss: 0.3345 - val_accuracy: 0.8982\n",
      "Epoch 44/50\n",
      "200/200 [==============================] - 78s 387ms/step - loss: 0.3802 - accuracy: 0.8791 - val_loss: 0.3322 - val_accuracy: 0.9013\n",
      "Epoch 45/50\n",
      "200/200 [==============================] - 77s 385ms/step - loss: 0.3740 - accuracy: 0.8818 - val_loss: 0.3249 - val_accuracy: 0.9016\n",
      "Epoch 46/50\n",
      "200/200 [==============================] - 76s 382ms/step - loss: 0.3657 - accuracy: 0.8837 - val_loss: 0.3232 - val_accuracy: 0.9016\n",
      "Epoch 47/50\n",
      "200/200 [==============================] - 79s 393ms/step - loss: 0.3611 - accuracy: 0.8856 - val_loss: 0.3216 - val_accuracy: 0.9016\n",
      "Epoch 48/50\n",
      "200/200 [==============================] - 77s 384ms/step - loss: 0.3576 - accuracy: 0.8874 - val_loss: 0.3184 - val_accuracy: 0.9029\n",
      "Epoch 49/50\n",
      "200/200 [==============================] - 77s 385ms/step - loss: 0.3496 - accuracy: 0.8907 - val_loss: 0.3164 - val_accuracy: 0.9050\n",
      "Epoch 50/50\n",
      "200/200 [==============================] - 76s 379ms/step - loss: 0.3447 - accuracy: 0.8908 - val_loss: 0.3086 - val_accuracy: 0.9059\n"
     ]
    },
    {
     "data": {
      "application/vnd.jupyter.widget-view+json": {
       "model_id": "c1b919c77eae433b9c743a4b330990a4",
       "version_major": 2,
       "version_minor": 0
      },
      "text/plain": [
       "  0%|          | 0/2 [00:00<?, ?it/s]"
      ]
     },
     "metadata": {},
     "output_type": "display_data"
    },
    {
     "name": "stdout",
     "output_type": "stream",
     "text": [
      "Epoch 1/50\n",
      "400/400 [==============================] - 75s 179ms/step - loss: 1.5233 - accuracy: 0.6117 - val_loss: 1.4038 - val_accuracy: 0.6206\n",
      "Epoch 2/50\n",
      "400/400 [==============================] - 71s 177ms/step - loss: 1.2919 - accuracy: 0.6323 - val_loss: 1.1608 - val_accuracy: 0.6228\n",
      "Epoch 3/50\n",
      "400/400 [==============================] - 70s 176ms/step - loss: 1.1653 - accuracy: 0.6351 - val_loss: 1.0690 - val_accuracy: 0.6372\n",
      "Epoch 4/50\n",
      "400/400 [==============================] - 69s 174ms/step - loss: 1.0535 - accuracy: 0.6545 - val_loss: 0.9153 - val_accuracy: 0.6862\n",
      "Epoch 5/50\n",
      "400/400 [==============================] - 72s 181ms/step - loss: 0.9363 - accuracy: 0.6868 - val_loss: 0.9076 - val_accuracy: 0.6806\n",
      "Epoch 6/50\n",
      "400/400 [==============================] - 70s 175ms/step - loss: 0.8193 - accuracy: 0.7251 - val_loss: 0.7385 - val_accuracy: 0.7560\n",
      "Epoch 7/50\n",
      "400/400 [==============================] - 76s 190ms/step - loss: 0.7302 - accuracy: 0.7579 - val_loss: 0.6437 - val_accuracy: 0.7919\n",
      "Epoch 8/50\n",
      "400/400 [==============================] - 71s 177ms/step - loss: 0.6535 - accuracy: 0.7853 - val_loss: 0.5487 - val_accuracy: 0.8189\n",
      "Epoch 9/50\n",
      "400/400 [==============================] - 71s 177ms/step - loss: 0.5980 - accuracy: 0.8048 - val_loss: 0.5556 - val_accuracy: 0.8254\n",
      "Epoch 10/50\n",
      "400/400 [==============================] - 71s 178ms/step - loss: 0.5383 - accuracy: 0.8245 - val_loss: 0.5195 - val_accuracy: 0.8294\n",
      "Epoch 11/50\n",
      "400/400 [==============================] - 69s 174ms/step - loss: 0.4958 - accuracy: 0.8367 - val_loss: 0.4626 - val_accuracy: 0.8510\n",
      "Epoch 12/50\n",
      "400/400 [==============================] - 70s 175ms/step - loss: 0.4626 - accuracy: 0.8507 - val_loss: 0.4160 - val_accuracy: 0.8736\n",
      "Epoch 13/50\n",
      "400/400 [==============================] - 70s 176ms/step - loss: 0.4233 - accuracy: 0.8658 - val_loss: 0.4080 - val_accuracy: 0.8758\n",
      "Epoch 14/50\n",
      "400/400 [==============================] - 71s 177ms/step - loss: 0.3973 - accuracy: 0.8743 - val_loss: 0.3921 - val_accuracy: 0.8797\n",
      "Epoch 15/50\n",
      "400/400 [==============================] - 71s 176ms/step - loss: 0.3724 - accuracy: 0.8829 - val_loss: 0.3604 - val_accuracy: 0.8941\n",
      "Epoch 16/50\n",
      "400/400 [==============================] - 70s 174ms/step - loss: 0.3520 - accuracy: 0.8901 - val_loss: 0.3694 - val_accuracy: 0.8956\n",
      "Epoch 17/50\n",
      "400/400 [==============================] - 70s 176ms/step - loss: 0.3361 - accuracy: 0.8977 - val_loss: 0.3314 - val_accuracy: 0.9003\n",
      "Epoch 18/50\n",
      "400/400 [==============================] - 70s 176ms/step - loss: 0.3145 - accuracy: 0.9037 - val_loss: 0.3487 - val_accuracy: 0.9016\n",
      "Epoch 19/50\n",
      "400/400 [==============================] - 73s 182ms/step - loss: 0.2948 - accuracy: 0.9101 - val_loss: 0.3245 - val_accuracy: 0.9041\n",
      "Epoch 20/50\n",
      "400/400 [==============================] - 70s 174ms/step - loss: 0.2919 - accuracy: 0.9114 - val_loss: 0.3302 - val_accuracy: 0.9066\n",
      "Epoch 21/50\n",
      "400/400 [==============================] - 70s 176ms/step - loss: 0.2774 - accuracy: 0.9164 - val_loss: 0.2996 - val_accuracy: 0.9114\n",
      "Epoch 22/50\n",
      "400/400 [==============================] - 69s 173ms/step - loss: 0.2676 - accuracy: 0.9208 - val_loss: 0.2978 - val_accuracy: 0.9131\n",
      "Epoch 23/50\n",
      "400/400 [==============================] - 70s 175ms/step - loss: 0.2580 - accuracy: 0.9216 - val_loss: 0.2922 - val_accuracy: 0.9154\n",
      "Epoch 24/50\n",
      "400/400 [==============================] - 71s 179ms/step - loss: 0.2489 - accuracy: 0.9256 - val_loss: 0.2974 - val_accuracy: 0.9086\n",
      "Epoch 25/50\n",
      "400/400 [==============================] - 70s 174ms/step - loss: 0.2407 - accuracy: 0.9282 - val_loss: 0.2788 - val_accuracy: 0.9185\n",
      "Epoch 26/50\n",
      "400/400 [==============================] - 70s 175ms/step - loss: 0.2348 - accuracy: 0.9297 - val_loss: 0.3006 - val_accuracy: 0.9160\n",
      "Epoch 27/50\n",
      "400/400 [==============================] - 69s 173ms/step - loss: 0.2272 - accuracy: 0.9318 - val_loss: 0.2609 - val_accuracy: 0.9223\n",
      "Epoch 28/50\n",
      "400/400 [==============================] - 65s 163ms/step - loss: 0.2185 - accuracy: 0.9344 - val_loss: 0.2933 - val_accuracy: 0.9175\n",
      "Epoch 29/50\n",
      "400/400 [==============================] - 67s 167ms/step - loss: 0.2176 - accuracy: 0.9350 - val_loss: 0.3257 - val_accuracy: 0.9041\n",
      "Epoch 30/50\n",
      "400/400 [==============================] - 65s 163ms/step - loss: 0.2082 - accuracy: 0.9383 - val_loss: 0.2723 - val_accuracy: 0.9251\n",
      "Epoch 31/50\n",
      "400/400 [==============================] - 59s 147ms/step - loss: 0.1989 - accuracy: 0.9401 - val_loss: 0.2856 - val_accuracy: 0.9235\n",
      "Epoch 32/50\n",
      "400/400 [==============================] - 66s 165ms/step - loss: 0.1972 - accuracy: 0.9429 - val_loss: 0.2585 - val_accuracy: 0.9264\n",
      "Epoch 33/50\n",
      "400/400 [==============================] - 66s 166ms/step - loss: 0.1934 - accuracy: 0.9430 - val_loss: 0.2449 - val_accuracy: 0.9300\n",
      "Epoch 34/50\n",
      "400/400 [==============================] - 68s 171ms/step - loss: 0.1879 - accuracy: 0.9446 - val_loss: 0.2733 - val_accuracy: 0.9209\n",
      "Epoch 35/50\n",
      "400/400 [==============================] - 65s 163ms/step - loss: 0.1849 - accuracy: 0.9458 - val_loss: 0.2633 - val_accuracy: 0.9300\n",
      "Epoch 36/50\n",
      "400/400 [==============================] - 63s 157ms/step - loss: 0.1807 - accuracy: 0.9458 - val_loss: 0.2645 - val_accuracy: 0.9281\n",
      "Epoch 37/50\n",
      "400/400 [==============================] - 63s 156ms/step - loss: 0.1757 - accuracy: 0.9482 - val_loss: 0.2496 - val_accuracy: 0.9287\n",
      "Epoch 38/50\n",
      "400/400 [==============================] - 68s 169ms/step - loss: 0.1695 - accuracy: 0.9507 - val_loss: 0.2566 - val_accuracy: 0.9316\n",
      "Epoch 39/50\n",
      "400/400 [==============================] - 66s 166ms/step - loss: 0.1689 - accuracy: 0.9514 - val_loss: 0.2368 - val_accuracy: 0.9350\n",
      "Epoch 40/50\n",
      "400/400 [==============================] - 65s 163ms/step - loss: 0.1629 - accuracy: 0.9524 - val_loss: 0.2574 - val_accuracy: 0.9298\n",
      "Epoch 41/50\n",
      "400/400 [==============================] - 62s 156ms/step - loss: 0.1612 - accuracy: 0.9535 - val_loss: 0.2806 - val_accuracy: 0.9301\n",
      "Epoch 42/50\n",
      "400/400 [==============================] - 63s 159ms/step - loss: 0.1584 - accuracy: 0.9531 - val_loss: 0.2958 - val_accuracy: 0.9267\n",
      "Epoch 43/50\n",
      "400/400 [==============================] - 65s 162ms/step - loss: 0.1575 - accuracy: 0.9536 - val_loss: 0.2786 - val_accuracy: 0.9272\n",
      "Epoch 44/50\n",
      "400/400 [==============================] - 68s 170ms/step - loss: 0.1538 - accuracy: 0.9550 - val_loss: 0.2449 - val_accuracy: 0.9348\n",
      "Epoch 1/50\n",
      "400/400 [==============================] - 99s 236ms/step - loss: 1.2105 - accuracy: 0.6518 - val_loss: 0.8913 - val_accuracy: 0.7064\n",
      "Epoch 2/50\n",
      "400/400 [==============================] - 91s 226ms/step - loss: 0.7606 - accuracy: 0.7557 - val_loss: 0.6317 - val_accuracy: 0.7988\n",
      "Epoch 3/50\n",
      "400/400 [==============================] - 94s 236ms/step - loss: 0.5298 - accuracy: 0.8295 - val_loss: 0.4267 - val_accuracy: 0.8675\n",
      "Epoch 4/50\n",
      "400/400 [==============================] - 95s 239ms/step - loss: 0.4243 - accuracy: 0.8654 - val_loss: 0.3648 - val_accuracy: 0.8816\n",
      "Epoch 5/50\n",
      "400/400 [==============================] - 94s 235ms/step - loss: 0.3586 - accuracy: 0.8874 - val_loss: 0.3275 - val_accuracy: 0.9003\n",
      "Epoch 6/50\n",
      "400/400 [==============================] - 96s 241ms/step - loss: 0.3223 - accuracy: 0.8991 - val_loss: 0.3205 - val_accuracy: 0.8956\n",
      "Epoch 7/50\n",
      "400/400 [==============================] - 95s 238ms/step - loss: 0.2926 - accuracy: 0.9093 - val_loss: 0.2773 - val_accuracy: 0.9162\n",
      "Epoch 8/50\n",
      "400/400 [==============================] - 97s 242ms/step - loss: 0.2718 - accuracy: 0.9162 - val_loss: 0.2900 - val_accuracy: 0.9104\n",
      "Epoch 9/50\n",
      "400/400 [==============================] - 94s 235ms/step - loss: 0.2497 - accuracy: 0.9220 - val_loss: 0.2605 - val_accuracy: 0.9212\n",
      "Epoch 10/50\n",
      "400/400 [==============================] - 95s 238ms/step - loss: 0.2320 - accuracy: 0.9282 - val_loss: 0.2513 - val_accuracy: 0.9232\n",
      "Epoch 11/50\n",
      "400/400 [==============================] - 100s 250ms/step - loss: 0.2166 - accuracy: 0.9341 - val_loss: 0.2595 - val_accuracy: 0.9210\n",
      "Epoch 12/50\n",
      "400/400 [==============================] - 98s 244ms/step - loss: 0.2072 - accuracy: 0.9359 - val_loss: 0.2512 - val_accuracy: 0.9272\n",
      "Epoch 13/50\n",
      "400/400 [==============================] - 104s 259ms/step - loss: 0.1984 - accuracy: 0.9383 - val_loss: 0.2328 - val_accuracy: 0.9287\n",
      "Epoch 14/50\n",
      "400/400 [==============================] - 94s 235ms/step - loss: 0.1831 - accuracy: 0.9426 - val_loss: 0.2180 - val_accuracy: 0.9322\n",
      "Epoch 15/50\n",
      "400/400 [==============================] - 92s 231ms/step - loss: 0.1766 - accuracy: 0.9451 - val_loss: 0.2300 - val_accuracy: 0.9291\n",
      "Epoch 16/50\n",
      "400/400 [==============================] - 105s 263ms/step - loss: 0.1681 - accuracy: 0.9481 - val_loss: 0.2099 - val_accuracy: 0.9359\n",
      "Epoch 17/50\n",
      "400/400 [==============================] - 108s 270ms/step - loss: 0.1623 - accuracy: 0.9496 - val_loss: 0.2120 - val_accuracy: 0.9369\n",
      "Epoch 18/50\n",
      "400/400 [==============================] - 98s 246ms/step - loss: 0.1542 - accuracy: 0.9516 - val_loss: 0.2044 - val_accuracy: 0.9369\n",
      "Epoch 19/50\n",
      "400/400 [==============================] - 99s 246ms/step - loss: 0.1470 - accuracy: 0.9559 - val_loss: 0.2024 - val_accuracy: 0.9387\n",
      "Epoch 20/50\n",
      "400/400 [==============================] - 96s 241ms/step - loss: 0.1422 - accuracy: 0.9560 - val_loss: 0.2161 - val_accuracy: 0.9367\n",
      "Epoch 21/50\n",
      "400/400 [==============================] - 99s 248ms/step - loss: 0.1352 - accuracy: 0.9581 - val_loss: 0.2199 - val_accuracy: 0.9344\n",
      "Epoch 22/50\n",
      "400/400 [==============================] - 99s 248ms/step - loss: 0.1310 - accuracy: 0.9595 - val_loss: 0.2164 - val_accuracy: 0.9395\n",
      "Epoch 23/50\n",
      "400/400 [==============================] - 92s 229ms/step - loss: 0.1283 - accuracy: 0.9605 - val_loss: 0.2196 - val_accuracy: 0.9401\n",
      "Epoch 24/50\n",
      "400/400 [==============================] - 100s 249ms/step - loss: 0.1243 - accuracy: 0.9617 - val_loss: 0.2320 - val_accuracy: 0.9354\n",
      "Epoch 25/50\n",
      "400/400 [==============================] - 102s 254ms/step - loss: 0.1221 - accuracy: 0.9631 - val_loss: 0.2172 - val_accuracy: 0.9381\n",
      "Epoch 26/50\n",
      "400/400 [==============================] - 100s 250ms/step - loss: 0.1178 - accuracy: 0.9637 - val_loss: 0.2261 - val_accuracy: 0.9382\n",
      "Epoch 27/50\n",
      "400/400 [==============================] - 92s 229ms/step - loss: 0.1150 - accuracy: 0.9653 - val_loss: 0.2368 - val_accuracy: 0.9375\n",
      "Epoch 28/50\n",
      "400/400 [==============================] - 97s 242ms/step - loss: 0.1077 - accuracy: 0.9673 - val_loss: 0.2511 - val_accuracy: 0.9378\n",
      "Epoch 1/50\n",
      "400/400 [==============================] - 105s 245ms/step - loss: 1.1098 - accuracy: 0.6756 - val_loss: 0.6721 - val_accuracy: 0.7686\n",
      "Epoch 2/50\n",
      "400/400 [==============================] - 102s 254ms/step - loss: 0.5509 - accuracy: 0.8215 - val_loss: 0.4082 - val_accuracy: 0.8716\n",
      "Epoch 3/50\n",
      "400/400 [==============================] - 100s 250ms/step - loss: 0.3937 - accuracy: 0.8734 - val_loss: 0.3323 - val_accuracy: 0.8959\n",
      "Epoch 4/50\n",
      "400/400 [==============================] - 102s 255ms/step - loss: 0.3348 - accuracy: 0.8935 - val_loss: 0.2912 - val_accuracy: 0.9101\n",
      "Epoch 5/50\n",
      "400/400 [==============================] - 99s 248ms/step - loss: 0.2890 - accuracy: 0.9103 - val_loss: 0.2737 - val_accuracy: 0.9159\n",
      "Epoch 6/50\n",
      "400/400 [==============================] - 101s 254ms/step - loss: 0.2614 - accuracy: 0.9190 - val_loss: 0.2707 - val_accuracy: 0.9145\n",
      "Epoch 7/50\n",
      "400/400 [==============================] - 107s 268ms/step - loss: 0.2404 - accuracy: 0.9244 - val_loss: 0.2359 - val_accuracy: 0.9294\n",
      "Epoch 8/50\n",
      "400/400 [==============================] - 101s 252ms/step - loss: 0.2235 - accuracy: 0.9303 - val_loss: 0.2377 - val_accuracy: 0.9260\n",
      "Epoch 9/50\n",
      "400/400 [==============================] - 108s 270ms/step - loss: 0.2057 - accuracy: 0.9366 - val_loss: 0.2207 - val_accuracy: 0.9331\n",
      "Epoch 10/50\n",
      "400/400 [==============================] - 104s 260ms/step - loss: 0.1917 - accuracy: 0.9403 - val_loss: 0.2166 - val_accuracy: 0.9332\n",
      "Epoch 11/50\n",
      "400/400 [==============================] - 110s 274ms/step - loss: 0.1818 - accuracy: 0.9440 - val_loss: 0.2324 - val_accuracy: 0.9254\n",
      "Epoch 12/50\n",
      "400/400 [==============================] - 98s 244ms/step - loss: 0.1743 - accuracy: 0.9455 - val_loss: 0.1989 - val_accuracy: 0.9401\n",
      "Epoch 13/50\n",
      "400/400 [==============================] - 98s 245ms/step - loss: 0.1643 - accuracy: 0.9489 - val_loss: 0.2002 - val_accuracy: 0.9395\n",
      "Epoch 14/50\n",
      "400/400 [==============================] - 102s 255ms/step - loss: 0.1558 - accuracy: 0.9513 - val_loss: 0.1969 - val_accuracy: 0.9417\n",
      "Epoch 15/50\n",
      "400/400 [==============================] - 103s 257ms/step - loss: 0.1496 - accuracy: 0.9538 - val_loss: 0.1942 - val_accuracy: 0.9406\n",
      "Epoch 16/50\n",
      "400/400 [==============================] - 99s 248ms/step - loss: 0.1438 - accuracy: 0.9554 - val_loss: 0.2003 - val_accuracy: 0.9420\n",
      "Epoch 17/50\n",
      "400/400 [==============================] - 103s 257ms/step - loss: 0.1373 - accuracy: 0.9577 - val_loss: 0.1944 - val_accuracy: 0.9423\n",
      "Epoch 18/50\n",
      "400/400 [==============================] - 108s 269ms/step - loss: 0.1310 - accuracy: 0.9593 - val_loss: 0.1825 - val_accuracy: 0.9445\n",
      "Epoch 19/50\n",
      "400/400 [==============================] - 107s 268ms/step - loss: 0.1286 - accuracy: 0.9606 - val_loss: 0.1855 - val_accuracy: 0.9465\n",
      "Epoch 20/50\n",
      "400/400 [==============================] - 105s 262ms/step - loss: 0.1245 - accuracy: 0.9610 - val_loss: 0.1868 - val_accuracy: 0.9431\n",
      "Epoch 21/50\n",
      "400/400 [==============================] - 106s 265ms/step - loss: 0.1187 - accuracy: 0.9630 - val_loss: 0.1801 - val_accuracy: 0.9442\n",
      "Epoch 22/50\n",
      "400/400 [==============================] - 103s 257ms/step - loss: 0.1142 - accuracy: 0.9645 - val_loss: 0.1963 - val_accuracy: 0.9395\n",
      "Epoch 23/50\n",
      "400/400 [==============================] - 106s 264ms/step - loss: 0.1137 - accuracy: 0.9649 - val_loss: 0.1825 - val_accuracy: 0.9462\n",
      "Epoch 24/50\n",
      "400/400 [==============================] - 101s 253ms/step - loss: 0.1095 - accuracy: 0.9660 - val_loss: 0.1879 - val_accuracy: 0.9466\n",
      "Epoch 1/50\n",
      "200/200 [==============================] - 69s 325ms/step - loss: 1.6626 - accuracy: 0.5971 - val_loss: 1.7738 - val_accuracy: 0.6205\n",
      "Epoch 2/50\n",
      "200/200 [==============================] - 67s 337ms/step - loss: 1.4170 - accuracy: 0.6351 - val_loss: 1.3581 - val_accuracy: 0.6202\n",
      "Epoch 3/50\n",
      "200/200 [==============================] - 70s 351ms/step - loss: 1.3182 - accuracy: 0.6333 - val_loss: 1.3827 - val_accuracy: 0.6212\n",
      "Epoch 4/50\n",
      "200/200 [==============================] - 65s 327ms/step - loss: 1.2225 - accuracy: 0.6352 - val_loss: 1.1882 - val_accuracy: 0.6371\n",
      "Epoch 5/50\n",
      "200/200 [==============================] - 67s 335ms/step - loss: 1.1022 - accuracy: 0.6588 - val_loss: 0.9969 - val_accuracy: 0.6743\n",
      "Epoch 6/50\n",
      "200/200 [==============================] - 69s 343ms/step - loss: 0.9896 - accuracy: 0.6844 - val_loss: 0.8692 - val_accuracy: 0.7240\n",
      "Epoch 7/50\n",
      "200/200 [==============================] - 65s 326ms/step - loss: 0.8779 - accuracy: 0.7171 - val_loss: 0.7553 - val_accuracy: 0.7605\n",
      "Epoch 8/50\n",
      "200/200 [==============================] - 71s 353ms/step - loss: 0.7881 - accuracy: 0.7494 - val_loss: 0.6801 - val_accuracy: 0.7823\n",
      "Epoch 9/50\n",
      "200/200 [==============================] - 69s 344ms/step - loss: 0.7084 - accuracy: 0.7741 - val_loss: 0.6378 - val_accuracy: 0.7996\n",
      "Epoch 10/50\n",
      "200/200 [==============================] - 73s 367ms/step - loss: 0.6460 - accuracy: 0.7951 - val_loss: 0.5753 - val_accuracy: 0.8199\n",
      "Epoch 11/50\n",
      "200/200 [==============================] - 69s 346ms/step - loss: 0.5877 - accuracy: 0.8128 - val_loss: 0.5257 - val_accuracy: 0.8322\n",
      "Epoch 12/50\n",
      "200/200 [==============================] - 67s 334ms/step - loss: 0.5337 - accuracy: 0.8325 - val_loss: 0.4975 - val_accuracy: 0.8486\n",
      "Epoch 13/50\n",
      "200/200 [==============================] - 66s 328ms/step - loss: 0.4912 - accuracy: 0.8452 - val_loss: 0.4955 - val_accuracy: 0.8486\n",
      "Epoch 14/50\n",
      "200/200 [==============================] - 65s 323ms/step - loss: 0.4600 - accuracy: 0.8561 - val_loss: 0.4457 - val_accuracy: 0.8650\n",
      "Epoch 15/50\n",
      "200/200 [==============================] - 62s 312ms/step - loss: 0.4314 - accuracy: 0.8659 - val_loss: 0.4301 - val_accuracy: 0.8703\n",
      "Epoch 16/50\n",
      "200/200 [==============================] - 59s 296ms/step - loss: 0.4106 - accuracy: 0.8743 - val_loss: 0.4125 - val_accuracy: 0.8688\n",
      "Epoch 17/50\n"
     ]
    },
    {
     "name": "stdout",
     "output_type": "stream",
     "text": [
      "200/200 [==============================] - 64s 322ms/step - loss: 0.3874 - accuracy: 0.8816 - val_loss: 0.3995 - val_accuracy: 0.8785\n",
      "Epoch 18/50\n",
      "200/200 [==============================] - 60s 299ms/step - loss: 0.3709 - accuracy: 0.8850 - val_loss: 0.4010 - val_accuracy: 0.8773\n",
      "Epoch 19/50\n",
      "200/200 [==============================] - 65s 326ms/step - loss: 0.3529 - accuracy: 0.8914 - val_loss: 0.3752 - val_accuracy: 0.8917\n",
      "Epoch 20/50\n",
      "200/200 [==============================] - 64s 321ms/step - loss: 0.3355 - accuracy: 0.8984 - val_loss: 0.3514 - val_accuracy: 0.8935\n",
      "Epoch 21/50\n",
      "200/200 [==============================] - 61s 306ms/step - loss: 0.3257 - accuracy: 0.9023 - val_loss: 0.3390 - val_accuracy: 0.8960\n",
      "Epoch 22/50\n",
      "200/200 [==============================] - 61s 307ms/step - loss: 0.3140 - accuracy: 0.9047 - val_loss: 0.3613 - val_accuracy: 0.8901\n",
      "Epoch 23/50\n",
      "200/200 [==============================] - 63s 316ms/step - loss: 0.3042 - accuracy: 0.9068 - val_loss: 0.3467 - val_accuracy: 0.8991\n",
      "Epoch 24/50\n",
      "200/200 [==============================] - 63s 314ms/step - loss: 0.2928 - accuracy: 0.9110 - val_loss: 0.3403 - val_accuracy: 0.8995\n",
      "Epoch 25/50\n",
      "200/200 [==============================] - 63s 316ms/step - loss: 0.2838 - accuracy: 0.9152 - val_loss: 0.3334 - val_accuracy: 0.9014\n",
      "Epoch 26/50\n",
      "200/200 [==============================] - 66s 331ms/step - loss: 0.2751 - accuracy: 0.9168 - val_loss: 0.3072 - val_accuracy: 0.9073\n",
      "Epoch 27/50\n",
      "200/200 [==============================] - 62s 310ms/step - loss: 0.2672 - accuracy: 0.9196 - val_loss: 0.3036 - val_accuracy: 0.9091\n",
      "Epoch 28/50\n",
      "200/200 [==============================] - 63s 315ms/step - loss: 0.2603 - accuracy: 0.9227 - val_loss: 0.3151 - val_accuracy: 0.9107\n",
      "Epoch 29/50\n",
      "200/200 [==============================] - 60s 299ms/step - loss: 0.2559 - accuracy: 0.9224 - val_loss: 0.3236 - val_accuracy: 0.9100\n",
      "Epoch 30/50\n",
      "200/200 [==============================] - 66s 328ms/step - loss: 0.2480 - accuracy: 0.9250 - val_loss: 0.3428 - val_accuracy: 0.9079\n",
      "Epoch 31/50\n",
      "200/200 [==============================] - 64s 319ms/step - loss: 0.2441 - accuracy: 0.9260 - val_loss: 0.3279 - val_accuracy: 0.9050\n",
      "Epoch 32/50\n",
      "200/200 [==============================] - 64s 321ms/step - loss: 0.2325 - accuracy: 0.9299 - val_loss: 0.3371 - val_accuracy: 0.9023\n",
      "Epoch 33/50\n",
      "200/200 [==============================] - 61s 303ms/step - loss: 0.2245 - accuracy: 0.9327 - val_loss: 0.2924 - val_accuracy: 0.9162\n",
      "Epoch 34/50\n",
      "200/200 [==============================] - 65s 324ms/step - loss: 0.2247 - accuracy: 0.9336 - val_loss: 0.2965 - val_accuracy: 0.9173\n",
      "Epoch 35/50\n",
      "200/200 [==============================] - 61s 303ms/step - loss: 0.2231 - accuracy: 0.9337 - val_loss: 0.2972 - val_accuracy: 0.9110\n",
      "Epoch 36/50\n",
      "200/200 [==============================] - 65s 324ms/step - loss: 0.2173 - accuracy: 0.9343 - val_loss: 0.2845 - val_accuracy: 0.9172\n",
      "Epoch 37/50\n",
      "200/200 [==============================] - 64s 321ms/step - loss: 0.2091 - accuracy: 0.9371 - val_loss: 0.2744 - val_accuracy: 0.9238\n",
      "Epoch 38/50\n",
      "200/200 [==============================] - 60s 302ms/step - loss: 0.2063 - accuracy: 0.9380 - val_loss: 0.2588 - val_accuracy: 0.9263\n",
      "Epoch 39/50\n",
      "200/200 [==============================] - 65s 325ms/step - loss: 0.1998 - accuracy: 0.9401 - val_loss: 0.2924 - val_accuracy: 0.9187\n",
      "Epoch 40/50\n",
      "200/200 [==============================] - 61s 304ms/step - loss: 0.1975 - accuracy: 0.9422 - val_loss: 0.2972 - val_accuracy: 0.9234\n",
      "Epoch 41/50\n",
      "200/200 [==============================] - 65s 323ms/step - loss: 0.1938 - accuracy: 0.9426 - val_loss: 0.2699 - val_accuracy: 0.9257\n",
      "Epoch 42/50\n",
      "200/200 [==============================] - 63s 313ms/step - loss: 0.1900 - accuracy: 0.9437 - val_loss: 0.2928 - val_accuracy: 0.9178\n",
      "Epoch 43/50\n",
      "200/200 [==============================] - 63s 313ms/step - loss: 0.1819 - accuracy: 0.9457 - val_loss: 0.2745 - val_accuracy: 0.9206\n",
      "Epoch 1/50\n",
      "200/200 [==============================] - 96s 453ms/step - loss: 1.2665 - accuracy: 0.6434 - val_loss: 1.1510 - val_accuracy: 0.6749\n",
      "Epoch 2/50\n",
      "200/200 [==============================] - 90s 448ms/step - loss: 0.8270 - accuracy: 0.7363 - val_loss: 0.6393 - val_accuracy: 0.7942\n",
      "Epoch 3/50\n",
      "200/200 [==============================] - 90s 449ms/step - loss: 0.5737 - accuracy: 0.8151 - val_loss: 0.4428 - val_accuracy: 0.8588\n",
      "Epoch 4/50\n",
      "200/200 [==============================] - 94s 469ms/step - loss: 0.4522 - accuracy: 0.8555 - val_loss: 0.4083 - val_accuracy: 0.8763\n",
      "Epoch 5/50\n",
      "200/200 [==============================] - 86s 430ms/step - loss: 0.3894 - accuracy: 0.8775 - val_loss: 0.3489 - val_accuracy: 0.8903\n",
      "Epoch 6/50\n",
      "200/200 [==============================] - 92s 460ms/step - loss: 0.3448 - accuracy: 0.8911 - val_loss: 0.3256 - val_accuracy: 0.9013\n",
      "Epoch 7/50\n",
      "200/200 [==============================] - 92s 458ms/step - loss: 0.3169 - accuracy: 0.9007 - val_loss: 0.3151 - val_accuracy: 0.9032\n",
      "Epoch 8/50\n",
      "200/200 [==============================] - 92s 459ms/step - loss: 0.2968 - accuracy: 0.9068 - val_loss: 0.3173 - val_accuracy: 0.9036\n",
      "Epoch 9/50\n",
      "200/200 [==============================] - 86s 432ms/step - loss: 0.2731 - accuracy: 0.9143 - val_loss: 0.2852 - val_accuracy: 0.9172\n",
      "Epoch 10/50\n",
      "200/200 [==============================] - 91s 454ms/step - loss: 0.2539 - accuracy: 0.9204 - val_loss: 0.2993 - val_accuracy: 0.9129\n",
      "Epoch 11/50\n",
      "200/200 [==============================] - 89s 443ms/step - loss: 0.2414 - accuracy: 0.9234 - val_loss: 0.2881 - val_accuracy: 0.9116\n",
      "Epoch 12/50\n",
      "200/200 [==============================] - 86s 432ms/step - loss: 0.2259 - accuracy: 0.9298 - val_loss: 0.2707 - val_accuracy: 0.9229\n",
      "Epoch 13/50\n",
      "200/200 [==============================] - 89s 444ms/step - loss: 0.2149 - accuracy: 0.9324 - val_loss: 0.2579 - val_accuracy: 0.9226\n",
      "Epoch 14/50\n",
      "200/200 [==============================] - 86s 432ms/step - loss: 0.2097 - accuracy: 0.9344 - val_loss: 0.2595 - val_accuracy: 0.9223\n",
      "Epoch 15/50\n",
      "200/200 [==============================] - 89s 444ms/step - loss: 0.1979 - accuracy: 0.9382 - val_loss: 0.2912 - val_accuracy: 0.9222\n",
      "Epoch 16/50\n",
      "200/200 [==============================] - 90s 449ms/step - loss: 0.1911 - accuracy: 0.9399 - val_loss: 0.2504 - val_accuracy: 0.9264\n",
      "Epoch 17/50\n",
      "200/200 [==============================] - 87s 435ms/step - loss: 0.1820 - accuracy: 0.9439 - val_loss: 0.2745 - val_accuracy: 0.9256\n",
      "Epoch 18/50\n",
      "200/200 [==============================] - 89s 445ms/step - loss: 0.1775 - accuracy: 0.9453 - val_loss: 0.2513 - val_accuracy: 0.9231\n",
      "Epoch 19/50\n",
      "200/200 [==============================] - 85s 426ms/step - loss: 0.1688 - accuracy: 0.9474 - val_loss: 0.2609 - val_accuracy: 0.9281\n",
      "Epoch 20/50\n",
      "200/200 [==============================] - 90s 450ms/step - loss: 0.1640 - accuracy: 0.9493 - val_loss: 0.2480 - val_accuracy: 0.9326\n",
      "Epoch 21/50\n",
      "200/200 [==============================] - 88s 442ms/step - loss: 0.1591 - accuracy: 0.9495 - val_loss: 0.2653 - val_accuracy: 0.9291\n",
      "Epoch 22/50\n",
      "200/200 [==============================] - 83s 414ms/step - loss: 0.1537 - accuracy: 0.9524 - val_loss: 0.2475 - val_accuracy: 0.9307\n",
      "Epoch 23/50\n",
      "200/200 [==============================] - 93s 466ms/step - loss: 0.1458 - accuracy: 0.9545 - val_loss: 0.2289 - val_accuracy: 0.9350\n",
      "Epoch 24/50\n",
      "200/200 [==============================] - 86s 432ms/step - loss: 0.1436 - accuracy: 0.9552 - val_loss: 0.2557 - val_accuracy: 0.9347\n",
      "Epoch 25/50\n",
      "200/200 [==============================] - 92s 459ms/step - loss: 0.1408 - accuracy: 0.9562 - val_loss: 0.2644 - val_accuracy: 0.9325\n",
      "Epoch 26/50\n",
      "200/200 [==============================] - 89s 445ms/step - loss: 0.1370 - accuracy: 0.9570 - val_loss: 0.2647 - val_accuracy: 0.9292\n",
      "Epoch 27/50\n",
      "200/200 [==============================] - 86s 430ms/step - loss: 0.1291 - accuracy: 0.9599 - val_loss: 0.2529 - val_accuracy: 0.9341\n",
      "Epoch 28/50\n",
      "200/200 [==============================] - 88s 442ms/step - loss: 0.1305 - accuracy: 0.9592 - val_loss: 0.2643 - val_accuracy: 0.9332\n",
      "Epoch 1/50\n",
      "200/200 [==============================] - 85s 401ms/step - loss: 1.2585 - accuracy: 0.6457 - val_loss: 0.8586 - val_accuracy: 0.7161\n",
      "Epoch 2/50\n",
      "200/200 [==============================] - 85s 427ms/step - loss: 0.6376 - accuracy: 0.7932 - val_loss: 0.4542 - val_accuracy: 0.8520\n",
      "Epoch 3/50\n",
      "200/200 [==============================] - 86s 430ms/step - loss: 0.4477 - accuracy: 0.8556 - val_loss: 0.3560 - val_accuracy: 0.8888\n",
      "Epoch 4/50\n",
      "200/200 [==============================] - 87s 433ms/step - loss: 0.3696 - accuracy: 0.8834 - val_loss: 0.3242 - val_accuracy: 0.8972\n",
      "Epoch 5/50\n",
      "200/200 [==============================] - 87s 433ms/step - loss: 0.3227 - accuracy: 0.8990 - val_loss: 0.2761 - val_accuracy: 0.9120\n",
      "Epoch 6/50\n",
      "200/200 [==============================] - 84s 420ms/step - loss: 0.2892 - accuracy: 0.9111 - val_loss: 0.2654 - val_accuracy: 0.9144\n",
      "Epoch 7/50\n",
      "200/200 [==============================] - 86s 428ms/step - loss: 0.2632 - accuracy: 0.9188 - val_loss: 0.2551 - val_accuracy: 0.9197\n",
      "Epoch 8/50\n",
      "200/200 [==============================] - 86s 432ms/step - loss: 0.2497 - accuracy: 0.9231 - val_loss: 0.2369 - val_accuracy: 0.9254\n",
      "Epoch 9/50\n",
      "200/200 [==============================] - 84s 418ms/step - loss: 0.2311 - accuracy: 0.9282 - val_loss: 0.2416 - val_accuracy: 0.9214\n",
      "Epoch 10/50\n",
      "200/200 [==============================] - 86s 428ms/step - loss: 0.2154 - accuracy: 0.9331 - val_loss: 0.2225 - val_accuracy: 0.9306\n",
      "Epoch 11/50\n",
      "200/200 [==============================] - 85s 422ms/step - loss: 0.2066 - accuracy: 0.9361 - val_loss: 0.2167 - val_accuracy: 0.9320\n",
      "Epoch 12/50\n",
      "200/200 [==============================] - 87s 437ms/step - loss: 0.1978 - accuracy: 0.9385 - val_loss: 0.2076 - val_accuracy: 0.9354\n",
      "Epoch 13/50\n",
      "200/200 [==============================] - 91s 454ms/step - loss: 0.1865 - accuracy: 0.9413 - val_loss: 0.2105 - val_accuracy: 0.9344\n",
      "Epoch 14/50\n",
      "200/200 [==============================] - 83s 416ms/step - loss: 0.1788 - accuracy: 0.9448 - val_loss: 0.2069 - val_accuracy: 0.9362\n",
      "Epoch 15/50\n",
      "200/200 [==============================] - 83s 413ms/step - loss: 0.1668 - accuracy: 0.9475 - val_loss: 0.1985 - val_accuracy: 0.9392\n",
      "Epoch 16/50\n",
      "200/200 [==============================] - 87s 437ms/step - loss: 0.1650 - accuracy: 0.9486 - val_loss: 0.1993 - val_accuracy: 0.9375\n",
      "Epoch 17/50\n",
      "200/200 [==============================] - 87s 435ms/step - loss: 0.1587 - accuracy: 0.9510 - val_loss: 0.1946 - val_accuracy: 0.9434\n",
      "Epoch 18/50\n",
      "200/200 [==============================] - 85s 424ms/step - loss: 0.1539 - accuracy: 0.9526 - val_loss: 0.1939 - val_accuracy: 0.9419\n",
      "Epoch 19/50\n",
      "200/200 [==============================] - 87s 433ms/step - loss: 0.1479 - accuracy: 0.9541 - val_loss: 0.1998 - val_accuracy: 0.9376\n",
      "Epoch 20/50\n",
      "200/200 [==============================] - 83s 416ms/step - loss: 0.1438 - accuracy: 0.9546 - val_loss: 0.1855 - val_accuracy: 0.9459\n",
      "Epoch 21/50\n",
      "200/200 [==============================] - 91s 453ms/step - loss: 0.1374 - accuracy: 0.9580 - val_loss: 0.1856 - val_accuracy: 0.9448\n",
      "Epoch 22/50\n",
      "200/200 [==============================] - 74s 369ms/step - loss: 0.1348 - accuracy: 0.9581 - val_loss: 0.1882 - val_accuracy: 0.9469\n",
      "Epoch 23/50\n",
      "200/200 [==============================] - 67s 336ms/step - loss: 0.1301 - accuracy: 0.9606 - val_loss: 0.1873 - val_accuracy: 0.9434\n",
      "Epoch 24/50\n",
      "200/200 [==============================] - 66s 332ms/step - loss: 0.1264 - accuracy: 0.9609 - val_loss: 0.1813 - val_accuracy: 0.9438\n",
      "Epoch 25/50\n",
      "200/200 [==============================] - 66s 328ms/step - loss: 0.1241 - accuracy: 0.9616 - val_loss: 0.1813 - val_accuracy: 0.9448\n",
      "Epoch 26/50\n",
      "200/200 [==============================] - 58s 289ms/step - loss: 0.1219 - accuracy: 0.9625 - val_loss: 0.1972 - val_accuracy: 0.9422\n",
      "Epoch 27/50\n",
      "200/200 [==============================] - 80s 401ms/step - loss: 0.1175 - accuracy: 0.9644 - val_loss: 0.1909 - val_accuracy: 0.9426\n"
     ]
    },
    {
     "data": {
      "application/vnd.jupyter.widget-view+json": {
       "model_id": "9ab0d8596f434ab09648c61f377e4a5b",
       "version_major": 2,
       "version_minor": 0
      },
      "text/plain": [
       "  0%|          | 0/2 [00:00<?, ?it/s]"
      ]
     },
     "metadata": {},
     "output_type": "display_data"
    },
    {
     "name": "stdout",
     "output_type": "stream",
     "text": [
      "Epoch 1/50\n",
      "400/400 [==============================] - 79s 186ms/step - loss: 1.3541 - accuracy: 0.6316 - val_loss: 1.2416 - val_accuracy: 0.6189\n",
      "Epoch 2/50\n",
      "400/400 [==============================] - 67s 168ms/step - loss: 1.0379 - accuracy: 0.6620 - val_loss: 0.9916 - val_accuracy: 0.6998\n",
      "Epoch 3/50\n",
      "400/400 [==============================] - 70s 175ms/step - loss: 0.7657 - accuracy: 0.7568 - val_loss: 0.6713 - val_accuracy: 0.7835\n",
      "Epoch 4/50\n",
      "400/400 [==============================] - 70s 175ms/step - loss: 0.5956 - accuracy: 0.8115 - val_loss: 0.5349 - val_accuracy: 0.8269\n",
      "Epoch 5/50\n",
      "400/400 [==============================] - 70s 176ms/step - loss: 0.5054 - accuracy: 0.8439 - val_loss: 0.5941 - val_accuracy: 0.8132\n",
      "Epoch 6/50\n",
      "400/400 [==============================] - 69s 172ms/step - loss: 0.4355 - accuracy: 0.8710 - val_loss: 0.4363 - val_accuracy: 0.8647\n",
      "Epoch 7/50\n",
      "400/400 [==============================] - 67s 168ms/step - loss: 0.3937 - accuracy: 0.8865 - val_loss: 0.3959 - val_accuracy: 0.8798\n",
      "Epoch 8/50\n",
      "400/400 [==============================] - 73s 182ms/step - loss: 0.3552 - accuracy: 0.8991 - val_loss: 0.3454 - val_accuracy: 0.8973\n",
      "Epoch 9/50\n",
      "400/400 [==============================] - 73s 182ms/step - loss: 0.3352 - accuracy: 0.9036 - val_loss: 0.4357 - val_accuracy: 0.8825\n",
      "Epoch 10/50\n",
      "400/400 [==============================] - 65s 162ms/step - loss: 0.3115 - accuracy: 0.9124 - val_loss: 0.3232 - val_accuracy: 0.9095\n",
      "Epoch 11/50\n",
      "400/400 [==============================] - 71s 179ms/step - loss: 0.2907 - accuracy: 0.9193 - val_loss: 0.3487 - val_accuracy: 0.8995\n",
      "Epoch 12/50\n",
      "400/400 [==============================] - 65s 163ms/step - loss: 0.2826 - accuracy: 0.9197 - val_loss: 0.4116 - val_accuracy: 0.8879\n",
      "Epoch 13/50\n",
      "400/400 [==============================] - 72s 179ms/step - loss: 0.2750 - accuracy: 0.9241 - val_loss: 0.3024 - val_accuracy: 0.9197\n",
      "Epoch 14/50\n",
      "400/400 [==============================] - 76s 190ms/step - loss: 0.2703 - accuracy: 0.9236 - val_loss: 0.3321 - val_accuracy: 0.9048\n",
      "Epoch 15/50\n",
      "400/400 [==============================] - 73s 183ms/step - loss: 0.2640 - accuracy: 0.9268 - val_loss: 0.2968 - val_accuracy: 0.9164\n",
      "Epoch 16/50\n",
      "400/400 [==============================] - 72s 181ms/step - loss: 0.2535 - accuracy: 0.9301 - val_loss: 0.3429 - val_accuracy: 0.9072\n",
      "Epoch 17/50\n",
      "400/400 [==============================] - 62s 154ms/step - loss: 0.2293 - accuracy: 0.9365 - val_loss: 0.2848 - val_accuracy: 0.9241\n",
      "Epoch 18/50\n",
      "400/400 [==============================] - 70s 175ms/step - loss: 0.2330 - accuracy: 0.9352 - val_loss: 0.2793 - val_accuracy: 0.9248\n",
      "Epoch 19/50\n",
      "400/400 [==============================] - 72s 180ms/step - loss: 0.2277 - accuracy: 0.9371 - val_loss: 0.3131 - val_accuracy: 0.9120\n",
      "Epoch 20/50\n",
      "400/400 [==============================] - 71s 178ms/step - loss: 0.2213 - accuracy: 0.9385 - val_loss: 0.2893 - val_accuracy: 0.9195\n",
      "Epoch 21/50\n",
      "400/400 [==============================] - 69s 171ms/step - loss: 0.2254 - accuracy: 0.9391 - val_loss: 0.2970 - val_accuracy: 0.9213\n",
      "Epoch 22/50\n",
      "400/400 [==============================] - 74s 185ms/step - loss: 0.2173 - accuracy: 0.9413 - val_loss: 0.2806 - val_accuracy: 0.9222\n",
      "Epoch 1/50\n",
      "400/400 [==============================] - 107s 257ms/step - loss: 1.3813 - accuracy: 0.6704 - val_loss: 0.7409 - val_accuracy: 0.7518\n",
      "Epoch 2/50\n",
      "400/400 [==============================] - 95s 237ms/step - loss: 0.6001 - accuracy: 0.8010 - val_loss: 0.4328 - val_accuracy: 0.8657\n",
      "Epoch 3/50\n",
      "400/400 [==============================] - 89s 223ms/step - loss: 0.3990 - accuracy: 0.8735 - val_loss: 0.3249 - val_accuracy: 0.9011\n",
      "Epoch 4/50\n",
      "400/400 [==============================] - 100s 250ms/step - loss: 0.3178 - accuracy: 0.9014 - val_loss: 0.2844 - val_accuracy: 0.9095\n",
      "Epoch 5/50\n",
      "400/400 [==============================] - 89s 221ms/step - loss: 0.2696 - accuracy: 0.9162 - val_loss: 0.2771 - val_accuracy: 0.9135\n",
      "Epoch 6/50\n",
      "400/400 [==============================] - 104s 261ms/step - loss: 0.2408 - accuracy: 0.9255 - val_loss: 0.2458 - val_accuracy: 0.9244\n",
      "Epoch 7/50\n",
      "400/400 [==============================] - 87s 217ms/step - loss: 0.2204 - accuracy: 0.9324 - val_loss: 0.2346 - val_accuracy: 0.9259\n",
      "Epoch 8/50\n",
      "400/400 [==============================] - 99s 248ms/step - loss: 0.2047 - accuracy: 0.9368 - val_loss: 0.2299 - val_accuracy: 0.9245\n",
      "Epoch 9/50\n",
      "400/400 [==============================] - 97s 242ms/step - loss: 0.1912 - accuracy: 0.9411 - val_loss: 0.2321 - val_accuracy: 0.9257\n",
      "Epoch 10/50\n",
      "400/400 [==============================] - 99s 247ms/step - loss: 0.1780 - accuracy: 0.9447 - val_loss: 0.2192 - val_accuracy: 0.9325\n",
      "Epoch 11/50\n",
      "400/400 [==============================] - 104s 261ms/step - loss: 0.1693 - accuracy: 0.9475 - val_loss: 0.2197 - val_accuracy: 0.9320\n",
      "Epoch 12/50\n",
      "400/400 [==============================] - 99s 248ms/step - loss: 0.1624 - accuracy: 0.9502 - val_loss: 0.2145 - val_accuracy: 0.9345\n",
      "Epoch 13/50\n",
      "400/400 [==============================] - 105s 262ms/step - loss: 0.1570 - accuracy: 0.9518 - val_loss: 0.1965 - val_accuracy: 0.9412\n",
      "Epoch 14/50\n",
      "400/400 [==============================] - 102s 254ms/step - loss: 0.1494 - accuracy: 0.9541 - val_loss: 0.2026 - val_accuracy: 0.9381\n",
      "Epoch 15/50\n",
      "400/400 [==============================] - 93s 233ms/step - loss: 0.1436 - accuracy: 0.9556 - val_loss: 0.1916 - val_accuracy: 0.9403\n",
      "Epoch 16/50\n",
      "400/400 [==============================] - 96s 239ms/step - loss: 0.1333 - accuracy: 0.9593 - val_loss: 0.1942 - val_accuracy: 0.9391\n",
      "Epoch 17/50\n",
      "400/400 [==============================] - 103s 259ms/step - loss: 0.1317 - accuracy: 0.9594 - val_loss: 0.1910 - val_accuracy: 0.9432\n",
      "Epoch 18/50\n",
      "400/400 [==============================] - 108s 271ms/step - loss: 0.1281 - accuracy: 0.9607 - val_loss: 0.2084 - val_accuracy: 0.9359\n",
      "Epoch 19/50\n",
      "400/400 [==============================] - 100s 250ms/step - loss: 0.1207 - accuracy: 0.9626 - val_loss: 0.2129 - val_accuracy: 0.9390\n",
      "Epoch 20/50\n",
      "400/400 [==============================] - 100s 251ms/step - loss: 0.1179 - accuracy: 0.9636 - val_loss: 0.1966 - val_accuracy: 0.9412\n",
      "Epoch 21/50\n",
      "400/400 [==============================] - 102s 256ms/step - loss: 0.1175 - accuracy: 0.9636 - val_loss: 0.1909 - val_accuracy: 0.9444\n",
      "Epoch 22/50\n",
      "400/400 [==============================] - 100s 250ms/step - loss: 0.1111 - accuracy: 0.9663 - val_loss: 0.1888 - val_accuracy: 0.9450\n",
      "Epoch 23/50\n",
      "400/400 [==============================] - 100s 249ms/step - loss: 0.1076 - accuracy: 0.9662 - val_loss: 0.1794 - val_accuracy: 0.9466\n",
      "Epoch 24/50\n",
      "400/400 [==============================] - 100s 250ms/step - loss: 0.1064 - accuracy: 0.9679 - val_loss: 0.1982 - val_accuracy: 0.9426\n",
      "Epoch 25/50\n",
      "400/400 [==============================] - 101s 251ms/step - loss: 0.1054 - accuracy: 0.9671 - val_loss: 0.1922 - val_accuracy: 0.9432\n",
      "Epoch 26/50\n",
      "400/400 [==============================] - 99s 248ms/step - loss: 0.0948 - accuracy: 0.9710 - val_loss: 0.2057 - val_accuracy: 0.9462\n",
      "Epoch 27/50\n",
      "400/400 [==============================] - 99s 248ms/step - loss: 0.0953 - accuracy: 0.9703 - val_loss: 0.1841 - val_accuracy: 0.9451\n",
      "Epoch 28/50\n",
      "400/400 [==============================] - 100s 249ms/step - loss: 0.0986 - accuracy: 0.9693 - val_loss: 0.1793 - val_accuracy: 0.9476\n",
      "Epoch 29/50\n",
      "400/400 [==============================] - 98s 246ms/step - loss: 0.0890 - accuracy: 0.9722 - val_loss: 0.2152 - val_accuracy: 0.9395\n",
      "Epoch 30/50\n",
      "400/400 [==============================] - 106s 265ms/step - loss: 0.0904 - accuracy: 0.9724 - val_loss: 0.1906 - val_accuracy: 0.9479\n",
      "Epoch 31/50\n",
      "400/400 [==============================] - 99s 248ms/step - loss: 0.0844 - accuracy: 0.9737 - val_loss: 0.2122 - val_accuracy: 0.9457\n",
      "Epoch 32/50\n",
      "400/400 [==============================] - 98s 244ms/step - loss: 0.0876 - accuracy: 0.9731 - val_loss: 0.1985 - val_accuracy: 0.9422\n",
      "Epoch 33/50\n",
      "400/400 [==============================] - 98s 245ms/step - loss: 0.0839 - accuracy: 0.9747 - val_loss: 0.2237 - val_accuracy: 0.9423\n",
      "Epoch 1/50\n",
      "400/400 [==============================] - 100s 240ms/step - loss: 0.7859 - accuracy: 0.7623 - val_loss: 0.3792 - val_accuracy: 0.8797\n",
      "Epoch 2/50\n",
      "400/400 [==============================] - 94s 235ms/step - loss: 0.3582 - accuracy: 0.8861 - val_loss: 0.3076 - val_accuracy: 0.9011\n",
      "Epoch 3/50\n",
      "400/400 [==============================] - 95s 237ms/step - loss: 0.2865 - accuracy: 0.9112 - val_loss: 0.2569 - val_accuracy: 0.9197\n",
      "Epoch 4/50\n",
      "400/400 [==============================] - 95s 238ms/step - loss: 0.2419 - accuracy: 0.9243 - val_loss: 0.2341 - val_accuracy: 0.9247\n",
      "Epoch 5/50\n",
      "400/400 [==============================] - 94s 236ms/step - loss: 0.2124 - accuracy: 0.9337 - val_loss: 0.2348 - val_accuracy: 0.9269\n",
      "Epoch 6/50\n",
      "400/400 [==============================] - 96s 239ms/step - loss: 0.1956 - accuracy: 0.9387 - val_loss: 0.2186 - val_accuracy: 0.9320\n",
      "Epoch 7/50\n",
      "400/400 [==============================] - 96s 240ms/step - loss: 0.1769 - accuracy: 0.9454 - val_loss: 0.2066 - val_accuracy: 0.9353\n",
      "Epoch 8/50\n",
      "400/400 [==============================] - 94s 236ms/step - loss: 0.1675 - accuracy: 0.9476 - val_loss: 0.2014 - val_accuracy: 0.9382\n",
      "Epoch 9/50\n",
      "400/400 [==============================] - 94s 235ms/step - loss: 0.1568 - accuracy: 0.9502 - val_loss: 0.1932 - val_accuracy: 0.9394\n",
      "Epoch 10/50\n",
      "400/400 [==============================] - 93s 234ms/step - loss: 0.1488 - accuracy: 0.9531 - val_loss: 0.1865 - val_accuracy: 0.9404\n",
      "Epoch 11/50\n",
      "400/400 [==============================] - 94s 234ms/step - loss: 0.1357 - accuracy: 0.9563 - val_loss: 0.1773 - val_accuracy: 0.9441\n",
      "Epoch 12/50\n",
      "400/400 [==============================] - 94s 234ms/step - loss: 0.1310 - accuracy: 0.9594 - val_loss: 0.1904 - val_accuracy: 0.9431\n",
      "Epoch 13/50\n",
      "400/400 [==============================] - 93s 232ms/step - loss: 0.1257 - accuracy: 0.9606 - val_loss: 0.1954 - val_accuracy: 0.9425\n",
      "Epoch 14/50\n",
      "400/400 [==============================] - 94s 234ms/step - loss: 0.1217 - accuracy: 0.9614 - val_loss: 0.1880 - val_accuracy: 0.9447\n",
      "Epoch 15/50\n",
      "400/400 [==============================] - 94s 236ms/step - loss: 0.1158 - accuracy: 0.9635 - val_loss: 0.1876 - val_accuracy: 0.9441\n",
      "Epoch 16/50\n",
      "400/400 [==============================] - 97s 242ms/step - loss: 0.1134 - accuracy: 0.9646 - val_loss: 0.1977 - val_accuracy: 0.9395\n",
      "Epoch 1/50\n",
      "200/200 [==============================] - 63s 298ms/step - loss: 1.3863 - accuracy: 0.6326 - val_loss: 1.4983 - val_accuracy: 0.6221\n",
      "Epoch 2/50\n",
      "200/200 [==============================] - 58s 289ms/step - loss: 1.0989 - accuracy: 0.6449 - val_loss: 1.1722 - val_accuracy: 0.6602\n",
      "Epoch 3/50\n",
      "200/200 [==============================] - 59s 295ms/step - loss: 0.8627 - accuracy: 0.7071 - val_loss: 0.7471 - val_accuracy: 0.7417\n",
      "Epoch 4/50\n",
      "200/200 [==============================] - 59s 293ms/step - loss: 0.6708 - accuracy: 0.7734 - val_loss: 0.5646 - val_accuracy: 0.8058\n",
      "Epoch 5/50\n",
      "200/200 [==============================] - 59s 295ms/step - loss: 0.5314 - accuracy: 0.8258 - val_loss: 0.4939 - val_accuracy: 0.8347\n",
      "Epoch 6/50\n",
      "200/200 [==============================] - 61s 306ms/step - loss: 0.4590 - accuracy: 0.8521 - val_loss: 0.4098 - val_accuracy: 0.8750\n",
      "Epoch 7/50\n",
      "200/200 [==============================] - 58s 290ms/step - loss: 0.3972 - accuracy: 0.8762 - val_loss: 0.4458 - val_accuracy: 0.8570\n",
      "Epoch 8/50\n",
      "200/200 [==============================] - 59s 296ms/step - loss: 0.3561 - accuracy: 0.8924 - val_loss: 0.3279 - val_accuracy: 0.9003\n",
      "Epoch 9/50\n",
      "200/200 [==============================] - 60s 300ms/step - loss: 0.3311 - accuracy: 0.9017 - val_loss: 0.3224 - val_accuracy: 0.9031\n",
      "Epoch 10/50\n",
      "200/200 [==============================] - 60s 300ms/step - loss: 0.3111 - accuracy: 0.9090 - val_loss: 0.3378 - val_accuracy: 0.8970\n",
      "Epoch 11/50\n",
      "200/200 [==============================] - 59s 293ms/step - loss: 0.3006 - accuracy: 0.9119 - val_loss: 0.2984 - val_accuracy: 0.9122\n",
      "Epoch 12/50\n",
      "200/200 [==============================] - 52s 259ms/step - loss: 0.2780 - accuracy: 0.9188 - val_loss: 0.3318 - val_accuracy: 0.9139\n",
      "Epoch 13/50\n",
      "200/200 [==============================] - 58s 290ms/step - loss: 0.2584 - accuracy: 0.9253 - val_loss: 0.3088 - val_accuracy: 0.9098\n",
      "Epoch 14/50\n",
      "200/200 [==============================] - 56s 281ms/step - loss: 0.2544 - accuracy: 0.9263 - val_loss: 0.2770 - val_accuracy: 0.9194\n",
      "Epoch 15/50\n",
      "200/200 [==============================] - 55s 277ms/step - loss: 0.2466 - accuracy: 0.9276 - val_loss: 0.2989 - val_accuracy: 0.9110\n",
      "Epoch 16/50\n",
      "200/200 [==============================] - 55s 277ms/step - loss: 0.2336 - accuracy: 0.9335 - val_loss: 0.2864 - val_accuracy: 0.9216\n",
      "Epoch 17/50\n",
      "200/200 [==============================] - 56s 280ms/step - loss: 0.2301 - accuracy: 0.9341 - val_loss: 0.2893 - val_accuracy: 0.9154\n",
      "Epoch 18/50\n",
      "200/200 [==============================] - 56s 279ms/step - loss: 0.2266 - accuracy: 0.9343 - val_loss: 0.2930 - val_accuracy: 0.9144\n",
      "Epoch 19/50\n",
      "200/200 [==============================] - 56s 280ms/step - loss: 0.2127 - accuracy: 0.9389 - val_loss: 0.2896 - val_accuracy: 0.9150\n",
      "Epoch 20/50\n",
      "200/200 [==============================] - 56s 278ms/step - loss: 0.2062 - accuracy: 0.9411 - val_loss: 0.2963 - val_accuracy: 0.9173\n",
      "Epoch 21/50\n",
      "200/200 [==============================] - 56s 279ms/step - loss: 0.2049 - accuracy: 0.9418 - val_loss: 0.2571 - val_accuracy: 0.9263\n",
      "Epoch 22/50\n",
      "200/200 [==============================] - 56s 279ms/step - loss: 0.1931 - accuracy: 0.9453 - val_loss: 0.2617 - val_accuracy: 0.9303\n",
      "Epoch 23/50\n",
      "200/200 [==============================] - 55s 277ms/step - loss: 0.1907 - accuracy: 0.9458 - val_loss: 0.2935 - val_accuracy: 0.9237\n",
      "Epoch 24/50\n",
      "200/200 [==============================] - 56s 278ms/step - loss: 0.1898 - accuracy: 0.9459 - val_loss: 0.2487 - val_accuracy: 0.9326\n",
      "Epoch 25/50\n",
      "200/200 [==============================] - 56s 279ms/step - loss: 0.1815 - accuracy: 0.9481 - val_loss: 0.2626 - val_accuracy: 0.9289\n",
      "Epoch 26/50\n",
      "200/200 [==============================] - 55s 275ms/step - loss: 0.1881 - accuracy: 0.9460 - val_loss: 0.2742 - val_accuracy: 0.9217\n",
      "Epoch 27/50\n",
      "200/200 [==============================] - 56s 278ms/step - loss: 0.1763 - accuracy: 0.9492 - val_loss: 0.2639 - val_accuracy: 0.9325\n",
      "Epoch 28/50\n",
      "200/200 [==============================] - 56s 281ms/step - loss: 0.1716 - accuracy: 0.9521 - val_loss: 0.2383 - val_accuracy: 0.9322\n",
      "Epoch 29/50\n",
      "200/200 [==============================] - 56s 278ms/step - loss: 0.1739 - accuracy: 0.9504 - val_loss: 0.2569 - val_accuracy: 0.9295\n",
      "Epoch 1/50\n",
      "200/200 [==============================] - 82s 396ms/step - loss: 8.8419 - accuracy: 0.6070 - val_loss: 1.0322 - val_accuracy: 0.6668\n",
      "Epoch 2/50\n",
      "200/200 [==============================] - 78s 392ms/step - loss: 0.8136 - accuracy: 0.7356 - val_loss: 0.6036 - val_accuracy: 0.8021\n",
      "Epoch 3/50\n",
      "200/200 [==============================] - 76s 382ms/step - loss: 0.5620 - accuracy: 0.8165 - val_loss: 0.4383 - val_accuracy: 0.8610\n",
      "Epoch 4/50\n",
      "200/200 [==============================] - 76s 380ms/step - loss: 0.4495 - accuracy: 0.8561 - val_loss: 0.3914 - val_accuracy: 0.8807\n",
      "Epoch 5/50\n",
      "200/200 [==============================] - 76s 380ms/step - loss: 0.3755 - accuracy: 0.8817 - val_loss: 0.3257 - val_accuracy: 0.8984\n",
      "Epoch 6/50\n",
      "200/200 [==============================] - 77s 383ms/step - loss: 0.3359 - accuracy: 0.8958 - val_loss: 0.3115 - val_accuracy: 0.9003\n",
      "Epoch 7/50\n",
      "200/200 [==============================] - 76s 382ms/step - loss: 0.3013 - accuracy: 0.9070 - val_loss: 0.2949 - val_accuracy: 0.9050\n",
      "Epoch 8/50\n",
      "200/200 [==============================] - 76s 381ms/step - loss: 0.2765 - accuracy: 0.9156 - val_loss: 0.2756 - val_accuracy: 0.9164\n",
      "Epoch 9/50\n",
      "200/200 [==============================] - 76s 381ms/step - loss: 0.2560 - accuracy: 0.9209 - val_loss: 0.2723 - val_accuracy: 0.9178\n",
      "Epoch 10/50\n",
      "200/200 [==============================] - 76s 382ms/step - loss: 0.2400 - accuracy: 0.9255 - val_loss: 0.2508 - val_accuracy: 0.9238\n",
      "Epoch 11/50\n",
      "200/200 [==============================] - 81s 405ms/step - loss: 0.2214 - accuracy: 0.9329 - val_loss: 0.2409 - val_accuracy: 0.9264\n",
      "Epoch 12/50\n",
      "200/200 [==============================] - 84s 422ms/step - loss: 0.2066 - accuracy: 0.9377 - val_loss: 0.2248 - val_accuracy: 0.9310\n",
      "Epoch 13/50\n"
     ]
    },
    {
     "name": "stdout",
     "output_type": "stream",
     "text": [
      "200/200 [==============================] - 86s 428ms/step - loss: 0.1950 - accuracy: 0.9402 - val_loss: 0.2228 - val_accuracy: 0.9341\n",
      "Epoch 14/50\n",
      "200/200 [==============================] - 84s 422ms/step - loss: 0.1863 - accuracy: 0.9427 - val_loss: 0.2299 - val_accuracy: 0.9315\n",
      "Epoch 15/50\n",
      "200/200 [==============================] - 80s 401ms/step - loss: 0.1751 - accuracy: 0.9457 - val_loss: 0.2310 - val_accuracy: 0.9316\n",
      "Epoch 16/50\n",
      "200/200 [==============================] - 77s 386ms/step - loss: 0.1625 - accuracy: 0.9503 - val_loss: 0.2076 - val_accuracy: 0.9348\n",
      "Epoch 17/50\n",
      "200/200 [==============================] - 76s 381ms/step - loss: 0.1651 - accuracy: 0.9491 - val_loss: 0.2297 - val_accuracy: 0.9328\n",
      "Epoch 18/50\n",
      "200/200 [==============================] - 78s 392ms/step - loss: 0.1576 - accuracy: 0.9520 - val_loss: 0.1975 - val_accuracy: 0.9390\n",
      "Epoch 19/50\n",
      "200/200 [==============================] - 84s 418ms/step - loss: 0.1466 - accuracy: 0.9543 - val_loss: 0.2157 - val_accuracy: 0.9369\n",
      "Epoch 20/50\n",
      "200/200 [==============================] - 77s 385ms/step - loss: 0.1416 - accuracy: 0.9560 - val_loss: 0.2125 - val_accuracy: 0.9353\n",
      "Epoch 21/50\n",
      "200/200 [==============================] - 81s 405ms/step - loss: 0.1346 - accuracy: 0.9594 - val_loss: 0.2201 - val_accuracy: 0.9379\n",
      "Epoch 22/50\n",
      "200/200 [==============================] - 79s 393ms/step - loss: 0.1286 - accuracy: 0.9608 - val_loss: 0.2071 - val_accuracy: 0.9390\n",
      "Epoch 23/50\n",
      "200/200 [==============================] - 79s 393ms/step - loss: 0.1231 - accuracy: 0.9622 - val_loss: 0.1946 - val_accuracy: 0.9426\n",
      "Epoch 24/50\n",
      "200/200 [==============================] - 80s 400ms/step - loss: 0.1268 - accuracy: 0.9620 - val_loss: 0.2104 - val_accuracy: 0.9367\n",
      "Epoch 25/50\n",
      "200/200 [==============================] - 77s 384ms/step - loss: 0.1244 - accuracy: 0.9620 - val_loss: 0.2024 - val_accuracy: 0.9398\n",
      "Epoch 26/50\n",
      "200/200 [==============================] - 76s 379ms/step - loss: 0.1187 - accuracy: 0.9637 - val_loss: 0.2257 - val_accuracy: 0.9392\n",
      "Epoch 27/50\n",
      "200/200 [==============================] - 77s 386ms/step - loss: 0.1130 - accuracy: 0.9659 - val_loss: 0.1989 - val_accuracy: 0.9438\n",
      "Epoch 28/50\n",
      "200/200 [==============================] - 77s 384ms/step - loss: 0.1111 - accuracy: 0.9660 - val_loss: 0.2017 - val_accuracy: 0.9369\n",
      "Epoch 29/50\n",
      "200/200 [==============================] - 76s 381ms/step - loss: 0.1055 - accuracy: 0.9681 - val_loss: 0.1999 - val_accuracy: 0.9415\n",
      "Epoch 30/50\n",
      "200/200 [==============================] - 77s 385ms/step - loss: 0.1045 - accuracy: 0.9674 - val_loss: 0.2052 - val_accuracy: 0.9457\n",
      "Epoch 31/50\n",
      "200/200 [==============================] - 81s 405ms/step - loss: 0.0990 - accuracy: 0.9701 - val_loss: 0.1994 - val_accuracy: 0.9447\n",
      "Epoch 32/50\n",
      "200/200 [==============================] - 76s 382ms/step - loss: 0.0965 - accuracy: 0.9705 - val_loss: 0.2038 - val_accuracy: 0.9482\n",
      "Epoch 33/50\n",
      "200/200 [==============================] - 81s 405ms/step - loss: 0.0960 - accuracy: 0.9706 - val_loss: 0.2016 - val_accuracy: 0.9432\n",
      "Epoch 34/50\n",
      "200/200 [==============================] - 76s 380ms/step - loss: 0.0991 - accuracy: 0.9703 - val_loss: 0.2068 - val_accuracy: 0.9442\n",
      "Epoch 35/50\n",
      "200/200 [==============================] - 78s 388ms/step - loss: 0.0983 - accuracy: 0.9707 - val_loss: 0.2060 - val_accuracy: 0.9441\n",
      "Epoch 36/50\n",
      "200/200 [==============================] - 75s 377ms/step - loss: 0.0904 - accuracy: 0.9729 - val_loss: 0.2059 - val_accuracy: 0.9454\n",
      "Epoch 37/50\n",
      "200/200 [==============================] - 76s 382ms/step - loss: 0.0872 - accuracy: 0.9733 - val_loss: 0.1960 - val_accuracy: 0.9454\n",
      "Epoch 1/50\n",
      "200/200 [==============================] - 73s 346ms/step - loss: 0.9026 - accuracy: 0.7276 - val_loss: 0.4983 - val_accuracy: 0.8360\n",
      "Epoch 2/50\n",
      "200/200 [==============================] - 68s 338ms/step - loss: 0.4340 - accuracy: 0.8619 - val_loss: 0.3259 - val_accuracy: 0.8923\n",
      "Epoch 3/50\n",
      "200/200 [==============================] - 66s 331ms/step - loss: 0.3271 - accuracy: 0.8967 - val_loss: 0.2923 - val_accuracy: 0.9045\n",
      "Epoch 4/50\n",
      "200/200 [==============================] - 66s 331ms/step - loss: 0.2683 - accuracy: 0.9168 - val_loss: 0.2547 - val_accuracy: 0.9195\n",
      "Epoch 5/50\n",
      "200/200 [==============================] - 66s 332ms/step - loss: 0.2388 - accuracy: 0.9258 - val_loss: 0.2450 - val_accuracy: 0.9241\n",
      "Epoch 6/50\n",
      "200/200 [==============================] - 68s 340ms/step - loss: 0.2140 - accuracy: 0.9340 - val_loss: 0.2449 - val_accuracy: 0.9209\n",
      "Epoch 7/50\n",
      "200/200 [==============================] - 67s 337ms/step - loss: 0.1969 - accuracy: 0.9395 - val_loss: 0.2419 - val_accuracy: 0.9253\n",
      "Epoch 8/50\n",
      "200/200 [==============================] - 66s 330ms/step - loss: 0.1839 - accuracy: 0.9438 - val_loss: 0.2106 - val_accuracy: 0.9366\n",
      "Epoch 9/50\n",
      "200/200 [==============================] - 67s 333ms/step - loss: 0.1722 - accuracy: 0.9467 - val_loss: 0.2077 - val_accuracy: 0.9348\n",
      "Epoch 10/50\n",
      "200/200 [==============================] - 69s 343ms/step - loss: 0.1571 - accuracy: 0.9519 - val_loss: 0.1947 - val_accuracy: 0.9400\n",
      "Epoch 11/50\n",
      "200/200 [==============================] - 69s 343ms/step - loss: 0.1470 - accuracy: 0.9543 - val_loss: 0.2012 - val_accuracy: 0.9384\n",
      "Epoch 12/50\n",
      "200/200 [==============================] - 72s 360ms/step - loss: 0.1435 - accuracy: 0.9559 - val_loss: 0.1996 - val_accuracy: 0.9370\n",
      "Epoch 13/50\n",
      "200/200 [==============================] - 68s 341ms/step - loss: 0.1352 - accuracy: 0.9579 - val_loss: 0.2124 - val_accuracy: 0.9365\n",
      "Epoch 14/50\n",
      "200/200 [==============================] - 68s 341ms/step - loss: 0.1235 - accuracy: 0.9622 - val_loss: 0.1890 - val_accuracy: 0.9445\n",
      "Epoch 15/50\n",
      "200/200 [==============================] - 69s 344ms/step - loss: 0.1258 - accuracy: 0.9615 - val_loss: 0.1881 - val_accuracy: 0.9423\n",
      "Epoch 16/50\n",
      "200/200 [==============================] - 68s 338ms/step - loss: 0.1181 - accuracy: 0.9641 - val_loss: 0.2090 - val_accuracy: 0.9375\n",
      "Epoch 17/50\n",
      "200/200 [==============================] - 68s 342ms/step - loss: 0.1122 - accuracy: 0.9656 - val_loss: 0.2126 - val_accuracy: 0.9400\n",
      "Epoch 18/50\n",
      "200/200 [==============================] - 68s 338ms/step - loss: 0.1047 - accuracy: 0.9677 - val_loss: 0.1972 - val_accuracy: 0.9441\n",
      "Epoch 19/50\n",
      "200/200 [==============================] - 69s 343ms/step - loss: 0.1059 - accuracy: 0.9681 - val_loss: 0.2059 - val_accuracy: 0.9437\n"
     ]
    }
   ],
   "source": [
    "model1_acc_all, model2_acc_all, model3_acc_all = [], [], []\n",
    "\n",
    "for lr in tqdm(learning_rate):\n",
    "    model1_acc_lr, model2_acc_lr, model3_acc_lr = [], [], []\n",
    "    \n",
    "    for size in tqdm(batch_size):\n",
    "        model1_acc_bs, model2_acc_bs, model3_acc_bs = [], [], []        \n",
    "    \n",
    "        for i in range(ITER):\n",
    "            OPT = Adam(learning_rate=lr, clipnorm=1.0)\n",
    "            # SimpleRNN\n",
    "            model1 = rnn_network(INPUT_DIM, OUTPUT_DIM, SimpleRNN, OPT)\n",
    "            K.clear_session()\n",
    "            model1_history = model1.fit(X_train, Y_train,\n",
    "                                        batch_size=size, epochs=EPOCHS, verbose=1,\n",
    "                                        validation_data=(X_val, Y_val),\n",
    "                                        callbacks=[early_stop]\n",
    "                                       )\n",
    "\n",
    "            # LSTM\n",
    "            model2 = rnn_network(INPUT_DIM, OUTPUT_DIM, LSTM, OPT)\n",
    "            K.clear_session()\n",
    "            model2_history = model2.fit(X_train, Y_train,\n",
    "                                        batch_size=size, epochs=EPOCHS, verbose=1,\n",
    "                                        validation_data=(X_val, Y_val),\n",
    "                                        callbacks=[early_stop]\n",
    "                                       )\n",
    "\n",
    "            # GRU\n",
    "            model3 = rnn_network(INPUT_DIM, OUTPUT_DIM, GRU, OPT)\n",
    "            K.clear_session()\n",
    "            model3_history = model3.fit(X_train, Y_train,\n",
    "                                        batch_size=size, epochs=EPOCHS, verbose=1,\n",
    "                                        validation_data=(X_val, Y_val),\n",
    "                                        callbacks=[early_stop]\n",
    "                                       )\n",
    "            \n",
    "            # Save models predictions accuracies for each iteration\n",
    "            y_pred_1 = model1.predict(X_test)\n",
    "            y_pred_2 = model2.predict(X_test)\n",
    "            y_pred_3 = model3.predict(X_test)\n",
    "            y_pred_classes_1 = np.argmax(y_pred_1, axis=-1)\n",
    "            y_pred_classes_2 = np.argmax(y_pred_2, axis=-1)\n",
    "            y_pred_classes_3 = np.argmax(y_pred_3, axis=-1)\n",
    "\n",
    "            model1_acc_bs.append(accuracy_score(Y_test_classes, y_pred_classes_1))\n",
    "            model2_acc_bs.append(accuracy_score(Y_test_classes, y_pred_classes_2))\n",
    "            model3_acc_bs.append(accuracy_score(Y_test_classes, y_pred_classes_3))\n",
    "\n",
    "        model1_acc_lr.append(model1_acc_bs)\n",
    "        model2_acc_lr.append(model2_acc_bs)\n",
    "        model3_acc_lr.append(model3_acc_bs)\n",
    "        \n",
    "    # Save models results for each learning rate\n",
    "    model1_acc_all.append(model1_acc_lr)\n",
    "    model2_acc_all.append(model2_acc_lr)\n",
    "    model3_acc_all.append(model3_acc_lr)"
   ]
  },
  {
   "cell_type": "markdown",
   "id": "41e67f0c",
   "metadata": {},
   "source": [
    "### <span style='font-family:Georgia'> 2.1.2. Tuning results summary"
   ]
  },
  {
   "cell_type": "code",
   "execution_count": 32,
   "id": "aac0a5a0",
   "metadata": {
    "ExecuteTime": {
     "end_time": "2022-05-08T02:08:49.421990Z",
     "start_time": "2022-05-08T02:08:49.319257Z"
    }
   },
   "outputs": [],
   "source": [
    "acc_all = []\n",
    "model_1_acc_lr, model_2_acc_lr, model_3_acc_lr = [], [], []\n",
    "\n",
    "for i in range(len(learning_rate)):\n",
    "    model_1_acc_bs, model_2_acc_bs, model_3_acc_bs = [], [], []\n",
    "    for j in range(len(batch_size)):\n",
    "        # mean over iterations (mean score for each learning_rate-batch_size pair)\n",
    "        model_1_acc_bs.append(np.mean(model1_acc_all[i][j]))\n",
    "        model_2_acc_bs.append(np.mean(model2_acc_all[i][j]))\n",
    "        model_3_acc_bs.append(np.mean(model3_acc_all[i][j]))\n",
    "        \n",
    "    model_1_acc_lr.append(model_1_acc_bs)\n",
    "    model_2_acc_lr.append(model_2_acc_bs)\n",
    "    model_3_acc_lr.append(model_3_acc_bs)\n",
    "        \n",
    "    # mean over batch_sized (mean score for each learning_rate)\n",
    "    acc_all.append([\n",
    "        np.mean(model_1_acc_lr),\n",
    "        np.mean(model_2_acc_lr),\n",
    "        np.mean(model_3_acc_lr)\n",
    "    ])"
   ]
  },
  {
   "cell_type": "markdown",
   "id": "a6731120",
   "metadata": {
    "ExecuteTime": {
     "end_time": "2022-05-08T02:08:49.437948Z",
     "start_time": "2022-05-08T02:08:49.423985Z"
    }
   },
   "source": [
    "### <span style='font-family:Georgia'> Accuracy depending on both: Learning rate & Batch size"
   ]
  },
  {
   "cell_type": "code",
   "execution_count": 34,
   "id": "d9f1afc7",
   "metadata": {
    "ExecuteTime": {
     "end_time": "2022-05-08T02:08:49.468870Z",
     "start_time": "2022-05-08T02:08:49.447927Z"
    }
   },
   "outputs": [],
   "source": [
    "models_results = [\n",
    "    pd.DataFrame(model_1_acc_lr, columns=batch_size, index=learning_rate),\n",
    "    pd.DataFrame(model_2_acc_lr, columns=batch_size, index=learning_rate),\n",
    "    pd.DataFrame(model_3_acc_lr, columns=batch_size, index=learning_rate)\n",
    "]"
   ]
  },
  {
   "cell_type": "code",
   "execution_count": 97,
   "id": "8f9598f1",
   "metadata": {
    "ExecuteTime": {
     "end_time": "2022-05-08T10:44:50.700772Z",
     "start_time": "2022-05-08T10:44:49.989551Z"
    }
   },
   "outputs": [
    {
     "data": {
      "image/png": "[encoded data removed]",
      "text/plain": [
       "<Figure size 1296x432 with 6 Axes>"
      ]
     },
     "metadata": {},
     "output_type": "display_data"
    }
   ],
   "source": [
    "plot_heatmaps(models_results, title=\"Hyperparameters tuning results\")"
   ]
  },
  {
   "cell_type": "code",
   "execution_count": 44,
   "id": "7dbc7739",
   "metadata": {
    "ExecuteTime": {
     "end_time": "2022-05-08T06:26:17.565737Z",
     "start_time": "2022-05-08T06:26:17.521854Z"
    }
   },
   "outputs": [
    {
     "data": {
      "text/markdown": [
       "#### SimpleRNN results summary:"
      ],
      "text/plain": [
       "<IPython.core.display.Markdown object>"
      ]
     },
     "metadata": {},
     "output_type": "display_data"
    },
    {
     "data": {
      "text/html": [
       "<div>\n",
       "<style scoped>\n",
       "    .dataframe tbody tr th:only-of-type {\n",
       "        vertical-align: middle;\n",
       "    }\n",
       "\n",
       "    .dataframe tbody tr th {\n",
       "        vertical-align: top;\n",
       "    }\n",
       "\n",
       "    .dataframe thead th {\n",
       "        text-align: right;\n",
       "    }\n",
       "</style>\n",
       "<table border=\"1\" class=\"dataframe\">\n",
       "  <thead>\n",
       "    <tr style=\"text-align: right;\">\n",
       "      <th></th>\n",
       "      <th>128</th>\n",
       "      <th>256</th>\n",
       "    </tr>\n",
       "  </thead>\n",
       "  <tbody>\n",
       "    <tr>\n",
       "      <th>0.00001</th>\n",
       "      <td>0.625165</td>\n",
       "      <td>0.624287</td>\n",
       "    </tr>\n",
       "    <tr>\n",
       "      <th>0.00010</th>\n",
       "      <td>0.937235</td>\n",
       "      <td>0.926262</td>\n",
       "    </tr>\n",
       "    <tr>\n",
       "      <th>0.00100</th>\n",
       "      <td>0.921873</td>\n",
       "      <td>0.932114</td>\n",
       "    </tr>\n",
       "  </tbody>\n",
       "</table>\n",
       "</div>"
      ],
      "text/plain": [
       "              128       256\n",
       "0.00001  0.625165  0.624287\n",
       "0.00010  0.937235  0.926262\n",
       "0.00100  0.921873  0.932114"
      ]
     },
     "metadata": {},
     "output_type": "display_data"
    },
    {
     "data": {
      "text/markdown": [
       "#### LSTM results summary:"
      ],
      "text/plain": [
       "<IPython.core.display.Markdown object>"
      ]
     },
     "metadata": {},
     "output_type": "display_data"
    },
    {
     "data": {
      "text/html": [
       "<div>\n",
       "<style scoped>\n",
       "    .dataframe tbody tr th:only-of-type {\n",
       "        vertical-align: middle;\n",
       "    }\n",
       "\n",
       "    .dataframe tbody tr th {\n",
       "        vertical-align: top;\n",
       "    }\n",
       "\n",
       "    .dataframe thead th {\n",
       "        text-align: right;\n",
       "    }\n",
       "</style>\n",
       "<table border=\"1\" class=\"dataframe\">\n",
       "  <thead>\n",
       "    <tr style=\"text-align: right;\">\n",
       "      <th></th>\n",
       "      <th>128</th>\n",
       "      <th>256</th>\n",
       "    </tr>\n",
       "  </thead>\n",
       "  <tbody>\n",
       "    <tr>\n",
       "      <th>0.00001</th>\n",
       "      <td>0.907388</td>\n",
       "      <td>0.892173</td>\n",
       "    </tr>\n",
       "    <tr>\n",
       "      <th>0.00010</th>\n",
       "      <td>0.946452</td>\n",
       "      <td>0.941770</td>\n",
       "    </tr>\n",
       "    <tr>\n",
       "      <th>0.00100</th>\n",
       "      <td>0.949817</td>\n",
       "      <td>0.946745</td>\n",
       "    </tr>\n",
       "  </tbody>\n",
       "</table>\n",
       "</div>"
      ],
      "text/plain": [
       "              128       256\n",
       "0.00001  0.907388  0.892173\n",
       "0.00010  0.946452  0.941770\n",
       "0.00100  0.949817  0.946745"
      ]
     },
     "metadata": {},
     "output_type": "display_data"
    },
    {
     "data": {
      "text/markdown": [
       "#### GRU results summary:"
      ],
      "text/plain": [
       "<IPython.core.display.Markdown object>"
      ]
     },
     "metadata": {},
     "output_type": "display_data"
    },
    {
     "data": {
      "text/html": [
       "<div>\n",
       "<style scoped>\n",
       "    .dataframe tbody tr th:only-of-type {\n",
       "        vertical-align: middle;\n",
       "    }\n",
       "\n",
       "    .dataframe tbody tr th {\n",
       "        vertical-align: top;\n",
       "    }\n",
       "\n",
       "    .dataframe thead th {\n",
       "        text-align: right;\n",
       "    }\n",
       "</style>\n",
       "<table border=\"1\" class=\"dataframe\">\n",
       "  <thead>\n",
       "    <tr style=\"text-align: right;\">\n",
       "      <th></th>\n",
       "      <th>128</th>\n",
       "      <th>256</th>\n",
       "    </tr>\n",
       "  </thead>\n",
       "  <tbody>\n",
       "    <tr>\n",
       "      <th>0.00001</th>\n",
       "      <td>0.926554</td>\n",
       "      <td>0.913826</td>\n",
       "    </tr>\n",
       "    <tr>\n",
       "      <th>0.00010</th>\n",
       "      <td>0.951865</td>\n",
       "      <td>0.949525</td>\n",
       "    </tr>\n",
       "    <tr>\n",
       "      <th>0.00100</th>\n",
       "      <td>0.947769</td>\n",
       "      <td>0.947184</td>\n",
       "    </tr>\n",
       "  </tbody>\n",
       "</table>\n",
       "</div>"
      ],
      "text/plain": [
       "              128       256\n",
       "0.00001  0.926554  0.913826\n",
       "0.00010  0.951865  0.949525\n",
       "0.00100  0.947769  0.947184"
      ]
     },
     "metadata": {},
     "output_type": "display_data"
    }
   ],
   "source": [
    "MODELS = ['SimpleRNN', 'LSTM', 'GRU']\n",
    "\n",
    "for i in range(len(MODELS)):\n",
    "    display(Markdown(f\"#### {MODELS[i]} results summary:\"))\n",
    "    display(models_results[i])"
   ]
  },
  {
   "cell_type": "markdown",
   "id": "c25c2ccb",
   "metadata": {
    "ExecuteTime": {
     "end_time": "2022-05-08T02:08:51.176474Z",
     "start_time": "2022-05-08T02:08:51.162510Z"
    }
   },
   "source": [
    "### <span style='font-family:Georgia'> Accuracy depending on both: Learning rate (mean over batch size)"
   ]
  },
  {
   "cell_type": "code",
   "execution_count": 37,
   "id": "cfc1b9f9",
   "metadata": {
    "ExecuteTime": {
     "end_time": "2022-05-08T02:08:51.222355Z",
     "start_time": "2022-05-08T02:08:51.182458Z"
    }
   },
   "outputs": [],
   "source": [
    "results_acc = pd.DataFrame(acc_all)\n",
    "results_acc.columns = ['SimpleRNN', 'LSTM', 'GRU']\n",
    "results_acc.index = learning_rate\n",
    "results_acc.index.name = \"Learning rate\"\n",
    "results_acc_melted = pd.melt(results_acc.reset_index(), id_vars=['Learning rate'], value_vars=['SimpleRNN', 'LSTM', 'GRU'])\n",
    "results_acc_melted.columns=['Learning rate', 'Model', 'Accuracy']\n",
    "results_acc.reset_index(inplace=True)"
   ]
  },
  {
   "cell_type": "code",
   "execution_count": 38,
   "id": "24649530",
   "metadata": {
    "ExecuteTime": {
     "end_time": "2022-05-08T02:08:51.697727Z",
     "start_time": "2022-05-08T02:08:51.225347Z"
    }
   },
   "outputs": [
    {
     "data": {
      "image/png": "[encoded data removed]",
      "text/plain": [
       "<Figure size 648x432 with 1 Axes>"
      ]
     },
     "metadata": {},
     "output_type": "display_data"
    }
   ],
   "source": [
    "for j in range(results_acc_melted.shape[0]):\n",
    "    results_acc_melted.loc[j, 'Learning rate'] = '{:.0e}'.format(results_acc_melted.loc[j, 'Learning rate'])\n",
    "sns.stripplot(x=\"Learning rate\", y=\"Accuracy\", hue=\"Model\",\n",
    "               data=results_acc_melted, palette=\"Set2\", dodge=False, jitter=0.0)    \n",
    "plt.title(\"Accuracy depending on learning rate\", size=14);"
   ]
  },
  {
   "cell_type": "markdown",
   "id": "153221a5",
   "metadata": {},
   "source": [
    "### <span style='font-family:Georgia'> 2.1.3. Tuned models overview"
   ]
  },
  {
   "cell_type": "code",
   "execution_count": 46,
   "id": "aadfd154",
   "metadata": {
    "ExecuteTime": {
     "end_time": "2022-05-08T10:36:04.973194Z",
     "start_time": "2022-05-08T08:55:15.800248Z"
    }
   },
   "outputs": [
    {
     "name": "stdout",
     "output_type": "stream",
     "text": [
      "Epoch 1/50\n",
      "400/400 [==============================] - 79s 174ms/step - loss: 1.5339 - accuracy: 0.6120 - val_loss: 1.3017 - val_accuracy: 0.6206\n",
      "Epoch 2/50\n",
      "400/400 [==============================] - 65s 162ms/step - loss: 1.2744 - accuracy: 0.6324 - val_loss: 1.1802 - val_accuracy: 0.6283\n",
      "Epoch 3/50\n",
      "400/400 [==============================] - 62s 156ms/step - loss: 1.1418 - accuracy: 0.6400 - val_loss: 1.0610 - val_accuracy: 0.6461\n",
      "Epoch 4/50\n",
      "400/400 [==============================] - 63s 156ms/step - loss: 1.0197 - accuracy: 0.6672 - val_loss: 0.8735 - val_accuracy: 0.7098\n",
      "Epoch 5/50\n",
      "400/400 [==============================] - 76s 190ms/step - loss: 0.8859 - accuracy: 0.7071 - val_loss: 0.7943 - val_accuracy: 0.7237\n",
      "Epoch 6/50\n",
      "400/400 [==============================] - 64s 159ms/step - loss: 0.7710 - accuracy: 0.7418 - val_loss: 0.6714 - val_accuracy: 0.7701\n",
      "Epoch 7/50\n",
      "400/400 [==============================] - 63s 157ms/step - loss: 0.6751 - accuracy: 0.7704 - val_loss: 0.5955 - val_accuracy: 0.7904\n",
      "Epoch 8/50\n",
      "400/400 [==============================] - 63s 158ms/step - loss: 0.6004 - accuracy: 0.7973 - val_loss: 0.5821 - val_accuracy: 0.7979\n",
      "Epoch 9/50\n",
      "400/400 [==============================] - 65s 162ms/step - loss: 0.5396 - accuracy: 0.8160 - val_loss: 0.4985 - val_accuracy: 0.8291\n",
      "Epoch 10/50\n",
      "400/400 [==============================] - 64s 160ms/step - loss: 0.4910 - accuracy: 0.8363 - val_loss: 0.4402 - val_accuracy: 0.8582\n",
      "Epoch 11/50\n",
      "400/400 [==============================] - 62s 155ms/step - loss: 0.4499 - accuracy: 0.8537 - val_loss: 0.4295 - val_accuracy: 0.8692\n",
      "Epoch 12/50\n",
      "400/400 [==============================] - 62s 155ms/step - loss: 0.4174 - accuracy: 0.8645 - val_loss: 0.4159 - val_accuracy: 0.8711\n",
      "Epoch 13/50\n",
      "400/400 [==============================] - 62s 155ms/step - loss: 0.3928 - accuracy: 0.8762 - val_loss: 0.4355 - val_accuracy: 0.8619\n",
      "Epoch 14/50\n",
      "400/400 [==============================] - 62s 155ms/step - loss: 0.3713 - accuracy: 0.8823 - val_loss: 0.3944 - val_accuracy: 0.8741\n",
      "Epoch 15/50\n",
      "400/400 [==============================] - 62s 154ms/step - loss: 0.3508 - accuracy: 0.8913 - val_loss: 0.3660 - val_accuracy: 0.8919\n",
      "Epoch 16/50\n",
      "400/400 [==============================] - 63s 156ms/step - loss: 0.3343 - accuracy: 0.8961 - val_loss: 0.3370 - val_accuracy: 0.8978\n",
      "Epoch 17/50\n",
      "400/400 [==============================] - 64s 159ms/step - loss: 0.3182 - accuracy: 0.9018 - val_loss: 0.3504 - val_accuracy: 0.8935\n",
      "Epoch 18/50\n",
      "400/400 [==============================] - 63s 156ms/step - loss: 0.3028 - accuracy: 0.9072 - val_loss: 0.3357 - val_accuracy: 0.9016\n",
      "Epoch 19/50\n",
      "400/400 [==============================] - 65s 162ms/step - loss: 0.2930 - accuracy: 0.9102 - val_loss: 0.3489 - val_accuracy: 0.8966\n",
      "Epoch 20/50\n",
      "400/400 [==============================] - 64s 159ms/step - loss: 0.2812 - accuracy: 0.9139 - val_loss: 0.3144 - val_accuracy: 0.9051\n",
      "Epoch 21/50\n",
      "400/400 [==============================] - 63s 157ms/step - loss: 0.2685 - accuracy: 0.9184 - val_loss: 0.2918 - val_accuracy: 0.9131\n",
      "Epoch 22/50\n",
      "400/400 [==============================] - 64s 161ms/step - loss: 0.2607 - accuracy: 0.9197 - val_loss: 0.3132 - val_accuracy: 0.9059\n",
      "Epoch 23/50\n",
      "400/400 [==============================] - 62s 154ms/step - loss: 0.2534 - accuracy: 0.9229 - val_loss: 0.2816 - val_accuracy: 0.9138\n",
      "Epoch 24/50\n",
      "400/400 [==============================] - 63s 157ms/step - loss: 0.2430 - accuracy: 0.9269 - val_loss: 0.3114 - val_accuracy: 0.9097\n",
      "Epoch 25/50\n",
      "400/400 [==============================] - 62s 154ms/step - loss: 0.2373 - accuracy: 0.9289 - val_loss: 0.2821 - val_accuracy: 0.9154\n",
      "Epoch 26/50\n",
      "400/400 [==============================] - 62s 156ms/step - loss: 0.2302 - accuracy: 0.9300 - val_loss: 0.3142 - val_accuracy: 0.9100\n",
      "Epoch 27/50\n",
      "400/400 [==============================] - 62s 156ms/step - loss: 0.2258 - accuracy: 0.9319 - val_loss: 0.3308 - val_accuracy: 0.9053\n",
      "Epoch 28/50\n",
      "400/400 [==============================] - 62s 156ms/step - loss: 0.2165 - accuracy: 0.9341 - val_loss: 0.2983 - val_accuracy: 0.9100\n",
      "Epoch 29/50\n",
      "400/400 [==============================] - 62s 156ms/step - loss: 0.2158 - accuracy: 0.9351 - val_loss: 0.2798 - val_accuracy: 0.9195\n",
      "Epoch 30/50\n",
      "400/400 [==============================] - 64s 160ms/step - loss: 0.2051 - accuracy: 0.9377 - val_loss: 0.2623 - val_accuracy: 0.9226\n",
      "Epoch 31/50\n",
      "400/400 [==============================] - 59s 147ms/step - loss: 0.2053 - accuracy: 0.9390 - val_loss: 0.2673 - val_accuracy: 0.9250\n",
      "Epoch 32/50\n",
      "400/400 [==============================] - 62s 156ms/step - loss: 0.1966 - accuracy: 0.9410 - val_loss: 0.2804 - val_accuracy: 0.9188\n",
      "Epoch 33/50\n",
      "400/400 [==============================] - 62s 154ms/step - loss: 0.1926 - accuracy: 0.9424 - val_loss: 0.2679 - val_accuracy: 0.9239\n",
      "Epoch 34/50\n",
      "400/400 [==============================] - 62s 156ms/step - loss: 0.1868 - accuracy: 0.9442 - val_loss: 0.2699 - val_accuracy: 0.9237\n",
      "Epoch 35/50\n",
      "400/400 [==============================] - 62s 156ms/step - loss: 0.1828 - accuracy: 0.9450 - val_loss: 0.2747 - val_accuracy: 0.9237\n",
      "Epoch 36/50\n",
      "400/400 [==============================] - 63s 158ms/step - loss: 0.1794 - accuracy: 0.9471 - val_loss: 0.3003 - val_accuracy: 0.9082\n",
      "Epoch 1/50\n",
      "400/400 [==============================] - 90s 216ms/step - loss: 1.0094 - accuracy: 0.7003 - val_loss: 0.5764 - val_accuracy: 0.8046\n",
      "Epoch 2/50\n",
      "400/400 [==============================] - 85s 212ms/step - loss: 0.4645 - accuracy: 0.8531 - val_loss: 0.3349 - val_accuracy: 0.8936\n",
      "Epoch 3/50\n",
      "400/400 [==============================] - 86s 215ms/step - loss: 0.3204 - accuracy: 0.8987 - val_loss: 0.3173 - val_accuracy: 0.9009\n",
      "Epoch 4/50\n",
      "400/400 [==============================] - 86s 214ms/step - loss: 0.2606 - accuracy: 0.9173 - val_loss: 0.2598 - val_accuracy: 0.9176\n",
      "Epoch 5/50\n",
      "400/400 [==============================] - 87s 217ms/step - loss: 0.2287 - accuracy: 0.9291 - val_loss: 0.2480 - val_accuracy: 0.9257\n",
      "Epoch 6/50\n",
      "400/400 [==============================] - 85s 212ms/step - loss: 0.1992 - accuracy: 0.9389 - val_loss: 0.2360 - val_accuracy: 0.9247\n",
      "Epoch 7/50\n",
      "400/400 [==============================] - 87s 217ms/step - loss: 0.1841 - accuracy: 0.9421 - val_loss: 0.2281 - val_accuracy: 0.9297\n",
      "Epoch 8/50\n",
      "400/400 [==============================] - 85s 213ms/step - loss: 0.1708 - accuracy: 0.9474 - val_loss: 0.2010 - val_accuracy: 0.9407\n",
      "Epoch 9/50\n",
      "400/400 [==============================] - 83s 208ms/step - loss: 0.1556 - accuracy: 0.9520 - val_loss: 0.2075 - val_accuracy: 0.9320\n",
      "Epoch 10/50\n",
      "400/400 [==============================] - 81s 203ms/step - loss: 0.1432 - accuracy: 0.9550 - val_loss: 0.1925 - val_accuracy: 0.9404\n",
      "Epoch 11/50\n",
      "400/400 [==============================] - 87s 216ms/step - loss: 0.1393 - accuracy: 0.9569 - val_loss: 0.1966 - val_accuracy: 0.9409\n",
      "Epoch 12/50\n",
      "400/400 [==============================] - 84s 209ms/step - loss: 0.1286 - accuracy: 0.9599 - val_loss: 0.1915 - val_accuracy: 0.9392\n",
      "Epoch 13/50\n",
      "400/400 [==============================] - 85s 212ms/step - loss: 0.1268 - accuracy: 0.9597 - val_loss: 0.1898 - val_accuracy: 0.9403\n",
      "Epoch 1/50\n",
      "400/400 [==============================] - 82s 197ms/step - loss: 1.4325 - accuracy: 0.6089 - val_loss: 1.0915 - val_accuracy: 0.6458\n",
      "Epoch 2/50\n",
      "400/400 [==============================] - 73s 183ms/step - loss: 0.8446 - accuracy: 0.7265 - val_loss: 0.5411 - val_accuracy: 0.8189\n",
      "Epoch 3/50\n",
      "400/400 [==============================] - 73s 183ms/step - loss: 0.5297 - accuracy: 0.8295 - val_loss: 0.3855 - val_accuracy: 0.8810\n",
      "Epoch 4/50\n",
      "400/400 [==============================] - 73s 182ms/step - loss: 0.4185 - accuracy: 0.8664 - val_loss: 0.3386 - val_accuracy: 0.8994\n",
      "Epoch 5/50\n",
      "400/400 [==============================] - 74s 184ms/step - loss: 0.3531 - accuracy: 0.8891 - val_loss: 0.3169 - val_accuracy: 0.9020\n",
      "Epoch 6/50\n",
      "400/400 [==============================] - 71s 178ms/step - loss: 0.3134 - accuracy: 0.9015 - val_loss: 0.3021 - val_accuracy: 0.9020\n",
      "Epoch 7/50\n",
      "400/400 [==============================] - 71s 178ms/step - loss: 0.2825 - accuracy: 0.9110 - val_loss: 0.2665 - val_accuracy: 0.9198\n",
      "Epoch 8/50\n",
      "400/400 [==============================] - 79s 199ms/step - loss: 0.2604 - accuracy: 0.9204 - val_loss: 0.2503 - val_accuracy: 0.9234\n",
      "Epoch 9/50\n",
      "400/400 [==============================] - 75s 186ms/step - loss: 0.2407 - accuracy: 0.9257 - val_loss: 0.2557 - val_accuracy: 0.9225\n",
      "Epoch 10/50\n",
      "400/400 [==============================] - 80s 200ms/step - loss: 0.2276 - accuracy: 0.9292 - val_loss: 0.2519 - val_accuracy: 0.9241\n",
      "Epoch 11/50\n",
      "400/400 [==============================] - 74s 184ms/step - loss: 0.2118 - accuracy: 0.9344 - val_loss: 0.2268 - val_accuracy: 0.9342\n",
      "Epoch 12/50\n",
      "400/400 [==============================] - 81s 202ms/step - loss: 0.2015 - accuracy: 0.9380 - val_loss: 0.2207 - val_accuracy: 0.9325\n",
      "Epoch 13/50\n",
      "400/400 [==============================] - 75s 187ms/step - loss: 0.1912 - accuracy: 0.9405 - val_loss: 0.2061 - val_accuracy: 0.9370\n",
      "Epoch 14/50\n",
      "400/400 [==============================] - 76s 190ms/step - loss: 0.1755 - accuracy: 0.9457 - val_loss: 0.2172 - val_accuracy: 0.9369\n",
      "Epoch 15/50\n",
      "400/400 [==============================] - 81s 204ms/step - loss: 0.1720 - accuracy: 0.9475 - val_loss: 0.2248 - val_accuracy: 0.9345\n",
      "Epoch 16/50\n",
      "400/400 [==============================] - 79s 197ms/step - loss: 0.1652 - accuracy: 0.9490 - val_loss: 0.2035 - val_accuracy: 0.9403\n",
      "Epoch 17/50\n",
      "400/400 [==============================] - 71s 177ms/step - loss: 0.1579 - accuracy: 0.9503 - val_loss: 0.2083 - val_accuracy: 0.9357\n",
      "Epoch 18/50\n",
      "400/400 [==============================] - 89s 221ms/step - loss: 0.1486 - accuracy: 0.9539 - val_loss: 0.2052 - val_accuracy: 0.9412\n",
      "Epoch 19/50\n",
      "400/400 [==============================] - 81s 202ms/step - loss: 0.1453 - accuracy: 0.9550 - val_loss: 0.2018 - val_accuracy: 0.9384\n",
      "Epoch 20/50\n",
      "400/400 [==============================] - 83s 207ms/step - loss: 0.1379 - accuracy: 0.9578 - val_loss: 0.1912 - val_accuracy: 0.9465\n",
      "Epoch 21/50\n",
      "400/400 [==============================] - 84s 209ms/step - loss: 0.1328 - accuracy: 0.9594 - val_loss: 0.1822 - val_accuracy: 0.9472\n",
      "Epoch 22/50\n",
      "400/400 [==============================] - 82s 206ms/step - loss: 0.1288 - accuracy: 0.9596 - val_loss: 0.1910 - val_accuracy: 0.9467\n",
      "Epoch 23/50\n",
      "400/400 [==============================] - 79s 197ms/step - loss: 0.1244 - accuracy: 0.9608 - val_loss: 0.1917 - val_accuracy: 0.9428\n",
      "Epoch 24/50\n",
      "400/400 [==============================] - 82s 205ms/step - loss: 0.1220 - accuracy: 0.9625 - val_loss: 0.2083 - val_accuracy: 0.9416\n",
      "Epoch 25/50\n",
      "400/400 [==============================] - 86s 215ms/step - loss: 0.1206 - accuracy: 0.9627 - val_loss: 0.1968 - val_accuracy: 0.9412\n"
     ]
    }
   ],
   "source": [
    "# Best parameters according to conducted experiments\n",
    "LEARNING_RATES = [0.00010, 0.00100, 0.00010]\n",
    "BATCH_SIZES = [128, 128, 128]\n",
    "\n",
    "# SimpleRNN\n",
    "OPT = Adam(learning_rate=LEARNING_RATES[0], clipnorm=1.0)\n",
    "model1 = rnn_network(INPUT_DIM, OUTPUT_DIM, SimpleRNN, OPT)\n",
    "K.clear_session()\n",
    "model1_history = model1.fit(X_train, Y_train,\n",
    "                            batch_size=BATCH_SIZES[0], epochs=EPOCHS, verbose=1,\n",
    "                            validation_data=(X_val, Y_val),\n",
    "                            callbacks=[early_stop]\n",
    "                           )\n",
    "\n",
    "# LSTM\n",
    "OPT = Adam(learning_rate=LEARNING_RATES[1], clipnorm=1.0)\n",
    "model2 = rnn_network(INPUT_DIM, OUTPUT_DIM, LSTM, OPT)\n",
    "K.clear_session()\n",
    "model2_history = model2.fit(X_train, Y_train,\n",
    "                            batch_size=BATCH_SIZES[1], epochs=EPOCHS, verbose=1,\n",
    "                            validation_data=(X_val, Y_val),\n",
    "                            callbacks=[early_stop]\n",
    "                           )\n",
    "\n",
    "# GRU\n",
    "OPT = Adam(learning_rate=LEARNING_RATES[2], clipnorm=1.0)\n",
    "model3 = rnn_network(INPUT_DIM, OUTPUT_DIM, GRU, OPT)\n",
    "K.clear_session()\n",
    "model3_history = model3.fit(X_train, Y_train,\n",
    "                            batch_size=BATCH_SIZES[2], epochs=EPOCHS, verbose=1,\n",
    "                            validation_data=(X_val, Y_val),\n",
    "                            callbacks=[early_stop]\n",
    "                           )\n",
    "\n",
    "# Save models predictions accuracies for each iteration\n",
    "y_pred_1 = model1.predict(X_test)\n",
    "y_pred_2 = model2.predict(X_test)\n",
    "y_pred_3 = model3.predict(X_test)\n",
    "y_pred_classes_1 = np.argmax(y_pred_1, axis=-1)\n",
    "y_pred_classes_2 = np.argmax(y_pred_2, axis=-1)\n",
    "y_pred_classes_3 = np.argmax(y_pred_3, axis=-1)"
   ]
  },
  {
   "cell_type": "code",
   "execution_count": 47,
   "id": "f360ae9d",
   "metadata": {
    "ExecuteTime": {
     "end_time": "2022-05-08T10:36:14.568047Z",
     "start_time": "2022-05-08T10:36:13.781424Z"
    }
   },
   "outputs": [
    {
     "data": {
      "image/png": "[encoded data removed]",
      "text/plain": [
       "<Figure size 1296x432 with 3 Axes>"
      ]
     },
     "metadata": {},
     "output_type": "display_data"
    }
   ],
   "source": [
    "# Convergence analysis\n",
    "models_history = [model1_history, model2_history, model3_history]\n",
    "\n",
    "fig, axes = plt.subplots(1,3,figsize=(18,6))\n",
    "models = ['1', '2', '3']\n",
    "for i in range(3):\n",
    "    model_name=MODELS[i]\n",
    "    history = models_history[i]\n",
    "    data_lr = history.history['loss']\n",
    "    sns.lineplot(data=data_lr, ax=axes[i])\n",
    "    if i == 0 : axes[i].set_ylim([0,2.5]) # due to huge loss values for 1e-2 (to make other lines visible)\n",
    "    axes[i].set_title('Model '+model_name)\n",
    "    axes[i].set_xlabel('Epoch', size=12)\n",
    "    axes[i].set_ylabel('Loss', size=12)\n",
    "fig.suptitle(\"Convergence analysis\", size=15)\n",
    "plt.show()"
   ]
  },
  {
   "cell_type": "code",
   "execution_count": 48,
   "id": "67439893",
   "metadata": {
    "ExecuteTime": {
     "end_time": "2022-05-08T10:36:22.770291Z",
     "start_time": "2022-05-08T10:36:19.291702Z"
    }
   },
   "outputs": [
    {
     "data": {
      "image/png": "[encoded data removed]",
      "text/plain": [
       "<Figure size 1296x432 with 6 Axes>"
      ]
     },
     "metadata": {},
     "output_type": "display_data"
    }
   ],
   "source": [
    "# Models evaluation - confusion matrices\n",
    "models_results = [pd.DataFrame(confusion_matrix(Y_test_classes, y_pred_classes_1)),\n",
    "                  pd.DataFrame(confusion_matrix(Y_test_classes, y_pred_classes_2)),\n",
    "                  pd.DataFrame(confusion_matrix(Y_test_classes, y_pred_classes_3))]\n",
    "\n",
    "plot_confusion_matr(models_results, 'Models evaluation')"
   ]
  },
  {
   "cell_type": "markdown",
   "id": "143daa87",
   "metadata": {},
   "source": [
    "## <span style='font-family:Georgia'> 2.2. Noise data handling"
   ]
  },
  {
   "cell_type": "markdown",
   "id": "52034972",
   "metadata": {},
   "source": [
    "### <span style='font-family:Georgia'> 2.2.1. Approach 1 - taking `background_noise` observations as separate `silence` class"
   ]
  },
  {
   "cell_type": "code",
   "execution_count": 101,
   "id": "ba0cb6d8",
   "metadata": {
    "ExecuteTime": {
     "end_time": "2022-05-08T10:50:10.468287Z",
     "start_time": "2022-05-08T10:50:10.454203Z"
    }
   },
   "outputs": [],
   "source": [
    "x_train, x_val, x_test = x_train_1, x_val_1, x_test_1\n",
    "y_train, y_val, y_test = y_train_1, y_val_1, y_test_1"
   ]
  },
  {
   "cell_type": "code",
   "execution_count": 102,
   "id": "d92ba142",
   "metadata": {
    "ExecuteTime": {
     "end_time": "2022-05-08T10:50:13.357367Z",
     "start_time": "2022-05-08T10:50:13.331267Z"
    }
   },
   "outputs": [],
   "source": [
    "# hyperparameters set-up\n",
    "INPUT_DIM = (x_train.shape[1], x_train.shape[2])\n",
    "OUTPUT_DIM = y_train.shape[1]\n",
    "\n",
    "early_stop = EarlyStopping(monitor='val_accuracy', patience=PATIENCE, min_delta=MIN_DELTA)\n",
    "\n",
    "BATCH_SIZE = 128"
   ]
  },
  {
   "cell_type": "code",
   "execution_count": 109,
   "id": "6bae78ee",
   "metadata": {
    "ExecuteTime": {
     "end_time": "2022-05-08T13:35:48.974568Z",
     "start_time": "2022-05-08T10:55:59.611156Z"
    }
   },
   "outputs": [
    {
     "name": "stdout",
     "output_type": "stream",
     "text": [
      "Epoch 1/50\n",
      "402/402 [==============================] - 49s 119ms/step - loss: 1.5115 - accuracy: 0.6183 - val_loss: 1.3300 - val_accuracy: 0.6220\n",
      "Epoch 2/50\n",
      "402/402 [==============================] - 46s 116ms/step - loss: 1.2992 - accuracy: 0.6320 - val_loss: 1.2261 - val_accuracy: 0.6249\n",
      "Epoch 3/50\n",
      "402/402 [==============================] - 53s 133ms/step - loss: 1.1819 - accuracy: 0.6390 - val_loss: 1.0822 - val_accuracy: 0.6557\n",
      "Epoch 4/50\n",
      "402/402 [==============================] - 54s 134ms/step - loss: 1.0590 - accuracy: 0.6596 - val_loss: 0.9266 - val_accuracy: 0.6861\n",
      "Epoch 5/50\n",
      "402/402 [==============================] - 58s 146ms/step - loss: 0.9534 - accuracy: 0.6846 - val_loss: 0.8008 - val_accuracy: 0.7141\n",
      "Epoch 6/50\n",
      "402/402 [==============================] - 54s 135ms/step - loss: 0.8406 - accuracy: 0.7240 - val_loss: 0.6921 - val_accuracy: 0.7781\n",
      "Epoch 7/50\n",
      "402/402 [==============================] - 54s 134ms/step - loss: 0.7301 - accuracy: 0.7602 - val_loss: 0.6522 - val_accuracy: 0.7872\n",
      "Epoch 8/50\n",
      "402/402 [==============================] - 52s 130ms/step - loss: 0.6474 - accuracy: 0.7897 - val_loss: 0.5981 - val_accuracy: 0.8057\n",
      "Epoch 9/50\n",
      "402/402 [==============================] - 52s 129ms/step - loss: 0.5756 - accuracy: 0.8149 - val_loss: 0.5379 - val_accuracy: 0.8276\n",
      "Epoch 10/50\n",
      "402/402 [==============================] - 51s 127ms/step - loss: 0.5152 - accuracy: 0.8359 - val_loss: 0.4628 - val_accuracy: 0.8539\n",
      "Epoch 11/50\n",
      "402/402 [==============================] - 54s 134ms/step - loss: 0.4733 - accuracy: 0.8502 - val_loss: 0.4415 - val_accuracy: 0.8615\n",
      "Epoch 12/50\n",
      "402/402 [==============================] - 51s 126ms/step - loss: 0.4410 - accuracy: 0.8632 - val_loss: 0.4311 - val_accuracy: 0.8609\n",
      "Epoch 13/50\n",
      "402/402 [==============================] - 53s 131ms/step - loss: 0.4033 - accuracy: 0.8746 - val_loss: 0.3739 - val_accuracy: 0.8878\n",
      "Epoch 14/50\n",
      "402/402 [==============================] - 53s 132ms/step - loss: 0.3782 - accuracy: 0.8844 - val_loss: 0.3765 - val_accuracy: 0.8859\n",
      "Epoch 15/50\n",
      "402/402 [==============================] - 52s 130ms/step - loss: 0.3595 - accuracy: 0.8895 - val_loss: 0.3881 - val_accuracy: 0.8821\n",
      "Epoch 16/50\n",
      "402/402 [==============================] - 52s 129ms/step - loss: 0.3384 - accuracy: 0.8968 - val_loss: 0.3352 - val_accuracy: 0.9023\n",
      "Epoch 17/50\n",
      "402/402 [==============================] - 51s 128ms/step - loss: 0.3265 - accuracy: 0.9012 - val_loss: 0.3263 - val_accuracy: 0.9024\n",
      "Epoch 18/50\n",
      "402/402 [==============================] - 52s 130ms/step - loss: 0.3073 - accuracy: 0.9083 - val_loss: 0.3322 - val_accuracy: 0.9008\n",
      "Epoch 19/50\n",
      "402/402 [==============================] - 51s 128ms/step - loss: 0.2947 - accuracy: 0.9118 - val_loss: 0.3385 - val_accuracy: 0.8966\n",
      "Epoch 20/50\n",
      "402/402 [==============================] - 51s 128ms/step - loss: 0.2921 - accuracy: 0.9134 - val_loss: 0.3340 - val_accuracy: 0.9004\n",
      "Epoch 21/50\n",
      "402/402 [==============================] - 53s 132ms/step - loss: 0.2738 - accuracy: 0.9181 - val_loss: 0.3091 - val_accuracy: 0.9119\n",
      "Epoch 22/50\n",
      "402/402 [==============================] - 55s 137ms/step - loss: 0.2653 - accuracy: 0.9201 - val_loss: 0.3328 - val_accuracy: 0.9043\n",
      "Epoch 23/50\n",
      "402/402 [==============================] - 54s 135ms/step - loss: 0.2558 - accuracy: 0.9243 - val_loss: 0.3002 - val_accuracy: 0.9186\n",
      "Epoch 24/50\n",
      "402/402 [==============================] - 53s 133ms/step - loss: 0.2487 - accuracy: 0.9266 - val_loss: 0.3271 - val_accuracy: 0.9077\n",
      "Epoch 25/50\n",
      "402/402 [==============================] - 53s 132ms/step - loss: 0.2395 - accuracy: 0.9283 - val_loss: 0.2903 - val_accuracy: 0.9163\n",
      "Epoch 26/50\n",
      "402/402 [==============================] - 53s 132ms/step - loss: 0.2355 - accuracy: 0.9294 - val_loss: 0.2778 - val_accuracy: 0.9185\n",
      "Epoch 27/50\n",
      "402/402 [==============================] - 54s 134ms/step - loss: 0.2261 - accuracy: 0.9327 - val_loss: 0.2972 - val_accuracy: 0.9118\n",
      "Epoch 28/50\n",
      "402/402 [==============================] - 54s 134ms/step - loss: 0.2189 - accuracy: 0.9338 - val_loss: 0.2617 - val_accuracy: 0.9249\n",
      "Epoch 29/50\n",
      "402/402 [==============================] - 53s 132ms/step - loss: 0.2109 - accuracy: 0.9378 - val_loss: 0.2725 - val_accuracy: 0.9210\n",
      "Epoch 30/50\n",
      "402/402 [==============================] - 50s 125ms/step - loss: 0.2084 - accuracy: 0.9387 - val_loss: 0.3205 - val_accuracy: 0.9126\n",
      "Epoch 31/50\n",
      "402/402 [==============================] - 50s 125ms/step - loss: 0.2026 - accuracy: 0.9396 - val_loss: 0.2578 - val_accuracy: 0.9251\n",
      "Epoch 32/50\n",
      "402/402 [==============================] - 51s 126ms/step - loss: 0.1988 - accuracy: 0.9409 - val_loss: 0.2920 - val_accuracy: 0.9159\n",
      "Epoch 33/50\n",
      "402/402 [==============================] - 51s 126ms/step - loss: 0.1939 - accuracy: 0.9428 - val_loss: 0.2807 - val_accuracy: 0.9178\n",
      "Epoch 1/50\n",
      "402/402 [==============================] - 72s 175ms/step - loss: 1.0390 - accuracy: 0.6980 - val_loss: 0.6901 - val_accuracy: 0.7895\n",
      "Epoch 2/50\n",
      "402/402 [==============================] - 68s 170ms/step - loss: 0.4646 - accuracy: 0.8537 - val_loss: 0.3559 - val_accuracy: 0.8885\n",
      "Epoch 3/50\n",
      "402/402 [==============================] - 63s 156ms/step - loss: 0.3228 - accuracy: 0.9000 - val_loss: 0.2686 - val_accuracy: 0.9125\n",
      "Epoch 4/50\n",
      "402/402 [==============================] - 67s 167ms/step - loss: 0.2612 - accuracy: 0.9182 - val_loss: 0.2811 - val_accuracy: 0.9096\n",
      "Epoch 5/50\n",
      "402/402 [==============================] - 80s 199ms/step - loss: 0.2264 - accuracy: 0.9293 - val_loss: 0.2433 - val_accuracy: 0.9227\n",
      "Epoch 6/50\n",
      "402/402 [==============================] - 63s 157ms/step - loss: 0.2039 - accuracy: 0.9362 - val_loss: 0.2112 - val_accuracy: 0.9313\n",
      "Epoch 7/50\n",
      "402/402 [==============================] - 65s 162ms/step - loss: 0.1855 - accuracy: 0.9426 - val_loss: 0.2203 - val_accuracy: 0.9328\n",
      "Epoch 8/50\n",
      "402/402 [==============================] - 65s 161ms/step - loss: 0.1710 - accuracy: 0.9469 - val_loss: 0.1955 - val_accuracy: 0.9382\n",
      "Epoch 9/50\n",
      "402/402 [==============================] - 62s 154ms/step - loss: 0.1577 - accuracy: 0.9508 - val_loss: 0.2298 - val_accuracy: 0.9275\n",
      "Epoch 10/50\n",
      "402/402 [==============================] - 62s 154ms/step - loss: 0.1469 - accuracy: 0.9552 - val_loss: 0.1913 - val_accuracy: 0.9411\n",
      "Epoch 11/50\n",
      "402/402 [==============================] - 61s 152ms/step - loss: 0.1400 - accuracy: 0.9567 - val_loss: 0.1931 - val_accuracy: 0.9391\n",
      "Epoch 12/50\n",
      "402/402 [==============================] - 61s 152ms/step - loss: 0.1319 - accuracy: 0.9589 - val_loss: 0.1932 - val_accuracy: 0.9394\n",
      "Epoch 13/50\n",
      "402/402 [==============================] - 63s 157ms/step - loss: 0.1275 - accuracy: 0.9600 - val_loss: 0.2201 - val_accuracy: 0.9335\n",
      "Epoch 14/50\n",
      "402/402 [==============================] - 64s 158ms/step - loss: 0.1225 - accuracy: 0.9621 - val_loss: 0.1834 - val_accuracy: 0.9449\n",
      "Epoch 15/50\n",
      "402/402 [==============================] - 62s 154ms/step - loss: 0.1140 - accuracy: 0.9643 - val_loss: 0.2021 - val_accuracy: 0.9410\n",
      "Epoch 16/50\n",
      "402/402 [==============================] - 62s 154ms/step - loss: 0.1094 - accuracy: 0.9668 - val_loss: 0.2104 - val_accuracy: 0.9441\n",
      "Epoch 17/50\n",
      "402/402 [==============================] - 61s 152ms/step - loss: 0.1163 - accuracy: 0.9642 - val_loss: 0.1695 - val_accuracy: 0.9464\n",
      "Epoch 18/50\n",
      "402/402 [==============================] - 62s 153ms/step - loss: 0.1048 - accuracy: 0.9672 - val_loss: 0.1720 - val_accuracy: 0.9476\n",
      "Epoch 19/50\n",
      "402/402 [==============================] - 62s 154ms/step - loss: 0.0964 - accuracy: 0.9699 - val_loss: 0.1824 - val_accuracy: 0.9480\n",
      "Epoch 20/50\n",
      "402/402 [==============================] - 62s 154ms/step - loss: 0.0970 - accuracy: 0.9697 - val_loss: 0.1954 - val_accuracy: 0.9441\n",
      "Epoch 21/50\n",
      "402/402 [==============================] - 61s 153ms/step - loss: 0.0913 - accuracy: 0.9709 - val_loss: 0.1796 - val_accuracy: 0.9492\n",
      "Epoch 22/50\n",
      "402/402 [==============================] - 62s 153ms/step - loss: 0.0934 - accuracy: 0.9710 - val_loss: 0.1799 - val_accuracy: 0.9457\n",
      "Epoch 23/50\n",
      "402/402 [==============================] - 62s 154ms/step - loss: 0.0858 - accuracy: 0.9736 - val_loss: 0.1824 - val_accuracy: 0.9484\n",
      "Epoch 24/50\n",
      "402/402 [==============================] - 63s 156ms/step - loss: 0.0807 - accuracy: 0.9749 - val_loss: 0.1841 - val_accuracy: 0.9468\n",
      "Epoch 25/50\n",
      "402/402 [==============================] - 65s 163ms/step - loss: 0.0808 - accuracy: 0.9758 - val_loss: 0.1914 - val_accuracy: 0.9468\n",
      "Epoch 26/50\n",
      "402/402 [==============================] - 116s 288ms/step - loss: 0.0779 - accuracy: 0.9749 - val_loss: 0.1909 - val_accuracy: 0.9486\n",
      "Epoch 1/50\n",
      "402/402 [==============================] - 118s 285ms/step - loss: 1.4287 - accuracy: 0.6198 - val_loss: 1.1295 - val_accuracy: 0.6319\n",
      "Epoch 2/50\n",
      "402/402 [==============================] - 110s 275ms/step - loss: 0.8344 - accuracy: 0.7307 - val_loss: 0.5332 - val_accuracy: 0.8338\n",
      "Epoch 3/50\n",
      "402/402 [==============================] - 105s 261ms/step - loss: 0.5388 - accuracy: 0.8255 - val_loss: 0.4257 - val_accuracy: 0.8661\n",
      "Epoch 4/50\n",
      "402/402 [==============================] - 97s 242ms/step - loss: 0.4258 - accuracy: 0.8654 - val_loss: 0.3662 - val_accuracy: 0.8887\n",
      "Epoch 5/50\n",
      "402/402 [==============================] - 111s 276ms/step - loss: 0.3594 - accuracy: 0.8868 - val_loss: 0.3041 - val_accuracy: 0.9071\n",
      "Epoch 6/50\n",
      "402/402 [==============================] - 113s 282ms/step - loss: 0.3187 - accuracy: 0.9002 - val_loss: 0.2781 - val_accuracy: 0.9153\n",
      "Epoch 7/50\n",
      "402/402 [==============================] - 97s 241ms/step - loss: 0.2869 - accuracy: 0.9117 - val_loss: 0.2727 - val_accuracy: 0.9214\n",
      "Epoch 8/50\n",
      "402/402 [==============================] - 60s 149ms/step - loss: 0.2671 - accuracy: 0.9181 - val_loss: 0.2635 - val_accuracy: 0.9210\n",
      "Epoch 9/50\n",
      "402/402 [==============================] - 58s 144ms/step - loss: 0.2492 - accuracy: 0.9223 - val_loss: 0.2570 - val_accuracy: 0.9227\n",
      "Epoch 10/50\n",
      "402/402 [==============================] - 59s 146ms/step - loss: 0.2281 - accuracy: 0.9307 - val_loss: 0.2477 - val_accuracy: 0.9254\n",
      "Epoch 11/50\n",
      "402/402 [==============================] - 58s 145ms/step - loss: 0.2153 - accuracy: 0.9329 - val_loss: 0.2349 - val_accuracy: 0.9294\n",
      "Epoch 12/50\n",
      "402/402 [==============================] - 59s 146ms/step - loss: 0.2051 - accuracy: 0.9371 - val_loss: 0.2462 - val_accuracy: 0.9292\n",
      "Epoch 13/50\n",
      "402/402 [==============================] - 58s 145ms/step - loss: 0.1934 - accuracy: 0.9399 - val_loss: 0.2211 - val_accuracy: 0.9340\n",
      "Epoch 14/50\n",
      "402/402 [==============================] - 58s 145ms/step - loss: 0.1842 - accuracy: 0.9436 - val_loss: 0.2102 - val_accuracy: 0.9365\n",
      "Epoch 15/50\n",
      "402/402 [==============================] - 58s 145ms/step - loss: 0.1781 - accuracy: 0.9455 - val_loss: 0.2280 - val_accuracy: 0.9350\n",
      "Epoch 16/50\n",
      "402/402 [==============================] - 60s 149ms/step - loss: 0.1672 - accuracy: 0.9480 - val_loss: 0.2260 - val_accuracy: 0.9382\n",
      "Epoch 17/50\n",
      "402/402 [==============================] - 59s 147ms/step - loss: 0.1576 - accuracy: 0.9511 - val_loss: 0.2077 - val_accuracy: 0.9401\n",
      "Epoch 18/50\n",
      "402/402 [==============================] - 60s 150ms/step - loss: 0.1533 - accuracy: 0.9527 - val_loss: 0.2162 - val_accuracy: 0.9372\n",
      "Epoch 19/50\n",
      "402/402 [==============================] - 62s 154ms/step - loss: 0.1459 - accuracy: 0.9555 - val_loss: 0.1931 - val_accuracy: 0.9433\n",
      "Epoch 20/50\n",
      "402/402 [==============================] - 59s 147ms/step - loss: 0.1422 - accuracy: 0.9563 - val_loss: 0.2008 - val_accuracy: 0.9439\n",
      "Epoch 21/50\n",
      "402/402 [==============================] - 58s 145ms/step - loss: 0.1355 - accuracy: 0.9587 - val_loss: 0.1925 - val_accuracy: 0.9430\n",
      "Epoch 22/50\n",
      "402/402 [==============================] - 56s 138ms/step - loss: 0.1320 - accuracy: 0.9592 - val_loss: 0.1967 - val_accuracy: 0.9454\n",
      "Epoch 23/50\n",
      "402/402 [==============================] - 53s 132ms/step - loss: 0.1305 - accuracy: 0.9602 - val_loss: 0.1850 - val_accuracy: 0.9468\n",
      "Epoch 24/50\n",
      "402/402 [==============================] - 55s 138ms/step - loss: 0.1239 - accuracy: 0.9620 - val_loss: 0.1929 - val_accuracy: 0.9451\n",
      "Epoch 25/50\n",
      "402/402 [==============================] - 58s 145ms/step - loss: 0.1180 - accuracy: 0.9643 - val_loss: 0.1983 - val_accuracy: 0.9481\n",
      "Epoch 26/50\n",
      "402/402 [==============================] - 59s 146ms/step - loss: 0.1171 - accuracy: 0.9640 - val_loss: 0.2075 - val_accuracy: 0.9387\n",
      "Epoch 27/50\n",
      "402/402 [==============================] - 56s 138ms/step - loss: 0.1124 - accuracy: 0.9657 - val_loss: 0.1909 - val_accuracy: 0.9441\n",
      "Epoch 28/50\n",
      "402/402 [==============================] - 60s 148ms/step - loss: 0.1094 - accuracy: 0.9671 - val_loss: 0.1984 - val_accuracy: 0.9448\n",
      "Epoch 29/50\n",
      "402/402 [==============================] - 59s 147ms/step - loss: 0.1064 - accuracy: 0.9674 - val_loss: 0.1993 - val_accuracy: 0.9451\n",
      "Epoch 30/50\n",
      "402/402 [==============================] - 56s 139ms/step - loss: 0.1046 - accuracy: 0.9680 - val_loss: 0.1969 - val_accuracy: 0.9455\n",
      "Epoch 1/50\n",
      "402/402 [==============================] - 45s 109ms/step - loss: 1.5802 - accuracy: 0.6059 - val_loss: 1.3804 - val_accuracy: 0.6167\n",
      "Epoch 2/50\n",
      "402/402 [==============================] - 42s 104ms/step - loss: 1.3188 - accuracy: 0.6312 - val_loss: 1.1772 - val_accuracy: 0.6304\n",
      "Epoch 3/50\n",
      "402/402 [==============================] - 45s 112ms/step - loss: 1.1855 - accuracy: 0.6361 - val_loss: 1.0885 - val_accuracy: 0.6358\n",
      "Epoch 4/50\n",
      "402/402 [==============================] - 49s 121ms/step - loss: 1.0803 - accuracy: 0.6505 - val_loss: 0.9391 - val_accuracy: 0.6800\n",
      "Epoch 5/50\n",
      "402/402 [==============================] - 43s 107ms/step - loss: 0.9538 - accuracy: 0.6861 - val_loss: 0.8306 - val_accuracy: 0.7182\n",
      "Epoch 6/50\n",
      "402/402 [==============================] - 40s 101ms/step - loss: 0.8399 - accuracy: 0.7243 - val_loss: 0.7311 - val_accuracy: 0.7585\n",
      "Epoch 7/50\n",
      "402/402 [==============================] - 43s 106ms/step - loss: 0.7231 - accuracy: 0.7626 - val_loss: 0.6407 - val_accuracy: 0.7854\n",
      "Epoch 8/50\n",
      "402/402 [==============================] - 40s 98ms/step - loss: 0.6315 - accuracy: 0.7950 - val_loss: 0.5642 - val_accuracy: 0.8138\n",
      "Epoch 9/50\n",
      "402/402 [==============================] - 42s 105ms/step - loss: 0.5733 - accuracy: 0.8143 - val_loss: 0.5853 - val_accuracy: 0.7958\n",
      "Epoch 10/50\n",
      "402/402 [==============================] - 40s 100ms/step - loss: 0.5241 - accuracy: 0.8308 - val_loss: 0.4854 - val_accuracy: 0.8447\n",
      "Epoch 11/50\n",
      "402/402 [==============================] - 46s 115ms/step - loss: 0.4799 - accuracy: 0.8482 - val_loss: 0.5081 - val_accuracy: 0.8368\n",
      "Epoch 12/50\n",
      "402/402 [==============================] - 40s 100ms/step - loss: 0.4460 - accuracy: 0.8569 - val_loss: 0.4296 - val_accuracy: 0.8706\n",
      "Epoch 13/50\n",
      "402/402 [==============================] - 43s 107ms/step - loss: 0.4207 - accuracy: 0.8696 - val_loss: 0.4353 - val_accuracy: 0.8661\n",
      "Epoch 14/50\n",
      "402/402 [==============================] - 44s 109ms/step - loss: 0.3905 - accuracy: 0.8793 - val_loss: 0.4234 - val_accuracy: 0.8699\n",
      "Epoch 15/50\n",
      "402/402 [==============================] - 45s 111ms/step - loss: 0.3689 - accuracy: 0.8856 - val_loss: 0.3829 - val_accuracy: 0.8856\n",
      "Epoch 16/50\n",
      "402/402 [==============================] - 38s 95ms/step - loss: 0.3545 - accuracy: 0.8910 - val_loss: 0.3957 - val_accuracy: 0.8821\n",
      "Epoch 17/50\n",
      "402/402 [==============================] - 44s 110ms/step - loss: 0.3355 - accuracy: 0.8978 - val_loss: 0.3897 - val_accuracy: 0.8864\n",
      "Epoch 18/50\n",
      "402/402 [==============================] - 39s 98ms/step - loss: 0.3232 - accuracy: 0.9027 - val_loss: 0.3568 - val_accuracy: 0.8897\n",
      "Epoch 19/50\n",
      "402/402 [==============================] - 43s 107ms/step - loss: 0.2988 - accuracy: 0.9104 - val_loss: 0.3705 - val_accuracy: 0.8824\n",
      "Epoch 20/50\n",
      "402/402 [==============================] - 42s 105ms/step - loss: 0.2934 - accuracy: 0.9115 - val_loss: 0.3256 - val_accuracy: 0.9070\n",
      "Epoch 21/50\n",
      "402/402 [==============================] - 40s 101ms/step - loss: 0.2782 - accuracy: 0.9166 - val_loss: 0.3455 - val_accuracy: 0.8985\n",
      "Epoch 22/50\n",
      "402/402 [==============================] - 44s 109ms/step - loss: 0.2703 - accuracy: 0.9204 - val_loss: 0.3237 - val_accuracy: 0.9062\n",
      "Epoch 23/50\n",
      "402/402 [==============================] - 42s 103ms/step - loss: 0.2656 - accuracy: 0.9211 - val_loss: 0.3336 - val_accuracy: 0.8950\n",
      "Epoch 24/50\n"
     ]
    },
    {
     "name": "stdout",
     "output_type": "stream",
     "text": [
      "402/402 [==============================] - 41s 103ms/step - loss: 0.2498 - accuracy: 0.9246 - val_loss: 0.2965 - val_accuracy: 0.9157\n",
      "Epoch 25/50\n",
      "402/402 [==============================] - 42s 104ms/step - loss: 0.2423 - accuracy: 0.9273 - val_loss: 0.3010 - val_accuracy: 0.9109\n",
      "Epoch 26/50\n",
      "402/402 [==============================] - 45s 111ms/step - loss: 0.2382 - accuracy: 0.9286 - val_loss: 0.3140 - val_accuracy: 0.9128\n",
      "Epoch 27/50\n",
      "402/402 [==============================] - 42s 104ms/step - loss: 0.2325 - accuracy: 0.9310 - val_loss: 0.3231 - val_accuracy: 0.9115\n",
      "Epoch 28/50\n",
      "402/402 [==============================] - 42s 104ms/step - loss: 0.2250 - accuracy: 0.9344 - val_loss: 0.2793 - val_accuracy: 0.9157\n",
      "Epoch 29/50\n",
      "402/402 [==============================] - 45s 113ms/step - loss: 0.2186 - accuracy: 0.9349 - val_loss: 0.3368 - val_accuracy: 0.9053\n",
      "Epoch 1/50\n",
      "402/402 [==============================] - 60s 144ms/step - loss: 1.0387 - accuracy: 0.6900 - val_loss: 0.5884 - val_accuracy: 0.8186\n",
      "Epoch 2/50\n",
      "402/402 [==============================] - 66s 164ms/step - loss: 0.4780 - accuracy: 0.8481 - val_loss: 0.3591 - val_accuracy: 0.8845\n",
      "Epoch 3/50\n",
      "402/402 [==============================] - 69s 171ms/step - loss: 0.3335 - accuracy: 0.8960 - val_loss: 0.2940 - val_accuracy: 0.9033\n",
      "Epoch 4/50\n",
      "402/402 [==============================] - 68s 170ms/step - loss: 0.2711 - accuracy: 0.9156 - val_loss: 0.2804 - val_accuracy: 0.9147\n",
      "Epoch 5/50\n",
      "402/402 [==============================] - 62s 154ms/step - loss: 0.2299 - accuracy: 0.9286 - val_loss: 0.2697 - val_accuracy: 0.9216\n",
      "Epoch 6/50\n",
      "402/402 [==============================] - 62s 154ms/step - loss: 0.2071 - accuracy: 0.9356 - val_loss: 0.2233 - val_accuracy: 0.9292\n",
      "Epoch 7/50\n",
      "402/402 [==============================] - 61s 153ms/step - loss: 0.1838 - accuracy: 0.9430 - val_loss: 0.2250 - val_accuracy: 0.9274\n",
      "Epoch 8/50\n",
      "402/402 [==============================] - 60s 149ms/step - loss: 0.1692 - accuracy: 0.9473 - val_loss: 0.1986 - val_accuracy: 0.9363\n",
      "Epoch 9/50\n",
      "402/402 [==============================] - 59s 147ms/step - loss: 0.1619 - accuracy: 0.9493 - val_loss: 0.2103 - val_accuracy: 0.9322\n",
      "Epoch 10/50\n",
      "402/402 [==============================] - 62s 154ms/step - loss: 0.1454 - accuracy: 0.9547 - val_loss: 0.2074 - val_accuracy: 0.9360\n",
      "Epoch 11/50\n",
      "402/402 [==============================] - 62s 155ms/step - loss: 0.1363 - accuracy: 0.9575 - val_loss: 0.1752 - val_accuracy: 0.9441\n",
      "Epoch 12/50\n",
      "402/402 [==============================] - 59s 146ms/step - loss: 0.1311 - accuracy: 0.9584 - val_loss: 0.2164 - val_accuracy: 0.9427\n",
      "Epoch 13/50\n",
      "402/402 [==============================] - 61s 153ms/step - loss: 0.1265 - accuracy: 0.9604 - val_loss: 0.2125 - val_accuracy: 0.9357\n",
      "Epoch 14/50\n",
      "402/402 [==============================] - 59s 146ms/step - loss: 0.1176 - accuracy: 0.9631 - val_loss: 0.1873 - val_accuracy: 0.9439\n",
      "Epoch 15/50\n",
      "402/402 [==============================] - 59s 147ms/step - loss: 0.1170 - accuracy: 0.9645 - val_loss: 0.2087 - val_accuracy: 0.9360\n",
      "Epoch 16/50\n",
      "402/402 [==============================] - 61s 151ms/step - loss: 0.1103 - accuracy: 0.9661 - val_loss: 0.1859 - val_accuracy: 0.9427\n",
      "Epoch 1/50\n",
      "402/402 [==============================] - 60s 146ms/step - loss: 1.4521 - accuracy: 0.6201 - val_loss: 1.1023 - val_accuracy: 0.6478\n",
      "Epoch 2/50\n",
      "402/402 [==============================] - 57s 141ms/step - loss: 0.8568 - accuracy: 0.7243 - val_loss: 0.5431 - val_accuracy: 0.8265\n",
      "Epoch 3/50\n",
      "402/402 [==============================] - 59s 147ms/step - loss: 0.5485 - accuracy: 0.8224 - val_loss: 0.3845 - val_accuracy: 0.8796\n",
      "Epoch 4/50\n",
      "402/402 [==============================] - 59s 148ms/step - loss: 0.4214 - accuracy: 0.8658 - val_loss: 0.3343 - val_accuracy: 0.8963\n",
      "Epoch 5/50\n",
      "402/402 [==============================] - 56s 139ms/step - loss: 0.3550 - accuracy: 0.8883 - val_loss: 0.3056 - val_accuracy: 0.9074\n",
      "Epoch 6/50\n",
      "402/402 [==============================] - 59s 147ms/step - loss: 0.3163 - accuracy: 0.9012 - val_loss: 0.2774 - val_accuracy: 0.9147\n",
      "Epoch 7/50\n",
      "402/402 [==============================] - 57s 142ms/step - loss: 0.2873 - accuracy: 0.9103 - val_loss: 0.2606 - val_accuracy: 0.9201\n",
      "Epoch 8/50\n",
      "402/402 [==============================] - 59s 147ms/step - loss: 0.2609 - accuracy: 0.9192 - val_loss: 0.2552 - val_accuracy: 0.9202\n",
      "Epoch 9/50\n",
      "402/402 [==============================] - 56s 139ms/step - loss: 0.2427 - accuracy: 0.9249 - val_loss: 0.2481 - val_accuracy: 0.9255\n",
      "Epoch 10/50\n",
      "402/402 [==============================] - 59s 147ms/step - loss: 0.2222 - accuracy: 0.9316 - val_loss: 0.2237 - val_accuracy: 0.9308\n",
      "Epoch 11/50\n",
      "402/402 [==============================] - 57s 142ms/step - loss: 0.2118 - accuracy: 0.9349 - val_loss: 0.2276 - val_accuracy: 0.9261\n",
      "Epoch 12/50\n",
      "402/402 [==============================] - 60s 150ms/step - loss: 0.1991 - accuracy: 0.9391 - val_loss: 0.2268 - val_accuracy: 0.9331\n",
      "Epoch 13/50\n",
      "402/402 [==============================] - 62s 154ms/step - loss: 0.1887 - accuracy: 0.9409 - val_loss: 0.2186 - val_accuracy: 0.9335\n",
      "Epoch 14/50\n",
      "402/402 [==============================] - 57s 141ms/step - loss: 0.1796 - accuracy: 0.9456 - val_loss: 0.2184 - val_accuracy: 0.9300\n",
      "Epoch 15/50\n",
      "402/402 [==============================] - 59s 147ms/step - loss: 0.1696 - accuracy: 0.9475 - val_loss: 0.2108 - val_accuracy: 0.9347\n",
      "Epoch 16/50\n",
      "402/402 [==============================] - 56s 139ms/step - loss: 0.1654 - accuracy: 0.9491 - val_loss: 0.2057 - val_accuracy: 0.9397\n",
      "Epoch 17/50\n",
      "402/402 [==============================] - 60s 148ms/step - loss: 0.1568 - accuracy: 0.9509 - val_loss: 0.1981 - val_accuracy: 0.9392\n",
      "Epoch 18/50\n",
      "402/402 [==============================] - 57s 141ms/step - loss: 0.1486 - accuracy: 0.9547 - val_loss: 0.2200 - val_accuracy: 0.9347\n",
      "Epoch 19/50\n",
      "402/402 [==============================] - 60s 148ms/step - loss: 0.1412 - accuracy: 0.9569 - val_loss: 0.2092 - val_accuracy: 0.9379\n",
      "Epoch 20/50\n",
      "402/402 [==============================] - 56s 138ms/step - loss: 0.1361 - accuracy: 0.9580 - val_loss: 0.1989 - val_accuracy: 0.9426\n",
      "Epoch 21/50\n",
      "402/402 [==============================] - 61s 153ms/step - loss: 0.1336 - accuracy: 0.9591 - val_loss: 0.2037 - val_accuracy: 0.9388\n",
      "Epoch 22/50\n",
      "402/402 [==============================] - 57s 143ms/step - loss: 0.1257 - accuracy: 0.9603 - val_loss: 0.1895 - val_accuracy: 0.9468\n",
      "Epoch 23/50\n",
      "402/402 [==============================] - 57s 141ms/step - loss: 0.1242 - accuracy: 0.9617 - val_loss: 0.2049 - val_accuracy: 0.9427\n",
      "Epoch 24/50\n",
      "402/402 [==============================] - 59s 148ms/step - loss: 0.1225 - accuracy: 0.9620 - val_loss: 0.1989 - val_accuracy: 0.9403\n",
      "Epoch 25/50\n",
      "402/402 [==============================] - 59s 148ms/step - loss: 0.1152 - accuracy: 0.9652 - val_loss: 0.1839 - val_accuracy: 0.9465\n",
      "Epoch 26/50\n",
      "402/402 [==============================] - 57s 143ms/step - loss: 0.1110 - accuracy: 0.9657 - val_loss: 0.1791 - val_accuracy: 0.9481\n",
      "Epoch 27/50\n",
      "402/402 [==============================] - 57s 142ms/step - loss: 0.1092 - accuracy: 0.9666 - val_loss: 0.1960 - val_accuracy: 0.9413\n",
      "Epoch 28/50\n",
      "402/402 [==============================] - 61s 153ms/step - loss: 0.1080 - accuracy: 0.9671 - val_loss: 0.1920 - val_accuracy: 0.9481\n",
      "Epoch 29/50\n",
      "402/402 [==============================] - 56s 139ms/step - loss: 0.1073 - accuracy: 0.9672 - val_loss: 0.1926 - val_accuracy: 0.9462\n",
      "Epoch 30/50\n",
      "402/402 [==============================] - 56s 141ms/step - loss: 0.1034 - accuracy: 0.9678 - val_loss: 0.1923 - val_accuracy: 0.9480\n",
      "Epoch 31/50\n",
      "402/402 [==============================] - 60s 149ms/step - loss: 0.0993 - accuracy: 0.9697 - val_loss: 0.1906 - val_accuracy: 0.9468\n"
     ]
    }
   ],
   "source": [
    "# Models training\n",
    "model1_stats = []\n",
    "model1_acc = []\n",
    "model2_stats = []\n",
    "model2_acc = []\n",
    "model3_stats = []\n",
    "model3_acc = []\n",
    "\n",
    "for i in range(ITER):\n",
    "    # SimpleRNN\n",
    "    OPT = Adam(learning_rate=LEARNING_RATES[0], clipnorm=1.0)\n",
    "    model1 = rnn_network(INPUT_DIM, OUTPUT_DIM, SimpleRNN, OPT)\n",
    "    K.clear_session()\n",
    "    model1_history = model1.fit(x_train, y_train,\n",
    "                                batch_size=BATCH_SIZE, epochs=EPOCHS, verbose=1,\n",
    "                                validation_data=(x_val, y_val),\n",
    "                                callbacks=[early_stop]\n",
    "                               )\n",
    "    \n",
    "    # LSTM\n",
    "    OPT = Adam(learning_rate=LEARNING_RATES[1], clipnorm=1.0)\n",
    "    model2 = rnn_network(INPUT_DIM, OUTPUT_DIM, LSTM, OPT)\n",
    "    K.clear_session()\n",
    "    model2_history = model2.fit(x_train, y_train,\n",
    "                                batch_size=BATCH_SIZE, epochs=EPOCHS, verbose=1,\n",
    "                                validation_data=(x_val, y_val),\n",
    "                                callbacks=[early_stop]\n",
    "                               )\n",
    "    \n",
    "    # GRU\n",
    "    OPT = Adam(learning_rate=LEARNING_RATES[2], clipnorm=1.0)\n",
    "    model3 = rnn_network(INPUT_DIM, OUTPUT_DIM, GRU, OPT)\n",
    "    K.clear_session()\n",
    "    model3_history = model3.fit(x_train, y_train,\n",
    "                                batch_size=BATCH_SIZE, epochs=EPOCHS, verbose=1,\n",
    "                                validation_data=(x_val, y_val),\n",
    "                                callbacks=[early_stop]\n",
    "                               )\n",
    "    \n",
    "    # Saving results\n",
    "    y_test_classes = np.argmax(y_test, axis=1)\n",
    "    \n",
    "    model1_stats.append(model1_history)\n",
    "    y_pred_1 = model1.predict(x_test)\n",
    "    y_pred_classes_1 = np.argmax(y_pred_1, axis=-1)\n",
    "    model1_acc.append(accuracy_score(y_test_classes, y_pred_classes_1))\n",
    "\n",
    "    model2_stats.append(model2_history)\n",
    "    y_pred_2 = model2.predict(x_test)\n",
    "    y_pred_classes_2 = np.argmax(y_pred_2, axis=-1)\n",
    "    model2_acc.append(accuracy_score(y_test_classes, y_pred_classes_2))\n",
    "    \n",
    "    model3_stats.append(model3_history)\n",
    "    y_pred_3 = model3.predict(x_test)\n",
    "    y_pred_classes_3 = np.argmax(y_pred_3, axis=-1)\n",
    "    model3_acc.append(accuracy_score(y_test_classes, y_pred_classes_3))"
   ]
  },
  {
   "cell_type": "code",
   "execution_count": 110,
   "id": "7b7b8b28",
   "metadata": {
    "ExecuteTime": {
     "end_time": "2022-05-08T13:47:16.985592Z",
     "start_time": "2022-05-08T13:47:16.947676Z"
    }
   },
   "outputs": [],
   "source": [
    "# Models summary\n",
    "approach1_acc_results = pd.DataFrame([model1_acc, model2_acc, model3_acc]).T\n",
    "approach1_acc_results.columns=['SimpleRNN', 'LSTM', 'GRU']\n",
    "approach1_acc_results_stats = approach1_acc_results.describe().T[['mean', 'std']]"
   ]
  },
  {
   "cell_type": "code",
   "execution_count": 111,
   "id": "90aaded6",
   "metadata": {
    "ExecuteTime": {
     "end_time": "2022-05-08T13:47:18.298352Z",
     "start_time": "2022-05-08T13:47:18.265600Z"
    }
   },
   "outputs": [
    {
     "data": {
      "text/html": [
       "<div>\n",
       "<style scoped>\n",
       "    .dataframe tbody tr th:only-of-type {\n",
       "        vertical-align: middle;\n",
       "    }\n",
       "\n",
       "    .dataframe tbody tr th {\n",
       "        vertical-align: top;\n",
       "    }\n",
       "\n",
       "    .dataframe thead th {\n",
       "        text-align: right;\n",
       "    }\n",
       "</style>\n",
       "<table border=\"1\" class=\"dataframe\">\n",
       "  <thead>\n",
       "    <tr style=\"text-align: right;\">\n",
       "      <th></th>\n",
       "      <th>mean</th>\n",
       "      <th>std</th>\n",
       "      <th>epochs</th>\n",
       "    </tr>\n",
       "  </thead>\n",
       "  <tbody>\n",
       "    <tr>\n",
       "      <th>SimpleRNN</th>\n",
       "      <td>0.921798</td>\n",
       "      <td>0.009139</td>\n",
       "      <td>31.0</td>\n",
       "    </tr>\n",
       "    <tr>\n",
       "      <th>LSTM</th>\n",
       "      <td>0.949898</td>\n",
       "      <td>0.003697</td>\n",
       "      <td>21.0</td>\n",
       "    </tr>\n",
       "    <tr>\n",
       "      <th>GRU</th>\n",
       "      <td>0.952004</td>\n",
       "      <td>0.001540</td>\n",
       "      <td>30.5</td>\n",
       "    </tr>\n",
       "  </tbody>\n",
       "</table>\n",
       "</div>"
      ],
      "text/plain": [
       "               mean       std  epochs\n",
       "SimpleRNN  0.921798  0.009139    31.0\n",
       "LSTM       0.949898  0.003697    21.0\n",
       "GRU        0.952004  0.001540    30.5"
      ]
     },
     "execution_count": 111,
     "metadata": {},
     "output_type": "execute_result"
    }
   ],
   "source": [
    "model1_epochs = []\n",
    "model2_epochs = []\n",
    "model3_epochs = []\n",
    "for i in range(ITER):\n",
    "    model1_epochs.append(len(model1_stats[i].history['loss']))\n",
    "    model2_epochs.append(len(model2_stats[i].history['loss']))\n",
    "    model3_epochs.append(len(model3_stats[i].history['loss']))\n",
    "    \n",
    "approach1_acc_results_stats['epochs'] = [np.array(model1_epochs).mean(), np.array(model2_epochs).mean(),\n",
    "                                      np.array(model3_epochs).mean()]\n",
    "approach1_acc_results_stats"
   ]
  },
  {
   "cell_type": "markdown",
   "id": "72095d57",
   "metadata": {},
   "source": [
    "### <span style='font-family:Georgia'> 2.2.2. Approach 2 - noising the training subset(s) with the `background_noise` class observations"
   ]
  },
  {
   "cell_type": "code",
   "execution_count": 114,
   "id": "a74bf8fe",
   "metadata": {
    "ExecuteTime": {
     "end_time": "2022-05-08T13:48:28.042417Z",
     "start_time": "2022-05-08T13:48:28.024341Z"
    }
   },
   "outputs": [],
   "source": [
    "x_train, x_val, x_test = x_train_2, X_val, X_test\n",
    "y_train, y_val, y_test = y_train_2, Y_val, Y_test"
   ]
  },
  {
   "cell_type": "code",
   "execution_count": 115,
   "id": "ce5b2c14",
   "metadata": {
    "ExecuteTime": {
     "end_time": "2022-05-08T13:48:28.612637Z",
     "start_time": "2022-05-08T13:48:28.596455Z"
    }
   },
   "outputs": [],
   "source": [
    "# hyperparameters set-up\n",
    "INPUT_DIM = (x_train.shape[1], x_train.shape[2])\n",
    "OUTPUT_DIM = y_train.shape[1]\n",
    "\n",
    "early_stop = EarlyStopping(monitor='val_accuracy', patience=PATIENCE, min_delta=MIN_DELTA)\n",
    "\n",
    "BATCH_SIZE = 128"
   ]
  },
  {
   "cell_type": "code",
   "execution_count": 116,
   "id": "a6a39295",
   "metadata": {
    "ExecuteTime": {
     "end_time": "2022-05-08T16:48:19.009114Z",
     "start_time": "2022-05-08T13:48:29.452569Z"
    }
   },
   "outputs": [
    {
     "name": "stdout",
     "output_type": "stream",
     "text": [
      "Epoch 1/50\n",
      "440/440 [==============================] - 41s 91ms/step - loss: 1.5391 - accuracy: 0.6134 - val_loss: 1.3417 - val_accuracy: 0.6211\n",
      "Epoch 2/50\n",
      "440/440 [==============================] - 40s 92ms/step - loss: 1.3392 - accuracy: 0.6352 - val_loss: 1.2150 - val_accuracy: 0.6234\n",
      "Epoch 3/50\n",
      "440/440 [==============================] - 43s 98ms/step - loss: 1.2341 - accuracy: 0.6372 - val_loss: 1.0766 - val_accuracy: 0.6406\n",
      "Epoch 4/50\n",
      "440/440 [==============================] - 48s 109ms/step - loss: 1.1172 - accuracy: 0.6550 - val_loss: 0.9307 - val_accuracy: 0.6762\n",
      "Epoch 5/50\n",
      "440/440 [==============================] - 51s 115ms/step - loss: 0.9692 - accuracy: 0.7010 - val_loss: 0.8167 - val_accuracy: 0.7190\n",
      "Epoch 6/50\n",
      "440/440 [==============================] - 45s 102ms/step - loss: 0.8506 - accuracy: 0.7351 - val_loss: 0.6934 - val_accuracy: 0.7726\n",
      "Epoch 7/50\n",
      "440/440 [==============================] - 44s 101ms/step - loss: 0.7596 - accuracy: 0.7649 - val_loss: 0.6099 - val_accuracy: 0.7960\n",
      "Epoch 8/50\n",
      "440/440 [==============================] - 40s 90ms/step - loss: 0.6798 - accuracy: 0.7920 - val_loss: 0.5848 - val_accuracy: 0.8052\n",
      "Epoch 9/50\n",
      "440/440 [==============================] - 46s 103ms/step - loss: 0.6235 - accuracy: 0.8116 - val_loss: 0.4940 - val_accuracy: 0.8363\n",
      "Epoch 10/50\n",
      "440/440 [==============================] - 40s 91ms/step - loss: 0.5773 - accuracy: 0.8292 - val_loss: 0.4519 - val_accuracy: 0.8533\n",
      "Epoch 11/50\n",
      "440/440 [==============================] - 45s 103ms/step - loss: 0.5430 - accuracy: 0.8415 - val_loss: 0.4229 - val_accuracy: 0.8711\n",
      "Epoch 12/50\n",
      "440/440 [==============================] - 44s 100ms/step - loss: 0.5215 - accuracy: 0.8490 - val_loss: 0.3826 - val_accuracy: 0.8842\n",
      "Epoch 13/50\n",
      "440/440 [==============================] - 41s 94ms/step - loss: 0.4950 - accuracy: 0.8591 - val_loss: 0.4098 - val_accuracy: 0.8741\n",
      "Epoch 14/50\n",
      "440/440 [==============================] - 45s 102ms/step - loss: 0.4695 - accuracy: 0.8673 - val_loss: 0.4039 - val_accuracy: 0.8739\n",
      "Epoch 15/50\n",
      "440/440 [==============================] - 44s 99ms/step - loss: 0.4528 - accuracy: 0.8719 - val_loss: 0.3637 - val_accuracy: 0.8892\n",
      "Epoch 16/50\n",
      "440/440 [==============================] - 45s 102ms/step - loss: 0.4374 - accuracy: 0.8760 - val_loss: 0.3396 - val_accuracy: 0.9045\n",
      "Epoch 17/50\n",
      "440/440 [==============================] - 47s 106ms/step - loss: 0.4249 - accuracy: 0.8822 - val_loss: 0.3612 - val_accuracy: 0.8944\n",
      "Epoch 18/50\n",
      "440/440 [==============================] - 42s 94ms/step - loss: 0.4179 - accuracy: 0.8838 - val_loss: 0.3260 - val_accuracy: 0.9044\n",
      "Epoch 19/50\n",
      "440/440 [==============================] - 45s 102ms/step - loss: 0.4053 - accuracy: 0.8876 - val_loss: 0.3457 - val_accuracy: 0.9003\n",
      "Epoch 20/50\n",
      "440/440 [==============================] - 40s 92ms/step - loss: 0.3923 - accuracy: 0.8912 - val_loss: 0.3430 - val_accuracy: 0.9028\n",
      "Epoch 21/50\n",
      "440/440 [==============================] - 47s 106ms/step - loss: 0.3870 - accuracy: 0.8945 - val_loss: 0.3364 - val_accuracy: 0.9066\n",
      "Epoch 22/50\n",
      "440/440 [==============================] - 42s 96ms/step - loss: 0.3752 - accuracy: 0.8970 - val_loss: 0.3161 - val_accuracy: 0.9032\n",
      "Epoch 23/50\n",
      "440/440 [==============================] - 46s 103ms/step - loss: 0.3676 - accuracy: 0.8997 - val_loss: 0.3182 - val_accuracy: 0.9113\n",
      "Epoch 24/50\n",
      "440/440 [==============================] - 44s 99ms/step - loss: 0.3612 - accuracy: 0.9014 - val_loss: 0.2982 - val_accuracy: 0.9147\n",
      "Epoch 25/50\n",
      "440/440 [==============================] - 42s 95ms/step - loss: 0.3540 - accuracy: 0.9030 - val_loss: 0.2982 - val_accuracy: 0.9147\n",
      "Epoch 26/50\n",
      "440/440 [==============================] - 47s 108ms/step - loss: 0.3491 - accuracy: 0.9061 - val_loss: 0.3068 - val_accuracy: 0.9135\n",
      "Epoch 27/50\n",
      "440/440 [==============================] - 42s 94ms/step - loss: 0.3395 - accuracy: 0.9089 - val_loss: 0.3033 - val_accuracy: 0.9164\n",
      "Epoch 28/50\n",
      "440/440 [==============================] - 47s 106ms/step - loss: 0.3380 - accuracy: 0.9088 - val_loss: 0.2951 - val_accuracy: 0.9172\n",
      "Epoch 29/50\n",
      "440/440 [==============================] - 46s 104ms/step - loss: 0.3311 - accuracy: 0.9098 - val_loss: 0.2866 - val_accuracy: 0.9213\n",
      "Epoch 30/50\n",
      "440/440 [==============================] - 46s 105ms/step - loss: 0.3263 - accuracy: 0.9121 - val_loss: 0.2769 - val_accuracy: 0.9241\n",
      "Epoch 31/50\n",
      "440/440 [==============================] - 50s 114ms/step - loss: 0.3219 - accuracy: 0.9126 - val_loss: 0.3068 - val_accuracy: 0.9219\n",
      "Epoch 32/50\n",
      "440/440 [==============================] - 47s 106ms/step - loss: 0.3201 - accuracy: 0.9137 - val_loss: 0.2837 - val_accuracy: 0.9226\n",
      "Epoch 33/50\n",
      "440/440 [==============================] - 46s 105ms/step - loss: 0.3155 - accuracy: 0.9149 - val_loss: 0.2903 - val_accuracy: 0.9209\n",
      "Epoch 34/50\n",
      "440/440 [==============================] - 51s 116ms/step - loss: 0.3091 - accuracy: 0.9163 - val_loss: 0.2685 - val_accuracy: 0.9254\n",
      "Epoch 35/50\n",
      "440/440 [==============================] - 48s 108ms/step - loss: 0.3018 - accuracy: 0.9191 - val_loss: 0.2865 - val_accuracy: 0.9257\n",
      "Epoch 36/50\n",
      "440/440 [==============================] - 48s 109ms/step - loss: 0.3018 - accuracy: 0.9198 - val_loss: 0.2903 - val_accuracy: 0.9228\n",
      "Epoch 37/50\n",
      "440/440 [==============================] - 50s 113ms/step - loss: 0.2976 - accuracy: 0.9206 - val_loss: 0.2618 - val_accuracy: 0.9288\n",
      "Epoch 38/50\n",
      "440/440 [==============================] - 47s 107ms/step - loss: 0.2981 - accuracy: 0.9213 - val_loss: 0.2896 - val_accuracy: 0.9260\n",
      "Epoch 39/50\n",
      "440/440 [==============================] - 52s 118ms/step - loss: 0.2912 - accuracy: 0.9228 - val_loss: 0.2660 - val_accuracy: 0.9295\n",
      "Epoch 40/50\n",
      "440/440 [==============================] - 49s 111ms/step - loss: 0.2907 - accuracy: 0.9236 - val_loss: 0.2660 - val_accuracy: 0.9276\n",
      "Epoch 41/50\n",
      "440/440 [==============================] - 51s 117ms/step - loss: 0.2875 - accuracy: 0.9241 - val_loss: 0.2719 - val_accuracy: 0.9276\n",
      "Epoch 42/50\n",
      "440/440 [==============================] - 46s 105ms/step - loss: 0.2872 - accuracy: 0.9239 - val_loss: 0.2597 - val_accuracy: 0.9300\n",
      "Epoch 43/50\n",
      "440/440 [==============================] - 51s 116ms/step - loss: 0.2828 - accuracy: 0.9246 - val_loss: 0.2593 - val_accuracy: 0.9310\n",
      "Epoch 44/50\n",
      "440/440 [==============================] - 46s 104ms/step - loss: 0.2788 - accuracy: 0.9263 - val_loss: 0.2506 - val_accuracy: 0.9323\n",
      "Epoch 45/50\n",
      "440/440 [==============================] - 53s 121ms/step - loss: 0.2783 - accuracy: 0.9271 - val_loss: 0.2894 - val_accuracy: 0.9217\n",
      "Epoch 46/50\n",
      "440/440 [==============================] - 50s 115ms/step - loss: 0.2783 - accuracy: 0.9269 - val_loss: 0.2655 - val_accuracy: 0.9282\n",
      "Epoch 47/50\n",
      "440/440 [==============================] - 56s 126ms/step - loss: 0.2739 - accuracy: 0.9280 - val_loss: 0.2680 - val_accuracy: 0.9319\n",
      "Epoch 48/50\n",
      "440/440 [==============================] - 47s 107ms/step - loss: 0.2725 - accuracy: 0.9283 - val_loss: 0.2495 - val_accuracy: 0.9329\n",
      "Epoch 49/50\n",
      "440/440 [==============================] - 54s 123ms/step - loss: 0.2735 - accuracy: 0.9283 - val_loss: 0.2771 - val_accuracy: 0.9282\n",
      "Epoch 1/50\n",
      "440/440 [==============================] - 69s 152ms/step - loss: 1.0675 - accuracy: 0.6924 - val_loss: 0.5603 - val_accuracy: 0.8204\n",
      "Epoch 2/50\n",
      "440/440 [==============================] - 62s 141ms/step - loss: 0.5350 - accuracy: 0.8432 - val_loss: 0.4001 - val_accuracy: 0.8670\n",
      "Epoch 3/50\n",
      "440/440 [==============================] - 61s 138ms/step - loss: 0.4192 - accuracy: 0.8805 - val_loss: 0.2625 - val_accuracy: 0.9162\n",
      "Epoch 4/50\n",
      "440/440 [==============================] - 68s 155ms/step - loss: 0.3665 - accuracy: 0.8975 - val_loss: 0.2607 - val_accuracy: 0.9160\n",
      "Epoch 5/50\n",
      "440/440 [==============================] - 60s 137ms/step - loss: 0.3383 - accuracy: 0.9044 - val_loss: 0.2248 - val_accuracy: 0.9279\n",
      "Epoch 6/50\n",
      "440/440 [==============================] - 64s 146ms/step - loss: 0.3112 - accuracy: 0.9134 - val_loss: 0.2467 - val_accuracy: 0.9245\n",
      "Epoch 7/50\n",
      "440/440 [==============================] - 62s 142ms/step - loss: 0.2962 - accuracy: 0.9184 - val_loss: 0.2235 - val_accuracy: 0.9301\n",
      "Epoch 8/50\n",
      "440/440 [==============================] - 60s 137ms/step - loss: 0.2853 - accuracy: 0.9220 - val_loss: 0.1970 - val_accuracy: 0.9391\n",
      "Epoch 9/50\n",
      "440/440 [==============================] - 61s 139ms/step - loss: 0.2720 - accuracy: 0.9270 - val_loss: 0.2216 - val_accuracy: 0.9332\n",
      "Epoch 10/50\n",
      "440/440 [==============================] - 64s 145ms/step - loss: 0.2646 - accuracy: 0.9273 - val_loss: 0.2054 - val_accuracy: 0.9401\n",
      "Epoch 11/50\n",
      "440/440 [==============================] - 63s 142ms/step - loss: 0.2567 - accuracy: 0.9310 - val_loss: 0.2056 - val_accuracy: 0.9381\n",
      "Epoch 12/50\n",
      "440/440 [==============================] - 61s 138ms/step - loss: 0.2483 - accuracy: 0.9331 - val_loss: 0.2244 - val_accuracy: 0.9382\n",
      "Epoch 13/50\n",
      "440/440 [==============================] - 64s 146ms/step - loss: 0.2435 - accuracy: 0.9330 - val_loss: 0.2004 - val_accuracy: 0.9379\n",
      "Epoch 14/50\n",
      "440/440 [==============================] - 67s 152ms/step - loss: 0.2408 - accuracy: 0.9351 - val_loss: 0.1846 - val_accuracy: 0.9442\n",
      "Epoch 15/50\n",
      "440/440 [==============================] - 62s 140ms/step - loss: 0.2337 - accuracy: 0.9371 - val_loss: 0.2094 - val_accuracy: 0.9372\n",
      "Epoch 16/50\n",
      "440/440 [==============================] - 64s 145ms/step - loss: 0.2311 - accuracy: 0.9379 - val_loss: 0.2037 - val_accuracy: 0.9378\n",
      "Epoch 17/50\n",
      "440/440 [==============================] - 67s 152ms/step - loss: 0.2288 - accuracy: 0.9382 - val_loss: 0.1865 - val_accuracy: 0.9419\n",
      "Epoch 18/50\n",
      "440/440 [==============================] - 65s 148ms/step - loss: 0.2248 - accuracy: 0.9401 - val_loss: 0.1857 - val_accuracy: 0.9462\n",
      "Epoch 19/50\n",
      "440/440 [==============================] - 65s 148ms/step - loss: 0.2191 - accuracy: 0.9421 - val_loss: 0.1914 - val_accuracy: 0.9438\n",
      "Epoch 20/50\n",
      "440/440 [==============================] - 63s 142ms/step - loss: 0.2197 - accuracy: 0.9417 - val_loss: 0.2121 - val_accuracy: 0.9404\n",
      "Epoch 21/50\n",
      "440/440 [==============================] - 68s 154ms/step - loss: 0.2199 - accuracy: 0.9421 - val_loss: 0.2146 - val_accuracy: 0.9404\n",
      "Epoch 22/50\n",
      "440/440 [==============================] - 63s 144ms/step - loss: 0.2142 - accuracy: 0.9430 - val_loss: 0.2216 - val_accuracy: 0.9410\n",
      "Epoch 23/50\n",
      "440/440 [==============================] - 69s 157ms/step - loss: 0.2078 - accuracy: 0.9446 - val_loss: 0.2057 - val_accuracy: 0.9479\n",
      "Epoch 24/50\n",
      "440/440 [==============================] - 64s 146ms/step - loss: 0.2072 - accuracy: 0.9445 - val_loss: 0.1823 - val_accuracy: 0.9475\n",
      "Epoch 25/50\n",
      "440/440 [==============================] - 65s 147ms/step - loss: 0.2081 - accuracy: 0.9457 - val_loss: 0.1920 - val_accuracy: 0.9459\n",
      "Epoch 26/50\n",
      "440/440 [==============================] - 62s 140ms/step - loss: 0.2028 - accuracy: 0.9467 - val_loss: 0.2268 - val_accuracy: 0.9448\n",
      "Epoch 27/50\n",
      "440/440 [==============================] - 66s 149ms/step - loss: 0.2007 - accuracy: 0.9470 - val_loss: 0.1845 - val_accuracy: 0.9485\n",
      "Epoch 28/50\n",
      "440/440 [==============================] - 64s 145ms/step - loss: 0.1992 - accuracy: 0.9476 - val_loss: 0.2118 - val_accuracy: 0.9465\n",
      "Epoch 1/50\n",
      "440/440 [==============================] - 64s 143ms/step - loss: 1.3892 - accuracy: 0.6322 - val_loss: 1.0910 - val_accuracy: 0.6442\n",
      "Epoch 2/50\n",
      "440/440 [==============================] - 62s 140ms/step - loss: 0.8919 - accuracy: 0.7220 - val_loss: 0.5464 - val_accuracy: 0.8249\n",
      "Epoch 3/50\n",
      "440/440 [==============================] - 62s 142ms/step - loss: 0.6234 - accuracy: 0.8099 - val_loss: 0.4099 - val_accuracy: 0.8666\n",
      "Epoch 4/50\n",
      "440/440 [==============================] - 65s 148ms/step - loss: 0.5279 - accuracy: 0.8426 - val_loss: 0.3433 - val_accuracy: 0.8928\n",
      "Epoch 5/50\n",
      "440/440 [==============================] - 62s 141ms/step - loss: 0.4699 - accuracy: 0.8610 - val_loss: 0.3307 - val_accuracy: 0.8997\n",
      "Epoch 6/50\n",
      "440/440 [==============================] - 65s 147ms/step - loss: 0.4306 - accuracy: 0.8767 - val_loss: 0.3063 - val_accuracy: 0.9053\n",
      "Epoch 7/50\n",
      "440/440 [==============================] - 63s 142ms/step - loss: 0.4047 - accuracy: 0.8838 - val_loss: 0.2709 - val_accuracy: 0.9138\n",
      "Epoch 8/50\n",
      "440/440 [==============================] - 59s 133ms/step - loss: 0.3821 - accuracy: 0.8925 - val_loss: 0.2708 - val_accuracy: 0.9145\n",
      "Epoch 9/50\n",
      "440/440 [==============================] - 66s 150ms/step - loss: 0.3632 - accuracy: 0.8971 - val_loss: 0.2457 - val_accuracy: 0.9228\n",
      "Epoch 10/50\n",
      "440/440 [==============================] - 62s 141ms/step - loss: 0.3466 - accuracy: 0.9034 - val_loss: 0.2386 - val_accuracy: 0.9228\n",
      "Epoch 11/50\n",
      "440/440 [==============================] - 62s 141ms/step - loss: 0.3344 - accuracy: 0.9076 - val_loss: 0.2293 - val_accuracy: 0.9266\n",
      "Epoch 12/50\n",
      "440/440 [==============================] - 65s 147ms/step - loss: 0.3243 - accuracy: 0.9107 - val_loss: 0.2256 - val_accuracy: 0.9276\n",
      "Epoch 13/50\n",
      "440/440 [==============================] - 62s 141ms/step - loss: 0.3176 - accuracy: 0.9117 - val_loss: 0.2123 - val_accuracy: 0.9337\n",
      "Epoch 14/50\n",
      "440/440 [==============================] - 63s 143ms/step - loss: 0.3070 - accuracy: 0.9156 - val_loss: 0.2109 - val_accuracy: 0.9363\n",
      "Epoch 15/50\n",
      "440/440 [==============================] - 59s 135ms/step - loss: 0.2967 - accuracy: 0.9189 - val_loss: 0.1979 - val_accuracy: 0.9400\n",
      "Epoch 16/50\n",
      "440/440 [==============================] - 64s 147ms/step - loss: 0.2917 - accuracy: 0.9200 - val_loss: 0.2086 - val_accuracy: 0.9394\n",
      "Epoch 17/50\n",
      "440/440 [==============================] - 63s 143ms/step - loss: 0.2839 - accuracy: 0.9227 - val_loss: 0.2103 - val_accuracy: 0.9363\n",
      "Epoch 18/50\n",
      "440/440 [==============================] - 59s 133ms/step - loss: 0.2796 - accuracy: 0.9243 - val_loss: 0.1962 - val_accuracy: 0.9390\n",
      "Epoch 19/50\n",
      "440/440 [==============================] - 65s 149ms/step - loss: 0.2713 - accuracy: 0.9263 - val_loss: 0.1920 - val_accuracy: 0.9407\n",
      "Epoch 20/50\n",
      "440/440 [==============================] - 63s 143ms/step - loss: 0.2660 - accuracy: 0.9281 - val_loss: 0.1801 - val_accuracy: 0.9445\n",
      "Epoch 21/50\n",
      "440/440 [==============================] - 66s 150ms/step - loss: 0.2627 - accuracy: 0.9301 - val_loss: 0.2008 - val_accuracy: 0.9398\n",
      "Epoch 22/50\n",
      "440/440 [==============================] - 67s 152ms/step - loss: 0.2573 - accuracy: 0.9311 - val_loss: 0.1702 - val_accuracy: 0.9462\n",
      "Epoch 23/50\n",
      "440/440 [==============================] - 63s 143ms/step - loss: 0.2562 - accuracy: 0.9314 - val_loss: 0.1880 - val_accuracy: 0.9440\n",
      "Epoch 24/50\n",
      "440/440 [==============================] - 65s 148ms/step - loss: 0.2520 - accuracy: 0.9314 - val_loss: 0.1843 - val_accuracy: 0.9456\n",
      "Epoch 25/50\n",
      "440/440 [==============================] - 63s 143ms/step - loss: 0.2452 - accuracy: 0.9335 - val_loss: 0.1781 - val_accuracy: 0.9476\n",
      "Epoch 26/50\n",
      "440/440 [==============================] - 62s 142ms/step - loss: 0.2420 - accuracy: 0.9352 - val_loss: 0.1847 - val_accuracy: 0.9448\n",
      "Epoch 27/50\n",
      "440/440 [==============================] - 64s 145ms/step - loss: 0.2430 - accuracy: 0.9349 - val_loss: 0.1799 - val_accuracy: 0.9463\n",
      "Epoch 28/50\n",
      "440/440 [==============================] - 65s 148ms/step - loss: 0.2363 - accuracy: 0.9374 - val_loss: 0.1773 - val_accuracy: 0.9437\n",
      "Epoch 29/50\n",
      "440/440 [==============================] - 62s 140ms/step - loss: 0.2351 - accuracy: 0.9379 - val_loss: 0.1847 - val_accuracy: 0.9479\n",
      "Epoch 30/50\n",
      "440/440 [==============================] - 65s 148ms/step - loss: 0.2325 - accuracy: 0.9379 - val_loss: 0.1740 - val_accuracy: 0.9467\n",
      "Epoch 1/50\n",
      "440/440 [==============================] - 48s 107ms/step - loss: 1.5254 - accuracy: 0.6168 - val_loss: 1.3263 - val_accuracy: 0.6212\n",
      "Epoch 2/50\n",
      "440/440 [==============================] - 60s 136ms/step - loss: 1.2948 - accuracy: 0.6337 - val_loss: 1.1819 - val_accuracy: 0.6275\n",
      "Epoch 3/50\n",
      "440/440 [==============================] - 54s 123ms/step - loss: 1.1913 - accuracy: 0.6361 - val_loss: 1.0460 - val_accuracy: 0.6421\n",
      "Epoch 4/50\n",
      "440/440 [==============================] - 45s 102ms/step - loss: 1.0761 - accuracy: 0.6550 - val_loss: 0.9169 - val_accuracy: 0.6773\n",
      "Epoch 5/50\n",
      "440/440 [==============================] - 45s 102ms/step - loss: 0.9451 - accuracy: 0.6965 - val_loss: 0.7538 - val_accuracy: 0.7380\n",
      "Epoch 6/50\n"
     ]
    },
    {
     "name": "stdout",
     "output_type": "stream",
     "text": [
      "440/440 [==============================] - 49s 112ms/step - loss: 0.8352 - accuracy: 0.7359 - val_loss: 0.7199 - val_accuracy: 0.7596\n",
      "Epoch 7/50\n",
      "440/440 [==============================] - 45s 103ms/step - loss: 0.7395 - accuracy: 0.7695 - val_loss: 0.5945 - val_accuracy: 0.7991\n",
      "Epoch 8/50\n",
      "440/440 [==============================] - 48s 108ms/step - loss: 0.6678 - accuracy: 0.7934 - val_loss: 0.5301 - val_accuracy: 0.8279\n",
      "Epoch 9/50\n",
      "440/440 [==============================] - 48s 108ms/step - loss: 0.6123 - accuracy: 0.8116 - val_loss: 0.4653 - val_accuracy: 0.8463\n",
      "Epoch 10/50\n",
      "440/440 [==============================] - 45s 103ms/step - loss: 0.5763 - accuracy: 0.8246 - val_loss: 0.4608 - val_accuracy: 0.8447\n",
      "Epoch 11/50\n",
      "440/440 [==============================] - 48s 109ms/step - loss: 0.5403 - accuracy: 0.8389 - val_loss: 0.4027 - val_accuracy: 0.8717\n",
      "Epoch 12/50\n",
      "440/440 [==============================] - 46s 105ms/step - loss: 0.5067 - accuracy: 0.8497 - val_loss: 0.4216 - val_accuracy: 0.8732\n",
      "Epoch 13/50\n",
      "440/440 [==============================] - 47s 107ms/step - loss: 0.4895 - accuracy: 0.8568 - val_loss: 0.3774 - val_accuracy: 0.8861\n",
      "Epoch 14/50\n",
      "440/440 [==============================] - 45s 103ms/step - loss: 0.4670 - accuracy: 0.8670 - val_loss: 0.3507 - val_accuracy: 0.8953\n",
      "Epoch 15/50\n",
      "440/440 [==============================] - 48s 110ms/step - loss: 0.4516 - accuracy: 0.8712 - val_loss: 0.3465 - val_accuracy: 0.8876\n",
      "Epoch 16/50\n",
      "440/440 [==============================] - 48s 108ms/step - loss: 0.4341 - accuracy: 0.8777 - val_loss: 0.3275 - val_accuracy: 0.8961\n",
      "Epoch 17/50\n",
      "440/440 [==============================] - 46s 105ms/step - loss: 0.4204 - accuracy: 0.8829 - val_loss: 0.3282 - val_accuracy: 0.9028\n",
      "Epoch 18/50\n",
      "440/440 [==============================] - 45s 102ms/step - loss: 0.4048 - accuracy: 0.8869 - val_loss: 0.3056 - val_accuracy: 0.9104\n",
      "Epoch 19/50\n",
      "440/440 [==============================] - 48s 108ms/step - loss: 0.4043 - accuracy: 0.8880 - val_loss: 0.3092 - val_accuracy: 0.9072\n",
      "Epoch 20/50\n",
      "440/440 [==============================] - 45s 102ms/step - loss: 0.3862 - accuracy: 0.8939 - val_loss: 0.3164 - val_accuracy: 0.9061\n",
      "Epoch 21/50\n",
      "440/440 [==============================] - 48s 109ms/step - loss: 0.3776 - accuracy: 0.8962 - val_loss: 0.3144 - val_accuracy: 0.9084\n",
      "Epoch 22/50\n",
      "440/440 [==============================] - 45s 103ms/step - loss: 0.3685 - accuracy: 0.8991 - val_loss: 0.3429 - val_accuracy: 0.8964\n",
      "Epoch 23/50\n",
      "440/440 [==============================] - 46s 105ms/step - loss: 0.3636 - accuracy: 0.8997 - val_loss: 0.2780 - val_accuracy: 0.9166\n",
      "Epoch 24/50\n",
      "440/440 [==============================] - 45s 102ms/step - loss: 0.3553 - accuracy: 0.9042 - val_loss: 0.3066 - val_accuracy: 0.9110\n",
      "Epoch 25/50\n",
      "440/440 [==============================] - 48s 109ms/step - loss: 0.3518 - accuracy: 0.9040 - val_loss: 0.2775 - val_accuracy: 0.9192\n",
      "Epoch 26/50\n",
      "440/440 [==============================] - 45s 102ms/step - loss: 0.3423 - accuracy: 0.9066 - val_loss: 0.2878 - val_accuracy: 0.9162\n",
      "Epoch 27/50\n",
      "440/440 [==============================] - 49s 111ms/step - loss: 0.3424 - accuracy: 0.9071 - val_loss: 0.2777 - val_accuracy: 0.9228\n",
      "Epoch 28/50\n",
      "440/440 [==============================] - 48s 108ms/step - loss: 0.3309 - accuracy: 0.9099 - val_loss: 0.2687 - val_accuracy: 0.9231\n",
      "Epoch 29/50\n",
      "440/440 [==============================] - 48s 110ms/step - loss: 0.3261 - accuracy: 0.9119 - val_loss: 0.2955 - val_accuracy: 0.9182\n",
      "Epoch 30/50\n",
      "440/440 [==============================] - 47s 107ms/step - loss: 0.3250 - accuracy: 0.9124 - val_loss: 0.2631 - val_accuracy: 0.9253\n",
      "Epoch 31/50\n",
      "440/440 [==============================] - 45s 101ms/step - loss: 0.3204 - accuracy: 0.9131 - val_loss: 0.2750 - val_accuracy: 0.9194\n",
      "Epoch 32/50\n",
      "440/440 [==============================] - 47s 108ms/step - loss: 0.3156 - accuracy: 0.9153 - val_loss: 0.3786 - val_accuracy: 0.9070\n",
      "Epoch 33/50\n",
      "440/440 [==============================] - 48s 109ms/step - loss: 0.3092 - accuracy: 0.9167 - val_loss: 0.2709 - val_accuracy: 0.9200\n",
      "Epoch 34/50\n",
      "440/440 [==============================] - 48s 108ms/step - loss: 0.3070 - accuracy: 0.9182 - val_loss: 0.2834 - val_accuracy: 0.9203\n",
      "Epoch 35/50\n",
      "440/440 [==============================] - 44s 101ms/step - loss: 0.3030 - accuracy: 0.9183 - val_loss: 0.2664 - val_accuracy: 0.9309\n",
      "Epoch 36/50\n",
      "440/440 [==============================] - 47s 108ms/step - loss: 0.3038 - accuracy: 0.9188 - val_loss: 0.2443 - val_accuracy: 0.9285\n",
      "Epoch 37/50\n",
      "440/440 [==============================] - 45s 101ms/step - loss: 0.2998 - accuracy: 0.9202 - val_loss: 0.2547 - val_accuracy: 0.9288\n",
      "Epoch 38/50\n",
      "440/440 [==============================] - 48s 108ms/step - loss: 0.2928 - accuracy: 0.9212 - val_loss: 0.2590 - val_accuracy: 0.9297\n",
      "Epoch 39/50\n",
      "440/440 [==============================] - 46s 105ms/step - loss: 0.2927 - accuracy: 0.9214 - val_loss: 0.2422 - val_accuracy: 0.9348\n",
      "Epoch 40/50\n",
      "440/440 [==============================] - 46s 106ms/step - loss: 0.2925 - accuracy: 0.9229 - val_loss: 0.2508 - val_accuracy: 0.9309\n",
      "Epoch 41/50\n",
      "440/440 [==============================] - 45s 102ms/step - loss: 0.2824 - accuracy: 0.9244 - val_loss: 0.2578 - val_accuracy: 0.9306\n",
      "Epoch 42/50\n",
      "440/440 [==============================] - 50s 113ms/step - loss: 0.2849 - accuracy: 0.9243 - val_loss: 0.2503 - val_accuracy: 0.9269\n",
      "Epoch 43/50\n",
      "440/440 [==============================] - 48s 109ms/step - loss: 0.2807 - accuracy: 0.9257 - val_loss: 0.2391 - val_accuracy: 0.9335\n",
      "Epoch 44/50\n",
      "440/440 [==============================] - 47s 108ms/step - loss: 0.2812 - accuracy: 0.9258 - val_loss: 0.2338 - val_accuracy: 0.9332\n",
      "Epoch 1/50\n",
      "440/440 [==============================] - 68s 151ms/step - loss: 1.1247 - accuracy: 0.6859 - val_loss: 0.6051 - val_accuracy: 0.8045\n",
      "Epoch 2/50\n",
      "440/440 [==============================] - 65s 148ms/step - loss: 0.5653 - accuracy: 0.8317 - val_loss: 0.3624 - val_accuracy: 0.8816\n",
      "Epoch 3/50\n",
      "440/440 [==============================] - 68s 154ms/step - loss: 0.4345 - accuracy: 0.8753 - val_loss: 0.3100 - val_accuracy: 0.8953\n",
      "Epoch 4/50\n",
      "440/440 [==============================] - 65s 147ms/step - loss: 0.3875 - accuracy: 0.8897 - val_loss: 0.2493 - val_accuracy: 0.9207\n",
      "Epoch 5/50\n",
      "440/440 [==============================] - 65s 147ms/step - loss: 0.3462 - accuracy: 0.9021 - val_loss: 0.2619 - val_accuracy: 0.9162\n",
      "Epoch 6/50\n",
      "440/440 [==============================] - 68s 155ms/step - loss: 0.3270 - accuracy: 0.9091 - val_loss: 0.2263 - val_accuracy: 0.9301\n",
      "Epoch 7/50\n",
      "440/440 [==============================] - 67s 153ms/step - loss: 0.3055 - accuracy: 0.9153 - val_loss: 0.2252 - val_accuracy: 0.9295\n",
      "Epoch 8/50\n",
      "440/440 [==============================] - 68s 154ms/step - loss: 0.2945 - accuracy: 0.9181 - val_loss: 0.2355 - val_accuracy: 0.9303\n",
      "Epoch 9/50\n",
      "440/440 [==============================] - 66s 149ms/step - loss: 0.2833 - accuracy: 0.9211 - val_loss: 0.2021 - val_accuracy: 0.9365\n",
      "Epoch 10/50\n",
      "440/440 [==============================] - 66s 149ms/step - loss: 0.2756 - accuracy: 0.9247 - val_loss: 0.1977 - val_accuracy: 0.9385\n",
      "Epoch 11/50\n",
      "440/440 [==============================] - 65s 148ms/step - loss: 0.2664 - accuracy: 0.9270 - val_loss: 0.1916 - val_accuracy: 0.9416\n",
      "Epoch 12/50\n",
      "440/440 [==============================] - 67s 152ms/step - loss: 0.2551 - accuracy: 0.9307 - val_loss: 0.1961 - val_accuracy: 0.9431\n",
      "Epoch 13/50\n",
      "440/440 [==============================] - 64s 145ms/step - loss: 0.2504 - accuracy: 0.9323 - val_loss: 0.2014 - val_accuracy: 0.9391\n",
      "Epoch 14/50\n",
      "440/440 [==============================] - 64s 146ms/step - loss: 0.2482 - accuracy: 0.9326 - val_loss: 0.2003 - val_accuracy: 0.9434\n",
      "Epoch 15/50\n",
      "440/440 [==============================] - 69s 157ms/step - loss: 0.2439 - accuracy: 0.9347 - val_loss: 0.2147 - val_accuracy: 0.9334\n",
      "Epoch 16/50\n",
      "440/440 [==============================] - 74s 168ms/step - loss: 0.2393 - accuracy: 0.9358 - val_loss: 0.1846 - val_accuracy: 0.9423\n",
      "Epoch 17/50\n",
      "440/440 [==============================] - 69s 157ms/step - loss: 0.2314 - accuracy: 0.9375 - val_loss: 0.2086 - val_accuracy: 0.9425\n",
      "Epoch 1/50\n",
      "440/440 [==============================] - 62s 138ms/step - loss: 1.4047 - accuracy: 0.6318 - val_loss: 1.0407 - val_accuracy: 0.6587\n",
      "Epoch 2/50\n",
      "440/440 [==============================] - 64s 146ms/step - loss: 0.8990 - accuracy: 0.7221 - val_loss: 0.5579 - val_accuracy: 0.8307\n",
      "Epoch 3/50\n",
      "440/440 [==============================] - 65s 149ms/step - loss: 0.6421 - accuracy: 0.8069 - val_loss: 0.4068 - val_accuracy: 0.8763\n",
      "Epoch 4/50\n",
      "440/440 [==============================] - 65s 147ms/step - loss: 0.5332 - accuracy: 0.8430 - val_loss: 0.3334 - val_accuracy: 0.8954\n",
      "Epoch 5/50\n",
      "440/440 [==============================] - 65s 147ms/step - loss: 0.4741 - accuracy: 0.8638 - val_loss: 0.3166 - val_accuracy: 0.9023\n",
      "Epoch 6/50\n",
      "440/440 [==============================] - 61s 139ms/step - loss: 0.4343 - accuracy: 0.8758 - val_loss: 0.2987 - val_accuracy: 0.9091\n",
      "Epoch 7/50\n",
      "440/440 [==============================] - 64s 146ms/step - loss: 0.4085 - accuracy: 0.8847 - val_loss: 0.2851 - val_accuracy: 0.9144\n",
      "Epoch 8/50\n",
      "440/440 [==============================] - 65s 149ms/step - loss: 0.3875 - accuracy: 0.8907 - val_loss: 0.2561 - val_accuracy: 0.9204\n",
      "Epoch 9/50\n",
      "440/440 [==============================] - 64s 146ms/step - loss: 0.3642 - accuracy: 0.8992 - val_loss: 0.2552 - val_accuracy: 0.9242\n",
      "Epoch 10/50\n",
      "440/440 [==============================] - 64s 146ms/step - loss: 0.3486 - accuracy: 0.9033 - val_loss: 0.2448 - val_accuracy: 0.9279\n",
      "Epoch 11/50\n",
      "440/440 [==============================] - 67s 152ms/step - loss: 0.3329 - accuracy: 0.9074 - val_loss: 0.2308 - val_accuracy: 0.9350\n",
      "Epoch 12/50\n",
      "440/440 [==============================] - 62s 141ms/step - loss: 0.3245 - accuracy: 0.9109 - val_loss: 0.2303 - val_accuracy: 0.9325\n",
      "Epoch 13/50\n",
      "440/440 [==============================] - 65s 148ms/step - loss: 0.3140 - accuracy: 0.9142 - val_loss: 0.2300 - val_accuracy: 0.9323\n",
      "Epoch 14/50\n",
      "440/440 [==============================] - 65s 147ms/step - loss: 0.3062 - accuracy: 0.9157 - val_loss: 0.2175 - val_accuracy: 0.9320\n",
      "Epoch 15/50\n",
      "440/440 [==============================] - 64s 146ms/step - loss: 0.3020 - accuracy: 0.9175 - val_loss: 0.2095 - val_accuracy: 0.9367\n",
      "Epoch 16/50\n",
      "440/440 [==============================] - 65s 148ms/step - loss: 0.2927 - accuracy: 0.9205 - val_loss: 0.2007 - val_accuracy: 0.9387\n",
      "Epoch 17/50\n",
      "440/440 [==============================] - 61s 139ms/step - loss: 0.2865 - accuracy: 0.9218 - val_loss: 0.2075 - val_accuracy: 0.9406\n",
      "Epoch 18/50\n",
      "440/440 [==============================] - 64s 147ms/step - loss: 0.2809 - accuracy: 0.9235 - val_loss: 0.1992 - val_accuracy: 0.9407\n",
      "Epoch 19/50\n",
      "440/440 [==============================] - 64s 146ms/step - loss: 0.2743 - accuracy: 0.9248 - val_loss: 0.1972 - val_accuracy: 0.9398\n",
      "Epoch 20/50\n",
      "440/440 [==============================] - 65s 147ms/step - loss: 0.2680 - accuracy: 0.9282 - val_loss: 0.1976 - val_accuracy: 0.9441\n",
      "Epoch 21/50\n",
      "440/440 [==============================] - 65s 149ms/step - loss: 0.2646 - accuracy: 0.9285 - val_loss: 0.1895 - val_accuracy: 0.9442\n",
      "Epoch 22/50\n",
      "440/440 [==============================] - 64s 145ms/step - loss: 0.2565 - accuracy: 0.9310 - val_loss: 0.1999 - val_accuracy: 0.9410\n",
      "Epoch 23/50\n",
      "440/440 [==============================] - 66s 150ms/step - loss: 0.2545 - accuracy: 0.9316 - val_loss: 0.2116 - val_accuracy: 0.9365\n",
      "Epoch 24/50\n",
      "440/440 [==============================] - 65s 147ms/step - loss: 0.2529 - accuracy: 0.9324 - val_loss: 0.1917 - val_accuracy: 0.9440\n",
      "Epoch 25/50\n",
      "440/440 [==============================] - 61s 139ms/step - loss: 0.2462 - accuracy: 0.9336 - val_loss: 0.1883 - val_accuracy: 0.9442\n"
     ]
    }
   ],
   "source": [
    "# Models training\n",
    "model4_stats = []\n",
    "model4_acc = []\n",
    "model5_stats = []\n",
    "model5_acc = []\n",
    "model6_stats = []\n",
    "model6_acc = []\n",
    "\n",
    "for i in range(ITER):\n",
    "    # SimpleRNN\n",
    "    OPT = Adam(learning_rate=LEARNING_RATES[0], clipnorm=1.0)\n",
    "    model4 = rnn_network(INPUT_DIM, OUTPUT_DIM, SimpleRNN, OPT)\n",
    "    K.clear_session()\n",
    "    model4_history = model4.fit(x_train, y_train,\n",
    "                                batch_size=BATCH_SIZE, epochs=EPOCHS, verbose=1,\n",
    "                                validation_data=(x_val, y_val),\n",
    "                                callbacks=[early_stop]\n",
    "                               )\n",
    "    \n",
    "    # LSTM\n",
    "    OPT = Adam(learning_rate=LEARNING_RATES[1], clipnorm=1.0)\n",
    "    model5 = rnn_network(INPUT_DIM, OUTPUT_DIM, LSTM, OPT)\n",
    "    K.clear_session()\n",
    "    \n",
    "    model5_history = model5.fit(x_train, y_train,\n",
    "                                batch_size=BATCH_SIZE, epochs=EPOCHS, verbose=1,\n",
    "                                validation_data=(x_val, y_val),\n",
    "                                callbacks=[early_stop]\n",
    "                               )\n",
    "    \n",
    "    # GRU\n",
    "    OPT = Adam(learning_rate=LEARNING_RATES[2], clipnorm=1.0)\n",
    "    model6 = rnn_network(INPUT_DIM, OUTPUT_DIM, GRU, OPT)\n",
    "    K.clear_session()\n",
    "    model6_history = model6.fit(x_train, y_train,\n",
    "                                batch_size=BATCH_SIZE, epochs=EPOCHS, verbose=1,\n",
    "                                validation_data=(x_val, y_val),\n",
    "                                callbacks=[early_stop]\n",
    "                               )\n",
    "    \n",
    "    # Saving results\n",
    "    y_test_classes = np.argmax(y_test, axis=1)\n",
    "    \n",
    "    model4_stats.append(model4_history)\n",
    "    y_pred_4 = model4.predict(x_test)\n",
    "    y_pred_classes_4 = np.argmax(y_pred_4, axis=-1)\n",
    "    model4_acc.append(accuracy_score(y_test_classes, y_pred_classes_4))\n",
    "\n",
    "    model5_stats.append(model5_history)\n",
    "    y_pred_5 = model5.predict(x_test)\n",
    "    y_pred_classes_5 = np.argmax(y_pred_5, axis=-1)\n",
    "    model5_acc.append(accuracy_score(y_test_classes, y_pred_classes_5))\n",
    "    \n",
    "    model6_stats.append(model6_history)\n",
    "    y_pred_6 = model6.predict(x_test)\n",
    "    y_pred_classes_6 = np.argmax(y_pred_6, axis=-1)\n",
    "    model6_acc.append(accuracy_score(y_test_classes, y_pred_classes_6))"
   ]
  },
  {
   "cell_type": "code",
   "execution_count": 119,
   "id": "47c2ffb8",
   "metadata": {
    "ExecuteTime": {
     "end_time": "2022-05-08T16:49:35.327313Z",
     "start_time": "2022-05-08T16:49:35.298278Z"
    }
   },
   "outputs": [],
   "source": [
    "# Models summary\n",
    "approach2_acc_results = pd.DataFrame([model4_acc, model5_acc, model6_acc]).T\n",
    "approach2_acc_results.columns=['SimpleRNN', 'LSTM', 'GRU']\n",
    "approach2_acc_results_stats = approach2_acc_results.describe().T[['mean', 'std']]"
   ]
  },
  {
   "cell_type": "code",
   "execution_count": 120,
   "id": "c52a9f19",
   "metadata": {
    "ExecuteTime": {
     "end_time": "2022-05-08T16:49:35.935837Z",
     "start_time": "2022-05-08T16:49:35.924866Z"
    }
   },
   "outputs": [
    {
     "data": {
      "text/html": [
       "<div>\n",
       "<style scoped>\n",
       "    .dataframe tbody tr th:only-of-type {\n",
       "        vertical-align: middle;\n",
       "    }\n",
       "\n",
       "    .dataframe tbody tr th {\n",
       "        vertical-align: top;\n",
       "    }\n",
       "\n",
       "    .dataframe thead th {\n",
       "        text-align: right;\n",
       "    }\n",
       "</style>\n",
       "<table border=\"1\" class=\"dataframe\">\n",
       "  <thead>\n",
       "    <tr style=\"text-align: right;\">\n",
       "      <th></th>\n",
       "      <th>mean</th>\n",
       "      <th>std</th>\n",
       "      <th>epochs</th>\n",
       "    </tr>\n",
       "  </thead>\n",
       "  <tbody>\n",
       "    <tr>\n",
       "      <th>SimpleRNN</th>\n",
       "      <td>0.937527</td>\n",
       "      <td>0.004345</td>\n",
       "      <td>46.5</td>\n",
       "    </tr>\n",
       "    <tr>\n",
       "      <th>LSTM</th>\n",
       "      <td>0.951426</td>\n",
       "      <td>0.003517</td>\n",
       "      <td>22.5</td>\n",
       "    </tr>\n",
       "    <tr>\n",
       "      <th>GRU</th>\n",
       "      <td>0.951280</td>\n",
       "      <td>0.002483</td>\n",
       "      <td>27.5</td>\n",
       "    </tr>\n",
       "  </tbody>\n",
       "</table>\n",
       "</div>"
      ],
      "text/plain": [
       "               mean       std  epochs\n",
       "SimpleRNN  0.937527  0.004345    46.5\n",
       "LSTM       0.951426  0.003517    22.5\n",
       "GRU        0.951280  0.002483    27.5"
      ]
     },
     "execution_count": 120,
     "metadata": {},
     "output_type": "execute_result"
    }
   ],
   "source": [
    "model4_epochs = []\n",
    "model5_epochs = []\n",
    "model6_epochs = []\n",
    "for i in range(ITER):\n",
    "    model4_epochs.append(len(model4_stats[i].history['loss']))\n",
    "    model5_epochs.append(len(model5_stats[i].history['loss']))\n",
    "    model6_epochs.append(len(model6_stats[i].history['loss']))\n",
    "    \n",
    "approach2_acc_results_stats['epochs'] = [np.array(model4_epochs).mean(), np.array(model5_epochs).mean(),\n",
    "                                      np.array(model6_epochs).mean()]\n",
    "approach2_acc_results_stats"
   ]
  }
 ],
 "metadata": {
  "kernelspec": {
   "display_name": "Python 3 (ipykernel)",
   "language": "python",
   "name": "python3"
  },
  "language_info": {
   "codemirror_mode": {
    "name": "ipython",
    "version": 3
   },
   "file_extension": ".py",
   "mimetype": "text/x-python",
   "name": "python",
   "nbconvert_exporter": "python",
   "pygments_lexer": "ipython3",
   "version": "3.9.7"
  }
 },
 "nbformat": 4,
 "nbformat_minor": 5
}
