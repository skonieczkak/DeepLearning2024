{
 "cells": [
  {
   "cell_type": "code",
   "execution_count": 1,
   "id": "286fa481",
   "metadata": {
    "ExecuteTime": {
     "end_time": "2022-04-09T15:05:07.100583Z",
     "start_time": "2022-04-09T15:04:05.476236Z"
    }
   },
   "outputs": [],
   "source": [
    "import pandas as pd\n",
    "import keras\n",
    "import numpy as np\n",
    "\n",
    "# Import CIFAR 10 dataset\n",
    "from keras.datasets import cifar10\n",
    "\n",
    "from keras.preprocessing.image import ImageDataGenerator\n",
    "\n",
    "# Import Necessary CNN Building Blocks\n",
    "from keras.models import Sequential, Model\n",
    "from keras.layers import Conv2D, MaxPooling2D, Flatten, Dense, Activation, Dropout, MaxPool2D, BatchNormalization, GlobalAveragePooling2D, UpSampling2D\n",
    "from keras.layers.advanced_activations import LeakyReLU\n",
    "\n",
    "from keras import backend as K\n",
    "from keras import applications\n",
    "from keras import callbacks\n",
    "from keras import optimizers\n",
    "from keras.utils import np_utils\n",
    "import random\n",
    "\n",
    "import tensorflow as tf\n",
    "import tensorflow_addons as tfa\n",
    "\n",
    "from sklearn.metrics import classification_report, confusion_matrix\n",
    "from tensorflow.keras.callbacks import EarlyStopping\n",
    "\n",
    "import seaborn as sns\n",
    "import matplotlib.pyplot as plt\n",
    "\n",
    "sns.set_style('whitegrid')\n",
    "plt.rcParams[\"figure.figsize\"] = 9,6"
   ]
  },
  {
   "cell_type": "code",
   "execution_count": 2,
   "id": "8aa4a7d3",
   "metadata": {
    "ExecuteTime": {
     "end_time": "2022-04-09T15:05:07.116390Z",
     "start_time": "2022-04-09T15:05:07.105648Z"
    }
   },
   "outputs": [],
   "source": [
    "# Requirements:\n",
    "# !pip install keras\n",
    "# !pip install tensorflow\n",
    "# !pip install keras\n",
    "# !pip install tensorflow_addons\n",
    "\n",
    "# TODO: data augmentation validation"
   ]
  },
  {
   "cell_type": "markdown",
   "id": "1584ee76",
   "metadata": {},
   "source": [
    "# <span style='font-family:Georgia'> Data loading & preparation"
   ]
  },
  {
   "cell_type": "code",
   "execution_count": 3,
   "id": "01100192",
   "metadata": {
    "ExecuteTime": {
     "end_time": "2022-04-09T15:05:08.571378Z",
     "start_time": "2022-04-09T15:05:07.121375Z"
    }
   },
   "outputs": [
    {
     "name": "stdout",
     "output_type": "stream",
     "text": [
      "x_train shape: (50000, 32, 32, 3)\n",
      "y_train shape: (50000, 1)\n",
      "50000 train samples\n",
      "10000 test samples\n"
     ]
    }
   ],
   "source": [
    "# Load Dataset\n",
    "(X_train, y_train), (X_test, y_test) = cifar10.load_data()\n",
    "\n",
    "BATCH_SIZE = 32\n",
    "INPUT_SHAPE = X_train.shape[1:]\n",
    "NUM_CLASSES = 10\n",
    "\n",
    "print('x_train shape:', X_train.shape)\n",
    "print('y_train shape:', y_train.shape)\n",
    "print(X_train.shape[0], 'train samples')\n",
    "print(X_test.shape[0], 'test samples')"
   ]
  },
  {
   "cell_type": "code",
   "execution_count": 4,
   "id": "d28d5f73",
   "metadata": {
    "ExecuteTime": {
     "end_time": "2022-04-09T15:05:09.605919Z",
     "start_time": "2022-04-09T15:05:08.577670Z"
    }
   },
   "outputs": [],
   "source": [
    "# Normalize input data\n",
    "X_train = X_train.astype('float32')/255\n",
    "X_test = X_test.astype('float32')/255\n",
    "\n",
    "# Encode target variable\n",
    "y_train = tf.keras.utils.to_categorical(y_train, NUM_CLASSES)\n",
    "y_test_ohe = tf.keras.utils.to_categorical(y_test, NUM_CLASSES)"
   ]
  },
  {
   "cell_type": "markdown",
   "id": "42d744b1",
   "metadata": {},
   "source": [
    "# <span style='font-family:Georgia'> Deep Learning pretrained models fitting"
   ]
  },
  {
   "cell_type": "markdown",
   "id": "ebefd28d",
   "metadata": {},
   "source": [
    "## <span style='font-family:Georgia'> Residual Network (ResNet)"
   ]
  },
  {
   "cell_type": "code",
   "execution_count": 5,
   "id": "53e7215c",
   "metadata": {
    "ExecuteTime": {
     "end_time": "2022-04-09T15:05:09.622398Z",
     "start_time": "2022-04-09T15:05:09.610826Z"
    }
   },
   "outputs": [],
   "source": [
    "LR=1e-3\n",
    "EPOCHS=10\n",
    "INPUT_SHAPE = X_train.shape[1:]"
   ]
  },
  {
   "cell_type": "code",
   "execution_count": 6,
   "id": "ac651d83",
   "metadata": {
    "ExecuteTime": {
     "end_time": "2022-04-09T15:05:09.666603Z",
     "start_time": "2022-04-09T15:05:09.627667Z"
    }
   },
   "outputs": [],
   "source": [
    "input_tensor=tf.keras.Input(shape=INPUT_SHAPE)"
   ]
  },
  {
   "cell_type": "code",
   "execution_count": 7,
   "id": "30f4b266",
   "metadata": {
    "ExecuteTime": {
     "end_time": "2022-04-09T15:05:14.193908Z",
     "start_time": "2022-04-09T15:05:09.671954Z"
    }
   },
   "outputs": [],
   "source": [
    "res_base = tf.keras.applications.resnet50.ResNet50(weights='imagenet', include_top=False, input_tensor=input_tensor)\n",
    "    \n",
    "resNet = Sequential()\n",
    "resNet.add(res_base)\n",
    "resNet.add(tf.keras.layers.Flatten())\n",
    "resNet.add(tf.keras.layers.Dense(NUM_CLASSES, activation='softmax'))"
   ]
  },
  {
   "cell_type": "code",
   "execution_count": 8,
   "id": "d1a21ecf",
   "metadata": {
    "ExecuteTime": {
     "end_time": "2022-04-09T15:05:14.232221Z",
     "start_time": "2022-04-09T15:05:14.200458Z"
    }
   },
   "outputs": [],
   "source": [
    "resNet.compile(loss='categorical_crossentropy',\n",
    "               optimizer=tf.keras.optimizers.RMSprop(learning_rate=LR),\n",
    "               metrics=['accuracy'])"
   ]
  },
  {
   "cell_type": "code",
   "execution_count": 9,
   "id": "65bbb239",
   "metadata": {
    "ExecuteTime": {
     "end_time": "2022-04-09T15:05:14.273739Z",
     "start_time": "2022-04-09T15:05:14.234350Z"
    },
    "scrolled": true
   },
   "outputs": [
    {
     "name": "stdout",
     "output_type": "stream",
     "text": [
      "Model: \"sequential\"\n",
      "_________________________________________________________________\n",
      " Layer (type)                Output Shape              Param #   \n",
      "=================================================================\n",
      " resnet50 (Functional)       (None, 1, 1, 2048)        23587712  \n",
      "                                                                 \n",
      " flatten (Flatten)           (None, 2048)              0         \n",
      "                                                                 \n",
      " dense (Dense)               (None, 10)                20490     \n",
      "                                                                 \n",
      "=================================================================\n",
      "Total params: 23,608,202\n",
      "Trainable params: 23,555,082\n",
      "Non-trainable params: 53,120\n",
      "_________________________________________________________________\n"
     ]
    }
   ],
   "source": [
    "resNet.summary()"
   ]
  },
  {
   "cell_type": "code",
   "execution_count": 10,
   "id": "7dc5b755",
   "metadata": {
    "ExecuteTime": {
     "end_time": "2022-04-09T19:58:24.014115Z",
     "start_time": "2022-04-09T15:05:14.275935Z"
    },
    "scrolled": false
   },
   "outputs": [
    {
     "name": "stdout",
     "output_type": "stream",
     "text": [
      "Epoch 1/10\n",
      "1563/1563 [==============================] - 2015s 1s/step - loss: 2.6400 - accuracy: 0.2974 - val_loss: 41.3731 - val_accuracy: 0.1924\n",
      "Epoch 2/10\n",
      "1563/1563 [==============================] - 1836s 1s/step - loss: 2.0064 - accuracy: 0.4407 - val_loss: 1.6657 - val_accuracy: 0.4082\n",
      "Epoch 3/10\n",
      "1563/1563 [==============================] - 2175s 1s/step - loss: 1.7165 - accuracy: 0.5202 - val_loss: 2.2167 - val_accuracy: 0.2476\n",
      "Epoch 4/10\n",
      "1563/1563 [==============================] - 1747s 1s/step - loss: 1.3445 - accuracy: 0.5958 - val_loss: 1.5904 - val_accuracy: 0.5487\n",
      "Epoch 5/10\n",
      "1563/1563 [==============================] - 1703s 1s/step - loss: 1.1523 - accuracy: 0.6425 - val_loss: 1.4050 - val_accuracy: 0.5694\n",
      "Epoch 6/10\n",
      "1563/1563 [==============================] - 1647s 1s/step - loss: 1.0156 - accuracy: 0.6736 - val_loss: 1.8033 - val_accuracy: 0.4967\n",
      "Epoch 7/10\n",
      "1563/1563 [==============================] - 1564s 1s/step - loss: 0.9407 - accuracy: 0.6999 - val_loss: 1.0493 - val_accuracy: 0.6558\n",
      "Epoch 8/10\n",
      "1563/1563 [==============================] - 1672s 1s/step - loss: 0.8833 - accuracy: 0.7196 - val_loss: 6.8478 - val_accuracy: 0.5607\n",
      "Epoch 9/10\n",
      "1563/1563 [==============================] - 1615s 1s/step - loss: 0.8547 - accuracy: 0.7317 - val_loss: 25.9134 - val_accuracy: 0.4933\n",
      "Epoch 10/10\n",
      "1563/1563 [==============================] - 1615s 1s/step - loss: 0.7969 - accuracy: 0.7484 - val_loss: 4.9919 - val_accuracy: 0.6655\n"
     ]
    },
    {
     "data": {
      "text/plain": [
       "<keras.callbacks.History at 0x2058171fa90>"
      ]
     },
     "execution_count": 10,
     "metadata": {},
     "output_type": "execute_result"
    }
   ],
   "source": [
    "resNet.fit(X_train,\n",
    "           y_train,\n",
    "           batch_size=BATCH_SIZE,\n",
    "           epochs=EPOCHS,\n",
    "           shuffle=True,\n",
    "           verbose=1,\n",
    "           validation_data=(X_test, y_test_ohe)\n",
    "          )"
   ]
  },
  {
   "cell_type": "markdown",
   "id": "2430ebef",
   "metadata": {},
   "source": [
    "## <span style='font-family:Georgia'> VGG16"
   ]
  },
  {
   "cell_type": "code",
   "execution_count": 11,
   "id": "caa4e57f",
   "metadata": {
    "ExecuteTime": {
     "end_time": "2022-04-06T22:39:03.366476Z",
     "start_time": "2022-04-06T22:39:03.347767Z"
    }
   },
   "outputs": [],
   "source": [
    "EPOCHS=10\n",
    "BATCH_SIZE = 32\n",
    "LR=1e-3\n",
    "MOMENTUM=0.9\n",
    "INPUT_SHAPE = X_train.shape[1:]"
   ]
  },
  {
   "cell_type": "code",
   "execution_count": 12,
   "id": "1e574e2a",
   "metadata": {
    "ExecuteTime": {
     "end_time": "2022-04-06T22:39:03.986040Z",
     "start_time": "2022-04-06T22:39:03.369516Z"
    }
   },
   "outputs": [
    {
     "name": "stdout",
     "output_type": "stream",
     "text": [
      "Model: \"sequential_1\"\n",
      "_________________________________________________________________\n",
      " Layer (type)                Output Shape              Param #   \n",
      "=================================================================\n",
      " vgg16 (Functional)          (None, 1, 1, 512)         14714688  \n",
      "                                                                 \n",
      " flatten_1 (Flatten)         (None, 512)               0         \n",
      "                                                                 \n",
      " dense_1 (Dense)             (None, 10)                5130      \n",
      "                                                                 \n",
      "=================================================================\n",
      "Total params: 14,719,818\n",
      "Trainable params: 14,719,818\n",
      "Non-trainable params: 0\n",
      "_________________________________________________________________\n"
     ]
    }
   ],
   "source": [
    "vgg_base = tf.keras.applications.vgg16.VGG16(include_top=False,weights='imagenet',input_shape=INPUT_SHAPE)\n",
    "\n",
    "vgg = Sequential()\n",
    "vgg.add(vgg_base)\n",
    "vgg.add(Flatten()) \n",
    "vgg.add(Dense(NUM_CLASSES, activation=('softmax')))\n",
    "vgg.summary()"
   ]
  },
  {
   "cell_type": "code",
   "execution_count": 13,
   "id": "4276049a",
   "metadata": {
    "ExecuteTime": {
     "end_time": "2022-04-06T22:39:04.015078Z",
     "start_time": "2022-04-06T22:39:03.988346Z"
    }
   },
   "outputs": [],
   "source": [
    "vgg.compile(loss='binary_crossentropy',\n",
    "            optimizer=tf.keras.optimizers.SGD(learning_rate=LR, momentum=MOMENTUM),\n",
    "            metrics=['accuracy'])"
   ]
  },
  {
   "cell_type": "code",
   "execution_count": 14,
   "id": "8395fe05",
   "metadata": {
    "ExecuteTime": {
     "end_time": "2022-04-07T03:03:36.803390Z",
     "start_time": "2022-04-06T22:39:04.015078Z"
    }
   },
   "outputs": [
    {
     "name": "stdout",
     "output_type": "stream",
     "text": [
      "Epoch 1/10\n",
      "1562/1562 [==============================] - 1521s 973ms/step - loss: 0.1767 - accuracy: 0.6279 - val_loss: 0.1355 - val_accuracy: 0.7251\n",
      "Epoch 2/10\n",
      "1562/1562 [==============================] - 1557s 997ms/step - loss: 0.1193 - accuracy: 0.7589 - val_loss: 0.1139 - val_accuracy: 0.7740\n",
      "Epoch 3/10\n",
      "1562/1562 [==============================] - 1577s 1s/step - loss: 0.1022 - accuracy: 0.7959 - val_loss: 0.1066 - val_accuracy: 0.7882\n",
      "Epoch 4/10\n",
      "1562/1562 [==============================] - 1563s 1s/step - loss: 0.0913 - accuracy: 0.8200 - val_loss: 0.0967 - val_accuracy: 0.8065\n",
      "Epoch 5/10\n",
      "1562/1562 [==============================] - 1565s 1s/step - loss: 0.0823 - accuracy: 0.8363 - val_loss: 0.0912 - val_accuracy: 0.8209\n",
      "Epoch 6/10\n",
      "1562/1562 [==============================] - 1587s 1s/step - loss: 0.0744 - accuracy: 0.8545 - val_loss: 0.0945 - val_accuracy: 0.8071\n",
      "Epoch 7/10\n",
      "1562/1562 [==============================] - 1574s 1s/step - loss: 0.0686 - accuracy: 0.8658 - val_loss: 0.0857 - val_accuracy: 0.8315\n",
      "Epoch 8/10\n",
      "1562/1562 [==============================] - 1618s 1s/step - loss: 0.0630 - accuracy: 0.8778 - val_loss: 0.0831 - val_accuracy: 0.8370\n",
      "Epoch 9/10\n",
      "1562/1562 [==============================] - 1730s 1s/step - loss: 0.0574 - accuracy: 0.8906 - val_loss: 0.0855 - val_accuracy: 0.8362\n",
      "Epoch 10/10\n",
      "1562/1562 [==============================] - 1577s 1s/step - loss: 0.0526 - accuracy: 0.9009 - val_loss: 0.0823 - val_accuracy: 0.8398\n"
     ]
    }
   ],
   "source": [
    "vgg_history = (\n",
    "    vgg.fit(X_train,\n",
    "            y_train, \n",
    "            batch_size=BATCH_SIZE,\n",
    "            epochs=EPOCHS,\n",
    "            steps_per_epoch=X_train.shape[0]//BATCH_SIZE,\n",
    "            validation_data=(X_test, y_test_ohe),\n",
    "            validation_steps=X_test.shape[0]//BATCH_SIZE,\n",
    "            verbose=1\n",
    "           )\n",
    ")"
   ]
  },
  {
   "cell_type": "markdown",
   "id": "ef3da1b9",
   "metadata": {
    "ExecuteTime": {
     "end_time": "2022-03-19T18:22:56.487259Z",
     "start_time": "2022-03-19T18:22:56.483638Z"
    }
   },
   "source": [
    "# <span style='font-family:Georgia'> Models Evaluation"
   ]
  },
  {
   "cell_type": "markdown",
   "id": "63e82544",
   "metadata": {},
   "source": [
    "## <span style='font-family:Georgia'> Residual Network (ResNet)"
   ]
  },
  {
   "cell_type": "code",
   "execution_count": 15,
   "id": "7a3a8ac3",
   "metadata": {
    "ExecuteTime": {
     "end_time": "2022-04-09T19:58:47.029636Z",
     "start_time": "2022-04-09T19:58:24.094648Z"
    }
   },
   "outputs": [
    {
     "name": "stdout",
     "output_type": "stream",
     "text": [
      "313/313 [==============================] - 23s 72ms/step - loss: 4.9919 - accuracy: 0.6655\n"
     ]
    },
    {
     "data": {
      "text/plain": [
       "[4.991875648498535, 0.6654999852180481]"
      ]
     },
     "execution_count": 15,
     "metadata": {},
     "output_type": "execute_result"
    }
   ],
   "source": [
    "resNet.evaluate(X_test, y_test_ohe)"
   ]
  },
  {
   "cell_type": "code",
   "execution_count": 16,
   "id": "01c05763",
   "metadata": {
    "ExecuteTime": {
     "end_time": "2022-04-09T19:59:07.413148Z",
     "start_time": "2022-04-09T19:58:47.030635Z"
    }
   },
   "outputs": [],
   "source": [
    "y_pred_resnet = resNet.predict(X_test)"
   ]
  },
  {
   "cell_type": "code",
   "execution_count": 17,
   "id": "2add4dfd",
   "metadata": {
    "ExecuteTime": {
     "end_time": "2022-04-09T19:59:07.444276Z",
     "start_time": "2022-04-09T19:59:07.419142Z"
    }
   },
   "outputs": [],
   "source": [
    "y_pred_resnet_classes = np.argmax(y_pred_resnet, axis=-1)"
   ]
  },
  {
   "cell_type": "code",
   "execution_count": 18,
   "id": "06106254",
   "metadata": {
    "ExecuteTime": {
     "end_time": "2022-04-09T19:59:07.570373Z",
     "start_time": "2022-04-09T19:59:07.450260Z"
    }
   },
   "outputs": [
    {
     "data": {
      "text/html": [
       "<div>\n",
       "<style scoped>\n",
       "    .dataframe tbody tr th:only-of-type {\n",
       "        vertical-align: middle;\n",
       "    }\n",
       "\n",
       "    .dataframe tbody tr th {\n",
       "        vertical-align: top;\n",
       "    }\n",
       "\n",
       "    .dataframe thead th {\n",
       "        text-align: right;\n",
       "    }\n",
       "</style>\n",
       "<table border=\"1\" class=\"dataframe\">\n",
       "  <thead>\n",
       "    <tr style=\"text-align: right;\">\n",
       "      <th></th>\n",
       "      <th>0</th>\n",
       "      <th>1</th>\n",
       "      <th>2</th>\n",
       "      <th>3</th>\n",
       "      <th>4</th>\n",
       "      <th>5</th>\n",
       "      <th>6</th>\n",
       "      <th>7</th>\n",
       "      <th>8</th>\n",
       "      <th>9</th>\n",
       "    </tr>\n",
       "  </thead>\n",
       "  <tbody>\n",
       "    <tr>\n",
       "      <th>0</th>\n",
       "      <td>646</td>\n",
       "      <td>35</td>\n",
       "      <td>48</td>\n",
       "      <td>38</td>\n",
       "      <td>78</td>\n",
       "      <td>1</td>\n",
       "      <td>13</td>\n",
       "      <td>6</td>\n",
       "      <td>74</td>\n",
       "      <td>61</td>\n",
       "    </tr>\n",
       "    <tr>\n",
       "      <th>1</th>\n",
       "      <td>11</td>\n",
       "      <td>552</td>\n",
       "      <td>1</td>\n",
       "      <td>8</td>\n",
       "      <td>1</td>\n",
       "      <td>0</td>\n",
       "      <td>128</td>\n",
       "      <td>1</td>\n",
       "      <td>40</td>\n",
       "      <td>258</td>\n",
       "    </tr>\n",
       "    <tr>\n",
       "      <th>2</th>\n",
       "      <td>58</td>\n",
       "      <td>21</td>\n",
       "      <td>508</td>\n",
       "      <td>64</td>\n",
       "      <td>118</td>\n",
       "      <td>52</td>\n",
       "      <td>113</td>\n",
       "      <td>37</td>\n",
       "      <td>8</td>\n",
       "      <td>21</td>\n",
       "    </tr>\n",
       "    <tr>\n",
       "      <th>3</th>\n",
       "      <td>9</td>\n",
       "      <td>49</td>\n",
       "      <td>37</td>\n",
       "      <td>561</td>\n",
       "      <td>79</td>\n",
       "      <td>72</td>\n",
       "      <td>101</td>\n",
       "      <td>44</td>\n",
       "      <td>14</td>\n",
       "      <td>34</td>\n",
       "    </tr>\n",
       "    <tr>\n",
       "      <th>4</th>\n",
       "      <td>13</td>\n",
       "      <td>9</td>\n",
       "      <td>29</td>\n",
       "      <td>57</td>\n",
       "      <td>732</td>\n",
       "      <td>8</td>\n",
       "      <td>59</td>\n",
       "      <td>73</td>\n",
       "      <td>5</td>\n",
       "      <td>15</td>\n",
       "    </tr>\n",
       "    <tr>\n",
       "      <th>5</th>\n",
       "      <td>9</td>\n",
       "      <td>30</td>\n",
       "      <td>49</td>\n",
       "      <td>264</td>\n",
       "      <td>58</td>\n",
       "      <td>434</td>\n",
       "      <td>48</td>\n",
       "      <td>87</td>\n",
       "      <td>10</td>\n",
       "      <td>11</td>\n",
       "    </tr>\n",
       "    <tr>\n",
       "      <th>6</th>\n",
       "      <td>1</td>\n",
       "      <td>16</td>\n",
       "      <td>12</td>\n",
       "      <td>44</td>\n",
       "      <td>24</td>\n",
       "      <td>10</td>\n",
       "      <td>857</td>\n",
       "      <td>3</td>\n",
       "      <td>9</td>\n",
       "      <td>24</td>\n",
       "    </tr>\n",
       "    <tr>\n",
       "      <th>7</th>\n",
       "      <td>12</td>\n",
       "      <td>16</td>\n",
       "      <td>19</td>\n",
       "      <td>62</td>\n",
       "      <td>49</td>\n",
       "      <td>39</td>\n",
       "      <td>14</td>\n",
       "      <td>748</td>\n",
       "      <td>3</td>\n",
       "      <td>38</td>\n",
       "    </tr>\n",
       "    <tr>\n",
       "      <th>8</th>\n",
       "      <td>51</td>\n",
       "      <td>33</td>\n",
       "      <td>5</td>\n",
       "      <td>21</td>\n",
       "      <td>28</td>\n",
       "      <td>0</td>\n",
       "      <td>35</td>\n",
       "      <td>4</td>\n",
       "      <td>784</td>\n",
       "      <td>39</td>\n",
       "    </tr>\n",
       "    <tr>\n",
       "      <th>9</th>\n",
       "      <td>31</td>\n",
       "      <td>58</td>\n",
       "      <td>1</td>\n",
       "      <td>3</td>\n",
       "      <td>4</td>\n",
       "      <td>0</td>\n",
       "      <td>33</td>\n",
       "      <td>12</td>\n",
       "      <td>25</td>\n",
       "      <td>833</td>\n",
       "    </tr>\n",
       "  </tbody>\n",
       "</table>\n",
       "</div>"
      ],
      "text/plain": [
       "     0    1    2    3    4    5    6    7    8    9\n",
       "0  646   35   48   38   78    1   13    6   74   61\n",
       "1   11  552    1    8    1    0  128    1   40  258\n",
       "2   58   21  508   64  118   52  113   37    8   21\n",
       "3    9   49   37  561   79   72  101   44   14   34\n",
       "4   13    9   29   57  732    8   59   73    5   15\n",
       "5    9   30   49  264   58  434   48   87   10   11\n",
       "6    1   16   12   44   24   10  857    3    9   24\n",
       "7   12   16   19   62   49   39   14  748    3   38\n",
       "8   51   33    5   21   28    0   35    4  784   39\n",
       "9   31   58    1    3    4    0   33   12   25  833"
      ]
     },
     "execution_count": 18,
     "metadata": {},
     "output_type": "execute_result"
    }
   ],
   "source": [
    "conf_matr_resnet = pd.DataFrame(confusion_matrix(y_test, y_pred_resnet_classes))\n",
    "conf_matr_resnet.to_csv(\"conf_matr_resnet.csv\")\n",
    "conf_matr_resnet"
   ]
  },
  {
   "cell_type": "code",
   "execution_count": 19,
   "id": "0ae80aa5",
   "metadata": {
    "ExecuteTime": {
     "end_time": "2022-04-09T19:59:07.602367Z",
     "start_time": "2022-04-09T19:59:07.571336Z"
    }
   },
   "outputs": [
    {
     "name": "stdout",
     "output_type": "stream",
     "text": [
      "              precision    recall  f1-score   support\n",
      "\n",
      "           0       0.77      0.65      0.70      1000\n",
      "           1       0.67      0.55      0.61      1000\n",
      "           2       0.72      0.51      0.59      1000\n",
      "           3       0.50      0.56      0.53      1000\n",
      "           4       0.63      0.73      0.67      1000\n",
      "           5       0.70      0.43      0.54      1000\n",
      "           6       0.61      0.86      0.71      1000\n",
      "           7       0.74      0.75      0.74      1000\n",
      "           8       0.81      0.78      0.80      1000\n",
      "           9       0.62      0.83      0.71      1000\n",
      "\n",
      "    accuracy                           0.67     10000\n",
      "   macro avg       0.68      0.67      0.66     10000\n",
      "weighted avg       0.68      0.67      0.66     10000\n",
      "\n"
     ]
    }
   ],
   "source": [
    "print(classification_report(y_test, y_pred_resnet_classes))"
   ]
  },
  {
   "cell_type": "markdown",
   "id": "c50f43d2",
   "metadata": {},
   "source": [
    "## <span style='font-family:Georgia'> VGG16"
   ]
  },
  {
   "cell_type": "code",
   "execution_count": 20,
   "id": "5e3895da",
   "metadata": {
    "ExecuteTime": {
     "end_time": "2022-04-07T03:05:06.784213Z",
     "start_time": "2022-04-07T03:04:25.603998Z"
    },
    "scrolled": true
   },
   "outputs": [
    {
     "name": "stdout",
     "output_type": "stream",
     "text": [
      "313/313 [==============================] - 41s 131ms/step - loss: 0.0824 - accuracy: 0.8397\n"
     ]
    },
    {
     "data": {
      "text/plain": [
       "[0.08236587047576904, 0.8396999835968018]"
      ]
     },
     "execution_count": 20,
     "metadata": {},
     "output_type": "execute_result"
    }
   ],
   "source": [
    "vgg.evaluate(X_test, y_test_ohe)"
   ]
  },
  {
   "cell_type": "code",
   "execution_count": 21,
   "id": "8a9c295c",
   "metadata": {
    "ExecuteTime": {
     "end_time": "2022-04-07T03:05:47.884919Z",
     "start_time": "2022-04-07T03:05:06.786202Z"
    }
   },
   "outputs": [],
   "source": [
    "y_pred_vgg16 = vgg.predict(X_test)"
   ]
  },
  {
   "cell_type": "code",
   "execution_count": 22,
   "id": "5fa8ff0c",
   "metadata": {
    "ExecuteTime": {
     "end_time": "2022-04-07T03:05:47.900548Z",
     "start_time": "2022-04-07T03:05:47.886914Z"
    }
   },
   "outputs": [],
   "source": [
    "y_pred_vgg16_classes = np.argmax(y_pred_vgg16, axis=-1)"
   ]
  },
  {
   "cell_type": "code",
   "execution_count": 23,
   "id": "489c3a73",
   "metadata": {
    "ExecuteTime": {
     "end_time": "2022-04-07T03:05:47.932463Z",
     "start_time": "2022-04-07T03:05:47.907530Z"
    }
   },
   "outputs": [
    {
     "data": {
      "text/html": [
       "<div>\n",
       "<style scoped>\n",
       "    .dataframe tbody tr th:only-of-type {\n",
       "        vertical-align: middle;\n",
       "    }\n",
       "\n",
       "    .dataframe tbody tr th {\n",
       "        vertical-align: top;\n",
       "    }\n",
       "\n",
       "    .dataframe thead th {\n",
       "        text-align: right;\n",
       "    }\n",
       "</style>\n",
       "<table border=\"1\" class=\"dataframe\">\n",
       "  <thead>\n",
       "    <tr style=\"text-align: right;\">\n",
       "      <th></th>\n",
       "      <th>0</th>\n",
       "      <th>1</th>\n",
       "      <th>2</th>\n",
       "      <th>3</th>\n",
       "      <th>4</th>\n",
       "      <th>5</th>\n",
       "      <th>6</th>\n",
       "      <th>7</th>\n",
       "      <th>8</th>\n",
       "      <th>9</th>\n",
       "    </tr>\n",
       "  </thead>\n",
       "  <tbody>\n",
       "    <tr>\n",
       "      <th>0</th>\n",
       "      <td>885</td>\n",
       "      <td>7</td>\n",
       "      <td>21</td>\n",
       "      <td>12</td>\n",
       "      <td>10</td>\n",
       "      <td>0</td>\n",
       "      <td>3</td>\n",
       "      <td>10</td>\n",
       "      <td>28</td>\n",
       "      <td>24</td>\n",
       "    </tr>\n",
       "    <tr>\n",
       "      <th>1</th>\n",
       "      <td>10</td>\n",
       "      <td>918</td>\n",
       "      <td>1</td>\n",
       "      <td>2</td>\n",
       "      <td>1</td>\n",
       "      <td>1</td>\n",
       "      <td>1</td>\n",
       "      <td>2</td>\n",
       "      <td>7</td>\n",
       "      <td>57</td>\n",
       "    </tr>\n",
       "    <tr>\n",
       "      <th>2</th>\n",
       "      <td>39</td>\n",
       "      <td>2</td>\n",
       "      <td>829</td>\n",
       "      <td>36</td>\n",
       "      <td>57</td>\n",
       "      <td>11</td>\n",
       "      <td>12</td>\n",
       "      <td>10</td>\n",
       "      <td>3</td>\n",
       "      <td>1</td>\n",
       "    </tr>\n",
       "    <tr>\n",
       "      <th>3</th>\n",
       "      <td>15</td>\n",
       "      <td>7</td>\n",
       "      <td>55</td>\n",
       "      <td>727</td>\n",
       "      <td>41</td>\n",
       "      <td>78</td>\n",
       "      <td>28</td>\n",
       "      <td>31</td>\n",
       "      <td>3</td>\n",
       "      <td>15</td>\n",
       "    </tr>\n",
       "    <tr>\n",
       "      <th>4</th>\n",
       "      <td>10</td>\n",
       "      <td>2</td>\n",
       "      <td>49</td>\n",
       "      <td>39</td>\n",
       "      <td>824</td>\n",
       "      <td>14</td>\n",
       "      <td>15</td>\n",
       "      <td>37</td>\n",
       "      <td>7</td>\n",
       "      <td>3</td>\n",
       "    </tr>\n",
       "    <tr>\n",
       "      <th>5</th>\n",
       "      <td>8</td>\n",
       "      <td>2</td>\n",
       "      <td>44</td>\n",
       "      <td>177</td>\n",
       "      <td>26</td>\n",
       "      <td>690</td>\n",
       "      <td>11</td>\n",
       "      <td>38</td>\n",
       "      <td>0</td>\n",
       "      <td>4</td>\n",
       "    </tr>\n",
       "    <tr>\n",
       "      <th>6</th>\n",
       "      <td>7</td>\n",
       "      <td>6</td>\n",
       "      <td>42</td>\n",
       "      <td>73</td>\n",
       "      <td>25</td>\n",
       "      <td>9</td>\n",
       "      <td>825</td>\n",
       "      <td>2</td>\n",
       "      <td>4</td>\n",
       "      <td>7</td>\n",
       "    </tr>\n",
       "    <tr>\n",
       "      <th>7</th>\n",
       "      <td>9</td>\n",
       "      <td>4</td>\n",
       "      <td>23</td>\n",
       "      <td>30</td>\n",
       "      <td>37</td>\n",
       "      <td>27</td>\n",
       "      <td>1</td>\n",
       "      <td>861</td>\n",
       "      <td>1</td>\n",
       "      <td>7</td>\n",
       "    </tr>\n",
       "    <tr>\n",
       "      <th>8</th>\n",
       "      <td>39</td>\n",
       "      <td>10</td>\n",
       "      <td>6</td>\n",
       "      <td>7</td>\n",
       "      <td>1</td>\n",
       "      <td>1</td>\n",
       "      <td>0</td>\n",
       "      <td>1</td>\n",
       "      <td>920</td>\n",
       "      <td>15</td>\n",
       "    </tr>\n",
       "    <tr>\n",
       "      <th>9</th>\n",
       "      <td>11</td>\n",
       "      <td>40</td>\n",
       "      <td>5</td>\n",
       "      <td>5</td>\n",
       "      <td>1</td>\n",
       "      <td>0</td>\n",
       "      <td>2</td>\n",
       "      <td>5</td>\n",
       "      <td>13</td>\n",
       "      <td>918</td>\n",
       "    </tr>\n",
       "  </tbody>\n",
       "</table>\n",
       "</div>"
      ],
      "text/plain": [
       "     0    1    2    3    4    5    6    7    8    9\n",
       "0  885    7   21   12   10    0    3   10   28   24\n",
       "1   10  918    1    2    1    1    1    2    7   57\n",
       "2   39    2  829   36   57   11   12   10    3    1\n",
       "3   15    7   55  727   41   78   28   31    3   15\n",
       "4   10    2   49   39  824   14   15   37    7    3\n",
       "5    8    2   44  177   26  690   11   38    0    4\n",
       "6    7    6   42   73   25    9  825    2    4    7\n",
       "7    9    4   23   30   37   27    1  861    1    7\n",
       "8   39   10    6    7    1    1    0    1  920   15\n",
       "9   11   40    5    5    1    0    2    5   13  918"
      ]
     },
     "execution_count": 23,
     "metadata": {},
     "output_type": "execute_result"
    }
   ],
   "source": [
    "conf_matr_vgg = pd.DataFrame(confusion_matrix(y_test, y_pred_vgg16_classes))\n",
    "conf_matr_vgg.to_csv(\"conf_matr_vgg.csv\")\n",
    "conf_matr_vgg"
   ]
  },
  {
   "cell_type": "code",
   "execution_count": 24,
   "id": "39f4a610",
   "metadata": {
    "ExecuteTime": {
     "end_time": "2022-04-07T03:05:47.980237Z",
     "start_time": "2022-04-07T03:05:47.934457Z"
    }
   },
   "outputs": [
    {
     "name": "stdout",
     "output_type": "stream",
     "text": [
      "              precision    recall  f1-score   support\n",
      "\n",
      "           0       0.86      0.89      0.87      1000\n",
      "           1       0.92      0.92      0.92      1000\n",
      "           2       0.77      0.83      0.80      1000\n",
      "           3       0.66      0.73      0.69      1000\n",
      "           4       0.81      0.82      0.81      1000\n",
      "           5       0.83      0.69      0.75      1000\n",
      "           6       0.92      0.82      0.87      1000\n",
      "           7       0.86      0.86      0.86      1000\n",
      "           8       0.93      0.92      0.93      1000\n",
      "           9       0.87      0.92      0.90      1000\n",
      "\n",
      "    accuracy                           0.84     10000\n",
      "   macro avg       0.84      0.84      0.84     10000\n",
      "weighted avg       0.84      0.84      0.84     10000\n",
      "\n"
     ]
    }
   ],
   "source": [
    "print(classification_report(y_test, y_pred_vgg16_classes))"
   ]
  },
  {
   "cell_type": "markdown",
   "id": "6158b084",
   "metadata": {},
   "source": [
    "## <span style='font-family:Georgia'> Confusion matrices comparison"
   ]
  },
  {
   "cell_type": "code",
   "execution_count": 23,
   "id": "87f10441",
   "metadata": {
    "ExecuteTime": {
     "end_time": "2022-04-10T04:22:48.299511Z",
     "start_time": "2022-04-10T04:22:46.587555Z"
    }
   },
   "outputs": [
    {
     "data": {
      "image/png": "[encoded data removed]",
      "text/plain": [
       "<Figure size 1296x576 with 4 Axes>"
      ]
     },
     "metadata": {},
     "output_type": "display_data"
    }
   ],
   "source": [
    "fig, axes = plt.subplots(1,2,figsize=(18,8))\n",
    "models = ['ResNet', 'VGG16',]\n",
    "models_results = [conf_matr_resnet, conf_matr_vgg]\n",
    "title = \"Pretrained models confusion matrices\"\n",
    "for i in range(2):\n",
    "    sns.heatmap(models_results[i], annot=True, cmap=\"Blues\", ax=axes[i], fmt='d', annot_kws={\"size\": 12})\n",
    "    axes[i].set_title(models[i], size=15)\n",
    "    axes[i].set_xticklabels(axes[i].get_xmajorticklabels(), fontsize = 12)\n",
    "    axes[i].set_yticklabels(axes[i].get_xmajorticklabels(), fontsize = 12)\n",
    "    cax = plt.gcf().axes[-1]\n",
    "    cax.tick_params(labelsize=12)\n",
    "\n",
    "fig.suptitle(title, size=18)\n",
    "plt.tight_layout()\n",
    "plt.show()"
   ]
  }
 ],
 "metadata": {
  "kernelspec": {
   "display_name": "Python 3 (ipykernel)",
   "language": "python",
   "name": "python3"
  },
  "language_info": {
   "codemirror_mode": {
    "name": "ipython",
    "version": 3
   },
   "file_extension": ".py",
   "mimetype": "text/x-python",
   "name": "python",
   "nbconvert_exporter": "python",
   "pygments_lexer": "ipython3",
   "version": "3.9.7"
  }
 },
 "nbformat": 4,
 "nbformat_minor": 5
}
