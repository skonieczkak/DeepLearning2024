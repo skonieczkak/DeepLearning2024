{
 "cells": [
  {
   "cell_type": "code",
   "execution_count": 1,
   "id": "286fa481",
   "metadata": {
    "ExecuteTime": {
     "end_time": "2022-04-09T09:00:25.999624Z",
     "start_time": "2022-04-09T08:59:38.835688Z"
    }
   },
   "outputs": [],
   "source": [
    "import pandas as pd\n",
    "import keras\n",
    "import numpy as np\n",
    "\n",
    "# Import CIFAR 10 dataset\n",
    "from keras.datasets import cifar10\n",
    "\n",
    "from keras.preprocessing.image import ImageDataGenerator\n",
    "\n",
    "# Import Necessary CNN Building Blocks\n",
    "from keras.models import Sequential, Model\n",
    "from keras.layers import Conv2D, MaxPooling2D, Flatten, Dense, Activation, Dropout, MaxPool2D, BatchNormalization, GlobalAveragePooling2D, UpSampling2D\n",
    "from keras.layers.advanced_activations import LeakyReLU\n",
    "\n",
    "from keras import backend as K\n",
    "from keras import applications\n",
    "from keras import callbacks\n",
    "from keras import optimizers\n",
    "from keras.utils import np_utils\n",
    "import random\n",
    "\n",
    "import tensorflow as tf\n",
    "import tensorflow_addons as tfa\n",
    "\n",
    "from sklearn.metrics import classification_report, confusion_matrix\n",
    "from tensorflow.keras.callbacks import EarlyStopping\n",
    "\n",
    "import seaborn as sns\n",
    "import matplotlib.pyplot as plt\n",
    "\n",
    "sns.set_style('whitegrid')\n",
    "plt.rcParams[\"figure.figsize\"] = 9,6"
   ]
  },
  {
   "cell_type": "code",
   "execution_count": 2,
   "id": "55fa4f03",
   "metadata": {
    "ExecuteTime": {
     "end_time": "2022-04-09T09:00:26.023557Z",
     "start_time": "2022-04-09T09:00:26.005633Z"
    }
   },
   "outputs": [],
   "source": [
    "# Requirements:\n",
    "# !pip install keras\n",
    "# !pip install tensorflow\n",
    "# !pip install keras\n",
    "# !pip install tensorflow_addons"
   ]
  },
  {
   "cell_type": "markdown",
   "id": "1584ee76",
   "metadata": {},
   "source": [
    "# <span style='font-family:Georgia'> Data loading & preparation"
   ]
  },
  {
   "cell_type": "code",
   "execution_count": 3,
   "id": "01100192",
   "metadata": {
    "ExecuteTime": {
     "end_time": "2022-04-09T09:00:27.762809Z",
     "start_time": "2022-04-09T09:00:26.026670Z"
    }
   },
   "outputs": [
    {
     "name": "stdout",
     "output_type": "stream",
     "text": [
      "x_train shape: (50000, 32, 32, 3)\n",
      "y_train shape: (50000, 1)\n",
      "50000 train samples\n",
      "10000 test samples\n"
     ]
    }
   ],
   "source": [
    "# Load Dataset\n",
    "(X_train, y_train), (X_test, y_test) = cifar10.load_data()\n",
    "\n",
    "BATCH_SIZE = 32\n",
    "INPUT_SHAPE = X_train.shape[1:]\n",
    "NUM_CLASSES = 10\n",
    "\n",
    "print('x_train shape:', X_train.shape)\n",
    "print('y_train shape:', y_train.shape)\n",
    "print(X_train.shape[0], 'train samples')\n",
    "print(X_test.shape[0], 'test samples')"
   ]
  },
  {
   "cell_type": "code",
   "execution_count": 4,
   "id": "d28d5f73",
   "metadata": {
    "ExecuteTime": {
     "end_time": "2022-04-09T09:00:28.949619Z",
     "start_time": "2022-04-09T09:00:27.762809Z"
    }
   },
   "outputs": [],
   "source": [
    "# Normalize input data\n",
    "X_train = X_train.astype('float32')/255\n",
    "X_test = X_test.astype('float32')/255\n",
    "\n",
    "# Encode target variable\n",
    "y_train = tf.keras.utils.to_categorical(y_train, NUM_CLASSES)\n",
    "y_test_ohe = tf.keras.utils.to_categorical(y_test, NUM_CLASSES)"
   ]
  },
  {
   "cell_type": "markdown",
   "id": "42d744b1",
   "metadata": {},
   "source": [
    "# <span style='font-family:Georgia'> Deep Learning pretrained models fitting with early stopping"
   ]
  },
  {
   "cell_type": "code",
   "execution_count": 5,
   "id": "92897d7f",
   "metadata": {
    "ExecuteTime": {
     "end_time": "2022-04-09T09:00:28.969048Z",
     "start_time": "2022-04-09T09:00:28.954422Z"
    }
   },
   "outputs": [],
   "source": [
    "early_stopping = EarlyStopping()"
   ]
  },
  {
   "cell_type": "markdown",
   "id": "ebefd28d",
   "metadata": {},
   "source": [
    "## <span style='font-family:Georgia'> Residual Network (ResNet)"
   ]
  },
  {
   "cell_type": "code",
   "execution_count": 6,
   "id": "53e7215c",
   "metadata": {
    "ExecuteTime": {
     "end_time": "2022-04-09T09:00:28.986055Z",
     "start_time": "2022-04-09T09:00:28.973774Z"
    }
   },
   "outputs": [],
   "source": [
    "LR=1e-3\n",
    "EPOCHS=10\n",
    "INPUT_SHAPE = X_train.shape[1:]"
   ]
  },
  {
   "cell_type": "code",
   "execution_count": 7,
   "id": "ac651d83",
   "metadata": {
    "ExecuteTime": {
     "end_time": "2022-04-09T09:00:29.032614Z",
     "start_time": "2022-04-09T09:00:28.991333Z"
    }
   },
   "outputs": [],
   "source": [
    "input_tensor=tf.keras.Input(shape=INPUT_SHAPE)"
   ]
  },
  {
   "cell_type": "code",
   "execution_count": 8,
   "id": "30f4b266",
   "metadata": {
    "ExecuteTime": {
     "end_time": "2022-04-09T09:00:33.903319Z",
     "start_time": "2022-04-09T09:00:29.039139Z"
    }
   },
   "outputs": [],
   "source": [
    "res_base = tf.keras.applications.resnet50.ResNet50(weights='imagenet', include_top=False, input_tensor=input_tensor)\n",
    "    \n",
    "resNet = Sequential()\n",
    "resNet.add(res_base)\n",
    "resNet.add(tf.keras.layers.Flatten())\n",
    "resNet.add(tf.keras.layers.Dense(NUM_CLASSES, activation='softmax'))"
   ]
  },
  {
   "cell_type": "code",
   "execution_count": 9,
   "id": "d1a21ecf",
   "metadata": {
    "ExecuteTime": {
     "end_time": "2022-04-09T09:00:33.943813Z",
     "start_time": "2022-04-09T09:00:33.907111Z"
    }
   },
   "outputs": [],
   "source": [
    "resNet.compile(loss='categorical_crossentropy',\n",
    "               optimizer=tf.keras.optimizers.RMSprop(learning_rate=LR),\n",
    "               metrics=['accuracy'])"
   ]
  },
  {
   "cell_type": "code",
   "execution_count": 10,
   "id": "65bbb239",
   "metadata": {
    "ExecuteTime": {
     "end_time": "2022-04-09T09:00:34.028636Z",
     "start_time": "2022-04-09T09:00:33.947802Z"
    },
    "scrolled": true
   },
   "outputs": [
    {
     "name": "stdout",
     "output_type": "stream",
     "text": [
      "Model: \"sequential\"\n",
      "_________________________________________________________________\n",
      " Layer (type)                Output Shape              Param #   \n",
      "=================================================================\n",
      " resnet50 (Functional)       (None, 1, 1, 2048)        23587712  \n",
      "                                                                 \n",
      " flatten (Flatten)           (None, 2048)              0         \n",
      "                                                                 \n",
      " dense (Dense)               (None, 10)                20490     \n",
      "                                                                 \n",
      "=================================================================\n",
      "Total params: 23,608,202\n",
      "Trainable params: 23,555,082\n",
      "Non-trainable params: 53,120\n",
      "_________________________________________________________________\n"
     ]
    }
   ],
   "source": [
    "resNet.summary()"
   ]
  },
  {
   "cell_type": "code",
   "execution_count": 11,
   "id": "7dc5b755",
   "metadata": {
    "ExecuteTime": {
     "end_time": "2022-04-09T10:16:14.689227Z",
     "start_time": "2022-04-09T09:00:34.028636Z"
    },
    "scrolled": false
   },
   "outputs": [
    {
     "name": "stdout",
     "output_type": "stream",
     "text": [
      "Epoch 1/10\n",
      "1563/1563 [==============================] - 2701s 2s/step - loss: 2.3281 - accuracy: 0.4085 - val_loss: 2.2163 - val_accuracy: 0.3313\n",
      "Epoch 2/10\n",
      "1563/1563 [==============================] - 1839s 1s/step - loss: 1.7368 - accuracy: 0.5525 - val_loss: 1.9985 - val_accuracy: 0.3717\n"
     ]
    },
    {
     "data": {
      "text/plain": [
       "<keras.callbacks.History at 0x1f2b7661be0>"
      ]
     },
     "execution_count": 11,
     "metadata": {},
     "output_type": "execute_result"
    }
   ],
   "source": [
    "resNet.fit(X_train,\n",
    "           y_train,\n",
    "           batch_size=BATCH_SIZE,\n",
    "           epochs=EPOCHS,\n",
    "           shuffle=True,\n",
    "           verbose=1,\n",
    "           validation_data=(X_test, y_test_ohe),\n",
    "           callbacks=[early_stopping]\n",
    "          )"
   ]
  },
  {
   "cell_type": "markdown",
   "id": "2430ebef",
   "metadata": {},
   "source": [
    "## <span style='font-family:Georgia'> VGG16"
   ]
  },
  {
   "cell_type": "code",
   "execution_count": 12,
   "id": "caa4e57f",
   "metadata": {
    "ExecuteTime": {
     "end_time": "2022-04-07T07:04:47.149709Z",
     "start_time": "2022-04-07T07:04:47.135858Z"
    }
   },
   "outputs": [],
   "source": [
    "EPOCHS=10\n",
    "BATCH_SIZE = 32\n",
    "LR=1e-3\n",
    "MOMENTUM=0.9\n",
    "INPUT_SHAPE = X_train.shape[1:]"
   ]
  },
  {
   "cell_type": "code",
   "execution_count": 13,
   "id": "1e574e2a",
   "metadata": {
    "ExecuteTime": {
     "end_time": "2022-04-07T07:04:47.638963Z",
     "start_time": "2022-04-07T07:04:47.151704Z"
    }
   },
   "outputs": [
    {
     "name": "stdout",
     "output_type": "stream",
     "text": [
      "Model: \"sequential_1\"\n",
      "_________________________________________________________________\n",
      " Layer (type)                Output Shape              Param #   \n",
      "=================================================================\n",
      " vgg16 (Functional)          (None, 1, 1, 512)         14714688  \n",
      "                                                                 \n",
      " flatten_1 (Flatten)         (None, 512)               0         \n",
      "                                                                 \n",
      " dense_1 (Dense)             (None, 10)                5130      \n",
      "                                                                 \n",
      "=================================================================\n",
      "Total params: 14,719,818\n",
      "Trainable params: 14,719,818\n",
      "Non-trainable params: 0\n",
      "_________________________________________________________________\n"
     ]
    }
   ],
   "source": [
    "vgg_base = tf.keras.applications.vgg16.VGG16(include_top=False,weights='imagenet',input_shape=INPUT_SHAPE)\n",
    "\n",
    "vgg = Sequential()\n",
    "vgg.add(vgg_base)\n",
    "vgg.add(Flatten()) \n",
    "vgg.add(Dense(NUM_CLASSES, activation=('softmax')))\n",
    "vgg.summary()"
   ]
  },
  {
   "cell_type": "code",
   "execution_count": 14,
   "id": "4276049a",
   "metadata": {
    "ExecuteTime": {
     "end_time": "2022-04-07T07:04:47.660020Z",
     "start_time": "2022-04-07T07:04:47.640958Z"
    }
   },
   "outputs": [],
   "source": [
    "vgg.compile(loss='binary_crossentropy',\n",
    "            optimizer=tf.keras.optimizers.SGD(learning_rate=LR, momentum=MOMENTUM),\n",
    "            metrics=['accuracy'])"
   ]
  },
  {
   "cell_type": "code",
   "execution_count": 15,
   "id": "8395fe05",
   "metadata": {
    "ExecuteTime": {
     "end_time": "2022-04-07T07:54:54.250775Z",
     "start_time": "2022-04-07T07:04:47.661078Z"
    }
   },
   "outputs": [
    {
     "name": "stdout",
     "output_type": "stream",
     "text": [
      "Epoch 1/10\n",
      "1562/1562 [==============================] - 1513s 968ms/step - loss: 0.1810 - accuracy: 0.6177 - val_loss: 0.1450 - val_accuracy: 0.6959\n",
      "Epoch 2/10\n",
      "1562/1562 [==============================] - 1493s 956ms/step - loss: 0.1211 - accuracy: 0.7545 - val_loss: 0.1138 - val_accuracy: 0.7726\n"
     ]
    }
   ],
   "source": [
    "vgg_history = (\n",
    "    vgg.fit(X_train,\n",
    "            y_train, \n",
    "            batch_size=BATCH_SIZE,\n",
    "            epochs=EPOCHS,\n",
    "            steps_per_epoch=X_train.shape[0]//BATCH_SIZE,\n",
    "            validation_data=(X_test, y_test_ohe),\n",
    "            validation_steps=X_test.shape[0]//BATCH_SIZE,\n",
    "            verbose=1,\n",
    "            callbacks=[early_stopping]\n",
    "           )\n",
    ")"
   ]
  },
  {
   "cell_type": "markdown",
   "id": "ef3da1b9",
   "metadata": {
    "ExecuteTime": {
     "end_time": "2022-03-19T18:22:56.487259Z",
     "start_time": "2022-03-19T18:22:56.483638Z"
    }
   },
   "source": [
    "# <span style='font-family:Georgia'> Models Evaluation"
   ]
  },
  {
   "cell_type": "markdown",
   "id": "63e82544",
   "metadata": {},
   "source": [
    "## <span style='font-family:Georgia'> Residual Network (ResNet)"
   ]
  },
  {
   "cell_type": "code",
   "execution_count": 16,
   "id": "7a3a8ac3",
   "metadata": {
    "ExecuteTime": {
     "end_time": "2022-04-09T10:16:39.641166Z",
     "start_time": "2022-04-09T10:16:14.758996Z"
    }
   },
   "outputs": [
    {
     "name": "stdout",
     "output_type": "stream",
     "text": [
      "313/313 [==============================] - 25s 79ms/step - loss: 1.9985 - accuracy: 0.3717\n"
     ]
    },
    {
     "data": {
      "text/plain": [
       "[1.9985486268997192, 0.3716999888420105]"
      ]
     },
     "execution_count": 16,
     "metadata": {},
     "output_type": "execute_result"
    }
   ],
   "source": [
    "resNet.evaluate(X_test, y_test_ohe)"
   ]
  },
  {
   "cell_type": "code",
   "execution_count": 17,
   "id": "01c05763",
   "metadata": {
    "ExecuteTime": {
     "end_time": "2022-04-09T10:17:03.834599Z",
     "start_time": "2022-04-09T10:16:39.643420Z"
    }
   },
   "outputs": [],
   "source": [
    "y_pred_resnet = resNet.predict(X_test)"
   ]
  },
  {
   "cell_type": "code",
   "execution_count": 18,
   "id": "2add4dfd",
   "metadata": {
    "ExecuteTime": {
     "end_time": "2022-04-09T10:17:03.850445Z",
     "start_time": "2022-04-09T10:17:03.834599Z"
    }
   },
   "outputs": [],
   "source": [
    "y_pred_resnet_classes = np.argmax(y_pred_resnet, axis=-1)"
   ]
  },
  {
   "cell_type": "code",
   "execution_count": 19,
   "id": "06106254",
   "metadata": {
    "ExecuteTime": {
     "end_time": "2022-04-09T10:17:03.947366Z",
     "start_time": "2022-04-09T10:17:03.850445Z"
    }
   },
   "outputs": [
    {
     "data": {
      "text/html": [
       "<div>\n",
       "<style scoped>\n",
       "    .dataframe tbody tr th:only-of-type {\n",
       "        vertical-align: middle;\n",
       "    }\n",
       "\n",
       "    .dataframe tbody tr th {\n",
       "        vertical-align: top;\n",
       "    }\n",
       "\n",
       "    .dataframe thead th {\n",
       "        text-align: right;\n",
       "    }\n",
       "</style>\n",
       "<table border=\"1\" class=\"dataframe\">\n",
       "  <thead>\n",
       "    <tr style=\"text-align: right;\">\n",
       "      <th></th>\n",
       "      <th>0</th>\n",
       "      <th>1</th>\n",
       "      <th>2</th>\n",
       "      <th>3</th>\n",
       "      <th>4</th>\n",
       "      <th>5</th>\n",
       "      <th>6</th>\n",
       "      <th>7</th>\n",
       "      <th>8</th>\n",
       "      <th>9</th>\n",
       "    </tr>\n",
       "  </thead>\n",
       "  <tbody>\n",
       "    <tr>\n",
       "      <th>0</th>\n",
       "      <td>830</td>\n",
       "      <td>12</td>\n",
       "      <td>7</td>\n",
       "      <td>14</td>\n",
       "      <td>3</td>\n",
       "      <td>2</td>\n",
       "      <td>0</td>\n",
       "      <td>8</td>\n",
       "      <td>28</td>\n",
       "      <td>96</td>\n",
       "    </tr>\n",
       "    <tr>\n",
       "      <th>1</th>\n",
       "      <td>57</td>\n",
       "      <td>335</td>\n",
       "      <td>1</td>\n",
       "      <td>6</td>\n",
       "      <td>0</td>\n",
       "      <td>1</td>\n",
       "      <td>1</td>\n",
       "      <td>5</td>\n",
       "      <td>7</td>\n",
       "      <td>587</td>\n",
       "    </tr>\n",
       "    <tr>\n",
       "      <th>2</th>\n",
       "      <td>465</td>\n",
       "      <td>24</td>\n",
       "      <td>199</td>\n",
       "      <td>76</td>\n",
       "      <td>42</td>\n",
       "      <td>28</td>\n",
       "      <td>36</td>\n",
       "      <td>46</td>\n",
       "      <td>39</td>\n",
       "      <td>45</td>\n",
       "    </tr>\n",
       "    <tr>\n",
       "      <th>3</th>\n",
       "      <td>270</td>\n",
       "      <td>45</td>\n",
       "      <td>49</td>\n",
       "      <td>244</td>\n",
       "      <td>36</td>\n",
       "      <td>47</td>\n",
       "      <td>9</td>\n",
       "      <td>98</td>\n",
       "      <td>79</td>\n",
       "      <td>123</td>\n",
       "    </tr>\n",
       "    <tr>\n",
       "      <th>4</th>\n",
       "      <td>432</td>\n",
       "      <td>14</td>\n",
       "      <td>83</td>\n",
       "      <td>65</td>\n",
       "      <td>167</td>\n",
       "      <td>5</td>\n",
       "      <td>43</td>\n",
       "      <td>124</td>\n",
       "      <td>19</td>\n",
       "      <td>48</td>\n",
       "    </tr>\n",
       "    <tr>\n",
       "      <th>5</th>\n",
       "      <td>254</td>\n",
       "      <td>31</td>\n",
       "      <td>161</td>\n",
       "      <td>184</td>\n",
       "      <td>15</td>\n",
       "      <td>130</td>\n",
       "      <td>0</td>\n",
       "      <td>115</td>\n",
       "      <td>38</td>\n",
       "      <td>72</td>\n",
       "    </tr>\n",
       "    <tr>\n",
       "      <th>6</th>\n",
       "      <td>115</td>\n",
       "      <td>48</td>\n",
       "      <td>36</td>\n",
       "      <td>171</td>\n",
       "      <td>66</td>\n",
       "      <td>19</td>\n",
       "      <td>234</td>\n",
       "      <td>94</td>\n",
       "      <td>31</td>\n",
       "      <td>186</td>\n",
       "    </tr>\n",
       "    <tr>\n",
       "      <th>7</th>\n",
       "      <td>469</td>\n",
       "      <td>23</td>\n",
       "      <td>36</td>\n",
       "      <td>34</td>\n",
       "      <td>15</td>\n",
       "      <td>17</td>\n",
       "      <td>0</td>\n",
       "      <td>290</td>\n",
       "      <td>4</td>\n",
       "      <td>112</td>\n",
       "    </tr>\n",
       "    <tr>\n",
       "      <th>8</th>\n",
       "      <td>318</td>\n",
       "      <td>61</td>\n",
       "      <td>0</td>\n",
       "      <td>2</td>\n",
       "      <td>2</td>\n",
       "      <td>0</td>\n",
       "      <td>0</td>\n",
       "      <td>5</td>\n",
       "      <td>426</td>\n",
       "      <td>186</td>\n",
       "    </tr>\n",
       "    <tr>\n",
       "      <th>9</th>\n",
       "      <td>87</td>\n",
       "      <td>20</td>\n",
       "      <td>1</td>\n",
       "      <td>2</td>\n",
       "      <td>4</td>\n",
       "      <td>0</td>\n",
       "      <td>0</td>\n",
       "      <td>8</td>\n",
       "      <td>16</td>\n",
       "      <td>862</td>\n",
       "    </tr>\n",
       "  </tbody>\n",
       "</table>\n",
       "</div>"
      ],
      "text/plain": [
       "     0    1    2    3    4    5    6    7    8    9\n",
       "0  830   12    7   14    3    2    0    8   28   96\n",
       "1   57  335    1    6    0    1    1    5    7  587\n",
       "2  465   24  199   76   42   28   36   46   39   45\n",
       "3  270   45   49  244   36   47    9   98   79  123\n",
       "4  432   14   83   65  167    5   43  124   19   48\n",
       "5  254   31  161  184   15  130    0  115   38   72\n",
       "6  115   48   36  171   66   19  234   94   31  186\n",
       "7  469   23   36   34   15   17    0  290    4  112\n",
       "8  318   61    0    2    2    0    0    5  426  186\n",
       "9   87   20    1    2    4    0    0    8   16  862"
      ]
     },
     "execution_count": 19,
     "metadata": {},
     "output_type": "execute_result"
    }
   ],
   "source": [
    "conf_matr_resnet = pd.DataFrame(confusion_matrix(y_test, y_pred_resnet_classes))\n",
    "conf_matr_resnet.to_csv(\"../results/pretrained/conf_matr_resnet_early_stop.csv\")\n",
    "conf_matr_resnet"
   ]
  },
  {
   "cell_type": "code",
   "execution_count": 20,
   "id": "0ae80aa5",
   "metadata": {
    "ExecuteTime": {
     "end_time": "2022-04-09T10:17:03.986241Z",
     "start_time": "2022-04-09T10:17:03.947366Z"
    }
   },
   "outputs": [
    {
     "name": "stdout",
     "output_type": "stream",
     "text": [
      "              precision    recall  f1-score   support\n",
      "\n",
      "           0       0.25      0.83      0.39      1000\n",
      "           1       0.55      0.34      0.42      1000\n",
      "           2       0.35      0.20      0.25      1000\n",
      "           3       0.31      0.24      0.27      1000\n",
      "           4       0.48      0.17      0.25      1000\n",
      "           5       0.52      0.13      0.21      1000\n",
      "           6       0.72      0.23      0.35      1000\n",
      "           7       0.37      0.29      0.32      1000\n",
      "           8       0.62      0.43      0.51      1000\n",
      "           9       0.37      0.86      0.52      1000\n",
      "\n",
      "    accuracy                           0.37     10000\n",
      "   macro avg       0.45      0.37      0.35     10000\n",
      "weighted avg       0.45      0.37      0.35     10000\n",
      "\n"
     ]
    }
   ],
   "source": [
    "print(classification_report(y_test, y_pred_resnet_classes))"
   ]
  },
  {
   "cell_type": "markdown",
   "id": "c50f43d2",
   "metadata": {},
   "source": [
    "## <span style='font-family:Georgia'> VGG16"
   ]
  },
  {
   "cell_type": "code",
   "execution_count": 21,
   "id": "5e3895da",
   "metadata": {
    "ExecuteTime": {
     "end_time": "2022-04-07T07:56:17.384350Z",
     "start_time": "2022-04-07T07:55:36.299168Z"
    },
    "scrolled": true
   },
   "outputs": [
    {
     "name": "stdout",
     "output_type": "stream",
     "text": [
      "313/313 [==============================] - 41s 131ms/step - loss: 0.1138 - accuracy: 0.7726\n"
     ]
    },
    {
     "data": {
      "text/plain": [
       "[0.11381202191114426, 0.772599995136261]"
      ]
     },
     "execution_count": 21,
     "metadata": {},
     "output_type": "execute_result"
    }
   ],
   "source": [
    "vgg.evaluate(X_test, y_test_ohe)"
   ]
  },
  {
   "cell_type": "code",
   "execution_count": 22,
   "id": "8a9c295c",
   "metadata": {
    "ExecuteTime": {
     "end_time": "2022-04-07T07:56:55.158380Z",
     "start_time": "2022-04-07T07:56:17.386282Z"
    }
   },
   "outputs": [],
   "source": [
    "y_pred_vgg16 = vgg.predict(X_test)"
   ]
  },
  {
   "cell_type": "code",
   "execution_count": 23,
   "id": "5fa8ff0c",
   "metadata": {
    "ExecuteTime": {
     "end_time": "2022-04-07T07:56:55.173752Z",
     "start_time": "2022-04-07T07:56:55.158380Z"
    }
   },
   "outputs": [],
   "source": [
    "y_pred_vgg16_classes = np.argmax(y_pred_vgg16, axis=-1)"
   ]
  },
  {
   "cell_type": "code",
   "execution_count": 24,
   "id": "489c3a73",
   "metadata": {
    "ExecuteTime": {
     "end_time": "2022-04-07T07:56:55.220549Z",
     "start_time": "2022-04-07T07:56:55.179370Z"
    }
   },
   "outputs": [
    {
     "data": {
      "text/html": [
       "<div>\n",
       "<style scoped>\n",
       "    .dataframe tbody tr th:only-of-type {\n",
       "        vertical-align: middle;\n",
       "    }\n",
       "\n",
       "    .dataframe tbody tr th {\n",
       "        vertical-align: top;\n",
       "    }\n",
       "\n",
       "    .dataframe thead th {\n",
       "        text-align: right;\n",
       "    }\n",
       "</style>\n",
       "<table border=\"1\" class=\"dataframe\">\n",
       "  <thead>\n",
       "    <tr style=\"text-align: right;\">\n",
       "      <th></th>\n",
       "      <th>0</th>\n",
       "      <th>1</th>\n",
       "      <th>2</th>\n",
       "      <th>3</th>\n",
       "      <th>4</th>\n",
       "      <th>5</th>\n",
       "      <th>6</th>\n",
       "      <th>7</th>\n",
       "      <th>8</th>\n",
       "      <th>9</th>\n",
       "    </tr>\n",
       "  </thead>\n",
       "  <tbody>\n",
       "    <tr>\n",
       "      <th>0</th>\n",
       "      <td>793</td>\n",
       "      <td>20</td>\n",
       "      <td>27</td>\n",
       "      <td>10</td>\n",
       "      <td>8</td>\n",
       "      <td>1</td>\n",
       "      <td>5</td>\n",
       "      <td>12</td>\n",
       "      <td>67</td>\n",
       "      <td>57</td>\n",
       "    </tr>\n",
       "    <tr>\n",
       "      <th>1</th>\n",
       "      <td>7</td>\n",
       "      <td>886</td>\n",
       "      <td>0</td>\n",
       "      <td>5</td>\n",
       "      <td>1</td>\n",
       "      <td>2</td>\n",
       "      <td>5</td>\n",
       "      <td>2</td>\n",
       "      <td>11</td>\n",
       "      <td>81</td>\n",
       "    </tr>\n",
       "    <tr>\n",
       "      <th>2</th>\n",
       "      <td>56</td>\n",
       "      <td>5</td>\n",
       "      <td>667</td>\n",
       "      <td>45</td>\n",
       "      <td>64</td>\n",
       "      <td>43</td>\n",
       "      <td>79</td>\n",
       "      <td>24</td>\n",
       "      <td>7</td>\n",
       "      <td>10</td>\n",
       "    </tr>\n",
       "    <tr>\n",
       "      <th>3</th>\n",
       "      <td>18</td>\n",
       "      <td>19</td>\n",
       "      <td>44</td>\n",
       "      <td>588</td>\n",
       "      <td>30</td>\n",
       "      <td>144</td>\n",
       "      <td>64</td>\n",
       "      <td>41</td>\n",
       "      <td>17</td>\n",
       "      <td>35</td>\n",
       "    </tr>\n",
       "    <tr>\n",
       "      <th>4</th>\n",
       "      <td>21</td>\n",
       "      <td>6</td>\n",
       "      <td>76</td>\n",
       "      <td>66</td>\n",
       "      <td>633</td>\n",
       "      <td>20</td>\n",
       "      <td>78</td>\n",
       "      <td>74</td>\n",
       "      <td>16</td>\n",
       "      <td>10</td>\n",
       "    </tr>\n",
       "    <tr>\n",
       "      <th>5</th>\n",
       "      <td>10</td>\n",
       "      <td>6</td>\n",
       "      <td>34</td>\n",
       "      <td>147</td>\n",
       "      <td>25</td>\n",
       "      <td>679</td>\n",
       "      <td>31</td>\n",
       "      <td>52</td>\n",
       "      <td>0</td>\n",
       "      <td>16</td>\n",
       "    </tr>\n",
       "    <tr>\n",
       "      <th>6</th>\n",
       "      <td>6</td>\n",
       "      <td>10</td>\n",
       "      <td>23</td>\n",
       "      <td>47</td>\n",
       "      <td>15</td>\n",
       "      <td>13</td>\n",
       "      <td>860</td>\n",
       "      <td>6</td>\n",
       "      <td>8</td>\n",
       "      <td>12</td>\n",
       "    </tr>\n",
       "    <tr>\n",
       "      <th>7</th>\n",
       "      <td>14</td>\n",
       "      <td>6</td>\n",
       "      <td>16</td>\n",
       "      <td>38</td>\n",
       "      <td>28</td>\n",
       "      <td>37</td>\n",
       "      <td>6</td>\n",
       "      <td>821</td>\n",
       "      <td>4</td>\n",
       "      <td>30</td>\n",
       "    </tr>\n",
       "    <tr>\n",
       "      <th>8</th>\n",
       "      <td>29</td>\n",
       "      <td>20</td>\n",
       "      <td>5</td>\n",
       "      <td>13</td>\n",
       "      <td>4</td>\n",
       "      <td>0</td>\n",
       "      <td>2</td>\n",
       "      <td>3</td>\n",
       "      <td>889</td>\n",
       "      <td>35</td>\n",
       "    </tr>\n",
       "    <tr>\n",
       "      <th>9</th>\n",
       "      <td>9</td>\n",
       "      <td>46</td>\n",
       "      <td>4</td>\n",
       "      <td>6</td>\n",
       "      <td>0</td>\n",
       "      <td>2</td>\n",
       "      <td>3</td>\n",
       "      <td>3</td>\n",
       "      <td>17</td>\n",
       "      <td>910</td>\n",
       "    </tr>\n",
       "  </tbody>\n",
       "</table>\n",
       "</div>"
      ],
      "text/plain": [
       "     0    1    2    3    4    5    6    7    8    9\n",
       "0  793   20   27   10    8    1    5   12   67   57\n",
       "1    7  886    0    5    1    2    5    2   11   81\n",
       "2   56    5  667   45   64   43   79   24    7   10\n",
       "3   18   19   44  588   30  144   64   41   17   35\n",
       "4   21    6   76   66  633   20   78   74   16   10\n",
       "5   10    6   34  147   25  679   31   52    0   16\n",
       "6    6   10   23   47   15   13  860    6    8   12\n",
       "7   14    6   16   38   28   37    6  821    4   30\n",
       "8   29   20    5   13    4    0    2    3  889   35\n",
       "9    9   46    4    6    0    2    3    3   17  910"
      ]
     },
     "execution_count": 24,
     "metadata": {},
     "output_type": "execute_result"
    }
   ],
   "source": [
    "conf_matr_vgg = pd.DataFrame(confusion_matrix(y_test, y_pred_vgg16_classes))\n",
    "conf_matr_vgg.to_csv(\"../results/pretrained/conf_matr_vgg_early_stop.csv\")\n",
    "conf_matr_vgg"
   ]
  },
  {
   "cell_type": "code",
   "execution_count": 25,
   "id": "39f4a610",
   "metadata": {
    "ExecuteTime": {
     "end_time": "2022-04-07T07:56:55.274807Z",
     "start_time": "2022-04-07T07:56:55.222180Z"
    }
   },
   "outputs": [
    {
     "name": "stdout",
     "output_type": "stream",
     "text": [
      "              precision    recall  f1-score   support\n",
      "\n",
      "           0       0.82      0.79      0.81      1000\n",
      "           1       0.87      0.89      0.88      1000\n",
      "           2       0.74      0.67      0.70      1000\n",
      "           3       0.61      0.59      0.60      1000\n",
      "           4       0.78      0.63      0.70      1000\n",
      "           5       0.72      0.68      0.70      1000\n",
      "           6       0.76      0.86      0.81      1000\n",
      "           7       0.79      0.82      0.81      1000\n",
      "           8       0.86      0.89      0.87      1000\n",
      "           9       0.76      0.91      0.83      1000\n",
      "\n",
      "    accuracy                           0.77     10000\n",
      "   macro avg       0.77      0.77      0.77     10000\n",
      "weighted avg       0.77      0.77      0.77     10000\n",
      "\n"
     ]
    }
   ],
   "source": [
    "print(classification_report(y_test, y_pred_vgg16_classes))"
   ]
  },
  {
   "cell_type": "markdown",
   "id": "ecbf95ad",
   "metadata": {},
   "source": [
    "## <span style='font-family:Georgia'> Confusion matrices comparison"
   ]
  },
  {
   "cell_type": "code",
   "execution_count": 22,
   "id": "f5e007ea",
   "metadata": {
    "ExecuteTime": {
     "end_time": "2022-04-09T10:24:43.736508Z",
     "start_time": "2022-04-09T10:24:42.594372Z"
    }
   },
   "outputs": [
    {
     "data": {
      "image/png": "[encoded data removed]",
      "text/plain": [
       "<Figure size 1296x576 with 4 Axes>"
      ]
     },
     "metadata": {},
     "output_type": "display_data"
    }
   ],
   "source": [
    "fig, axes = plt.subplots(1,2,figsize=(18,8))\n",
    "models = ['ResNet', 'VGG16',]\n",
    "models_results = [conf_matr_resnet, conf_matr_vgg]\n",
    "title = \"Pretrained models with Early Stopping callback\"\n",
    "for i in range(2):\n",
    "    sns.heatmap(models_results[i], annot=True, cmap=\"Blues\", ax=axes[i], fmt='d', annot_kws={\"size\": 12})\n",
    "    axes[i].set_title(models[i], size=15)\n",
    "    axes[i].set_xticklabels(axes[i].get_xmajorticklabels(), fontsize = 12)\n",
    "    axes[i].set_yticklabels(axes[i].get_xmajorticklabels(), fontsize = 12)\n",
    "    cax = plt.gcf().axes[-1]\n",
    "    cax.tick_params(labelsize=12)\n",
    "\n",
    "fig.suptitle(title, size=18)\n",
    "plt.tight_layout()\n",
    "plt.show()"
   ]
  }
 ],
 "metadata": {
  "kernelspec": {
   "display_name": "Python 3 (ipykernel)",
   "language": "python",
   "name": "python3"
  },
  "language_info": {
   "codemirror_mode": {
    "name": "ipython",
    "version": 3
   },
   "file_extension": ".py",
   "mimetype": "text/x-python",
   "name": "python",
   "nbconvert_exporter": "python",
   "pygments_lexer": "ipython3",
   "version": "3.9.7"
  }
 },
 "nbformat": 4,
 "nbformat_minor": 5
}
