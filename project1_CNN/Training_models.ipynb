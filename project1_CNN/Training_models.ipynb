{
 "cells": [
  {
   "cell_type": "code",
   "execution_count": 1,
   "metadata": {},
   "outputs": [],
   "source": [
    "import pandas as pd\n",
    "import keras\n",
    "import numpy as np\n",
    "import seaborn as sns\n",
    "import matplotlib.pyplot as plt\n",
    "import pickle\n",
    "import random \n",
    "random.seed(123)\n",
    "\n",
    "from tensorflow.keras.callbacks import EarlyStopping\n",
    "\n",
    "import warnings\n",
    "warnings.filterwarnings(action='ignore')\n",
    "\n",
    "from models import custom_model1, custom_model2, efficientnet_model\n",
    "import tensorflow as tf\n",
    "from sklearn.model_selection import train_test_split"
   ]
  },
  {
   "cell_type": "code",
   "execution_count": 2,
   "metadata": {},
   "outputs": [],
   "source": [
    "with open('CINIC-10/X_train.pickle', 'rb') as f:\n",
    "    X = pickle.load(f)\n",
    "\n",
    "with open('CINIC-10/y_train.pickle', 'rb') as f:\n",
    "    y = pickle.load(f)"
   ]
  },
  {
   "cell_type": "code",
   "execution_count": 3,
   "metadata": {},
   "outputs": [],
   "source": [
    "X_train, X_val, y_train, y_val = train_test_split(X, y, test_size=0.2, shuffle=True, random_state=42)"
   ]
  },
  {
   "cell_type": "code",
   "execution_count": 4,
   "metadata": {},
   "outputs": [
    {
     "data": {
      "text/plain": [
       "144000"
      ]
     },
     "execution_count": 4,
     "metadata": {},
     "output_type": "execute_result"
    }
   ],
   "source": [
    "len(X_train)"
   ]
  },
  {
   "cell_type": "code",
   "execution_count": 4,
   "metadata": {},
   "outputs": [],
   "source": [
    "shape = X_train.shape[1:]\n",
    "number_classes=10\n",
    "patience=10\n",
    "min_delta=0.05\n",
    "\n",
    "early_stop = EarlyStopping(monitor='val_accuracy', patience=patience, min_delta=min_delta)\n",
    "\n",
    "model1=custom_model1(shape=shape, number_classes=number_classes)\n",
    "model2=custom_model2(shape=shape, number_classes=number_classes)\n",
    "efficentnet = efficientnet_model(shape=shape, number_classes=number_classes)"
   ]
  },
  {
   "cell_type": "markdown",
   "metadata": {},
   "source": [
    "### Training testing"
   ]
  },
  {
   "cell_type": "code",
   "execution_count": 14,
   "metadata": {},
   "outputs": [],
   "source": [
    "with open('history.pickle', 'wb') as file:\n",
    "    pickle.dump(history_val.history, file)"
   ]
  },
  {
   "cell_type": "code",
   "execution_count": 9,
   "metadata": {},
   "outputs": [],
   "source": [
    "with open('custom1_3.pickle', 'rb') as file:\n",
    "    loaded_history = pickle.load(file)"
   ]
  },
  {
   "cell_type": "code",
   "execution_count": 9,
   "metadata": {},
   "outputs": [
    {
     "name": "stdout",
     "output_type": "stream",
     "text": [
      "Epoch 1/30\n",
      "4500/4500 [==============================] - 1088s 239ms/step - loss: 1.6867 - accuracy: 0.4025 - val_loss: 1.4470 - val_accuracy: 0.4954\n",
      "Epoch 2/30\n",
      "4500/4500 [==============================] - 1084s 241ms/step - loss: 1.4465 - accuracy: 0.5163 - val_loss: 1.4789 - val_accuracy: 0.4854\n",
      "Epoch 3/30\n",
      "4500/4500 [==============================] - 991s 220ms/step - loss: 1.3467 - accuracy: 0.5669 - val_loss: 1.2948 - val_accuracy: 0.5761\n",
      "Epoch 4/30\n",
      "4500/4500 [==============================] - 996s 221ms/step - loss: 1.2838 - accuracy: 0.5979 - val_loss: 1.2412 - val_accuracy: 0.6095\n",
      "Epoch 5/30\n",
      "4500/4500 [==============================] - 1089s 242ms/step - loss: 1.2429 - accuracy: 0.6185 - val_loss: 1.2347 - val_accuracy: 0.6162\n",
      "Epoch 6/30\n",
      "4500/4500 [==============================] - 1310s 291ms/step - loss: 1.2138 - accuracy: 0.6325 - val_loss: 1.3954 - val_accuracy: 0.5804\n",
      "Epoch 7/30\n",
      "4500/4500 [==============================] - 1353s 301ms/step - loss: 1.1862 - accuracy: 0.6430 - val_loss: 1.1563 - val_accuracy: 0.6514\n",
      "Epoch 8/30\n",
      "4500/4500 [==============================] - 1363s 303ms/step - loss: 1.1737 - accuracy: 0.6513 - val_loss: 1.3826 - val_accuracy: 0.5761\n",
      "Epoch 9/30\n",
      "4500/4500 [==============================] - 1135s 252ms/step - loss: 1.1609 - accuracy: 0.6548 - val_loss: 1.1018 - val_accuracy: 0.6692\n",
      "Epoch 10/30\n",
      "4500/4500 [==============================] - 1032s 229ms/step - loss: 1.1481 - accuracy: 0.6629 - val_loss: 1.0624 - val_accuracy: 0.6859\n",
      "Epoch 11/30\n",
      "4500/4500 [==============================] - 1000s 222ms/step - loss: 1.1393 - accuracy: 0.6676 - val_loss: 1.0374 - val_accuracy: 0.6958\n",
      "Epoch 12/30\n",
      "4500/4500 [==============================] - 1127s 251ms/step - loss: 1.1294 - accuracy: 0.6697 - val_loss: 1.0281 - val_accuracy: 0.7013\n",
      "Epoch 13/30\n",
      "4500/4500 [==============================] - 1334s 296ms/step - loss: 1.1276 - accuracy: 0.6720 - val_loss: 1.0440 - val_accuracy: 0.6974\n",
      "Epoch 14/30\n",
      "4500/4500 [==============================] - 1301s 289ms/step - loss: 1.1196 - accuracy: 0.6760 - val_loss: 1.0150 - val_accuracy: 0.7035\n",
      "Epoch 15/30\n",
      "4500/4500 [==============================] - 1168s 260ms/step - loss: 1.1170 - accuracy: 0.6771 - val_loss: 1.0403 - val_accuracy: 0.6976\n",
      "Epoch 16/30\n",
      "4500/4500 [==============================] - 1142s 254ms/step - loss: 1.1114 - accuracy: 0.6797 - val_loss: 1.0406 - val_accuracy: 0.6954\n",
      "Epoch 17/30\n",
      "4500/4500 [==============================] - 1238s 275ms/step - loss: 1.1086 - accuracy: 0.6820 - val_loss: 1.1490 - val_accuracy: 0.6640\n",
      "Epoch 18/30\n",
      "4500/4500 [==============================] - 1390s 309ms/step - loss: 1.1010 - accuracy: 0.6844 - val_loss: 1.0472 - val_accuracy: 0.7001\n",
      "Epoch 19/30\n",
      "4500/4500 [==============================] - 1290s 287ms/step - loss: 1.0988 - accuracy: 0.6859 - val_loss: 1.1230 - val_accuracy: 0.6740\n",
      "Epoch 20/30\n",
      "4500/4500 [==============================] - 1486s 330ms/step - loss: 1.0991 - accuracy: 0.6851 - val_loss: 1.0691 - val_accuracy: 0.6961\n",
      "Epoch 21/30\n",
      "4500/4500 [==============================] - 1251s 278ms/step - loss: 1.0943 - accuracy: 0.6883 - val_loss: 1.1501 - val_accuracy: 0.6754\n",
      "Epoch 22/30\n",
      "4500/4500 [==============================] - 1106s 246ms/step - loss: 1.0906 - accuracy: 0.6896 - val_loss: 1.0080 - val_accuracy: 0.7094\n",
      "Epoch 23/30\n",
      "4500/4500 [==============================] - 1082s 240ms/step - loss: 1.0827 - accuracy: 0.6934 - val_loss: 1.2704 - val_accuracy: 0.6367\n",
      "Epoch 24/30\n",
      "4500/4500 [==============================] - 1076s 239ms/step - loss: 1.0771 - accuracy: 0.6942 - val_loss: 1.0508 - val_accuracy: 0.6979\n",
      "Epoch 25/30\n",
      "4500/4500 [==============================] - 1166s 259ms/step - loss: 1.0742 - accuracy: 0.6954 - val_loss: 1.0040 - val_accuracy: 0.7098\n",
      "Epoch 26/30\n",
      "4500/4500 [==============================] - 1166s 259ms/step - loss: 1.0653 - accuracy: 0.6964 - val_loss: 1.0673 - val_accuracy: 0.6872\n",
      "Epoch 27/30\n",
      "4500/4500 [==============================] - 1038s 231ms/step - loss: 1.0681 - accuracy: 0.6969 - val_loss: 1.0463 - val_accuracy: 0.7003\n",
      "Epoch 28/30\n",
      "4500/4500 [==============================] - 1064s 237ms/step - loss: 1.0688 - accuracy: 0.6964 - val_loss: 0.9755 - val_accuracy: 0.7237\n",
      "Epoch 29/30\n",
      "4500/4500 [==============================] - 1073s 239ms/step - loss: 1.0649 - accuracy: 0.6982 - val_loss: 0.9768 - val_accuracy: 0.7216\n",
      "Epoch 30/30\n",
      "4500/4500 [==============================] - 1134s 252ms/step - loss: 1.0636 - accuracy: 0.6985 - val_loss: 1.0879 - val_accuracy: 0.6878\n"
     ]
    }
   ],
   "source": [
    "history_model_1_bs_32 = model1.fit(X_train, y_train, epochs=30, batch_size=32, validation_data=(X_val, y_val))"
   ]
  },
  {
   "cell_type": "code",
   "execution_count": 5,
   "metadata": {},
   "outputs": [
    {
     "name": "stdout",
     "output_type": "stream",
     "text": [
      "Epoch 1/30\n",
      "2250/2250 [==============================] - 845s 373ms/step - loss: 1.6677 - accuracy: 0.4094 - val_loss: 1.3762 - val_accuracy: 0.5288\n",
      "Epoch 2/30\n",
      "2250/2250 [==============================] - 871s 387ms/step - loss: 1.4116 - accuracy: 0.5244 - val_loss: 1.4737 - val_accuracy: 0.5147\n",
      "Epoch 3/30\n",
      "2250/2250 [==============================] - 904s 402ms/step - loss: 1.3120 - accuracy: 0.5712 - val_loss: 1.3377 - val_accuracy: 0.5577\n",
      "Epoch 4/30\n",
      "2250/2250 [==============================] - 878s 390ms/step - loss: 1.2412 - accuracy: 0.6041 - val_loss: 1.1318 - val_accuracy: 0.6393\n",
      "Epoch 5/30\n",
      "2250/2250 [==============================] - 952s 423ms/step - loss: 1.1889 - accuracy: 0.6281 - val_loss: 1.2028 - val_accuracy: 0.6313\n",
      "Epoch 6/30\n",
      "2250/2250 [==============================] - 941s 418ms/step - loss: 1.1564 - accuracy: 0.6432 - val_loss: 1.2684 - val_accuracy: 0.6059\n",
      "Epoch 7/30\n",
      "2250/2250 [==============================] - 940s 418ms/step - loss: 1.1271 - accuracy: 0.6570 - val_loss: 1.0699 - val_accuracy: 0.6721\n",
      "Epoch 8/30\n",
      "2250/2250 [==============================] - 930s 414ms/step - loss: 1.1070 - accuracy: 0.6663 - val_loss: 1.2233 - val_accuracy: 0.6209\n",
      "Epoch 9/30\n",
      "2250/2250 [==============================] - 883s 392ms/step - loss: 1.0907 - accuracy: 0.6730 - val_loss: 1.0587 - val_accuracy: 0.6767\n",
      "Epoch 10/30\n",
      "2250/2250 [==============================] - 874s 388ms/step - loss: 1.0770 - accuracy: 0.6805 - val_loss: 1.0637 - val_accuracy: 0.6767\n",
      "Epoch 11/30\n",
      "2250/2250 [==============================] - 881s 391ms/step - loss: 1.0657 - accuracy: 0.6850 - val_loss: 1.0712 - val_accuracy: 0.6754\n",
      "Epoch 12/30\n",
      "2250/2250 [==============================] - 877s 390ms/step - loss: 1.0550 - accuracy: 0.6905 - val_loss: 1.0717 - val_accuracy: 0.6829\n",
      "Epoch 13/30\n",
      "2250/2250 [==============================] - 945s 420ms/step - loss: 1.0472 - accuracy: 0.6931 - val_loss: 1.0247 - val_accuracy: 0.6953\n",
      "Epoch 14/30\n",
      "2250/2250 [==============================] - 964s 429ms/step - loss: 1.0386 - accuracy: 0.6971 - val_loss: 1.3387 - val_accuracy: 0.6096\n",
      "Epoch 15/30\n",
      "2250/2250 [==============================] - 965s 429ms/step - loss: 1.0349 - accuracy: 0.6996 - val_loss: 1.0692 - val_accuracy: 0.6805\n",
      "Epoch 16/30\n",
      "2250/2250 [==============================] - 970s 431ms/step - loss: 1.0261 - accuracy: 0.7033 - val_loss: 1.1633 - val_accuracy: 0.6507\n",
      "Epoch 17/30\n",
      "2250/2250 [==============================] - 966s 429ms/step - loss: 1.0212 - accuracy: 0.7054 - val_loss: 1.1247 - val_accuracy: 0.6633\n",
      "Epoch 18/30\n",
      "2250/2250 [==============================] - 971s 432ms/step - loss: 1.0177 - accuracy: 0.7075 - val_loss: 1.0120 - val_accuracy: 0.7019\n",
      "Epoch 19/30\n",
      "2250/2250 [==============================] - 957s 425ms/step - loss: 1.0138 - accuracy: 0.7086 - val_loss: 1.0470 - val_accuracy: 0.6939\n",
      "Epoch 20/30\n",
      "2250/2250 [==============================] - 887s 394ms/step - loss: 1.0073 - accuracy: 0.7108 - val_loss: 1.0242 - val_accuracy: 0.7048\n",
      "Epoch 21/30\n",
      "2250/2250 [==============================] - 871s 387ms/step - loss: 1.0045 - accuracy: 0.7126 - val_loss: 0.9658 - val_accuracy: 0.7197\n",
      "Epoch 22/30\n",
      "2250/2250 [==============================] - 871s 387ms/step - loss: 1.0023 - accuracy: 0.7140 - val_loss: 1.0494 - val_accuracy: 0.6943\n",
      "Epoch 23/30\n",
      "2250/2250 [==============================] - 867s 385ms/step - loss: 0.9971 - accuracy: 0.7156 - val_loss: 0.9510 - val_accuracy: 0.7241\n",
      "Epoch 24/30\n",
      "2250/2250 [==============================] - 940s 418ms/step - loss: 0.9947 - accuracy: 0.7173 - val_loss: 0.9510 - val_accuracy: 0.7315\n",
      "Epoch 25/30\n",
      "2250/2250 [==============================] - 968s 430ms/step - loss: 0.9930 - accuracy: 0.7187 - val_loss: 1.0693 - val_accuracy: 0.6941\n",
      "Epoch 26/30\n",
      "2250/2250 [==============================] - 966s 429ms/step - loss: 0.9875 - accuracy: 0.7214 - val_loss: 1.0149 - val_accuracy: 0.7046\n",
      "Epoch 27/30\n",
      "2250/2250 [==============================] - 918s 408ms/step - loss: 0.9855 - accuracy: 0.7212 - val_loss: 0.9651 - val_accuracy: 0.7210\n",
      "Epoch 28/30\n",
      "2250/2250 [==============================] - 876s 389ms/step - loss: 0.9843 - accuracy: 0.7219 - val_loss: 1.0068 - val_accuracy: 0.7059\n",
      "Epoch 29/30\n",
      "2250/2250 [==============================] - 865s 385ms/step - loss: 0.9805 - accuracy: 0.7239 - val_loss: 0.9723 - val_accuracy: 0.7220\n",
      "Epoch 30/30\n",
      "2250/2250 [==============================] - 870s 387ms/step - loss: 0.9772 - accuracy: 0.7250 - val_loss: 0.9629 - val_accuracy: 0.7221\n"
     ]
    }
   ],
   "source": [
    "history_model_1_bs_64 = model1.fit(X_train, y_train, epochs=30, batch_size=64, validation_data=(X_val, y_val))"
   ]
  },
  {
   "cell_type": "code",
   "execution_count": 14,
   "metadata": {},
   "outputs": [
    {
     "name": "stdout",
     "output_type": "stream",
     "text": [
      "Epoch 1/30\n",
      "1125/1125 [==============================] - 803s 704ms/step - loss: 1.6709 - accuracy: 0.4038 - val_loss: 1.5660 - val_accuracy: 0.4555\n",
      "Epoch 2/30\n",
      "1125/1125 [==============================] - 803s 714ms/step - loss: 1.4005 - accuracy: 0.5217 - val_loss: 1.3369 - val_accuracy: 0.5437\n",
      "Epoch 3/30\n",
      "1125/1125 [==============================] - 810s 720ms/step - loss: 1.2965 - accuracy: 0.5677 - val_loss: 1.3190 - val_accuracy: 0.5720\n",
      "Epoch 4/30\n",
      "1125/1125 [==============================] - 840s 747ms/step - loss: 1.2237 - accuracy: 0.6002 - val_loss: 1.1768 - val_accuracy: 0.6136\n",
      "Epoch 5/30\n",
      "1125/1125 [==============================] - 838s 744ms/step - loss: 1.1693 - accuracy: 0.6263 - val_loss: 1.1295 - val_accuracy: 0.6383\n",
      "Epoch 6/30\n",
      "1125/1125 [==============================] - 849s 755ms/step - loss: 1.1187 - accuracy: 0.6462 - val_loss: 1.2886 - val_accuracy: 0.5898\n",
      "Epoch 7/30\n",
      "1125/1125 [==============================] - 862s 766ms/step - loss: 1.0890 - accuracy: 0.6613 - val_loss: 1.2182 - val_accuracy: 0.6059\n",
      "Epoch 8/30\n",
      "1125/1125 [==============================] - 874s 777ms/step - loss: 1.0629 - accuracy: 0.6732 - val_loss: 1.0631 - val_accuracy: 0.6656\n",
      "Epoch 9/30\n",
      "1125/1125 [==============================] - 1057s 940ms/step - loss: 1.0412 - accuracy: 0.6825 - val_loss: 1.0176 - val_accuracy: 0.6834\n",
      "Epoch 10/30\n",
      "1125/1125 [==============================] - 832s 740ms/step - loss: 1.0253 - accuracy: 0.6879 - val_loss: 1.0822 - val_accuracy: 0.6669\n",
      "Epoch 11/30\n",
      "1125/1125 [==============================] - 759s 675ms/step - loss: 1.0135 - accuracy: 0.6942 - val_loss: 0.9684 - val_accuracy: 0.7038\n",
      "Epoch 12/30\n",
      "1125/1125 [==============================] - 799s 711ms/step - loss: 0.9986 - accuracy: 0.7010 - val_loss: 1.0287 - val_accuracy: 0.6832\n",
      "Epoch 13/30\n",
      "1125/1125 [==============================] - 844s 750ms/step - loss: 0.9867 - accuracy: 0.7066 - val_loss: 1.1994 - val_accuracy: 0.6267\n",
      "Epoch 14/30\n",
      "1125/1125 [==============================] - 992s 882ms/step - loss: 0.9771 - accuracy: 0.7097 - val_loss: 1.2579 - val_accuracy: 0.6183\n",
      "Epoch 15/30\n",
      "1125/1125 [==============================] - 1002s 890ms/step - loss: 0.9721 - accuracy: 0.7129 - val_loss: 1.0056 - val_accuracy: 0.6990\n",
      "Epoch 16/30\n",
      "1125/1125 [==============================] - 944s 839ms/step - loss: 0.9607 - accuracy: 0.7171 - val_loss: 1.1461 - val_accuracy: 0.6545\n",
      "Epoch 17/30\n",
      "1125/1125 [==============================] - 939s 835ms/step - loss: 0.9557 - accuracy: 0.7191 - val_loss: 0.9333 - val_accuracy: 0.7219\n",
      "Epoch 18/30\n",
      "1125/1125 [==============================] - 833s 740ms/step - loss: 0.9502 - accuracy: 0.7228 - val_loss: 1.1237 - val_accuracy: 0.6497\n",
      "Epoch 19/30\n",
      "1125/1125 [==============================] - 837s 744ms/step - loss: 0.9410 - accuracy: 0.7260 - val_loss: 0.9955 - val_accuracy: 0.7072\n",
      "Epoch 20/30\n",
      "1125/1125 [==============================] - 801s 712ms/step - loss: 0.9407 - accuracy: 0.7263 - val_loss: 1.0166 - val_accuracy: 0.6954\n",
      "Epoch 21/30\n",
      "1125/1125 [==============================] - 806s 717ms/step - loss: 0.9327 - accuracy: 0.7305 - val_loss: 1.1599 - val_accuracy: 0.6528\n",
      "Epoch 22/30\n",
      "1125/1125 [==============================] - 963s 856ms/step - loss: 0.9331 - accuracy: 0.7309 - val_loss: 0.9179 - val_accuracy: 0.7337\n",
      "Epoch 23/30\n",
      "1125/1125 [==============================] - 892s 793ms/step - loss: 0.9233 - accuracy: 0.7335 - val_loss: 0.9590 - val_accuracy: 0.7138\n",
      "Epoch 24/30\n",
      "1125/1125 [==============================] - 936s 832ms/step - loss: 0.9199 - accuracy: 0.7361 - val_loss: 0.9232 - val_accuracy: 0.7283\n",
      "Epoch 25/30\n",
      "1125/1125 [==============================] - 878s 781ms/step - loss: 0.9141 - accuracy: 0.7388 - val_loss: 0.9841 - val_accuracy: 0.7082\n",
      "Epoch 26/30\n",
      "1125/1125 [==============================] - 843s 750ms/step - loss: 0.9133 - accuracy: 0.7397 - val_loss: 0.9470 - val_accuracy: 0.7227\n",
      "Epoch 27/30\n",
      "1125/1125 [==============================] - 866s 770ms/step - loss: 0.9075 - accuracy: 0.7404 - val_loss: 0.9308 - val_accuracy: 0.7306\n",
      "Epoch 28/30\n",
      "1125/1125 [==============================] - 869s 772ms/step - loss: 0.9046 - accuracy: 0.7434 - val_loss: 0.9221 - val_accuracy: 0.7362\n",
      "Epoch 29/30\n",
      "1125/1125 [==============================] - 840s 747ms/step - loss: 0.9031 - accuracy: 0.7437 - val_loss: 1.0393 - val_accuracy: 0.7007\n",
      "Epoch 30/30\n",
      "1125/1125 [==============================] - 855s 760ms/step - loss: 0.9033 - accuracy: 0.7428 - val_loss: 0.9449 - val_accuracy: 0.7250\n"
     ]
    }
   ],
   "source": [
    "history_model_1_bs_128 = model1.fit(X_train, y_train, epochs=30, batch_size=128, validation_data=(X_val, y_val))"
   ]
  },
  {
   "cell_type": "code",
   "execution_count": 5,
   "metadata": {},
   "outputs": [
    {
     "name": "stdout",
     "output_type": "stream",
     "text": [
      "Epoch 1/30\n",
      "563/563 [==============================] - 794s 1s/step - loss: 1.7035 - accuracy: 0.3890 - val_loss: 1.6169 - val_accuracy: 0.4332\n",
      "Epoch 2/30\n",
      "563/563 [==============================] - 822s 1s/step - loss: 1.4115 - accuracy: 0.5147 - val_loss: 1.3315 - val_accuracy: 0.5458\n",
      "Epoch 3/30\n",
      "563/563 [==============================] - 819s 1s/step - loss: 1.3013 - accuracy: 0.5617 - val_loss: 1.9879 - val_accuracy: 0.3943\n",
      "Epoch 4/30\n",
      "563/563 [==============================] - 793s 1s/step - loss: 1.2186 - accuracy: 0.5958 - val_loss: 1.1951 - val_accuracy: 0.6076\n",
      "Epoch 5/30\n",
      "563/563 [==============================] - 838s 1s/step - loss: 1.1592 - accuracy: 0.6220 - val_loss: 1.4238 - val_accuracy: 0.5209\n",
      "Epoch 6/30\n",
      "563/563 [==============================] - 834s 1s/step - loss: 1.1171 - accuracy: 0.6399 - val_loss: 1.3834 - val_accuracy: 0.5484\n",
      "Epoch 7/30\n",
      "563/563 [==============================] - 857s 2s/step - loss: 1.0814 - accuracy: 0.6547 - val_loss: 1.0347 - val_accuracy: 0.6629\n",
      "Epoch 8/30\n",
      "563/563 [==============================] - 830s 1s/step - loss: 1.0458 - accuracy: 0.6697 - val_loss: 1.2588 - val_accuracy: 0.5831\n",
      "Epoch 9/30\n",
      "563/563 [==============================] - 881s 2s/step - loss: 1.0203 - accuracy: 0.6810 - val_loss: 1.0460 - val_accuracy: 0.6647\n",
      "Epoch 10/30\n",
      "563/563 [==============================] - 910s 2s/step - loss: 1.0010 - accuracy: 0.6884 - val_loss: 1.0241 - val_accuracy: 0.6760\n",
      "Epoch 11/30\n",
      "563/563 [==============================] - 906s 2s/step - loss: 0.9818 - accuracy: 0.6958 - val_loss: 1.0775 - val_accuracy: 0.6559\n",
      "Epoch 12/30\n",
      "563/563 [==============================] - 786s 1s/step - loss: 0.9668 - accuracy: 0.7030 - val_loss: 1.0726 - val_accuracy: 0.6644\n",
      "Epoch 13/30\n",
      "563/563 [==============================] - 770s 1s/step - loss: 0.9548 - accuracy: 0.7087 - val_loss: 1.1067 - val_accuracy: 0.6553\n",
      "Epoch 14/30\n",
      "563/563 [==============================] - 804s 1s/step - loss: 0.9438 - accuracy: 0.7137 - val_loss: 1.4583 - val_accuracy: 0.5693\n",
      "Epoch 15/30\n",
      "563/563 [==============================] - 810s 1s/step - loss: 0.9315 - accuracy: 0.7162 - val_loss: 1.0997 - val_accuracy: 0.6521\n",
      "Epoch 16/30\n",
      "563/563 [==============================] - 808s 1s/step - loss: 0.9229 - accuracy: 0.7209 - val_loss: 1.0084 - val_accuracy: 0.6870\n",
      "Epoch 17/30\n",
      "563/563 [==============================] - 805s 1s/step - loss: 0.9115 - accuracy: 0.7254 - val_loss: 1.2110 - val_accuracy: 0.6176\n",
      "Epoch 18/30\n",
      "563/563 [==============================] - 820s 1s/step - loss: 0.9059 - accuracy: 0.7281 - val_loss: 1.1023 - val_accuracy: 0.6621\n",
      "Epoch 19/30\n",
      "563/563 [==============================] - 785s 1s/step - loss: 0.8987 - accuracy: 0.7315 - val_loss: 1.1688 - val_accuracy: 0.6477\n",
      "Epoch 20/30\n",
      "563/563 [==============================] - 818s 1s/step - loss: 0.8900 - accuracy: 0.7361 - val_loss: 1.1278 - val_accuracy: 0.6596\n",
      "Epoch 21/30\n",
      "563/563 [==============================] - 840s 1s/step - loss: 0.8815 - accuracy: 0.7385 - val_loss: 0.9034 - val_accuracy: 0.7292\n",
      "Epoch 22/30\n",
      "563/563 [==============================] - 853s 2s/step - loss: 0.8776 - accuracy: 0.7399 - val_loss: 0.9820 - val_accuracy: 0.7047\n",
      "Epoch 23/30\n",
      "563/563 [==============================] - 861s 2s/step - loss: 0.8737 - accuracy: 0.7424 - val_loss: 0.9915 - val_accuracy: 0.7043\n",
      "Epoch 24/30\n",
      "563/563 [==============================] - 862s 2s/step - loss: 0.8683 - accuracy: 0.7459 - val_loss: 0.9632 - val_accuracy: 0.7089\n",
      "Epoch 25/30\n",
      "563/563 [==============================] - 838s 1s/step - loss: 0.8621 - accuracy: 0.7492 - val_loss: 1.0946 - val_accuracy: 0.6702\n",
      "Epoch 26/30\n",
      "563/563 [==============================] - 834s 1s/step - loss: 0.8555 - accuracy: 0.7499 - val_loss: 0.9850 - val_accuracy: 0.7047\n",
      "Epoch 27/30\n",
      "563/563 [==============================] - 801s 1s/step - loss: 0.8544 - accuracy: 0.7510 - val_loss: 1.0504 - val_accuracy: 0.6846\n",
      "Epoch 28/30\n",
      "563/563 [==============================] - 774s 1s/step - loss: 0.8495 - accuracy: 0.7542 - val_loss: 0.8896 - val_accuracy: 0.7393\n",
      "Epoch 29/30\n",
      "563/563 [==============================] - 752s 1s/step - loss: 0.8463 - accuracy: 0.7554 - val_loss: 1.1579 - val_accuracy: 0.6640\n",
      "Epoch 30/30\n",
      "563/563 [==============================] - 750s 1s/step - loss: 0.8411 - accuracy: 0.7572 - val_loss: 1.0507 - val_accuracy: 0.6901\n"
     ]
    }
   ],
   "source": [
    "history_model_1_bs_256 = model1.fit(X_train, y_train, epochs=30, batch_size=256, validation_data=(X_val, y_val))"
   ]
  },
  {
   "cell_type": "code",
   "execution_count": 6,
   "metadata": {},
   "outputs": [
    {
     "name": "stdout",
     "output_type": "stream",
     "text": [
      "Epoch 1/30\n",
      "1932/4500 [===========>..................] - ETA: 4:01 - loss: 2.3323 - accuracy: 0.2030"
     ]
    },
    {
     "ename": "KeyboardInterrupt",
     "evalue": "",
     "output_type": "error",
     "traceback": [
      "\u001b[1;31m---------------------------------------------------------------------------\u001b[0m",
      "\u001b[1;31mKeyboardInterrupt\u001b[0m                         Traceback (most recent call last)",
      "\u001b[1;32m<ipython-input-6-9a2c4e4e2b0a>\u001b[0m in \u001b[0;36m<module>\u001b[1;34m\u001b[0m\n\u001b[1;32m----> 1\u001b[1;33m \u001b[0mhistory_model_2_bs_32\u001b[0m \u001b[1;33m=\u001b[0m \u001b[0mmodel2\u001b[0m\u001b[1;33m.\u001b[0m\u001b[0mfit\u001b[0m\u001b[1;33m(\u001b[0m\u001b[0mX_train\u001b[0m\u001b[1;33m,\u001b[0m \u001b[0my_train\u001b[0m\u001b[1;33m,\u001b[0m \u001b[0mepochs\u001b[0m\u001b[1;33m=\u001b[0m\u001b[1;36m30\u001b[0m\u001b[1;33m,\u001b[0m \u001b[0mbatch_size\u001b[0m\u001b[1;33m=\u001b[0m\u001b[1;36m32\u001b[0m\u001b[1;33m,\u001b[0m \u001b[0mvalidation_data\u001b[0m\u001b[1;33m=\u001b[0m\u001b[1;33m(\u001b[0m\u001b[0mX_val\u001b[0m\u001b[1;33m,\u001b[0m \u001b[0my_val\u001b[0m\u001b[1;33m)\u001b[0m\u001b[1;33m)\u001b[0m\u001b[1;33m\u001b[0m\u001b[1;33m\u001b[0m\u001b[0m\n\u001b[0m",
      "\u001b[1;32mc:\\Users\\Ja\\anaconda3\\lib\\site-packages\\keras\\utils\\traceback_utils.py\u001b[0m in \u001b[0;36merror_handler\u001b[1;34m(*args, **kwargs)\u001b[0m\n\u001b[0;32m     63\u001b[0m         \u001b[0mfiltered_tb\u001b[0m \u001b[1;33m=\u001b[0m \u001b[1;32mNone\u001b[0m\u001b[1;33m\u001b[0m\u001b[1;33m\u001b[0m\u001b[0m\n\u001b[0;32m     64\u001b[0m         \u001b[1;32mtry\u001b[0m\u001b[1;33m:\u001b[0m\u001b[1;33m\u001b[0m\u001b[1;33m\u001b[0m\u001b[0m\n\u001b[1;32m---> 65\u001b[1;33m             \u001b[1;32mreturn\u001b[0m \u001b[0mfn\u001b[0m\u001b[1;33m(\u001b[0m\u001b[1;33m*\u001b[0m\u001b[0margs\u001b[0m\u001b[1;33m,\u001b[0m \u001b[1;33m**\u001b[0m\u001b[0mkwargs\u001b[0m\u001b[1;33m)\u001b[0m\u001b[1;33m\u001b[0m\u001b[1;33m\u001b[0m\u001b[0m\n\u001b[0m\u001b[0;32m     66\u001b[0m         \u001b[1;32mexcept\u001b[0m \u001b[0mException\u001b[0m \u001b[1;32mas\u001b[0m \u001b[0me\u001b[0m\u001b[1;33m:\u001b[0m\u001b[1;33m\u001b[0m\u001b[1;33m\u001b[0m\u001b[0m\n\u001b[0;32m     67\u001b[0m             \u001b[0mfiltered_tb\u001b[0m \u001b[1;33m=\u001b[0m \u001b[0m_process_traceback_frames\u001b[0m\u001b[1;33m(\u001b[0m\u001b[0me\u001b[0m\u001b[1;33m.\u001b[0m\u001b[0m__traceback__\u001b[0m\u001b[1;33m)\u001b[0m\u001b[1;33m\u001b[0m\u001b[1;33m\u001b[0m\u001b[0m\n",
      "\u001b[1;32mc:\\Users\\Ja\\anaconda3\\lib\\site-packages\\keras\\engine\\training.py\u001b[0m in \u001b[0;36mfit\u001b[1;34m(self, x, y, batch_size, epochs, verbose, callbacks, validation_split, validation_data, shuffle, class_weight, sample_weight, initial_epoch, steps_per_epoch, validation_steps, validation_batch_size, validation_freq, max_queue_size, workers, use_multiprocessing)\u001b[0m\n\u001b[0;32m   1683\u001b[0m                         ):\n\u001b[0;32m   1684\u001b[0m                             \u001b[0mcallbacks\u001b[0m\u001b[1;33m.\u001b[0m\u001b[0mon_train_batch_begin\u001b[0m\u001b[1;33m(\u001b[0m\u001b[0mstep\u001b[0m\u001b[1;33m)\u001b[0m\u001b[1;33m\u001b[0m\u001b[1;33m\u001b[0m\u001b[0m\n\u001b[1;32m-> 1685\u001b[1;33m                             \u001b[0mtmp_logs\u001b[0m \u001b[1;33m=\u001b[0m \u001b[0mself\u001b[0m\u001b[1;33m.\u001b[0m\u001b[0mtrain_function\u001b[0m\u001b[1;33m(\u001b[0m\u001b[0miterator\u001b[0m\u001b[1;33m)\u001b[0m\u001b[1;33m\u001b[0m\u001b[1;33m\u001b[0m\u001b[0m\n\u001b[0m\u001b[0;32m   1686\u001b[0m                             \u001b[1;32mif\u001b[0m \u001b[0mdata_handler\u001b[0m\u001b[1;33m.\u001b[0m\u001b[0mshould_sync\u001b[0m\u001b[1;33m:\u001b[0m\u001b[1;33m\u001b[0m\u001b[1;33m\u001b[0m\u001b[0m\n\u001b[0;32m   1687\u001b[0m                                 \u001b[0mcontext\u001b[0m\u001b[1;33m.\u001b[0m\u001b[0masync_wait\u001b[0m\u001b[1;33m(\u001b[0m\u001b[1;33m)\u001b[0m\u001b[1;33m\u001b[0m\u001b[1;33m\u001b[0m\u001b[0m\n",
      "\u001b[1;32mc:\\Users\\Ja\\anaconda3\\lib\\site-packages\\tensorflow\\python\\util\\traceback_utils.py\u001b[0m in \u001b[0;36merror_handler\u001b[1;34m(*args, **kwargs)\u001b[0m\n\u001b[0;32m    148\u001b[0m     \u001b[0mfiltered_tb\u001b[0m \u001b[1;33m=\u001b[0m \u001b[1;32mNone\u001b[0m\u001b[1;33m\u001b[0m\u001b[1;33m\u001b[0m\u001b[0m\n\u001b[0;32m    149\u001b[0m     \u001b[1;32mtry\u001b[0m\u001b[1;33m:\u001b[0m\u001b[1;33m\u001b[0m\u001b[1;33m\u001b[0m\u001b[0m\n\u001b[1;32m--> 150\u001b[1;33m       \u001b[1;32mreturn\u001b[0m \u001b[0mfn\u001b[0m\u001b[1;33m(\u001b[0m\u001b[1;33m*\u001b[0m\u001b[0margs\u001b[0m\u001b[1;33m,\u001b[0m \u001b[1;33m**\u001b[0m\u001b[0mkwargs\u001b[0m\u001b[1;33m)\u001b[0m\u001b[1;33m\u001b[0m\u001b[1;33m\u001b[0m\u001b[0m\n\u001b[0m\u001b[0;32m    151\u001b[0m     \u001b[1;32mexcept\u001b[0m \u001b[0mException\u001b[0m \u001b[1;32mas\u001b[0m \u001b[0me\u001b[0m\u001b[1;33m:\u001b[0m\u001b[1;33m\u001b[0m\u001b[1;33m\u001b[0m\u001b[0m\n\u001b[0;32m    152\u001b[0m       \u001b[0mfiltered_tb\u001b[0m \u001b[1;33m=\u001b[0m \u001b[0m_process_traceback_frames\u001b[0m\u001b[1;33m(\u001b[0m\u001b[0me\u001b[0m\u001b[1;33m.\u001b[0m\u001b[0m__traceback__\u001b[0m\u001b[1;33m)\u001b[0m\u001b[1;33m\u001b[0m\u001b[1;33m\u001b[0m\u001b[0m\n",
      "\u001b[1;32mc:\\Users\\Ja\\anaconda3\\lib\\site-packages\\tensorflow\\python\\eager\\polymorphic_function\\polymorphic_function.py\u001b[0m in \u001b[0;36m__call__\u001b[1;34m(self, *args, **kwds)\u001b[0m\n\u001b[0;32m    892\u001b[0m \u001b[1;33m\u001b[0m\u001b[0m\n\u001b[0;32m    893\u001b[0m       \u001b[1;32mwith\u001b[0m \u001b[0mOptionalXlaContext\u001b[0m\u001b[1;33m(\u001b[0m\u001b[0mself\u001b[0m\u001b[1;33m.\u001b[0m\u001b[0m_jit_compile\u001b[0m\u001b[1;33m)\u001b[0m\u001b[1;33m:\u001b[0m\u001b[1;33m\u001b[0m\u001b[1;33m\u001b[0m\u001b[0m\n\u001b[1;32m--> 894\u001b[1;33m         \u001b[0mresult\u001b[0m \u001b[1;33m=\u001b[0m \u001b[0mself\u001b[0m\u001b[1;33m.\u001b[0m\u001b[0m_call\u001b[0m\u001b[1;33m(\u001b[0m\u001b[1;33m*\u001b[0m\u001b[0margs\u001b[0m\u001b[1;33m,\u001b[0m \u001b[1;33m**\u001b[0m\u001b[0mkwds\u001b[0m\u001b[1;33m)\u001b[0m\u001b[1;33m\u001b[0m\u001b[1;33m\u001b[0m\u001b[0m\n\u001b[0m\u001b[0;32m    895\u001b[0m \u001b[1;33m\u001b[0m\u001b[0m\n\u001b[0;32m    896\u001b[0m       \u001b[0mnew_tracing_count\u001b[0m \u001b[1;33m=\u001b[0m \u001b[0mself\u001b[0m\u001b[1;33m.\u001b[0m\u001b[0mexperimental_get_tracing_count\u001b[0m\u001b[1;33m(\u001b[0m\u001b[1;33m)\u001b[0m\u001b[1;33m\u001b[0m\u001b[1;33m\u001b[0m\u001b[0m\n",
      "\u001b[1;32mc:\\Users\\Ja\\anaconda3\\lib\\site-packages\\tensorflow\\python\\eager\\polymorphic_function\\polymorphic_function.py\u001b[0m in \u001b[0;36m_call\u001b[1;34m(self, *args, **kwds)\u001b[0m\n\u001b[0;32m    924\u001b[0m       \u001b[1;31m# In this case we have created variables on the first call, so we run the\u001b[0m\u001b[1;33m\u001b[0m\u001b[1;33m\u001b[0m\u001b[1;33m\u001b[0m\u001b[0m\n\u001b[0;32m    925\u001b[0m       \u001b[1;31m# defunned version which is guaranteed to never create variables.\u001b[0m\u001b[1;33m\u001b[0m\u001b[1;33m\u001b[0m\u001b[1;33m\u001b[0m\u001b[0m\n\u001b[1;32m--> 926\u001b[1;33m       \u001b[1;32mreturn\u001b[0m \u001b[0mself\u001b[0m\u001b[1;33m.\u001b[0m\u001b[0m_no_variable_creation_fn\u001b[0m\u001b[1;33m(\u001b[0m\u001b[1;33m*\u001b[0m\u001b[0margs\u001b[0m\u001b[1;33m,\u001b[0m \u001b[1;33m**\u001b[0m\u001b[0mkwds\u001b[0m\u001b[1;33m)\u001b[0m  \u001b[1;31m# pylint: disable=not-callable\u001b[0m\u001b[1;33m\u001b[0m\u001b[1;33m\u001b[0m\u001b[0m\n\u001b[0m\u001b[0;32m    927\u001b[0m     \u001b[1;32melif\u001b[0m \u001b[0mself\u001b[0m\u001b[1;33m.\u001b[0m\u001b[0m_variable_creation_fn\u001b[0m \u001b[1;32mis\u001b[0m \u001b[1;32mnot\u001b[0m \u001b[1;32mNone\u001b[0m\u001b[1;33m:\u001b[0m\u001b[1;33m\u001b[0m\u001b[1;33m\u001b[0m\u001b[0m\n\u001b[0;32m    928\u001b[0m       \u001b[1;31m# Release the lock early so that multiple threads can perform the call\u001b[0m\u001b[1;33m\u001b[0m\u001b[1;33m\u001b[0m\u001b[1;33m\u001b[0m\u001b[0m\n",
      "\u001b[1;32mc:\\Users\\Ja\\anaconda3\\lib\\site-packages\\tensorflow\\python\\eager\\polymorphic_function\\tracing_compiler.py\u001b[0m in \u001b[0;36m__call__\u001b[1;34m(self, *args, **kwargs)\u001b[0m\n\u001b[0;32m    141\u001b[0m       (concrete_function,\n\u001b[0;32m    142\u001b[0m        filtered_flat_args) = self._maybe_define_function(args, kwargs)\n\u001b[1;32m--> 143\u001b[1;33m     return concrete_function._call_flat(\n\u001b[0m\u001b[0;32m    144\u001b[0m         filtered_flat_args, captured_inputs=concrete_function.captured_inputs)  # pylint: disable=protected-access\n\u001b[0;32m    145\u001b[0m \u001b[1;33m\u001b[0m\u001b[0m\n",
      "\u001b[1;32mc:\\Users\\Ja\\anaconda3\\lib\\site-packages\\tensorflow\\python\\eager\\polymorphic_function\\monomorphic_function.py\u001b[0m in \u001b[0;36m_call_flat\u001b[1;34m(self, args, captured_inputs, cancellation_manager)\u001b[0m\n\u001b[0;32m   1755\u001b[0m         and executing_eagerly):\n\u001b[0;32m   1756\u001b[0m       \u001b[1;31m# No tape is watching; skip to running the function.\u001b[0m\u001b[1;33m\u001b[0m\u001b[1;33m\u001b[0m\u001b[1;33m\u001b[0m\u001b[0m\n\u001b[1;32m-> 1757\u001b[1;33m       return self._build_call_outputs(self._inference_function.call(\n\u001b[0m\u001b[0;32m   1758\u001b[0m           ctx, args, cancellation_manager=cancellation_manager))\n\u001b[0;32m   1759\u001b[0m     forward_backward = self._select_forward_and_backward_functions(\n",
      "\u001b[1;32mc:\\Users\\Ja\\anaconda3\\lib\\site-packages\\tensorflow\\python\\eager\\polymorphic_function\\monomorphic_function.py\u001b[0m in \u001b[0;36mcall\u001b[1;34m(self, ctx, args, cancellation_manager)\u001b[0m\n\u001b[0;32m    379\u001b[0m       \u001b[1;32mwith\u001b[0m \u001b[0m_InterpolateFunctionError\u001b[0m\u001b[1;33m(\u001b[0m\u001b[0mself\u001b[0m\u001b[1;33m)\u001b[0m\u001b[1;33m:\u001b[0m\u001b[1;33m\u001b[0m\u001b[1;33m\u001b[0m\u001b[0m\n\u001b[0;32m    380\u001b[0m         \u001b[1;32mif\u001b[0m \u001b[0mcancellation_manager\u001b[0m \u001b[1;32mis\u001b[0m \u001b[1;32mNone\u001b[0m\u001b[1;33m:\u001b[0m\u001b[1;33m\u001b[0m\u001b[1;33m\u001b[0m\u001b[0m\n\u001b[1;32m--> 381\u001b[1;33m           outputs = execute.execute(\n\u001b[0m\u001b[0;32m    382\u001b[0m               \u001b[0mstr\u001b[0m\u001b[1;33m(\u001b[0m\u001b[0mself\u001b[0m\u001b[1;33m.\u001b[0m\u001b[0msignature\u001b[0m\u001b[1;33m.\u001b[0m\u001b[0mname\u001b[0m\u001b[1;33m)\u001b[0m\u001b[1;33m,\u001b[0m\u001b[1;33m\u001b[0m\u001b[1;33m\u001b[0m\u001b[0m\n\u001b[0;32m    383\u001b[0m               \u001b[0mnum_outputs\u001b[0m\u001b[1;33m=\u001b[0m\u001b[0mself\u001b[0m\u001b[1;33m.\u001b[0m\u001b[0m_num_outputs\u001b[0m\u001b[1;33m,\u001b[0m\u001b[1;33m\u001b[0m\u001b[1;33m\u001b[0m\u001b[0m\n",
      "\u001b[1;32mc:\\Users\\Ja\\anaconda3\\lib\\site-packages\\tensorflow\\python\\eager\\execute.py\u001b[0m in \u001b[0;36mquick_execute\u001b[1;34m(op_name, num_outputs, inputs, attrs, ctx, name)\u001b[0m\n\u001b[0;32m     50\u001b[0m   \u001b[1;32mtry\u001b[0m\u001b[1;33m:\u001b[0m\u001b[1;33m\u001b[0m\u001b[1;33m\u001b[0m\u001b[0m\n\u001b[0;32m     51\u001b[0m     \u001b[0mctx\u001b[0m\u001b[1;33m.\u001b[0m\u001b[0mensure_initialized\u001b[0m\u001b[1;33m(\u001b[0m\u001b[1;33m)\u001b[0m\u001b[1;33m\u001b[0m\u001b[1;33m\u001b[0m\u001b[0m\n\u001b[1;32m---> 52\u001b[1;33m     tensors = pywrap_tfe.TFE_Py_Execute(ctx._handle, device_name, op_name,\n\u001b[0m\u001b[0;32m     53\u001b[0m                                         inputs, attrs, num_outputs)\n\u001b[0;32m     54\u001b[0m   \u001b[1;32mexcept\u001b[0m \u001b[0mcore\u001b[0m\u001b[1;33m.\u001b[0m\u001b[0m_NotOkStatusException\u001b[0m \u001b[1;32mas\u001b[0m \u001b[0me\u001b[0m\u001b[1;33m:\u001b[0m\u001b[1;33m\u001b[0m\u001b[1;33m\u001b[0m\u001b[0m\n",
      "\u001b[1;31mKeyboardInterrupt\u001b[0m: "
     ]
    }
   ],
   "source": [
    "history_model_2_bs_32 = model2.fit(X_train, y_train, epochs=30, batch_size=32, validation_data=(X_val, y_val))"
   ]
  },
  {
   "cell_type": "code",
   "execution_count": 7,
   "metadata": {},
   "outputs": [
    {
     "data": {
      "image/png": "[encoded data removed]",
      "text/plain": [
       "<Figure size 432x288 with 1 Axes>"
      ]
     },
     "metadata": {
      "needs_background": "light"
     },
     "output_type": "display_data"
    }
   ],
   "source": [
    "plt.plot(history_model_1_bs_256.history['accuracy'], label='Dokładność 1')\n",
    "plt.plot(history_model_1_bs_256.history['val_accuracy'], label='Dokładność 2')\n",
    "#plt.plot(loaded_history['accuracy'], label='Dokładność 2')\n",
    "plt.xlabel('Epoka')\n",
    "plt.ylabel('Dokładność')\n",
    "plt.legend()\n",
    "plt.show()"
   ]
  },
  {
   "cell_type": "code",
   "execution_count": 8,
   "metadata": {},
   "outputs": [],
   "source": [
    "with open('custom1_bs_256.pickle', 'wb') as file:\n",
    "    pickle.dump(history_model_1_bs_256.history, file)"
   ]
  },
  {
   "cell_type": "code",
   "execution_count": 9,
   "metadata": {},
   "outputs": [
    {
     "name": "stderr",
     "output_type": "stream",
     "text": [
      "WARNING:absl:Found untraced functions such as _jit_compiled_convolution_op, _jit_compiled_convolution_op, _jit_compiled_convolution_op, _jit_compiled_convolution_op, _jit_compiled_convolution_op while saving (showing 5 of 10). These functions will not be directly callable after loading.\n"
     ]
    },
    {
     "name": "stdout",
     "output_type": "stream",
     "text": [
      "INFO:tensorflow:Assets written to: custom1_bs_256\\assets\n"
     ]
    },
    {
     "name": "stderr",
     "output_type": "stream",
     "text": [
      "INFO:tensorflow:Assets written to: custom1_bs_256\\assets\n"
     ]
    }
   ],
   "source": [
    "model1.save('custom1_bs_256')"
   ]
  },
  {
   "cell_type": "code",
   "execution_count": 8,
   "metadata": {},
   "outputs": [
    {
     "ename": "OSError",
     "evalue": "No file or directory found at custom1_1",
     "output_type": "error",
     "traceback": [
      "\u001b[1;31m---------------------------------------------------------------------------\u001b[0m",
      "\u001b[1;31mOSError\u001b[0m                                   Traceback (most recent call last)",
      "\u001b[1;32m<ipython-input-8-a0d7fd71e560>\u001b[0m in \u001b[0;36m<module>\u001b[1;34m\u001b[0m\n\u001b[1;32m----> 1\u001b[1;33m \u001b[0mmodel_loaded\u001b[0m \u001b[1;33m=\u001b[0m \u001b[0mtf\u001b[0m\u001b[1;33m.\u001b[0m\u001b[0mkeras\u001b[0m\u001b[1;33m.\u001b[0m\u001b[0mmodels\u001b[0m\u001b[1;33m.\u001b[0m\u001b[0mload_model\u001b[0m\u001b[1;33m(\u001b[0m\u001b[1;34m'custom1_1'\u001b[0m\u001b[1;33m)\u001b[0m\u001b[1;33m\u001b[0m\u001b[1;33m\u001b[0m\u001b[0m\n\u001b[0m",
      "\u001b[1;32mc:\\Users\\Ja\\anaconda3\\lib\\site-packages\\keras\\saving\\saving_api.py\u001b[0m in \u001b[0;36mload_model\u001b[1;34m(filepath, custom_objects, compile, safe_mode, **kwargs)\u001b[0m\n\u001b[0;32m    210\u001b[0m \u001b[1;33m\u001b[0m\u001b[0m\n\u001b[0;32m    211\u001b[0m     \u001b[1;31m# Legacy case.\u001b[0m\u001b[1;33m\u001b[0m\u001b[1;33m\u001b[0m\u001b[1;33m\u001b[0m\u001b[0m\n\u001b[1;32m--> 212\u001b[1;33m     return legacy_sm_saving_lib.load_model(\n\u001b[0m\u001b[0;32m    213\u001b[0m         \u001b[0mfilepath\u001b[0m\u001b[1;33m,\u001b[0m \u001b[0mcustom_objects\u001b[0m\u001b[1;33m=\u001b[0m\u001b[0mcustom_objects\u001b[0m\u001b[1;33m,\u001b[0m \u001b[0mcompile\u001b[0m\u001b[1;33m=\u001b[0m\u001b[0mcompile\u001b[0m\u001b[1;33m,\u001b[0m \u001b[1;33m**\u001b[0m\u001b[0mkwargs\u001b[0m\u001b[1;33m\u001b[0m\u001b[1;33m\u001b[0m\u001b[0m\n\u001b[0;32m    214\u001b[0m     )\n",
      "\u001b[1;32mc:\\Users\\Ja\\anaconda3\\lib\\site-packages\\keras\\utils\\traceback_utils.py\u001b[0m in \u001b[0;36merror_handler\u001b[1;34m(*args, **kwargs)\u001b[0m\n\u001b[0;32m     68\u001b[0m             \u001b[1;31m# To get the full stack trace, call:\u001b[0m\u001b[1;33m\u001b[0m\u001b[1;33m\u001b[0m\u001b[1;33m\u001b[0m\u001b[0m\n\u001b[0;32m     69\u001b[0m             \u001b[1;31m# `tf.debugging.disable_traceback_filtering()`\u001b[0m\u001b[1;33m\u001b[0m\u001b[1;33m\u001b[0m\u001b[1;33m\u001b[0m\u001b[0m\n\u001b[1;32m---> 70\u001b[1;33m             \u001b[1;32mraise\u001b[0m \u001b[0me\u001b[0m\u001b[1;33m.\u001b[0m\u001b[0mwith_traceback\u001b[0m\u001b[1;33m(\u001b[0m\u001b[0mfiltered_tb\u001b[0m\u001b[1;33m)\u001b[0m \u001b[1;32mfrom\u001b[0m \u001b[1;32mNone\u001b[0m\u001b[1;33m\u001b[0m\u001b[1;33m\u001b[0m\u001b[0m\n\u001b[0m\u001b[0;32m     71\u001b[0m         \u001b[1;32mfinally\u001b[0m\u001b[1;33m:\u001b[0m\u001b[1;33m\u001b[0m\u001b[1;33m\u001b[0m\u001b[0m\n\u001b[0;32m     72\u001b[0m             \u001b[1;32mdel\u001b[0m \u001b[0mfiltered_tb\u001b[0m\u001b[1;33m\u001b[0m\u001b[1;33m\u001b[0m\u001b[0m\n",
      "\u001b[1;32mc:\\Users\\Ja\\anaconda3\\lib\\site-packages\\keras\\saving\\legacy\\save.py\u001b[0m in \u001b[0;36mload_model\u001b[1;34m(filepath, custom_objects, compile, options)\u001b[0m\n\u001b[0;32m    228\u001b[0m                     \u001b[1;32mif\u001b[0m \u001b[0misinstance\u001b[0m\u001b[1;33m(\u001b[0m\u001b[0mfilepath_str\u001b[0m\u001b[1;33m,\u001b[0m \u001b[0mstr\u001b[0m\u001b[1;33m)\u001b[0m\u001b[1;33m:\u001b[0m\u001b[1;33m\u001b[0m\u001b[1;33m\u001b[0m\u001b[0m\n\u001b[0;32m    229\u001b[0m                         \u001b[1;32mif\u001b[0m \u001b[1;32mnot\u001b[0m \u001b[0mtf\u001b[0m\u001b[1;33m.\u001b[0m\u001b[0mio\u001b[0m\u001b[1;33m.\u001b[0m\u001b[0mgfile\u001b[0m\u001b[1;33m.\u001b[0m\u001b[0mexists\u001b[0m\u001b[1;33m(\u001b[0m\u001b[0mfilepath_str\u001b[0m\u001b[1;33m)\u001b[0m\u001b[1;33m:\u001b[0m\u001b[1;33m\u001b[0m\u001b[1;33m\u001b[0m\u001b[0m\n\u001b[1;32m--> 230\u001b[1;33m                             raise IOError(\n\u001b[0m\u001b[0;32m    231\u001b[0m                                 \u001b[1;34mf\"No file or directory found at {filepath_str}\"\u001b[0m\u001b[1;33m\u001b[0m\u001b[1;33m\u001b[0m\u001b[0m\n\u001b[0;32m    232\u001b[0m                             )\n",
      "\u001b[1;31mOSError\u001b[0m: No file or directory found at custom1_1"
     ]
    }
   ],
   "source": [
    "model_loaded = tf.keras.models.load_model('custom1_1')"
   ]
  },
  {
   "cell_type": "code",
   "execution_count": 6,
   "metadata": {},
   "outputs": [
    {
     "name": "stdout",
     "output_type": "stream",
     "text": [
      "313/313 [==============================] - 7s 21ms/step\n"
     ]
    },
    {
     "data": {
      "text/plain": [
       "array([[0.10153213, 0.09453216, 0.10819265, ..., 0.09890564, 0.11218525,\n",
       "        0.09907582],\n",
       "       [0.10346822, 0.09355432, 0.11045332, ..., 0.09677524, 0.11491128,\n",
       "        0.09694487],\n",
       "       [0.10313698, 0.09424294, 0.1106912 , ..., 0.09887008, 0.11783674,\n",
       "        0.09601843],\n",
       "       ...,\n",
       "       [0.11307032, 0.09367646, 0.10349347, ..., 0.0980411 , 0.10879929,\n",
       "        0.09981935],\n",
       "       [0.10127231, 0.09500193, 0.10832403, ..., 0.09845277, 0.11226171,\n",
       "        0.09614883],\n",
       "       [0.1088462 , 0.09356121, 0.10649853, ..., 0.10181893, 0.109707  ,\n",
       "        0.09575183]], dtype=float32)"
      ]
     },
     "execution_count": 6,
     "metadata": {},
     "output_type": "execute_result"
    }
   ],
   "source": [
    "model1.predict(X_val)"
   ]
  },
  {
   "cell_type": "markdown",
   "metadata": {},
   "source": [
    "#### Comparison of models with defualt parameters"
   ]
  },
  {
   "cell_type": "markdown",
   "metadata": {},
   "source": [
    "Liczymy sobie 2 customowe maxymalnie i te 2 gotowe, na jakiejś sensownej liczbie epok. Powtarzamy też kilka razy, co najmniej 5 żeby uśrednić i zrobić statystyczną analizę który lepszy. \n",
    "\n",
    "Trenowanie: 5 razy trenujemy każdy model na defaultowych parametrach na 50 epokach. \n",
    "\n",
    "Wynik zapisujemy w odpowiednim folderze -> resuts/basic/nazwa_modelu/nazwa_modelu_nr.pkl\n",
    "Na przykład 3 raz trenowania resnetu -> plik nazywa się resnet_3.pkl\n",
    "4 raz trenowania custom2 -> custom2_4.pkl"
   ]
  },
  {
   "cell_type": "markdown",
   "metadata": {},
   "source": [
    "#### Ensembling"
   ]
  },
  {
   "cell_type": "markdown",
   "metadata": {},
   "source": [
    "Tutaj bym spróbował zrobić stacking z tych bazowych modeli, żeby zobaczyć czy coś pomoże. Bo jakby będą gotowe różne modele, więc czemu nie tu. Potem jak mam robić ensembling z modeli, które różnią się tylko jednym hiperparametrem to kicha."
   ]
  },
  {
   "cell_type": "markdown",
   "metadata": {},
   "source": [
    "#### Impact of training hiperparameters modififaction"
   ]
  },
  {
   "cell_type": "markdown",
   "metadata": {},
   "source": [
    "Przetestujemy już na raczej TYLKO jednej architekturze wpływ dwóch hiperparametrów. Na pewno współczynnika uczenia bo łatwy. Podał przykład że można tez epoki bez poprawy, ale przy 10 epokach cieżko szukać :DD Mamy natomiast w implementacji coś takiego jak decay rate i to brzmi spoko. \n",
    "\n",
    "Nie wiem czy powtarzać 5 razy eskperymenty, czy tak jak Ela puścić dla jednej wartości learning rate raz na przyklad."
   ]
  },
  {
   "cell_type": "markdown",
   "metadata": {},
   "source": [
    "#### Impact of regularization hiperparametrs modification"
   ]
  },
  {
   "cell_type": "markdown",
   "metadata": {},
   "source": [
    "Mamy dropout w sieci customowej, to to przetestujemy. Można jeszcze współczynnik regularyzacji jakoś, ale to wykombinuję jak potem. I też tylko na jednym modelu, bo się nie wygrzebiemy. "
   ]
  },
  {
   "cell_type": "markdown",
   "metadata": {},
   "source": [
    "#### Augmentation"
   ]
  },
  {
   "cell_type": "markdown",
   "metadata": {},
   "source": [
    "Ja bym chyba zrobił porównanie modelu bez augmentacji z modelem z augmentacją dla każdego z 4 przykładów które musimy zrobić. I może wszystkich na raz z brakiem?? No nie wiem, ale to znowu DUUUŻO LICZENIA"
   ]
  }
 ],
 "metadata": {
  "kernelspec": {
   "display_name": "inz",
   "language": "python",
   "name": "python3"
  },
  "language_info": {
   "codemirror_mode": {
    "name": "ipython",
    "version": 3
   },
   "file_extension": ".py",
   "mimetype": "text/x-python",
   "name": "python",
   "nbconvert_exporter": "python",
   "pygments_lexer": "ipython3",
   "version": "3.8.3"
  },
  "orig_nbformat": 4
 },
 "nbformat": 4,
 "nbformat_minor": 2
}
