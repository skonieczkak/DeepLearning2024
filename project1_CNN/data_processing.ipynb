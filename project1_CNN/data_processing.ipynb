{
 "cells": [
  {
   "cell_type": "code",
   "execution_count": 77,
   "metadata": {},
   "outputs": [],
   "source": [
    "import numpy as np\n",
    "from PIL import Image\n",
    "import os\n",
    "from tensorflow.keras.utils import to_categorical\n",
    "import pickle"
   ]
  },
  {
   "cell_type": "code",
   "execution_count": 68,
   "metadata": {},
   "outputs": [],
   "source": [
    "def load_images_and_labels(data_dir):\n",
    "    images = []\n",
    "    labels = []\n",
    "    label_to_index = {}\n",
    "    index_counter = 0\n",
    "\n",
    "    for class_folder in sorted(os.listdir(data_dir)):\n",
    "        print(class_folder)\n",
    "        class_dir = os.path.join(data_dir, class_folder)\n",
    "        if os.path.isdir(class_dir):\n",
    "            if class_folder not in label_to_index:\n",
    "                label_to_index[class_folder] = index_counter\n",
    "                index_counter += 1\n",
    "            \n",
    "            class_label = label_to_index[class_folder]\n",
    "            \n",
    "            for filename in os.listdir(class_dir):\n",
    "                if filename.endswith('.png'):\n",
    "                    image_path = os.path.join(class_dir, filename)\n",
    "                    image = Image.open(image_path)\n",
    "                    if image.mode == 'L':\n",
    "                        image = Image.merge(\"RGB\", (image, image, image))\n",
    "                    image_np = np.array(image) \n",
    "                    if len(image_np.shape) < 3:\n",
    "                        print(image_path)\n",
    "                    images.append(image_np)\n",
    "                    labels.append(class_label)\n",
    "\n",
    "    return np.array(images), np.array(labels)\n",
    "\n"
   ]
  },
  {
   "cell_type": "code",
   "execution_count": 72,
   "metadata": {},
   "outputs": [],
   "source": [
    "def normalize(X, y):\n",
    "    return X.astype('float32')/255, to_categorical(y, num_classes=10)"
   ]
  },
  {
   "cell_type": "code",
   "execution_count": 69,
   "metadata": {},
   "outputs": [
    {
     "name": "stdout",
     "output_type": "stream",
     "text": [
      "airplane\n",
      "automobile\n",
      "bird\n",
      "cat\n",
      "deer\n",
      "dog\n",
      "frog\n",
      "horse\n",
      "ship\n",
      "truck\n"
     ]
    }
   ],
   "source": [
    "images_test, labels_test = load_images_and_labels('data/test')"
   ]
  },
  {
   "cell_type": "code",
   "execution_count": null,
   "metadata": {},
   "outputs": [],
   "source": [
    "images_test, labels_test = normalize(images_test, labels_test)"
   ]
  },
  {
   "cell_type": "code",
   "execution_count": 78,
   "metadata": {},
   "outputs": [],
   "source": [
    "with open('CINIC-10/X_test.pickle', 'wb') as f:\n",
    "    pickle.dump(images_test, f)\n",
    "\n",
    "with open('CINIC-10/y_test.pickle', 'wb') as f:\n",
    "    pickle.dump(labels_test, f)"
   ]
  },
  {
   "cell_type": "code",
   "execution_count": 80,
   "metadata": {},
   "outputs": [
    {
     "name": "stdout",
     "output_type": "stream",
     "text": [
      "airplane\n",
      "automobile\n",
      "bird\n",
      "cat\n",
      "deer\n",
      "dog\n",
      "frog\n",
      "horse\n",
      "ship\n",
      "truck\n"
     ]
    }
   ],
   "source": [
    "images_val, labels_val = load_images_and_labels('data/valid')"
   ]
  },
  {
   "cell_type": "code",
   "execution_count": 82,
   "metadata": {},
   "outputs": [],
   "source": [
    "images_val, labels_val = normalize(images_val, labels_val)"
   ]
  },
  {
   "cell_type": "code",
   "execution_count": 83,
   "metadata": {},
   "outputs": [
    {
     "name": "stdout",
     "output_type": "stream",
     "text": [
      "airplane\n",
      "automobile\n",
      "bird\n",
      "cat\n",
      "deer\n",
      "dog\n",
      "frog\n",
      "horse\n",
      "ship\n",
      "truck\n"
     ]
    }
   ],
   "source": [
    "images_train, labels_train = load_images_and_labels('data/train')"
   ]
  },
  {
   "cell_type": "code",
   "execution_count": 84,
   "metadata": {},
   "outputs": [],
   "source": [
    "images_train, labels_train = normalize(images_train, labels_train)"
   ]
  },
  {
   "cell_type": "code",
   "execution_count": 94,
   "metadata": {},
   "outputs": [],
   "source": [
    "image_con = np.concatenate((images_train, images_val))"
   ]
  },
  {
   "cell_type": "code",
   "execution_count": 96,
   "metadata": {},
   "outputs": [],
   "source": [
    "labels_con = np.concatenate((labels_train, labels_val))"
   ]
  },
  {
   "cell_type": "code",
   "execution_count": 98,
   "metadata": {},
   "outputs": [],
   "source": [
    "with open('CINIC-10/X_train.pickle', 'wb') as f:\n",
    "    pickle.dump(image_con, f)\n",
    "\n",
    "with open('CINIC-10/y_train.pickle', 'wb') as f:\n",
    "    pickle.dump(labels_con, f)"
   ]
  }
 ],
 "metadata": {
  "kernelspec": {
   "display_name": "base",
   "language": "python",
   "name": "python3"
  },
  "language_info": {
   "codemirror_mode": {
    "name": "ipython",
    "version": 3
   },
   "file_extension": ".py",
   "mimetype": "text/x-python",
   "name": "python",
   "nbconvert_exporter": "python",
   "pygments_lexer": "ipython3",
   "version": "3.8.3"
  }
 },
 "nbformat": 4,
 "nbformat_minor": 2
}
