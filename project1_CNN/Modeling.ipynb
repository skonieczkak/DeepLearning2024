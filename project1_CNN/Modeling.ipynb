{
 "cells": [
  {
   "cell_type": "code",
   "execution_count": 2,
   "metadata": {},
   "outputs": [
    {
     "name": "stdout",
     "output_type": "stream",
     "text": [
      "WARNING:tensorflow:From c:\\Users\\kacperskonieczka\\.conda\\envs\\inz\\lib\\site-packages\\keras\\src\\losses.py:2976: The name tf.losses.sparse_softmax_cross_entropy is deprecated. Please use tf.compat.v1.losses.sparse_softmax_cross_entropy instead.\n",
      "\n"
     ]
    }
   ],
   "source": [
    "import pandas as pd\n",
    "import keras\n",
    "import numpy as np\n",
    "import seaborn as sns\n",
    "sns.set_style('whitegrid')\n",
    "import matplotlib.pyplot as plt\n",
    "plt.rcParams[\"figure.figsize\"] = 9,6\n",
    "\n",
    "from keras.datasets import cifar10\n",
    "from tensorflow.keras.utils import to_categorical\n",
    "import random\n",
    "from tensorflow.keras.callbacks import EarlyStopping\n",
    "\n",
    "import warnings\n",
    "warnings.filterwarnings(action='ignore')\n",
    "\n",
    "from generate_custome_models import generate_model1, generate_model2, generate_model3\n",
    "from generate_pretrained_models import generate_resnet_model, generate_vgg_model\n",
    "\n",
    "import tensorflow as tf\n",
    "from tensorflow.keras.models import Sequential\n",
    "from tensorflow.keras.layers import Flatten, Dense\n",
    "from print_utils import print_model_summaries_side_by_side"
   ]
  },
  {
   "cell_type": "markdown",
   "metadata": {},
   "source": [
    "# Data loading and preparation"
   ]
  },
  {
   "cell_type": "code",
   "execution_count": 3,
   "metadata": {},
   "outputs": [],
   "source": [
    "(X_train, y_train), (X_test, y_test) = cifar10.load_data()"
   ]
  },
  {
   "cell_type": "code",
   "execution_count": 4,
   "metadata": {},
   "outputs": [
    {
     "name": "stdout",
     "output_type": "stream",
     "text": [
      "x_train shape: (50000, 32, 32, 3)\n",
      "y_train shape: (50000, 1)\n",
      "50000 train samples\n",
      "10000 test samples\n"
     ]
    }
   ],
   "source": [
    "BATCH_SIZE = 32\n",
    "INPUT_SHAPE = X_train.shape[1:]\n",
    "NUM_CLASSES=10\n",
    "\n",
    "print('x_train shape:', X_train.shape)\n",
    "print('y_train shape:', y_train.shape)\n",
    "print(X_train.shape[0], 'train samples')\n",
    "print(X_test.shape[0], 'test samples')"
   ]
  },
  {
   "cell_type": "code",
   "execution_count": 5,
   "metadata": {},
   "outputs": [],
   "source": [
    "X_train = X_train.astype('float32')/255\n",
    "X_test = X_test.astype('float32')/255\n",
    "\n",
    "y_train = to_categorical(y_train, num_classes=NUM_CLASSES)\n",
    "y_test = to_categorical(y_test, num_classes=NUM_CLASSES)"
   ]
  },
  {
   "cell_type": "markdown",
   "metadata": {},
   "source": [
    "# Fitting the custom deep learning models"
   ]
  },
  {
   "cell_type": "code",
   "execution_count": 6,
   "metadata": {},
   "outputs": [
    {
     "name": "stdout",
     "output_type": "stream",
     "text": [
      "WARNING:tensorflow:From c:\\Users\\kacperskonieczka\\.conda\\envs\\inz\\lib\\site-packages\\keras\\src\\backend.py:873: The name tf.get_default_graph is deprecated. Please use tf.compat.v1.get_default_graph instead.\n",
      "\n",
      "WARNING:tensorflow:From c:\\Users\\kacperskonieczka\\.conda\\envs\\inz\\lib\\site-packages\\keras\\src\\layers\\pooling\\max_pooling2d.py:161: The name tf.nn.max_pool is deprecated. Please use tf.nn.max_pool2d instead.\n",
      "\n",
      "Model: \"sequential\"                                                              | Model: \"sequential_1\"                                                            | Model: \"sequential_2\"                                                           \n",
      "_________________________________________________________________                | _________________________________________________________________                | _________________________________________________________________               \n",
      " Layer (type)                Output Shape              Param #                   |  Layer (type)                Output Shape              Param #                   |  Layer (type)                Output Shape              Param #                  \n",
      "=================================================================                | =================================================================                | =================================================================               \n",
      " conv2d (Conv2D)             (None, 32, 32, 16)        448                       |  conv2d_4 (Conv2D)           (None, 32, 32, 32)        896                       |  conv2d_10 (Conv2D)          (None, 29, 29, 32)        1568                     \n",
      "                                                                                 |                                                                                  |                                                                                 \n",
      " leaky_re_lu (LeakyReLU)     (None, 32, 32, 16)        0                         |  conv2d_5 (Conv2D)           (None, 32, 32, 32)        9248                      |  max_pooling2d_5 (MaxPoolin  (None, 14, 14, 32)        0                        \n",
      "                                                                                 |                                                                                  |  g2D)                                                                           \n",
      " conv2d_1 (Conv2D)           (None, 32, 32, 32)        4640                      |  max_pooling2d_2 (MaxPoolin  (None, 16, 16, 32)        0                         |                                                                                 \n",
      "                                                                                 |  g2D)                                                                            |  conv2d_11 (Conv2D)          (None, 11, 11, 32)        16416                    \n",
      " leaky_re_lu_1 (LeakyReLU)   (None, 32, 32, 32)        0                         |                                                                                  |                                                                                 \n",
      "                                                                                 |  dropout_3 (Dropout)         (None, 16, 16, 32)        0                         |  max_pooling2d_6 (MaxPoolin  (None, 5, 5, 32)          0                        \n",
      " max_pooling2d (MaxPooling2  (None, 16, 16, 32)        0                         |                                                                                  |  g2D)                                                                           \n",
      " D)                                                                              |  conv2d_6 (Conv2D)           (None, 16, 16, 64)        18496                     |                                                                                 \n",
      "                                                                                 |                                                                                  |  flatten_2 (Flatten)         (None, 800)               0                        \n",
      " dropout (Dropout)           (None, 16, 16, 32)        0                         |  conv2d_7 (Conv2D)           (None, 16, 16, 64)        36928                     |                                                                                 \n",
      "                                                                                 |                                                                                  |  dense_4 (Dense)             (None, 128)               102528                   \n",
      " conv2d_2 (Conv2D)           (None, 16, 16, 32)        9248                      |  max_pooling2d_3 (MaxPoolin  (None, 8, 8, 64)          0                         |                                                                                 \n",
      "                                                                                 |  g2D)                                                                            |  dropout_7 (Dropout)         (None, 128)               0                        \n",
      " leaky_re_lu_2 (LeakyReLU)   (None, 16, 16, 32)        0                         |                                                                                  |                                                                                 \n",
      "                                                                                 |  dropout_4 (Dropout)         (None, 8, 8, 64)          0                         |  dense_5 (Dense)             (None, 64)                8256                     \n",
      " conv2d_3 (Conv2D)           (None, 16, 16, 64)        18496                     |                                                                                  |                                                                                 \n",
      "                                                                                 |  conv2d_8 (Conv2D)           (None, 8, 8, 128)         73856                     |  dropout_8 (Dropout)         (None, 64)                0                        \n",
      " leaky_re_lu_3 (LeakyReLU)   (None, 16, 16, 64)        0                         |                                                                                  |                                                                                 \n",
      "                                                                                 |  conv2d_9 (Conv2D)           (None, 8, 8, 128)         147584                    |  dense_6 (Dense)             (None, 32)                2080                     \n",
      " max_pooling2d_1 (MaxPoolin  (None, 8, 8, 64)          0                         |                                                                                  |                                                                                 \n",
      " g2D)                                                                            |  max_pooling2d_4 (MaxPoolin  (None, 4, 4, 128)         0                         |  dropout_9 (Dropout)         (None, 32)                0                        \n",
      "                                                                                 |  g2D)                                                                            |                                                                                 \n",
      " dropout_1 (Dropout)         (None, 8, 8, 64)          0                         |                                                                                  |  dense_7 (Dense)             (None, 10)                330                      \n",
      "                                                                                 |  dropout_5 (Dropout)         (None, 4, 4, 128)         0                         |                                                                                 \n",
      " flatten (Flatten)           (None, 4096)              0                         |                                                                                  | =================================================================               \n",
      "                                                                                 |  batch_normalization (Batch  (None, 4, 4, 128)         512                       | Total params: 131178 (512.41 KB)                                                \n",
      " dense (Dense)               (None, 256)               1048832                   |  Normalization)                                                                  | Trainable params: 131178 (512.41 KB)                                            \n",
      "                                                                                 |                                                                                  | Non-trainable params: 0 (0.00 Byte)                                             \n",
      " leaky_re_lu_4 (LeakyReLU)   (None, 256)               0                         |  flatten_1 (Flatten)         (None, 2048)              0                         | _________________________________________________________________               \n",
      "                                                                                 |                                                                                  |                                                                                 \n",
      " dropout_2 (Dropout)         (None, 256)               0                         |  dense_2 (Dense)             (None, 256)               524544                    |                                                                                 \n",
      "                                                                                 |                                                                                  |                                                                                 \n",
      " dense_1 (Dense)             (None, 10)                2570                      |  dropout_6 (Dropout)         (None, 256)               0                         |                                                                                 \n",
      "                                                                                 |                                                                                  |                                                                                 \n",
      "=================================================================                |  dense_3 (Dense)             (None, 10)                2570                      |                                                                                 \n",
      "Total params: 1084234 (4.14 MB)                                                  |                                                                                  |                                                                                 \n",
      "Trainable params: 1084234 (4.14 MB)                                              | =================================================================                |                                                                                 \n",
      "Non-trainable params: 0 (0.00 Byte)                                              | Total params: 814634 (3.11 MB)                                                   |                                                                                 \n",
      "_________________________________________________________________                | Trainable params: 814378 (3.11 MB)                                               |                                                                                 \n",
      "                                                                                 | Non-trainable params: 256 (1.00 KB)                                              |                                                                                 \n",
      "                                                                                 | _________________________________________________________________                |                                                                                 \n"
     ]
    }
   ],
   "source": [
    "LR=1e-3 \n",
    "EPOCHS=100  \n",
    "PATIENCE=10\n",
    "MIN_DELTA=0.01\n",
    "early_stop = EarlyStopping(monitor='val_accuracy', patience=PATIENCE, min_delta=MIN_DELTA)\n",
    "\n",
    "model1=generate_model1(input_shape=INPUT_SHAPE, num_classes=NUM_CLASSES)\n",
    "model2=generate_model2(input_shape=INPUT_SHAPE, num_classes=NUM_CLASSES)\n",
    "model3=generate_model3(input_shape=INPUT_SHAPE, num_classes=NUM_CLASSES)\n",
    "\n",
    "print_model_summaries_side_by_side([model1, model2, model3])"
   ]
  },
  {
   "cell_type": "markdown",
   "metadata": {},
   "source": [
    "# Fitting pre-trained arch"
   ]
  },
  {
   "cell_type": "code",
   "execution_count": 7,
   "metadata": {},
   "outputs": [
    {
     "name": "stdout",
     "output_type": "stream",
     "text": [
      "Model: \"sequential_3\"                                                            | Model: \"sequential_4\"                                                           \n",
      "_________________________________________________________________                | _________________________________________________________________               \n",
      " Layer (type)                Output Shape              Param #                   |  Layer (type)                Output Shape              Param #                  \n",
      "=================================================================                | =================================================================               \n",
      " resnet50 (Functional)       (None, 1, 1, 2048)        23587712                  |  vgg16 (Functional)          (None, 1, 1, 512)         14714688                 \n",
      "                                                                                 |                                                                                 \n",
      " flatten_3 (Flatten)         (None, 2048)              0                         |  flatten_4 (Flatten)         (None, 512)               0                        \n",
      "                                                                                 |                                                                                 \n",
      " dense_8 (Dense)             (None, 10)                20490                     |  dense_9 (Dense)             (None, 10)                5130                     \n",
      "                                                                                 |                                                                                 \n",
      "=================================================================                | =================================================================               \n",
      "Total params: 23608202 (90.06 MB)                                                | Total params: 14719818 (56.15 MB)                                               \n",
      "Trainable params: 20490 (80.04 KB)                                               | Trainable params: 5130 (20.04 KB)                                               \n",
      "Non-trainable params: 23587712 (89.98 MB)                                        | Non-trainable params: 14714688 (56.13 MB)                                       \n",
      "_________________________________________________________________                | _________________________________________________________________               \n"
     ]
    }
   ],
   "source": [
    "resnet_model=generate_resnet_model(input_shape=INPUT_SHAPE, num_classes=NUM_CLASSES)\n",
    "vgg_model=generate_vgg_model(input_shape=INPUT_SHAPE, num_classes=NUM_CLASSES)\n",
    "\n",
    "\n",
    "print_model_summaries_side_by_side([resnet_model, vgg_model])"
   ]
  },
  {
   "cell_type": "code",
   "execution_count": null,
   "metadata": {},
   "outputs": [],
   "source": []
  }
 ],
 "metadata": {
  "kernelspec": {
   "display_name": "inz",
   "language": "python",
   "name": "python3"
  },
  "language_info": {
   "codemirror_mode": {
    "name": "ipython",
    "version": 3
   },
   "file_extension": ".py",
   "mimetype": "text/x-python",
   "name": "python",
   "nbconvert_exporter": "python",
   "pygments_lexer": "ipython3",
   "version": "3.10.13"
  },
  "orig_nbformat": 4
 },
 "nbformat": 4,
 "nbformat_minor": 2
}
