{
 "cells": [
  {
   "cell_type": "code",
   "execution_count": 22,
   "metadata": {},
   "outputs": [],
   "source": [
    "import pandas as pd\n",
    "import keras\n",
    "import numpy as np\n",
    "import seaborn as sns\n",
    "sns.set_style('whitegrid')\n",
    "import matplotlib.pyplot as plt\n",
    "plt.rcParams[\"figure.figsize\"] = 9,6\n",
    "\n",
    "from keras.datasets import cifar10\n",
    "from tensorflow.keras.utils import to_categorical\n",
    "import random\n",
    "from tensorflow.keras.callbacks import EarlyStopping\n",
    "\n",
    "import warnings\n",
    "warnings.filterwarnings(action='ignore')\n",
    "\n",
    "from generate_custome_models import generate_model1, generate_model2, generate_model3\n",
    "from generate_pretrained_models import generate_resnet_model, generate_vgg_model\n",
    "\n",
    "import tensorflow as tf\n",
    "from tensorflow.keras.models import Sequential\n",
    "from tensorflow.keras.layers import Flatten, Dense"
   ]
  },
  {
   "cell_type": "markdown",
   "metadata": {},
   "source": [
    "# Data loading and preparation"
   ]
  },
  {
   "cell_type": "code",
   "execution_count": 23,
   "metadata": {},
   "outputs": [],
   "source": [
    "(X_train, y_train), (X_test, y_test) = cifar10.load_data()"
   ]
  },
  {
   "cell_type": "code",
   "execution_count": 24,
   "metadata": {},
   "outputs": [
    {
     "name": "stdout",
     "output_type": "stream",
     "text": [
      "x_train shape: (50000, 32, 32, 3)\n",
      "y_train shape: (50000, 1)\n",
      "50000 train samples\n",
      "10000 test samples\n"
     ]
    }
   ],
   "source": [
    "BATCH_SIZE = 32\n",
    "INPUT_SHAPE = X_train.shape[1:]\n",
    "NUM_CLASSES=10\n",
    "\n",
    "print('x_train shape:', X_train.shape)\n",
    "print('y_train shape:', y_train.shape)\n",
    "print(X_train.shape[0], 'train samples')\n",
    "print(X_test.shape[0], 'test samples')"
   ]
  },
  {
   "cell_type": "code",
   "execution_count": 25,
   "metadata": {},
   "outputs": [],
   "source": [
    "X_train = X_train.astype('float32')/255\n",
    "X_test = X_test.astype('float32')/255\n",
    "\n",
    "y_train = to_categorical(y_train, num_classes=NUM_CLASSES)\n",
    "y_test = to_categorical(y_test, num_classes=NUM_CLASSES)"
   ]
  },
  {
   "cell_type": "markdown",
   "metadata": {},
   "source": [
    "# Fitting the custom deep learning models"
   ]
  },
  {
   "cell_type": "code",
   "execution_count": 26,
   "metadata": {},
   "outputs": [],
   "source": [
    "LR=1e-3 \n",
    "EPOCHS=100  \n",
    "PATIENCE=10\n",
    "MIN_DELTA=0.01\n",
    "early_stop = EarlyStopping(monitor='val_accuracy', patience=PATIENCE, min_delta=MIN_DELTA)\n",
    "\n",
    "model1=generate_model1(input_shape=INPUT_SHAPE, num_classes=NUM_CLASSES)\n",
    "model2=generate_model2(input_shape=INPUT_SHAPE, num_classes=NUM_CLASSES)\n",
    "model3=generate_model3(input_shape=INPUT_SHAPE, num_classes=NUM_CLASSES)"
   ]
  },
  {
   "cell_type": "code",
   "execution_count": 21,
   "metadata": {},
   "outputs": [
    {
     "name": "stdout",
     "output_type": "stream",
     "text": [
      "Model: \"sequential_9\"                                                            Model: \"sequential_10\"                                                           Model: \"sequential_11\"                                                          \n",
      "_________________________________________________________________                _________________________________________________________________                _________________________________________________________________               \n",
      " Layer (type)                Output Shape              Param #                    Layer (type)                Output Shape              Param #                    Layer (type)                Output Shape              Param #                  \n",
      "=================================================================                =================================================================                =================================================================               \n",
      " conv2d_36 (Conv2D)          (None, 32, 32, 16)        448                        conv2d_40 (Conv2D)          (None, 32, 32, 32)        896                        conv2d_46 (Conv2D)          (None, 29, 29, 32)        1568                     \n",
      "                                                                                                                                                                                                                                                  \n",
      " leaky_re_lu_15 (LeakyReLU)  (None, 32, 32, 16)        0                          conv2d_41 (Conv2D)          (None, 32, 32, 32)        9248                       max_pooling2d_26 (MaxPooli  (None, 14, 14, 32)        0                        \n",
      "                                                                                                                                                                   ng2D)                                                                          \n",
      " conv2d_37 (Conv2D)          (None, 32, 32, 32)        4640                       max_pooling2d_23 (MaxPooli  (None, 16, 16, 32)        0                                                                                                         \n",
      "                                                                                  ng2D)                                                                            conv2d_47 (Conv2D)          (None, 11, 11, 32)        16416                    \n",
      " leaky_re_lu_16 (LeakyReLU)  (None, 32, 32, 32)        0                                                                                                                                                                                          \n",
      "                                                                                  dropout_33 (Dropout)        (None, 16, 16, 32)        0                          max_pooling2d_27 (MaxPooli  (None, 5, 5, 32)          0                        \n",
      " max_pooling2d_21 (MaxPooli  (None, 16, 16, 32)        0                                                                                                           ng2D)                                                                          \n",
      " ng2D)                                                                            conv2d_42 (Conv2D)          (None, 16, 16, 64)        18496                                                                                                     \n",
      "                                                                                                                                                                   flatten_11 (Flatten)        (None, 800)               0                        \n",
      " dropout_30 (Dropout)        (None, 16, 16, 32)        0                          conv2d_43 (Conv2D)          (None, 16, 16, 64)        36928                                                                                                     \n",
      "                                                                                                                                                                   dense_28 (Dense)            (None, 128)               102528                   \n",
      " conv2d_38 (Conv2D)          (None, 16, 16, 32)        9248                       max_pooling2d_24 (MaxPooli  (None, 8, 8, 64)          0                                                                                                         \n",
      "                                                                                  ng2D)                                                                            dropout_37 (Dropout)        (None, 128)               0                        \n",
      " leaky_re_lu_17 (LeakyReLU)  (None, 16, 16, 32)        0                                                                                                                                                                                          \n",
      "                                                                                  dropout_34 (Dropout)        (None, 8, 8, 64)          0                          dense_29 (Dense)            (None, 64)                8256                     \n",
      " conv2d_39 (Conv2D)          (None, 16, 16, 64)        18496                                                                                                                                                                                      \n",
      "                                                                                  conv2d_44 (Conv2D)          (None, 8, 8, 128)         73856                      dropout_38 (Dropout)        (None, 64)                0                        \n",
      " leaky_re_lu_18 (LeakyReLU)  (None, 16, 16, 64)        0                                                                                                                                                                                          \n",
      "                                                                                  conv2d_45 (Conv2D)          (None, 8, 8, 128)         147584                     dense_30 (Dense)            (None, 32)                2080                     \n",
      " max_pooling2d_22 (MaxPooli  (None, 8, 8, 64)          0                                                                                                                                                                                          \n",
      " ng2D)                                                                            max_pooling2d_25 (MaxPooli  (None, 4, 4, 128)         0                          dropout_39 (Dropout)        (None, 32)                0                        \n",
      "                                                                                  ng2D)                                                                                                                                                           \n",
      " dropout_31 (Dropout)        (None, 8, 8, 64)          0                                                                                                           dense_31 (Dense)            (None, 10)                330                      \n",
      "                                                                                  dropout_35 (Dropout)        (None, 4, 4, 128)         0                                                                                                         \n",
      " flatten_9 (Flatten)         (None, 4096)              0                                                                                                          =================================================================               \n",
      "                                                                                  batch_normalization_3 (Bat  (None, 4, 4, 128)         512                       Total params: 131178 (512.41 KB)                                                \n",
      " dense_24 (Dense)            (None, 256)               1048832                    chNormalization)                                                                Trainable params: 131178 (512.41 KB)                                            \n",
      "                                                                                                                                                                  Non-trainable params: 0 (0.00 Byte)                                             \n",
      " leaky_re_lu_19 (LeakyReLU)  (None, 256)               0                          flatten_10 (Flatten)        (None, 2048)              0                         _________________________________________________________________               \n",
      "                                                                                                                                                                                                                                                  \n",
      " dropout_32 (Dropout)        (None, 256)               0                          dense_26 (Dense)            (None, 256)               524544                                                                                                    \n",
      "                                                                                                                                                                                                                                                  \n",
      " dense_25 (Dense)            (None, 10)                2570                       dropout_36 (Dropout)        (None, 256)               0                                                                                                         \n",
      "                                                                                                                                                                                                                                                  \n",
      "=================================================================                 dense_27 (Dense)            (None, 10)                2570                                                                                                      \n",
      "Total params: 1084234 (4.14 MB)                                                                                                                                                                                                                   \n",
      "Trainable params: 1084234 (4.14 MB)                                              =================================================================                                                                                                \n",
      "Non-trainable params: 0 (0.00 Byte)                                              Total params: 814634 (3.11 MB)                                                                                                                                   \n",
      "_________________________________________________________________                Trainable params: 814378 (3.11 MB)                                                                                                                               \n",
      "                                                                                 Non-trainable params: 256 (1.00 KB)                                                                                                                              \n",
      "                                                                                 _________________________________________________________________                                                                                                \n"
     ]
    }
   ],
   "source": [
    "import io\n",
    "from contextlib import redirect_stdout\n",
    "\n",
    "def capture_model_summary(model):\n",
    "    with io.StringIO() as buf, redirect_stdout(buf):\n",
    "        model.summary()\n",
    "        return buf.getvalue()\n",
    "\n",
    "summary1 = capture_model_summary(model1)\n",
    "summary2 = capture_model_summary(model2)\n",
    "summary3 = capture_model_summary(model3)\n",
    "\n",
    "lines1 = summary1.splitlines()\n",
    "lines2 = summary2.splitlines()\n",
    "lines3 = summary3.splitlines()\n",
    "max_length = max(len(lines1), len(lines2), len(lines3))\n",
    "\n",
    "lines1 += [''] * (max_length - len(lines1))\n",
    "lines2 += [''] * (max_length - len(lines2))\n",
    "lines3 += [''] * (max_length - len(lines3))\n",
    "\n",
    "for line1, line2, line3 in zip(lines1, lines2, lines3):\n",
    "    print(f\"{line1:<80} {line2:<80} {line3:<80}\")"
   ]
  },
  {
   "cell_type": "markdown",
   "metadata": {},
   "source": [
    "# Fitting pre-trained arch"
   ]
  },
  {
   "cell_type": "code",
   "execution_count": 32,
   "metadata": {},
   "outputs": [],
   "source": [
    "resnet_model=generate_resnet_model(input_shape=INPUT_SHAPE, num_classes=NUM_CLASSES)\n",
    "vgg_model=generate_vgg_model(input_shape=INPUT_SHAPE, num_classes=NUM_CLASSES)"
   ]
  },
  {
   "cell_type": "code",
   "execution_count": 33,
   "metadata": {},
   "outputs": [
    {
     "name": "stdout",
     "output_type": "stream",
     "text": [
      "Model: \"sequential_15\"\n",
      "_________________________________________________________________\n",
      " Layer (type)                Output Shape              Param #   \n",
      "=================================================================\n",
      " resnet50 (Functional)       (None, 1, 1, 2048)        23587712  \n",
      "                                                                 \n",
      " flatten_15 (Flatten)        (None, 2048)              0         \n",
      "                                                                 \n",
      " dense_40 (Dense)            (None, 10)                20490     \n",
      "                                                                 \n",
      "=================================================================\n",
      "Total params: 23608202 (90.06 MB)\n",
      "Trainable params: 20490 (80.04 KB)\n",
      "Non-trainable params: 23587712 (89.98 MB)\n",
      "_________________________________________________________________\n"
     ]
    }
   ],
   "source": [
    "model1.summary()"
   ]
  },
  {
   "cell_type": "code",
   "execution_count": 34,
   "metadata": {},
   "outputs": [
    {
     "name": "stdout",
     "output_type": "stream",
     "text": [
      "Model: \"sequential_16\"\n",
      "_________________________________________________________________\n",
      " Layer (type)                Output Shape              Param #   \n",
      "=================================================================\n",
      " vgg16 (Functional)          (None, 1, 1, 512)         14714688  \n",
      "                                                                 \n",
      " flatten_16 (Flatten)        (None, 512)               0         \n",
      "                                                                 \n",
      " dense_41 (Dense)            (None, 10)                5130      \n",
      "                                                                 \n",
      "=================================================================\n",
      "Total params: 14719818 (56.15 MB)\n",
      "Trainable params: 5130 (20.04 KB)\n",
      "Non-trainable params: 14714688 (56.13 MB)\n",
      "_________________________________________________________________\n"
     ]
    }
   ],
   "source": [
    "model2.summary()"
   ]
  }
 ],
 "metadata": {
  "kernelspec": {
   "display_name": "inz",
   "language": "python",
   "name": "python3"
  },
  "language_info": {
   "codemirror_mode": {
    "name": "ipython",
    "version": 3
   },
   "file_extension": ".py",
   "mimetype": "text/x-python",
   "name": "python",
   "nbconvert_exporter": "python",
   "pygments_lexer": "ipython3",
   "version": "3.10.13"
  },
  "orig_nbformat": 4
 },
 "nbformat": 4,
 "nbformat_minor": 2
}
