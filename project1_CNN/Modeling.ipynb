{
 "cells": [
  {
   "cell_type": "code",
   "execution_count": 13,
   "metadata": {},
   "outputs": [],
   "source": [
    "import pandas as pd\n",
    "import keras\n",
    "import numpy as np\n",
    "import seaborn as sns\n",
    "sns.set_style('whitegrid')\n",
    "import matplotlib.pyplot as plt\n",
    "plt.rcParams[\"figure.figsize\"] = 9,6\n",
    "\n",
    "from keras.datasets import cifar10\n",
    "from tensorflow.keras.utils import to_categorical\n",
    "import random\n",
    "from tensorflow.keras.callbacks import EarlyStopping\n",
    "\n",
    "import warnings\n",
    "warnings.filterwarnings(action='ignore')\n",
    "\n",
    "from generate_custome_models import generate_model1, generate_model2, generate_model3\n",
    "from generate_pretrained_models import generate_resnet_model, generate_vgg_model\n",
    "\n",
    "import tensorflow as tf\n",
    "from tensorflow.keras.models import Sequential\n",
    "from tensorflow.keras.layers import Flatten, Dense\n",
    "from print_utils import print_model_summaries_side_by_side\n",
    "\n",
    "import pickle"
   ]
  },
  {
   "cell_type": "markdown",
   "metadata": {},
   "source": [
    "# Data loading and preparation"
   ]
  },
  {
   "cell_type": "code",
   "execution_count": 2,
   "metadata": {},
   "outputs": [],
   "source": [
    "(X_train, y_train), (X_test, y_test) = cifar10.load_data()"
   ]
  },
  {
   "cell_type": "code",
   "execution_count": 3,
   "metadata": {},
   "outputs": [
    {
     "name": "stdout",
     "output_type": "stream",
     "text": [
      "x_train shape: (50000, 32, 32, 3)\n",
      "y_train shape: (50000, 1)\n",
      "50000 train samples\n",
      "10000 test samples\n"
     ]
    }
   ],
   "source": [
    "BATCH_SIZE = 32\n",
    "INPUT_SHAPE = X_train.shape[1:]\n",
    "NUM_CLASSES=10\n",
    "\n",
    "print('x_train shape:', X_train.shape)\n",
    "print('y_train shape:', y_train.shape)\n",
    "print(X_train.shape[0], 'train samples')\n",
    "print(X_test.shape[0], 'test samples')"
   ]
  },
  {
   "cell_type": "code",
   "execution_count": 4,
   "metadata": {},
   "outputs": [],
   "source": [
    "X_train = X_train.astype('float32')/255\n",
    "X_test = X_test.astype('float32')/255\n",
    "\n",
    "y_train = to_categorical(y_train, num_classes=NUM_CLASSES)\n",
    "y_test = to_categorical(y_test, num_classes=NUM_CLASSES)"
   ]
  },
  {
   "cell_type": "markdown",
   "metadata": {},
   "source": [
    "# Fitting the custom deep learning models"
   ]
  },
  {
   "cell_type": "code",
   "execution_count": 5,
   "metadata": {},
   "outputs": [
    {
     "name": "stdout",
     "output_type": "stream",
     "text": [
      "Model: \"Custom_model_1\"                                                          | Model: \"Custom_model_2\"                                                          | Model: \"Custom_model_3\"                                                         \n",
      "_________________________________________________________________                | _________________________________________________________________                | _________________________________________________________________               \n",
      " Layer (type)                Output Shape              Param #                   |  Layer (type)                Output Shape              Param #                   |  Layer (type)                Output Shape              Param #                  \n",
      "=================================================================                | =================================================================                | =================================================================               \n",
      " conv2d (Conv2D)             (None, 32, 32, 16)        448                       |  conv2d_4 (Conv2D)           (None, 32, 32, 32)        896                       |  conv2d_10 (Conv2D)          (None, 29, 29, 32)        1568                     \n",
      "                                                                                 |                                                                                  |                                                                                 \n",
      " leaky_re_lu (LeakyReLU)     (None, 32, 32, 16)        0                         |  conv2d_5 (Conv2D)           (None, 32, 32, 32)        9248                      |  max_pooling2d_5 (MaxPooling  (None, 14, 14, 32)       0                        \n",
      "                                                                                 |                                                                                  |  2D)                                                                            \n",
      " conv2d_1 (Conv2D)           (None, 32, 32, 32)        4640                      |  max_pooling2d_2 (MaxPooling  (None, 16, 16, 32)       0                         |                                                                                 \n",
      "                                                                                 |  2D)                                                                             |  conv2d_11 (Conv2D)          (None, 11, 11, 32)        16416                    \n",
      " leaky_re_lu_1 (LeakyReLU)   (None, 32, 32, 32)        0                         |                                                                                  |                                                                                 \n",
      "                                                                                 |  dropout_3 (Dropout)         (None, 16, 16, 32)        0                         |  max_pooling2d_6 (MaxPooling  (None, 5, 5, 32)         0                        \n",
      " max_pooling2d (MaxPooling2D  (None, 16, 16, 32)       0                         |                                                                                  |  2D)                                                                            \n",
      " )                                                                               |  conv2d_6 (Conv2D)           (None, 16, 16, 64)        18496                     |                                                                                 \n",
      "                                                                                 |                                                                                  |  flatten_2 (Flatten)         (None, 800)               0                        \n",
      " dropout (Dropout)           (None, 16, 16, 32)        0                         |  conv2d_7 (Conv2D)           (None, 16, 16, 64)        36928                     |                                                                                 \n",
      "                                                                                 |                                                                                  |  dense_4 (Dense)             (None, 128)               102528                   \n",
      " conv2d_2 (Conv2D)           (None, 16, 16, 32)        9248                      |  max_pooling2d_3 (MaxPooling  (None, 8, 8, 64)         0                         |                                                                                 \n",
      "                                                                                 |  2D)                                                                             |  dropout_7 (Dropout)         (None, 128)               0                        \n",
      " leaky_re_lu_2 (LeakyReLU)   (None, 16, 16, 32)        0                         |                                                                                  |                                                                                 \n",
      "                                                                                 |  dropout_4 (Dropout)         (None, 8, 8, 64)          0                         |  dense_5 (Dense)             (None, 64)                8256                     \n",
      " conv2d_3 (Conv2D)           (None, 16, 16, 64)        18496                     |                                                                                  |                                                                                 \n",
      "                                                                                 |  conv2d_8 (Conv2D)           (None, 8, 8, 128)         73856                     |  dropout_8 (Dropout)         (None, 64)                0                        \n",
      " leaky_re_lu_3 (LeakyReLU)   (None, 16, 16, 64)        0                         |                                                                                  |                                                                                 \n",
      "                                                                                 |  conv2d_9 (Conv2D)           (None, 8, 8, 128)         147584                    |  dense_6 (Dense)             (None, 32)                2080                     \n",
      " max_pooling2d_1 (MaxPooling  (None, 8, 8, 64)         0                         |                                                                                  |                                                                                 \n",
      " 2D)                                                                             |  max_pooling2d_4 (MaxPooling  (None, 4, 4, 128)        0                         |  dropout_9 (Dropout)         (None, 32)                0                        \n",
      "                                                                                 |  2D)                                                                             |                                                                                 \n",
      " dropout_1 (Dropout)         (None, 8, 8, 64)          0                         |                                                                                  |  dense_7 (Dense)             (None, 10)                330                      \n",
      "                                                                                 |  dropout_5 (Dropout)         (None, 4, 4, 128)         0                         |                                                                                 \n",
      " flatten (Flatten)           (None, 4096)              0                         |                                                                                  | =================================================================               \n",
      "                                                                                 |  batch_normalization (BatchN  (None, 4, 4, 128)        512                       | Total params: 131,178                                                           \n",
      " dense (Dense)               (None, 256)               1048832                   |  ormalization)                                                                   | Trainable params: 131,178                                                       \n",
      "                                                                                 |                                                                                  | Non-trainable params: 0                                                         \n",
      " leaky_re_lu_4 (LeakyReLU)   (None, 256)               0                         |  flatten_1 (Flatten)         (None, 2048)              0                         | _________________________________________________________________               \n",
      "                                                                                 |                                                                                  |                                                                                 \n",
      " dropout_2 (Dropout)         (None, 256)               0                         |  dense_2 (Dense)             (None, 256)               524544                    |                                                                                 \n",
      "                                                                                 |                                                                                  |                                                                                 \n",
      " dense_1 (Dense)             (None, 10)                2570                      |  dropout_6 (Dropout)         (None, 256)               0                         |                                                                                 \n",
      "                                                                                 |                                                                                  |                                                                                 \n",
      "=================================================================                |  dense_3 (Dense)             (None, 10)                2570                      |                                                                                 \n",
      "Total params: 1,084,234                                                          |                                                                                  |                                                                                 \n",
      "Trainable params: 1,084,234                                                      | =================================================================                |                                                                                 \n",
      "Non-trainable params: 0                                                          | Total params: 814,634                                                            |                                                                                 \n",
      "_________________________________________________________________                | Trainable params: 814,378                                                        |                                                                                 \n",
      "                                                                                 | Non-trainable params: 256                                                        |                                                                                 \n",
      "                                                                                 | _________________________________________________________________                |                                                                                 \n"
     ]
    }
   ],
   "source": [
    "LR=1e-3 \n",
    "EPOCHS=100  \n",
    "PATIENCE=10\n",
    "MIN_DELTA=0.01\n",
    "early_stop = EarlyStopping(monitor='val_accuracy', patience=PATIENCE, min_delta=MIN_DELTA)\n",
    "\n",
    "model1=generate_model1(input_shape=INPUT_SHAPE, num_classes=NUM_CLASSES)\n",
    "model2=generate_model2(input_shape=INPUT_SHAPE, num_classes=NUM_CLASSES)\n",
    "model3=generate_model3(input_shape=INPUT_SHAPE, num_classes=NUM_CLASSES)\n",
    "\n",
    "print_model_summaries_side_by_side([model1, model2, model3])"
   ]
  },
  {
   "cell_type": "markdown",
   "metadata": {},
   "source": [
    "# Fitting pre-trained arch"
   ]
  },
  {
   "cell_type": "code",
   "execution_count": 6,
   "metadata": {},
   "outputs": [
    {
     "name": "stdout",
     "output_type": "stream",
     "text": [
      "Model: \"ResNet50\"                                                                | Model: \"VGG16\"                                                                  \n",
      "_________________________________________________________________                | _________________________________________________________________               \n",
      " Layer (type)                Output Shape              Param #                   |  Layer (type)                Output Shape              Param #                  \n",
      "=================================================================                | =================================================================               \n",
      " resnet50 (Functional)       (None, 1, 1, 2048)        23587712                  |  vgg16 (Functional)          (None, 1, 1, 512)         14714688                 \n",
      "                                                                                 |                                                                                 \n",
      " flatten_3 (Flatten)         (None, 2048)              0                         |  flatten_4 (Flatten)         (None, 512)               0                        \n",
      "                                                                                 |                                                                                 \n",
      " dense_8 (Dense)             (None, 10)                20490                     |  dense_9 (Dense)             (None, 10)                5130                     \n",
      "                                                                                 |                                                                                 \n",
      "=================================================================                | =================================================================               \n",
      "Total params: 23,608,202                                                         | Total params: 14,719,818                                                        \n",
      "Trainable params: 20,490                                                         | Trainable params: 5,130                                                         \n",
      "Non-trainable params: 23,587,712                                                 | Non-trainable params: 14,714,688                                                \n",
      "_________________________________________________________________                | _________________________________________________________________               \n"
     ]
    }
   ],
   "source": [
    "resnet_model=generate_resnet_model(input_shape=INPUT_SHAPE, num_classes=NUM_CLASSES)\n",
    "vgg_model=generate_vgg_model(input_shape=INPUT_SHAPE, num_classes=NUM_CLASSES)\n",
    "\n",
    "\n",
    "print_model_summaries_side_by_side([resnet_model, vgg_model])"
   ]
  },
  {
   "cell_type": "markdown",
   "metadata": {},
   "source": [
    "### Training testing"
   ]
  },
  {
   "cell_type": "code",
   "execution_count": 13,
   "metadata": {},
   "outputs": [
    {
     "name": "stdout",
     "output_type": "stream",
     "text": [
      "Epoch 1/10\n",
      "1563/1563 [==============================] - 198s 123ms/step - loss: 2.0709 - accuracy: 0.2476\n",
      "Epoch 2/10\n",
      "1563/1563 [==============================] - 192s 123ms/step - loss: 1.9148 - accuracy: 0.3076\n",
      "Epoch 3/10\n",
      "1563/1563 [==============================] - 202s 129ms/step - loss: 1.8609 - accuracy: 0.3342\n",
      "Epoch 4/10\n",
      "1563/1563 [==============================] - 195s 125ms/step - loss: 1.8262 - accuracy: 0.3490\n",
      "Epoch 5/10\n",
      "1563/1563 [==============================] - 188s 120ms/step - loss: 1.7997 - accuracy: 0.3578\n",
      "Epoch 6/10\n",
      "1563/1563 [==============================] - 181s 116ms/step - loss: 1.7784 - accuracy: 0.3688\n",
      "Epoch 7/10\n",
      "1563/1563 [==============================] - 189s 121ms/step - loss: 1.7649 - accuracy: 0.3704\n",
      "Epoch 8/10\n",
      "1563/1563 [==============================] - 198s 126ms/step - loss: 1.7528 - accuracy: 0.3754\n",
      "Epoch 9/10\n",
      "1563/1563 [==============================] - 192s 123ms/step - loss: 1.7386 - accuracy: 0.3823\n",
      "Epoch 10/10\n",
      "1563/1563 [==============================] - 237s 151ms/step - loss: 1.7341 - accuracy: 0.3837\n"
     ]
    }
   ],
   "source": [
    "history = resnet_model.fit(X_train, y_train, epochs=10, batch_size=32)"
   ]
  },
  {
   "cell_type": "code",
   "execution_count": 17,
   "metadata": {},
   "outputs": [
    {
     "name": "stdout",
     "output_type": "stream",
     "text": [
      "313/313 [==============================] - 36s 108ms/step - loss: 1.7213 - accuracy: 0.3894\n"
     ]
    }
   ],
   "source": [
    "test_loss, test_acc = resnet_model.evaluate(X_test, y_test)"
   ]
  },
  {
   "cell_type": "code",
   "execution_count": 20,
   "metadata": {},
   "outputs": [
    {
     "data": {
      "text/plain": [
       "[0.247639998793602,\n",
       " 0.30761998891830444,\n",
       " 0.3341600000858307,\n",
       " 0.3490000069141388,\n",
       " 0.3578200042247772,\n",
       " 0.3687799870967865,\n",
       " 0.37040001153945923,\n",
       " 0.37536001205444336,\n",
       " 0.3822999894618988,\n",
       " 0.38367998600006104]"
      ]
     },
     "execution_count": 20,
     "metadata": {},
     "output_type": "execute_result"
    }
   ],
   "source": [
    "history.history['accuracy']"
   ]
  },
  {
   "cell_type": "code",
   "execution_count": 7,
   "metadata": {},
   "outputs": [
    {
     "name": "stdout",
     "output_type": "stream",
     "text": [
      "Epoch 1/5\n",
      "1563/1563 [==============================] - 162s 101ms/step - loss: 1.5170 - accuracy: 0.4920\n",
      "Epoch 2/5\n",
      "1563/1563 [==============================] - 152s 97ms/step - loss: 1.1659 - accuracy: 0.6521\n",
      "Epoch 3/5\n",
      "1563/1563 [==============================] - 151s 97ms/step - loss: 1.0718 - accuracy: 0.7002\n",
      "Epoch 4/5\n",
      "1563/1563 [==============================] - 155s 99ms/step - loss: 1.0321 - accuracy: 0.7237\n",
      "Epoch 5/5\n",
      "1563/1563 [==============================] - 151s 97ms/step - loss: 1.0024 - accuracy: 0.7404\n"
     ]
    }
   ],
   "source": [
    "history = model1.fit(X_train, y_train, epochs=5, batch_size=32)"
   ]
  },
  {
   "cell_type": "code",
   "execution_count": 8,
   "metadata": {},
   "outputs": [
    {
     "name": "stdout",
     "output_type": "stream",
     "text": [
      "Epoch 1/5\n",
      "1563/1563 [==============================] - 245s 153ms/step - loss: 1.9631 - accuracy: 0.3251\n",
      "Epoch 2/5\n",
      "1563/1563 [==============================] - 244s 156ms/step - loss: 1.4576 - accuracy: 0.5277\n",
      "Epoch 3/5\n",
      "1563/1563 [==============================] - 261s 167ms/step - loss: 1.2321 - accuracy: 0.6238\n",
      "Epoch 4/5\n",
      "1563/1563 [==============================] - 336s 215ms/step - loss: 1.1192 - accuracy: 0.6760\n",
      "Epoch 5/5\n",
      "1563/1563 [==============================] - 325s 208ms/step - loss: 1.0645 - accuracy: 0.7013\n"
     ]
    }
   ],
   "source": [
    "history2 = model2.fit(X_train, y_train, epochs=5, batch_size=32)"
   ]
  },
  {
   "cell_type": "code",
   "execution_count": 9,
   "metadata": {},
   "outputs": [
    {
     "name": "stdout",
     "output_type": "stream",
     "text": [
      "Epoch 1/5\n",
      "1563/1563 [==============================] - 189s 121ms/step - loss: 0.9836 - accuracy: 0.7512\n",
      "Epoch 2/5\n",
      "1563/1563 [==============================] - 177s 113ms/step - loss: 0.9582 - accuracy: 0.7622\n",
      "Epoch 3/5\n",
      "1563/1563 [==============================] - 154s 99ms/step - loss: 0.9428 - accuracy: 0.7723\n",
      "Epoch 4/5\n",
      "1563/1563 [==============================] - 155s 99ms/step - loss: 0.9369 - accuracy: 0.7792\n",
      "Epoch 5/5\n",
      "1563/1563 [==============================] - 163s 104ms/step - loss: 0.9213 - accuracy: 0.7845\n"
     ]
    }
   ],
   "source": [
    "history3 = model1.fit(X_train, y_train, epochs=5, batch_size=32)"
   ]
  },
  {
   "cell_type": "markdown",
   "metadata": {},
   "source": [
    "Przykładowe trenowanie już z testowym zbiorem, zapisywanie wyników do pickla i odczytywanie. Chyba będzie potem najwyygodniej wizualizować więcej wyników na raz."
   ]
  },
  {
   "cell_type": "code",
   "execution_count": 11,
   "metadata": {},
   "outputs": [
    {
     "name": "stdout",
     "output_type": "stream",
     "text": [
      "Epoch 1/10\n",
      "1563/1563 [==============================] - 165s 105ms/step - loss: 0.9197 - accuracy: 0.7899 - val_loss: 0.9444 - val_accuracy: 0.7842\n",
      "Epoch 2/10\n",
      "1563/1563 [==============================] - 187s 120ms/step - loss: 0.9133 - accuracy: 0.7933 - val_loss: 0.9500 - val_accuracy: 0.7846\n",
      "Epoch 3/10\n",
      "1563/1563 [==============================] - 164s 105ms/step - loss: 0.9090 - accuracy: 0.7970 - val_loss: 0.9299 - val_accuracy: 0.7974\n",
      "Epoch 4/10\n",
      "1563/1563 [==============================] - 161s 103ms/step - loss: 0.9013 - accuracy: 0.7994 - val_loss: 0.9601 - val_accuracy: 0.7875\n",
      "Epoch 5/10\n",
      "1563/1563 [==============================] - 153s 98ms/step - loss: 0.8952 - accuracy: 0.8054 - val_loss: 0.9294 - val_accuracy: 0.7957\n",
      "Epoch 6/10\n",
      "1563/1563 [==============================] - 147s 94ms/step - loss: 0.8964 - accuracy: 0.8054 - val_loss: 0.9527 - val_accuracy: 0.7988\n",
      "Epoch 7/10\n",
      "1563/1563 [==============================] - 154s 99ms/step - loss: 0.8898 - accuracy: 0.8085 - val_loss: 0.9323 - val_accuracy: 0.8001\n",
      "Epoch 8/10\n",
      "1563/1563 [==============================] - 184s 118ms/step - loss: 0.8860 - accuracy: 0.8106 - val_loss: 0.9280 - val_accuracy: 0.8054\n",
      "Epoch 9/10\n",
      "1563/1563 [==============================] - 170s 109ms/step - loss: 0.8885 - accuracy: 0.8118 - val_loss: 0.9417 - val_accuracy: 0.8008\n",
      "Epoch 10/10\n",
      "1563/1563 [==============================] - 171s 110ms/step - loss: 0.8843 - accuracy: 0.8171 - val_loss: 0.9797 - val_accuracy: 0.7933\n"
     ]
    }
   ],
   "source": [
    "history_val = model1.fit(X_train, y_train, epochs=10, batch_size=32, validation_data=(X_test, y_test))"
   ]
  },
  {
   "cell_type": "code",
   "execution_count": 14,
   "metadata": {},
   "outputs": [],
   "source": [
    "with open('history.pickle', 'wb') as file:\n",
    "    pickle.dump(history_val.history, file)"
   ]
  },
  {
   "cell_type": "code",
   "execution_count": 15,
   "metadata": {},
   "outputs": [],
   "source": [
    "with open('history.pickle', 'rb') as file:\n",
    "    loaded_history = pickle.load(file)"
   ]
  },
  {
   "cell_type": "code",
   "execution_count": 17,
   "metadata": {},
   "outputs": [
    {
     "data": {
      "image/png": "[encoded data removed]",
      "text/plain": [
       "<Figure size 432x288 with 1 Axes>"
      ]
     },
     "metadata": {
      "needs_background": "light"
     },
     "output_type": "display_data"
    }
   ],
   "source": [
    "plt.plot(loaded_history['accuracy'], label='Dokładność treningowa')\n",
    "plt.plot(loaded_history['val_accuracy'], label='Dokładność walidacyjna')\n",
    "plt.xlabel('Epoka')\n",
    "plt.ylabel('Dokładność')\n",
    "plt.legend()\n",
    "plt.show()"
   ]
  },
  {
   "cell_type": "markdown",
   "metadata": {},
   "source": [
    "#### Comparison of models with defualt parameters"
   ]
  },
  {
   "cell_type": "markdown",
   "metadata": {},
   "source": [
    "Liczymy sobie 2 customowe maxymalnie i te 2 gotowe, na jakiejś sensownej liczbie epok. Powtarzamy też kilka razy, co najmniej 5 żeby uśrednić i zrobić statystyczną analizę który lepszy. "
   ]
  },
  {
   "cell_type": "markdown",
   "metadata": {},
   "source": [
    "#### Ensembling"
   ]
  },
  {
   "cell_type": "markdown",
   "metadata": {},
   "source": [
    "Tutaj bym spróbował zrobić stacking z tych bazowych modeli, żeby zobaczyć czy coś pomoże. Bo jakby będą gotowe różne modele, więc czemu nie tu. Potem jak mam robić ensembling z modeli, które różnią się tylko jednym hiperparametrem to kicha."
   ]
  },
  {
   "cell_type": "markdown",
   "metadata": {},
   "source": [
    "#### Impact of training hiperparameters modififaction"
   ]
  },
  {
   "cell_type": "markdown",
   "metadata": {},
   "source": [
    "Przetestujemy już na raczej TYLKO jednej architekturze wpływ dwóch hiperparametrów. Na pewno współczynnika uczenia bo łatwy. Podał przykład że można tez epoki bez poprawy, ale przy 10 epokach cieżko szukać :DD Mamy natomiast w implementacji coś takiego jak decay rate i to brzmi spoko. "
   ]
  },
  {
   "cell_type": "markdown",
   "metadata": {},
   "source": [
    "#### Impact of regularization hiperparametrs modification"
   ]
  },
  {
   "cell_type": "markdown",
   "metadata": {},
   "source": [
    "Mamy dropout w sieci customowej, to to przetestujemy. Można jeszcze współczynnik regularyzacji jakoś, ale to wykombinuję jak potem. I też tylko na jednym modelu, bo się nie wygrzebiemy. "
   ]
  },
  {
   "cell_type": "markdown",
   "metadata": {},
   "source": [
    "#### Augmentation"
   ]
  },
  {
   "cell_type": "markdown",
   "metadata": {},
   "source": [
    "Ja bym chyba zrobił porównanie modelu bez augmentacji z modelem z augmentacją dla każdego z 4 przykładów które musimy zrobić. I może wszystkich na raz z brakiem?? No nie wiem, ale to znowu DUUUŻO LICZENIA"
   ]
  }
 ],
 "metadata": {
  "kernelspec": {
   "display_name": "inz",
   "language": "python",
   "name": "python3"
  },
  "language_info": {
   "codemirror_mode": {
    "name": "ipython",
    "version": 3
   },
   "file_extension": ".py",
   "mimetype": "text/x-python",
   "name": "python",
   "nbconvert_exporter": "python",
   "pygments_lexer": "ipython3",
   "version": "3.8.3"
  },
  "orig_nbformat": 4
 },
 "nbformat": 4,
 "nbformat_minor": 2
}
